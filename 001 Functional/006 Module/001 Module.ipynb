{
 "cells": [
  {
   "cell_type": "markdown",
   "source": [
    "# What is module\n",
    "1.A module is simply another data type. And the modules we use are instances of that data type.\n"
   ],
   "metadata": {
    "collapsed": false,
    "pycharm": {
     "name": "#%% md\n"
    }
   }
  },
  {
   "cell_type": "code",
   "execution_count": 1,
   "outputs": [],
   "source": [
    "def func():\n",
    "    print(\"user defined function\")\n",
    "    a = 10\n",
    "    return a"
   ],
   "metadata": {
    "collapsed": false,
    "pycharm": {
     "name": "#%%\n"
    }
   }
  },
  {
   "cell_type": "code",
   "execution_count": 2,
   "outputs": [
    {
     "data": {
      "text/plain": "<function __main__.func()>"
     },
     "execution_count": 2,
     "metadata": {},
     "output_type": "execute_result"
    }
   ],
   "source": [
    "func\n",
    "#? func in main module\n",
    "#? main is name of current module"
   ],
   "metadata": {
    "collapsed": false,
    "pycharm": {
     "name": "#%%\n"
    }
   }
  },
  {
   "cell_type": "code",
   "execution_count": 3,
   "outputs": [
    {
     "name": "stdout",
     "output_type": "stream",
     "text": [
      "user defined function\n"
     ]
    },
    {
     "data": {
      "text/plain": "10"
     },
     "execution_count": 3,
     "metadata": {},
     "output_type": "execute_result"
    }
   ],
   "source": [
    "func()"
   ],
   "metadata": {
    "collapsed": false,
    "pycharm": {
     "name": "#%%\n"
    }
   }
  },
  {
   "cell_type": "code",
   "execution_count": 4,
   "outputs": [
    {
     "data": {
      "text/plain": "1853267366816"
     },
     "execution_count": 4,
     "metadata": {},
     "output_type": "execute_result"
    }
   ],
   "source": [
    "id(func)"
   ],
   "metadata": {
    "collapsed": false,
    "pycharm": {
     "name": "#%%\n"
    }
   }
  },
  {
   "cell_type": "code",
   "execution_count": 6,
   "outputs": [
    {
     "data": {
      "text/plain": "{'__name__': '__main__',\n '__doc__': 'Automatically created module for IPython interactive environment',\n '__package__': None,\n '__loader__': None,\n '__spec__': None,\n '__builtin__': <module 'builtins' (built-in)>,\n '__builtins__': <module 'builtins' (built-in)>,\n '_ih': ['',\n  'def func():\\n    print(\"user defined function\")\\n    a = 10\\n    return a',\n  'func',\n  'func()',\n  'id(func)',\n  '#? how does the python know it have go this memory address when call the \"func\"\\n#* python look in the namespace and find the memory address and call the func\\nglobals()',\n  '#? how does the python know it have go this memory address when call the \"func\"\\n#* python look in the namespace and find the memory address and call the func\\n\\nglobals()'],\n '_oh': {2: <function __main__.func()>, 3: 10, 4: 1853267366816, 5: {...}},\n '_dh': [WindowsPath('C:/Users/Lenovo/DataspellProjects/Python/001 Functional/006 Module')],\n 'In': ['',\n  'def func():\\n    print(\"user defined function\")\\n    a = 10\\n    return a',\n  'func',\n  'func()',\n  'id(func)',\n  '#? how does the python know it have go this memory address when call the \"func\"\\n#* python look in the namespace and find the memory address and call the func\\nglobals()',\n  '#? how does the python know it have go this memory address when call the \"func\"\\n#* python look in the namespace and find the memory address and call the func\\n\\nglobals()'],\n 'Out': {2: <function __main__.func()>, 3: 10, 4: 1853267366816, 5: {...}},\n 'get_ipython': <bound method InteractiveShell.get_ipython of <ipykernel.zmqshell.ZMQInteractiveShell object at 0x000001AF7F551590>>,\n 'exit': <IPython.core.autocall.ZMQExitAutocall at 0x1af7f5580d0>,\n 'quit': <IPython.core.autocall.ZMQExitAutocall at 0x1af7f5580d0>,\n '_': {...},\n '__': 1853267366816,\n '___': 10,\n '_i': '#? how does the python know it have go this memory address when call the \"func\"\\n#* python look in the namespace and find the memory address and call the func\\nglobals()',\n '_ii': 'id(func)',\n '_iii': 'func()',\n '_i1': 'def func():\\n    print(\"user defined function\")\\n    a = 10\\n    return a',\n 'func': <function __main__.func()>,\n 'sys': <module 'sys' (built-in)>,\n 'remove_imported_pydev_package': <function pydev_jupyter_utils.remove_imported_pydev_package()>,\n '_pydevd_bundle': <module '_pydevd_bundle' from 'C:\\\\Program Files\\\\JetBrains\\\\PyCharm 2022.2\\\\plugins\\\\python\\\\helpers\\\\pydev\\\\_pydevd_bundle\\\\__init__.py'>,\n 'pydev_jupyter_vars': <module 'pydev_jupyter_vars' from 'C:\\\\Program Files\\\\JetBrains\\\\PyCharm 2022.2\\\\plugins\\\\python\\\\helpers-pro\\\\jupyter_debug\\\\pydev_jupyter_vars.py'>,\n '_i2': 'func',\n '_2': <function __main__.func()>,\n '_i3': 'func()',\n '_3': 10,\n '_i4': 'id(func)',\n '_4': 1853267366816,\n '_i5': '#? how does the python know it have go this memory address when call the \"func\"\\n#* python look in the namespace and find the memory address and call the func\\nglobals()',\n '_5': {...},\n '_i6': '#? how does the python know it have go this memory address when call the \"func\"\\n#* python look in the namespace and find the memory address and call the func\\n\\nglobals()'}"
     },
     "execution_count": 6,
     "metadata": {},
     "output_type": "execute_result"
    }
   ],
   "source": [
    "#? how does the python know it have go this memory address when call the \"func\"\n",
    "#* python look in the namespace and find the memory address and call the func\n",
    "\n",
    "globals()\n",
    "\n",
    "#? global is dict\n",
    "#? namespace hold the variable we defined"
   ],
   "metadata": {
    "collapsed": false,
    "pycharm": {
     "name": "#%%\n"
    }
   }
  },
  {
   "cell_type": "code",
   "execution_count": 9,
   "outputs": [
    {
     "data": {
      "text/plain": "True"
     },
     "execution_count": 9,
     "metadata": {},
     "output_type": "execute_result"
    }
   ],
   "source": [
    "globals()[\"func\"] is func"
   ],
   "metadata": {
    "collapsed": false,
    "pycharm": {
     "name": "#%%\n"
    }
   }
  },
  {
   "cell_type": "code",
   "execution_count": 11,
   "outputs": [
    {
     "name": "stdout",
     "output_type": "stream",
     "text": [
      "user defined function\n"
     ]
    },
    {
     "data": {
      "text/plain": "10"
     },
     "execution_count": 11,
     "metadata": {},
     "output_type": "execute_result"
    }
   ],
   "source": [
    "globals()[\"func\"]()"
   ],
   "metadata": {
    "collapsed": false,
    "pycharm": {
     "name": "#%%\n"
    }
   }
  },
  {
   "cell_type": "code",
   "execution_count": 12,
   "outputs": [
    {
     "data": {
      "text/plain": "{'__name__': '__main__',\n '__doc__': 'Automatically created module for IPython interactive environment',\n '__package__': None,\n '__loader__': None,\n '__spec__': None,\n '__builtin__': <module 'builtins' (built-in)>,\n '__builtins__': <module 'builtins' (built-in)>,\n '_ih': ['',\n  'def func():\\n    print(\"user defined function\")\\n    a = 10\\n    return a',\n  'func',\n  'func()',\n  'id(func)',\n  '#? how does the python know it have go this memory address when call the \"func\"\\n#* python look in the namespace and find the memory address and call the func\\nglobals()',\n  '#? how does the python know it have go this memory address when call the \"func\"\\n#* python look in the namespace and find the memory address and call the func\\n\\nglobals()',\n  'global[\"func\"] is func',\n  'global()[\"func\"] is func',\n  'globals()[\"func\"] is func',\n  'globals[\"func\"]()',\n  'globals()[\"func\"]()',\n  '#? similar we can find the local scopes\\nlocals()'],\n '_oh': {2: <function __main__.func()>,\n  3: 10,\n  4: 1853267366816,\n  5: {...},\n  6: {...},\n  9: True,\n  11: 10},\n '_dh': [WindowsPath('C:/Users/Lenovo/DataspellProjects/Python/001 Functional/006 Module')],\n 'In': ['',\n  'def func():\\n    print(\"user defined function\")\\n    a = 10\\n    return a',\n  'func',\n  'func()',\n  'id(func)',\n  '#? how does the python know it have go this memory address when call the \"func\"\\n#* python look in the namespace and find the memory address and call the func\\nglobals()',\n  '#? how does the python know it have go this memory address when call the \"func\"\\n#* python look in the namespace and find the memory address and call the func\\n\\nglobals()',\n  'global[\"func\"] is func',\n  'global()[\"func\"] is func',\n  'globals()[\"func\"] is func',\n  'globals[\"func\"]()',\n  'globals()[\"func\"]()',\n  '#? similar we can find the local scopes\\nlocals()'],\n 'Out': {2: <function __main__.func()>,\n  3: 10,\n  4: 1853267366816,\n  5: {...},\n  6: {...},\n  9: True,\n  11: 10},\n 'get_ipython': <bound method InteractiveShell.get_ipython of <ipykernel.zmqshell.ZMQInteractiveShell object at 0x000001AF7F551590>>,\n 'exit': <IPython.core.autocall.ZMQExitAutocall at 0x1af7f5580d0>,\n 'quit': <IPython.core.autocall.ZMQExitAutocall at 0x1af7f5580d0>,\n '_': 10,\n '__': True,\n '___': {...},\n '_i': 'globals()[\"func\"]()',\n '_ii': 'globals[\"func\"]()',\n '_iii': 'globals()[\"func\"] is func',\n '_i1': 'def func():\\n    print(\"user defined function\")\\n    a = 10\\n    return a',\n 'func': <function __main__.func()>,\n 'sys': <module 'sys' (built-in)>,\n 'remove_imported_pydev_package': <function pydev_jupyter_utils.remove_imported_pydev_package()>,\n '_pydevd_bundle': <module '_pydevd_bundle' from 'C:\\\\Program Files\\\\JetBrains\\\\PyCharm 2022.2\\\\plugins\\\\python\\\\helpers\\\\pydev\\\\_pydevd_bundle\\\\__init__.py'>,\n 'pydev_jupyter_vars': <module 'pydev_jupyter_vars' from 'C:\\\\Program Files\\\\JetBrains\\\\PyCharm 2022.2\\\\plugins\\\\python\\\\helpers-pro\\\\jupyter_debug\\\\pydev_jupyter_vars.py'>,\n '_i2': 'func',\n '_2': <function __main__.func()>,\n '_i3': 'func()',\n '_3': 10,\n '_i4': 'id(func)',\n '_4': 1853267366816,\n '_i5': '#? how does the python know it have go this memory address when call the \"func\"\\n#* python look in the namespace and find the memory address and call the func\\nglobals()',\n '_5': {...},\n '_i6': '#? how does the python know it have go this memory address when call the \"func\"\\n#* python look in the namespace and find the memory address and call the func\\n\\nglobals()',\n '_6': {...},\n '_i7': 'global[\"func\"] is func',\n '_i8': 'global()[\"func\"] is func',\n '_i9': 'globals()[\"func\"] is func',\n '_9': True,\n '_i10': 'globals[\"func\"]()',\n '_i11': 'globals()[\"func\"]()',\n '_11': 10,\n '_i12': '#? similar we can find the local scopes\\nlocals()'}"
     },
     "execution_count": 12,
     "metadata": {},
     "output_type": "execute_result"
    }
   ],
   "source": [
    "#? similar we can find the local scopes\n",
    "locals()"
   ],
   "metadata": {
    "collapsed": false,
    "pycharm": {
     "name": "#%%\n"
    }
   }
  },
  {
   "cell_type": "code",
   "execution_count": 13,
   "outputs": [
    {
     "data": {
      "text/plain": "True"
     },
     "execution_count": 13,
     "metadata": {},
     "output_type": "execute_result"
    }
   ],
   "source": [
    "#? this similar to globals we have already seen\n",
    "\n",
    "locals() is globals()\n",
    "\n",
    "#? this because we are in the main module global and local will be same"
   ],
   "metadata": {
    "collapsed": false,
    "pycharm": {
     "name": "#%%\n"
    }
   }
  },
  {
   "cell_type": "code",
   "execution_count": 16,
   "outputs": [],
   "source": [
    "#? can we see the locals of func\n",
    "def func():\n",
    "    a = 100\n",
    "    s = \"this is local namespace\"\n",
    "    print(locals())"
   ],
   "metadata": {
    "collapsed": false,
    "pycharm": {
     "name": "#%%\n"
    }
   }
  },
  {
   "cell_type": "code",
   "execution_count": 17,
   "outputs": [
    {
     "name": "stdout",
     "output_type": "stream",
     "text": [
      "{'a': 100, 's': 'this is local namespace'}\n"
     ]
    }
   ],
   "source": [
    "func()\n",
    "#? here the local namespace of the func"
   ],
   "metadata": {
    "collapsed": false,
    "pycharm": {
     "name": "#%%\n"
    }
   }
  },
  {
   "cell_type": "code",
   "execution_count": 18,
   "outputs": [],
   "source": [
    "import math"
   ],
   "metadata": {
    "collapsed": false,
    "pycharm": {
     "name": "#%%\n"
    }
   }
  },
  {
   "cell_type": "code",
   "execution_count": 19,
   "outputs": [
    {
     "data": {
      "text/plain": "<module 'math' (built-in)>"
     },
     "execution_count": 19,
     "metadata": {},
     "output_type": "execute_result"
    }
   ],
   "source": [
    "math\n",
    "#? since math is written in the C\n",
    "#? it is builtin module"
   ],
   "metadata": {
    "collapsed": false,
    "pycharm": {
     "name": "#%%\n"
    }
   }
  },
  {
   "cell_type": "code",
   "execution_count": 21,
   "outputs": [
    {
     "data": {
      "text/plain": "<module 'fractions' from 'C:\\\\Users\\\\Lenovo\\\\AppData\\\\Local\\\\Programs\\\\Python\\\\Python311\\\\Lib\\\\fractions.py'>"
     },
     "execution_count": 21,
     "metadata": {},
     "output_type": "execute_result"
    }
   ],
   "source": [
    "import fractions\n",
    "fractions\n",
    "#? standard library is written in python"
   ],
   "metadata": {
    "collapsed": false,
    "pycharm": {
     "name": "#%%\n"
    }
   }
  },
  {
   "cell_type": "code",
   "execution_count": 22,
   "outputs": [],
   "source": [
    "junk = math"
   ],
   "metadata": {
    "collapsed": false,
    "pycharm": {
     "name": "#%%\n"
    }
   }
  },
  {
   "cell_type": "code",
   "execution_count": 23,
   "outputs": [
    {
     "data": {
      "text/plain": "1.4142135623730951"
     },
     "execution_count": 23,
     "metadata": {},
     "output_type": "execute_result"
    }
   ],
   "source": [
    "junk.sqrt(2)"
   ],
   "metadata": {
    "collapsed": false,
    "pycharm": {
     "name": "#%%\n"
    }
   }
  },
  {
   "cell_type": "code",
   "execution_count": 24,
   "outputs": [
    {
     "data": {
      "text/plain": "True"
     },
     "execution_count": 24,
     "metadata": {},
     "output_type": "execute_result"
    }
   ],
   "source": [
    "junk is math"
   ],
   "metadata": {
    "collapsed": false,
    "pycharm": {
     "name": "#%%\n"
    }
   }
  },
  {
   "cell_type": "code",
   "execution_count": 29,
   "outputs": [
    {
     "data": {
      "text/plain": "1853197771904"
     },
     "execution_count": 29,
     "metadata": {},
     "output_type": "execute_result"
    }
   ],
   "source": [
    "#? where the memory address of the module is stored\n",
    "#* namespace\n",
    "#* when we import module it loads into the global\n",
    "old_id = id(math)\n",
    "id(math)"
   ],
   "metadata": {
    "collapsed": false,
    "pycharm": {
     "name": "#%%\n"
    }
   }
  },
  {
   "cell_type": "code",
   "execution_count": 30,
   "outputs": [
    {
     "data": {
      "text/plain": "module"
     },
     "execution_count": 30,
     "metadata": {},
     "output_type": "execute_result"
    }
   ],
   "source": [
    "type(math)"
   ],
   "metadata": {
    "collapsed": false,
    "pycharm": {
     "name": "#%%\n"
    }
   }
  },
  {
   "cell_type": "code",
   "execution_count": 28,
   "outputs": [],
   "source": [
    "import math\n",
    "#? we again import the module\n",
    "#! does the python reload the module\n",
    "#* No"
   ],
   "metadata": {
    "collapsed": false,
    "pycharm": {
     "name": "#%%\n"
    }
   }
  },
  {
   "cell_type": "code",
   "execution_count": 31,
   "outputs": [
    {
     "data": {
      "text/plain": "True"
     },
     "execution_count": 31,
     "metadata": {},
     "output_type": "execute_result"
    }
   ],
   "source": [
    "new_id = id(math)\n",
    "new_id == old_id"
   ],
   "metadata": {
    "collapsed": false,
    "pycharm": {
     "name": "#%%\n"
    }
   }
  },
  {
   "cell_type": "code",
   "execution_count": 32,
   "outputs": [
    {
     "data": {
      "text/plain": "1853197771904"
     },
     "execution_count": 32,
     "metadata": {},
     "output_type": "execute_result"
    }
   ],
   "source": [
    "id(math)\n",
    "#? python does not reload the module again"
   ],
   "metadata": {
    "collapsed": false,
    "pycharm": {
     "name": "#%%\n"
    }
   }
  },
  {
   "cell_type": "code",
   "execution_count": 33,
   "outputs": [],
   "source": [
    "#? when we import the module , module load the memory and reference is set to globals dictionary\n",
    "#? it also added somewhere else\n",
    "#* system cache\n",
    "import sys"
   ],
   "metadata": {
    "collapsed": false,
    "pycharm": {
     "name": "#%%\n"
    }
   }
  },
  {
   "cell_type": "code",
   "execution_count": 35,
   "outputs": [
    {
     "data": {
      "text/plain": "{'sys': <module 'sys' (built-in)>,\n 'builtins': <module 'builtins' (built-in)>,\n '_frozen_importlib': <module '_frozen_importlib' (frozen)>,\n '_imp': <module '_imp' (built-in)>,\n '_thread': <module '_thread' (built-in)>,\n '_warnings': <module '_warnings' (built-in)>,\n '_weakref': <module '_weakref' (built-in)>,\n 'winreg': <module 'winreg' (built-in)>,\n '_io': <module '_io' (built-in)>,\n 'marshal': <module 'marshal' (built-in)>,\n 'nt': <module 'nt' (built-in)>,\n '_frozen_importlib_external': <module '_frozen_importlib_external' (frozen)>,\n 'time': <module 'time' (built-in)>,\n 'zipimport': <module 'zipimport' (frozen)>,\n '_codecs': <module '_codecs' (built-in)>,\n 'codecs': <module 'codecs' (frozen)>,\n 'encodings.aliases': <module 'encodings.aliases' from 'C:\\\\Users\\\\Lenovo\\\\AppData\\\\Local\\\\Programs\\\\Python\\\\Python311\\\\Lib\\\\encodings\\\\aliases.py'>,\n 'encodings': <module 'encodings' from 'C:\\\\Users\\\\Lenovo\\\\AppData\\\\Local\\\\Programs\\\\Python\\\\Python311\\\\Lib\\\\encodings\\\\__init__.py'>,\n 'encodings.utf_8': <module 'encodings.utf_8' from 'C:\\\\Users\\\\Lenovo\\\\AppData\\\\Local\\\\Programs\\\\Python\\\\Python311\\\\Lib\\\\encodings\\\\utf_8.py'>,\n 'encodings.cp1252': <module 'encodings.cp1252' from 'C:\\\\Users\\\\Lenovo\\\\AppData\\\\Local\\\\Programs\\\\Python\\\\Python311\\\\Lib\\\\encodings\\\\cp1252.py'>,\n '_signal': <module '_signal' (built-in)>,\n '_abc': <module '_abc' (built-in)>,\n 'abc': <module 'abc' (frozen)>,\n 'io': <module 'io' (frozen)>,\n '__main__': <module '__main__'>,\n '_stat': <module '_stat' (built-in)>,\n 'stat': <module 'stat' (frozen)>,\n '_collections_abc': <module '_collections_abc' (frozen)>,\n 'genericpath': <module 'genericpath' (frozen)>,\n '_winapi': <module '_winapi' (built-in)>,\n 'ntpath': <module 'ntpath' (frozen)>,\n 'os.path': <module 'ntpath' (frozen)>,\n 'os': <module 'os' (frozen)>,\n '_sitebuiltins': <module '_sitebuiltins' (frozen)>,\n 'pywin32_system32': <module 'pywin32_system32' (<_frozen_importlib_external.NamespaceLoader object at 0x000001AF7ACBE150>)>,\n 'pywin32_bootstrap': <module 'pywin32_bootstrap' from 'C:\\\\Users\\\\Lenovo\\\\AppData\\\\Roaming\\\\Python\\\\Python311\\\\site-packages\\\\win32\\\\lib\\\\pywin32_bootstrap.py'>,\n '_distutils_hack': <module '_distutils_hack' from 'C:\\\\Users\\\\Lenovo\\\\AppData\\\\Local\\\\Programs\\\\Python\\\\Python311\\\\Lib\\\\site-packages\\\\_distutils_hack\\\\__init__.py'>,\n 'site': <module 'site' (frozen)>,\n 'importlib._bootstrap': <module '_frozen_importlib' (frozen)>,\n 'importlib._bootstrap_external': <module '_frozen_importlib_external' (frozen)>,\n 'warnings': <module 'warnings' from 'C:\\\\Users\\\\Lenovo\\\\AppData\\\\Local\\\\Programs\\\\Python\\\\Python311\\\\Lib\\\\warnings.py'>,\n 'importlib': <module 'importlib' from 'C:\\\\Users\\\\Lenovo\\\\AppData\\\\Local\\\\Programs\\\\Python\\\\Python311\\\\Lib\\\\importlib\\\\__init__.py'>,\n 'importlib.machinery': <module 'importlib.machinery' (frozen)>,\n 'importlib._abc': <module 'importlib._abc' from 'C:\\\\Users\\\\Lenovo\\\\AppData\\\\Local\\\\Programs\\\\Python\\\\Python311\\\\Lib\\\\importlib\\\\_abc.py'>,\n 'itertools': <module 'itertools' (built-in)>,\n 'keyword': <module 'keyword' from 'C:\\\\Users\\\\Lenovo\\\\AppData\\\\Local\\\\Programs\\\\Python\\\\Python311\\\\Lib\\\\keyword.py'>,\n '_operator': <module '_operator' (built-in)>,\n 'operator': <module 'operator' from 'C:\\\\Users\\\\Lenovo\\\\AppData\\\\Local\\\\Programs\\\\Python\\\\Python311\\\\Lib\\\\operator.py'>,\n 'reprlib': <module 'reprlib' from 'C:\\\\Users\\\\Lenovo\\\\AppData\\\\Local\\\\Programs\\\\Python\\\\Python311\\\\Lib\\\\reprlib.py'>,\n '_collections': <module '_collections' (built-in)>,\n 'collections': <module 'collections' from 'C:\\\\Users\\\\Lenovo\\\\AppData\\\\Local\\\\Programs\\\\Python\\\\Python311\\\\Lib\\\\collections\\\\__init__.py'>,\n 'types': <module 'types' from 'C:\\\\Users\\\\Lenovo\\\\AppData\\\\Local\\\\Programs\\\\Python\\\\Python311\\\\Lib\\\\types.py'>,\n '_functools': <module '_functools' (built-in)>,\n 'functools': <module 'functools' from 'C:\\\\Users\\\\Lenovo\\\\AppData\\\\Local\\\\Programs\\\\Python\\\\Python311\\\\Lib\\\\functools.py'>,\n 'contextlib': <module 'contextlib' from 'C:\\\\Users\\\\Lenovo\\\\AppData\\\\Local\\\\Programs\\\\Python\\\\Python311\\\\Lib\\\\contextlib.py'>,\n 'importlib.util': <module 'importlib.util' (frozen)>,\n 'runpy': <module 'runpy' (frozen)>,\n 'enum': <module 'enum' from 'C:\\\\Users\\\\Lenovo\\\\AppData\\\\Local\\\\Programs\\\\Python\\\\Python311\\\\Lib\\\\enum.py'>,\n '_sre': <module '_sre' (built-in)>,\n 're._constants': <module 're._constants' from 'C:\\\\Users\\\\Lenovo\\\\AppData\\\\Local\\\\Programs\\\\Python\\\\Python311\\\\Lib\\\\re\\\\_constants.py'>,\n 're._parser': <module 're._parser' from 'C:\\\\Users\\\\Lenovo\\\\AppData\\\\Local\\\\Programs\\\\Python\\\\Python311\\\\Lib\\\\re\\\\_parser.py'>,\n 're._casefix': <module 're._casefix' from 'C:\\\\Users\\\\Lenovo\\\\AppData\\\\Local\\\\Programs\\\\Python\\\\Python311\\\\Lib\\\\re\\\\_casefix.py'>,\n 're._compiler': <module 're._compiler' from 'C:\\\\Users\\\\Lenovo\\\\AppData\\\\Local\\\\Programs\\\\Python\\\\Python311\\\\Lib\\\\re\\\\_compiler.py'>,\n 'copyreg': <module 'copyreg' from 'C:\\\\Users\\\\Lenovo\\\\AppData\\\\Local\\\\Programs\\\\Python\\\\Python311\\\\Lib\\\\copyreg.py'>,\n 're': <module 're' from 'C:\\\\Users\\\\Lenovo\\\\AppData\\\\Local\\\\Programs\\\\Python\\\\Python311\\\\Lib\\\\re\\\\__init__.py'>,\n 'collections.abc': <module 'collections.abc' from 'C:\\\\Users\\\\Lenovo\\\\AppData\\\\Local\\\\Programs\\\\Python\\\\Python311\\\\Lib\\\\collections\\\\abc.py'>,\n '_typing': <module '_typing' (built-in)>,\n 'typing.io': typing.io,\n 'typing.re': typing.re,\n 'typing': <module 'typing' from 'C:\\\\Users\\\\Lenovo\\\\AppData\\\\Local\\\\Programs\\\\Python\\\\Python311\\\\Lib\\\\typing.py'>,\n 'ipykernel._version': <module 'ipykernel._version' from 'C:\\\\Users\\\\Lenovo\\\\AppData\\\\Roaming\\\\Python\\\\Python311\\\\site-packages\\\\ipykernel\\\\_version.py'>,\n '_json': <module '_json' (built-in)>,\n 'json.scanner': <module 'json.scanner' from 'C:\\\\Users\\\\Lenovo\\\\AppData\\\\Local\\\\Programs\\\\Python\\\\Python311\\\\Lib\\\\json\\\\scanner.py'>,\n 'json.decoder': <module 'json.decoder' from 'C:\\\\Users\\\\Lenovo\\\\AppData\\\\Local\\\\Programs\\\\Python\\\\Python311\\\\Lib\\\\json\\\\decoder.py'>,\n 'json.encoder': <module 'json.encoder' from 'C:\\\\Users\\\\Lenovo\\\\AppData\\\\Local\\\\Programs\\\\Python\\\\Python311\\\\Lib\\\\json\\\\encoder.py'>,\n 'json': <module 'json' from 'C:\\\\Users\\\\Lenovo\\\\AppData\\\\Local\\\\Programs\\\\Python\\\\Python311\\\\Lib\\\\json\\\\__init__.py'>,\n 'errno': <module 'errno' (built-in)>,\n '_locale': <module '_locale' (built-in)>,\n 'locale': <module 'locale' from 'C:\\\\Users\\\\Lenovo\\\\AppData\\\\Local\\\\Programs\\\\Python\\\\Python311\\\\Lib\\\\locale.py'>,\n 'signal': <module 'signal' from 'C:\\\\Users\\\\Lenovo\\\\AppData\\\\Local\\\\Programs\\\\Python\\\\Python311\\\\Lib\\\\signal.py'>,\n '_weakrefset': <module '_weakrefset' from 'C:\\\\Users\\\\Lenovo\\\\AppData\\\\Local\\\\Programs\\\\Python\\\\Python311\\\\Lib\\\\_weakrefset.py'>,\n 'threading': <module 'threading' from 'C:\\\\Users\\\\Lenovo\\\\AppData\\\\Local\\\\Programs\\\\Python\\\\Python311\\\\Lib\\\\threading.py'>,\n 'msvcrt': <module 'msvcrt' (built-in)>,\n 'subprocess': <module 'subprocess' from 'C:\\\\Users\\\\Lenovo\\\\AppData\\\\Local\\\\Programs\\\\Python\\\\Python311\\\\Lib\\\\subprocess.py'>,\n 'jupyter_client._version': <module 'jupyter_client._version' from 'C:\\\\Users\\\\Lenovo\\\\AppData\\\\Roaming\\\\Python\\\\Python311\\\\site-packages\\\\jupyter_client\\\\_version.py'>,\n '_ast': <module '_ast' (built-in)>,\n 'ast': <module 'ast' from 'C:\\\\Users\\\\Lenovo\\\\AppData\\\\Local\\\\Programs\\\\Python\\\\Python311\\\\Lib\\\\ast.py'>,\n '_opcode': <module '_opcode' (built-in)>,\n 'opcode': <module 'opcode' from 'C:\\\\Users\\\\Lenovo\\\\AppData\\\\Local\\\\Programs\\\\Python\\\\Python311\\\\Lib\\\\opcode.py'>,\n 'dis': <module 'dis' from 'C:\\\\Users\\\\Lenovo\\\\AppData\\\\Local\\\\Programs\\\\Python\\\\Python311\\\\Lib\\\\dis.py'>,\n 'token': <module 'token' from 'C:\\\\Users\\\\Lenovo\\\\AppData\\\\Local\\\\Programs\\\\Python\\\\Python311\\\\Lib\\\\token.py'>,\n 'tokenize': <module 'tokenize' from 'C:\\\\Users\\\\Lenovo\\\\AppData\\\\Local\\\\Programs\\\\Python\\\\Python311\\\\Lib\\\\tokenize.py'>,\n 'linecache': <module 'linecache' from 'C:\\\\Users\\\\Lenovo\\\\AppData\\\\Local\\\\Programs\\\\Python\\\\Python311\\\\Lib\\\\linecache.py'>,\n 'inspect': <module 'inspect' from 'C:\\\\Users\\\\Lenovo\\\\AppData\\\\Local\\\\Programs\\\\Python\\\\Python311\\\\Lib\\\\inspect.py'>,\n 'traitlets.utils': <module 'traitlets.utils' from 'C:\\\\Users\\\\Lenovo\\\\AppData\\\\Roaming\\\\Python\\\\Python311\\\\site-packages\\\\traitlets\\\\utils\\\\__init__.py'>,\n 'traitlets.utils.bunch': <module 'traitlets.utils.bunch' from 'C:\\\\Users\\\\Lenovo\\\\AppData\\\\Roaming\\\\Python\\\\Python311\\\\site-packages\\\\traitlets\\\\utils\\\\bunch.py'>,\n 'traitlets.utils.descriptions': <module 'traitlets.utils.descriptions' from 'C:\\\\Users\\\\Lenovo\\\\AppData\\\\Roaming\\\\Python\\\\Python311\\\\site-packages\\\\traitlets\\\\utils\\\\descriptions.py'>,\n 'traitlets.utils.getargspec': <module 'traitlets.utils.getargspec' from 'C:\\\\Users\\\\Lenovo\\\\AppData\\\\Roaming\\\\Python\\\\Python311\\\\site-packages\\\\traitlets\\\\utils\\\\getargspec.py'>,\n 'traitlets.utils.importstring': <module 'traitlets.utils.importstring' from 'C:\\\\Users\\\\Lenovo\\\\AppData\\\\Roaming\\\\Python\\\\Python311\\\\site-packages\\\\traitlets\\\\utils\\\\importstring.py'>,\n 'traitlets.utils.sentinel': <module 'traitlets.utils.sentinel' from 'C:\\\\Users\\\\Lenovo\\\\AppData\\\\Roaming\\\\Python\\\\Python311\\\\site-packages\\\\traitlets\\\\utils\\\\sentinel.py'>,\n 'traitlets.traitlets': <module 'traitlets.traitlets' from 'C:\\\\Users\\\\Lenovo\\\\AppData\\\\Roaming\\\\Python\\\\Python311\\\\site-packages\\\\traitlets\\\\traitlets.py'>,\n 'traitlets._version': <module 'traitlets._version' from 'C:\\\\Users\\\\Lenovo\\\\AppData\\\\Roaming\\\\Python\\\\Python311\\\\site-packages\\\\traitlets\\\\_version.py'>,\n 'weakref': <module 'weakref' from 'C:\\\\Users\\\\Lenovo\\\\AppData\\\\Local\\\\Programs\\\\Python\\\\Python311\\\\Lib\\\\weakref.py'>,\n 'copy': <module 'copy' from 'C:\\\\Users\\\\Lenovo\\\\AppData\\\\Local\\\\Programs\\\\Python\\\\Python311\\\\Lib\\\\copy.py'>,\n 'traitlets.utils.decorators': <module 'traitlets.utils.decorators' from 'C:\\\\Users\\\\Lenovo\\\\AppData\\\\Roaming\\\\Python\\\\Python311\\\\site-packages\\\\traitlets\\\\utils\\\\decorators.py'>,\n 'traitlets': <module 'traitlets' from 'C:\\\\Users\\\\Lenovo\\\\AppData\\\\Roaming\\\\Python\\\\Python311\\\\site-packages\\\\traitlets\\\\__init__.py'>,\n 'concurrent': <module 'concurrent' from 'C:\\\\Users\\\\Lenovo\\\\AppData\\\\Local\\\\Programs\\\\Python\\\\Python311\\\\Lib\\\\concurrent\\\\__init__.py'>,\n 'textwrap': <module 'textwrap' from 'C:\\\\Users\\\\Lenovo\\\\AppData\\\\Local\\\\Programs\\\\Python\\\\Python311\\\\Lib\\\\textwrap.py'>,\n 'traceback': <module 'traceback' from 'C:\\\\Users\\\\Lenovo\\\\AppData\\\\Local\\\\Programs\\\\Python\\\\Python311\\\\Lib\\\\traceback.py'>,\n '_string': <module '_string' (built-in)>,\n 'string': <module 'string' from 'C:\\\\Users\\\\Lenovo\\\\AppData\\\\Local\\\\Programs\\\\Python\\\\Python311\\\\Lib\\\\string.py'>,\n 'atexit': <module 'atexit' (built-in)>,\n 'logging': <module 'logging' from 'C:\\\\Users\\\\Lenovo\\\\AppData\\\\Local\\\\Programs\\\\Python\\\\Python311\\\\Lib\\\\logging\\\\__init__.py'>,\n 'concurrent.futures._base': <module 'concurrent.futures._base' from 'C:\\\\Users\\\\Lenovo\\\\AppData\\\\Local\\\\Programs\\\\Python\\\\Python311\\\\Lib\\\\concurrent\\\\futures\\\\_base.py'>,\n 'concurrent.futures': <module 'concurrent.futures' from 'C:\\\\Users\\\\Lenovo\\\\AppData\\\\Local\\\\Programs\\\\Python\\\\Python311\\\\Lib\\\\concurrent\\\\futures\\\\__init__.py'>,\n '_heapq': <module '_heapq' (built-in)>,\n 'heapq': <module 'heapq' from 'C:\\\\Users\\\\Lenovo\\\\AppData\\\\Local\\\\Programs\\\\Python\\\\Python311\\\\Lib\\\\heapq.py'>,\n '_socket': <module '_socket' from 'C:\\\\Users\\\\Lenovo\\\\AppData\\\\Local\\\\Programs\\\\Python\\\\Python311\\\\DLLs\\\\_socket.pyd'>,\n 'math': <module 'math' (built-in)>,\n 'select': <module 'select' from 'C:\\\\Users\\\\Lenovo\\\\AppData\\\\Local\\\\Programs\\\\Python\\\\Python311\\\\DLLs\\\\select.pyd'>,\n 'selectors': <module 'selectors' from 'C:\\\\Users\\\\Lenovo\\\\AppData\\\\Local\\\\Programs\\\\Python\\\\Python311\\\\Lib\\\\selectors.py'>,\n 'socket': <module 'socket' from 'C:\\\\Users\\\\Lenovo\\\\AppData\\\\Local\\\\Programs\\\\Python\\\\Python311\\\\Lib\\\\socket.py'>,\n '_ssl': <module '_ssl' from 'C:\\\\Users\\\\Lenovo\\\\AppData\\\\Local\\\\Programs\\\\Python\\\\Python311\\\\DLLs\\\\_ssl.pyd'>,\n '_struct': <module '_struct' (built-in)>,\n 'struct': <module 'struct' from 'C:\\\\Users\\\\Lenovo\\\\AppData\\\\Local\\\\Programs\\\\Python\\\\Python311\\\\Lib\\\\struct.py'>,\n 'binascii': <module 'binascii' (built-in)>,\n 'base64': <module 'base64' from 'C:\\\\Users\\\\Lenovo\\\\AppData\\\\Local\\\\Programs\\\\Python\\\\Python311\\\\Lib\\\\base64.py'>,\n 'ssl': <module 'ssl' from 'C:\\\\Users\\\\Lenovo\\\\AppData\\\\Local\\\\Programs\\\\Python\\\\Python311\\\\Lib\\\\ssl.py'>,\n 'asyncio.constants': <module 'asyncio.constants' from 'C:\\\\Users\\\\Lenovo\\\\AppData\\\\Local\\\\Programs\\\\Python\\\\Python311\\\\Lib\\\\asyncio\\\\constants.py'>,\n 'asyncio.coroutines': <module 'asyncio.coroutines' from 'C:\\\\Users\\\\Lenovo\\\\AppData\\\\Local\\\\Programs\\\\Python\\\\Python311\\\\Lib\\\\asyncio\\\\coroutines.py'>,\n '_contextvars': <module '_contextvars' (built-in)>,\n 'contextvars': <module 'contextvars' from 'C:\\\\Users\\\\Lenovo\\\\AppData\\\\Local\\\\Programs\\\\Python\\\\Python311\\\\Lib\\\\contextvars.py'>,\n 'asyncio.format_helpers': <module 'asyncio.format_helpers' from 'C:\\\\Users\\\\Lenovo\\\\AppData\\\\Local\\\\Programs\\\\Python\\\\Python311\\\\Lib\\\\asyncio\\\\format_helpers.py'>,\n 'asyncio.base_futures': <module 'asyncio.base_futures' from 'C:\\\\Users\\\\Lenovo\\\\AppData\\\\Local\\\\Programs\\\\Python\\\\Python311\\\\Lib\\\\asyncio\\\\base_futures.py'>,\n 'asyncio.exceptions': <module 'asyncio.exceptions' from 'C:\\\\Users\\\\Lenovo\\\\AppData\\\\Local\\\\Programs\\\\Python\\\\Python311\\\\Lib\\\\asyncio\\\\exceptions.py'>,\n 'asyncio.base_tasks': <module 'asyncio.base_tasks' from 'C:\\\\Users\\\\Lenovo\\\\AppData\\\\Local\\\\Programs\\\\Python\\\\Python311\\\\Lib\\\\asyncio\\\\base_tasks.py'>,\n '_asyncio': <module '_asyncio' from 'C:\\\\Users\\\\Lenovo\\\\AppData\\\\Local\\\\Programs\\\\Python\\\\Python311\\\\DLLs\\\\_asyncio.pyd'>,\n 'asyncio.events': <module 'asyncio.events' from 'C:\\\\Users\\\\Lenovo\\\\AppData\\\\Local\\\\Programs\\\\Python\\\\Python311\\\\Lib\\\\asyncio\\\\events.py'>,\n 'asyncio.futures': <module 'asyncio.futures' from 'C:\\\\Users\\\\Lenovo\\\\AppData\\\\Local\\\\Programs\\\\Python\\\\Python311\\\\Lib\\\\asyncio\\\\futures.py'>,\n 'asyncio.protocols': <module 'asyncio.protocols' from 'C:\\\\Users\\\\Lenovo\\\\AppData\\\\Local\\\\Programs\\\\Python\\\\Python311\\\\Lib\\\\asyncio\\\\protocols.py'>,\n 'asyncio.transports': <module 'asyncio.transports' from 'C:\\\\Users\\\\Lenovo\\\\AppData\\\\Local\\\\Programs\\\\Python\\\\Python311\\\\Lib\\\\asyncio\\\\transports.py'>,\n 'asyncio.log': <module 'asyncio.log' from 'C:\\\\Users\\\\Lenovo\\\\AppData\\\\Local\\\\Programs\\\\Python\\\\Python311\\\\Lib\\\\asyncio\\\\log.py'>,\n 'asyncio.sslproto': <module 'asyncio.sslproto' from 'C:\\\\Users\\\\Lenovo\\\\AppData\\\\Local\\\\Programs\\\\Python\\\\Python311\\\\Lib\\\\asyncio\\\\sslproto.py'>,\n 'asyncio.mixins': <module 'asyncio.mixins' from 'C:\\\\Users\\\\Lenovo\\\\AppData\\\\Local\\\\Programs\\\\Python\\\\Python311\\\\Lib\\\\asyncio\\\\mixins.py'>,\n 'asyncio.tasks': <module 'asyncio.tasks' from 'C:\\\\Users\\\\Lenovo\\\\AppData\\\\Local\\\\Programs\\\\Python\\\\Python311\\\\Lib\\\\asyncio\\\\tasks.py'>,\n 'asyncio.locks': <module 'asyncio.locks' from 'C:\\\\Users\\\\Lenovo\\\\AppData\\\\Local\\\\Programs\\\\Python\\\\Python311\\\\Lib\\\\asyncio\\\\locks.py'>,\n 'asyncio.staggered': <module 'asyncio.staggered' from 'C:\\\\Users\\\\Lenovo\\\\AppData\\\\Local\\\\Programs\\\\Python\\\\Python311\\\\Lib\\\\asyncio\\\\staggered.py'>,\n 'asyncio.trsock': <module 'asyncio.trsock' from 'C:\\\\Users\\\\Lenovo\\\\AppData\\\\Local\\\\Programs\\\\Python\\\\Python311\\\\Lib\\\\asyncio\\\\trsock.py'>,\n 'asyncio.base_events': <module 'asyncio.base_events' from 'C:\\\\Users\\\\Lenovo\\\\AppData\\\\Local\\\\Programs\\\\Python\\\\Python311\\\\Lib\\\\asyncio\\\\base_events.py'>,\n 'asyncio.runners': <module 'asyncio.runners' from 'C:\\\\Users\\\\Lenovo\\\\AppData\\\\Local\\\\Programs\\\\Python\\\\Python311\\\\Lib\\\\asyncio\\\\runners.py'>,\n 'asyncio.queues': <module 'asyncio.queues' from 'C:\\\\Users\\\\Lenovo\\\\AppData\\\\Local\\\\Programs\\\\Python\\\\Python311\\\\Lib\\\\asyncio\\\\queues.py'>,\n 'asyncio.streams': <module 'asyncio.streams' from 'C:\\\\Users\\\\Lenovo\\\\AppData\\\\Local\\\\Programs\\\\Python\\\\Python311\\\\Lib\\\\asyncio\\\\streams.py'>,\n 'asyncio.subprocess': <module 'asyncio.subprocess' from 'C:\\\\Users\\\\Lenovo\\\\AppData\\\\Local\\\\Programs\\\\Python\\\\Python311\\\\Lib\\\\asyncio\\\\subprocess.py'>,\n 'asyncio.taskgroups': <module 'asyncio.taskgroups' from 'C:\\\\Users\\\\Lenovo\\\\AppData\\\\Local\\\\Programs\\\\Python\\\\Python311\\\\Lib\\\\asyncio\\\\taskgroups.py'>,\n 'asyncio.timeouts': <module 'asyncio.timeouts' from 'C:\\\\Users\\\\Lenovo\\\\AppData\\\\Local\\\\Programs\\\\Python\\\\Python311\\\\Lib\\\\asyncio\\\\timeouts.py'>,\n 'asyncio.threads': <module 'asyncio.threads' from 'C:\\\\Users\\\\Lenovo\\\\AppData\\\\Local\\\\Programs\\\\Python\\\\Python311\\\\Lib\\\\asyncio\\\\threads.py'>,\n '_overlapped': <module '_overlapped' from 'C:\\\\Users\\\\Lenovo\\\\AppData\\\\Local\\\\Programs\\\\Python\\\\Python311\\\\DLLs\\\\_overlapped.pyd'>,\n 'asyncio.base_subprocess': <module 'asyncio.base_subprocess' from 'C:\\\\Users\\\\Lenovo\\\\AppData\\\\Local\\\\Programs\\\\Python\\\\Python311\\\\Lib\\\\asyncio\\\\base_subprocess.py'>,\n 'asyncio.proactor_events': <module 'asyncio.proactor_events' from 'C:\\\\Users\\\\Lenovo\\\\AppData\\\\Local\\\\Programs\\\\Python\\\\Python311\\\\Lib\\\\asyncio\\\\proactor_events.py'>,\n 'asyncio.selector_events': <module 'asyncio.selector_events' from 'C:\\\\Users\\\\Lenovo\\\\AppData\\\\Local\\\\Programs\\\\Python\\\\Python311\\\\Lib\\\\asyncio\\\\selector_events.py'>,\n 'posixpath': <module 'posixpath' (frozen)>,\n 'fnmatch': <module 'fnmatch' from 'C:\\\\Users\\\\Lenovo\\\\AppData\\\\Local\\\\Programs\\\\Python\\\\Python311\\\\Lib\\\\fnmatch.py'>,\n 'zlib': <module 'zlib' (built-in)>,\n '_compression': <module '_compression' from 'C:\\\\Users\\\\Lenovo\\\\AppData\\\\Local\\\\Programs\\\\Python\\\\Python311\\\\Lib\\\\_compression.py'>,\n '_bz2': <module '_bz2' from 'C:\\\\Users\\\\Lenovo\\\\AppData\\\\Local\\\\Programs\\\\Python\\\\Python311\\\\DLLs\\\\_bz2.pyd'>,\n 'bz2': <module 'bz2' from 'C:\\\\Users\\\\Lenovo\\\\AppData\\\\Local\\\\Programs\\\\Python\\\\Python311\\\\Lib\\\\bz2.py'>,\n '_lzma': <module '_lzma' from 'C:\\\\Users\\\\Lenovo\\\\AppData\\\\Local\\\\Programs\\\\Python\\\\Python311\\\\DLLs\\\\_lzma.pyd'>,\n 'lzma': <module 'lzma' from 'C:\\\\Users\\\\Lenovo\\\\AppData\\\\Local\\\\Programs\\\\Python\\\\Python311\\\\Lib\\\\lzma.py'>,\n 'shutil': <module 'shutil' from 'C:\\\\Users\\\\Lenovo\\\\AppData\\\\Local\\\\Programs\\\\Python\\\\Python311\\\\Lib\\\\shutil.py'>,\n '_bisect': <module '_bisect' (built-in)>,\n 'bisect': <module 'bisect' from 'C:\\\\Users\\\\Lenovo\\\\AppData\\\\Local\\\\Programs\\\\Python\\\\Python311\\\\Lib\\\\bisect.py'>,\n '_random': <module '_random' (built-in)>,\n '_sha512': <module '_sha512' (built-in)>,\n 'random': <module 'random' from 'C:\\\\Users\\\\Lenovo\\\\AppData\\\\Local\\\\Programs\\\\Python\\\\Python311\\\\Lib\\\\random.py'>,\n 'tempfile': <module 'tempfile' from 'C:\\\\Users\\\\Lenovo\\\\AppData\\\\Local\\\\Programs\\\\Python\\\\Python311\\\\Lib\\\\tempfile.py'>,\n 'asyncio.windows_utils': <module 'asyncio.windows_utils' from 'C:\\\\Users\\\\Lenovo\\\\AppData\\\\Local\\\\Programs\\\\Python\\\\Python311\\\\Lib\\\\asyncio\\\\windows_utils.py'>,\n 'asyncio.windows_events': <module 'asyncio.windows_events' from 'C:\\\\Users\\\\Lenovo\\\\AppData\\\\Local\\\\Programs\\\\Python\\\\Python311\\\\Lib\\\\asyncio\\\\windows_events.py'>,\n 'asyncio': <module 'asyncio' from 'C:\\\\Users\\\\Lenovo\\\\AppData\\\\Local\\\\Programs\\\\Python\\\\Python311\\\\Lib\\\\asyncio\\\\__init__.py'>,\n '_queue': <module '_queue' from 'C:\\\\Users\\\\Lenovo\\\\AppData\\\\Local\\\\Programs\\\\Python\\\\Python311\\\\DLLs\\\\_queue.pyd'>,\n 'queue': <module 'queue' from 'C:\\\\Users\\\\Lenovo\\\\AppData\\\\Local\\\\Programs\\\\Python\\\\Python311\\\\Lib\\\\queue.py'>,\n 'platform': <module 'platform' from 'C:\\\\Users\\\\Lenovo\\\\AppData\\\\Local\\\\Programs\\\\Python\\\\Python311\\\\Lib\\\\platform.py'>,\n 'zmq.backend.select': <module 'zmq.backend.select' from 'C:\\\\Users\\\\Lenovo\\\\AppData\\\\Roaming\\\\Python\\\\Python311\\\\site-packages\\\\zmq\\\\backend\\\\select.py'>,\n '_cython_0_29_32': <module '_cython_0_29_32'>,\n 'cython_runtime': <module 'cython_runtime'>,\n 'zmq.error': <module 'zmq.error' from 'C:\\\\Users\\\\Lenovo\\\\AppData\\\\Roaming\\\\Python\\\\Python311\\\\site-packages\\\\zmq\\\\error.py'>,\n 'zmq.backend.cython.context': <module 'zmq.backend.cython.context' from 'C:\\\\Users\\\\Lenovo\\\\AppData\\\\Roaming\\\\Python\\\\Python311\\\\site-packages\\\\zmq\\\\backend\\\\cython\\\\context.cp311-win_amd64.pyd'>,\n 'zmq.backend.cython.message': <module 'zmq.backend.cython.message' from 'C:\\\\Users\\\\Lenovo\\\\AppData\\\\Roaming\\\\Python\\\\Python311\\\\site-packages\\\\zmq\\\\backend\\\\cython\\\\message.cp311-win_amd64.pyd'>,\n '_compat_pickle': <module '_compat_pickle' from 'C:\\\\Users\\\\Lenovo\\\\AppData\\\\Local\\\\Programs\\\\Python\\\\Python311\\\\Lib\\\\_compat_pickle.py'>,\n '_pickle': <module '_pickle' (built-in)>,\n 'pickle': <module 'pickle' from 'C:\\\\Users\\\\Lenovo\\\\AppData\\\\Local\\\\Programs\\\\Python\\\\Python311\\\\Lib\\\\pickle.py'>,\n 'zmq.constants': <module 'zmq.constants' from 'C:\\\\Users\\\\Lenovo\\\\AppData\\\\Roaming\\\\Python\\\\Python311\\\\site-packages\\\\zmq\\\\constants.py'>,\n 'zmq.backend.cython.socket': <module 'zmq.backend.cython.socket' from 'C:\\\\Users\\\\Lenovo\\\\AppData\\\\Roaming\\\\Python\\\\Python311\\\\site-packages\\\\zmq\\\\backend\\\\cython\\\\socket.cp311-win_amd64.pyd'>,\n 'zmq.backend.cython._device': <module 'zmq.backend.cython._device' from 'C:\\\\Users\\\\Lenovo\\\\AppData\\\\Roaming\\\\Python\\\\Python311\\\\site-packages\\\\zmq\\\\backend\\\\cython\\\\_device.cp311-win_amd64.pyd'>,\n 'zmq.backend.cython._poll': <module 'zmq.backend.cython._poll' from 'C:\\\\Users\\\\Lenovo\\\\AppData\\\\Roaming\\\\Python\\\\Python311\\\\site-packages\\\\zmq\\\\backend\\\\cython\\\\_poll.cp311-win_amd64.pyd'>,\n 'zmq.backend.cython._proxy_steerable': <module 'zmq.backend.cython._proxy_steerable' from 'C:\\\\Users\\\\Lenovo\\\\AppData\\\\Roaming\\\\Python\\\\Python311\\\\site-packages\\\\zmq\\\\backend\\\\cython\\\\_proxy_steerable.cp311-win_amd64.pyd'>,\n 'zmq.backend.cython._version': <module 'zmq.backend.cython._version' from 'C:\\\\Users\\\\Lenovo\\\\AppData\\\\Roaming\\\\Python\\\\Python311\\\\site-packages\\\\zmq\\\\backend\\\\cython\\\\_version.cp311-win_amd64.pyd'>,\n 'zmq.backend.cython.error': <module 'zmq.backend.cython.error' from 'C:\\\\Users\\\\Lenovo\\\\AppData\\\\Roaming\\\\Python\\\\Python311\\\\site-packages\\\\zmq\\\\backend\\\\cython\\\\error.cp311-win_amd64.pyd'>,\n 'zmq.backend.cython.utils': <module 'zmq.backend.cython.utils' from 'C:\\\\Users\\\\Lenovo\\\\AppData\\\\Roaming\\\\Python\\\\Python311\\\\site-packages\\\\zmq\\\\backend\\\\cython\\\\utils.cp311-win_amd64.pyd'>,\n 'zmq.backend.cython': <module 'zmq.backend.cython' from 'C:\\\\Users\\\\Lenovo\\\\AppData\\\\Roaming\\\\Python\\\\Python311\\\\site-packages\\\\zmq\\\\backend\\\\cython\\\\__init__.py'>,\n 'zmq.backend': <module 'zmq.backend' from 'C:\\\\Users\\\\Lenovo\\\\AppData\\\\Roaming\\\\Python\\\\Python311\\\\site-packages\\\\zmq\\\\backend\\\\__init__.py'>,\n 'zmq.sugar.attrsettr': <module 'zmq.sugar.attrsettr' from 'C:\\\\Users\\\\Lenovo\\\\AppData\\\\Roaming\\\\Python\\\\Python311\\\\site-packages\\\\zmq\\\\sugar\\\\attrsettr.py'>,\n 'zmq._typing': <module 'zmq._typing' from 'C:\\\\Users\\\\Lenovo\\\\AppData\\\\Roaming\\\\Python\\\\Python311\\\\site-packages\\\\zmq\\\\_typing.py'>,\n 'zmq.utils': <module 'zmq.utils' from 'C:\\\\Users\\\\Lenovo\\\\AppData\\\\Roaming\\\\Python\\\\Python311\\\\site-packages\\\\zmq\\\\utils\\\\__init__.py'>,\n 'zmq.utils.jsonapi': <module 'zmq.utils.jsonapi' from 'C:\\\\Users\\\\Lenovo\\\\AppData\\\\Roaming\\\\Python\\\\Python311\\\\site-packages\\\\zmq\\\\utils\\\\jsonapi.py'>,\n 'zmq.sugar.poll': <module 'zmq.sugar.poll' from 'C:\\\\Users\\\\Lenovo\\\\AppData\\\\Roaming\\\\Python\\\\Python311\\\\site-packages\\\\zmq\\\\sugar\\\\poll.py'>,\n 'zmq.sugar.socket': <module 'zmq.sugar.socket' from 'C:\\\\Users\\\\Lenovo\\\\AppData\\\\Roaming\\\\Python\\\\Python311\\\\site-packages\\\\zmq\\\\sugar\\\\socket.py'>,\n 'zmq.sugar.context': <module 'zmq.sugar.context' from 'C:\\\\Users\\\\Lenovo\\\\AppData\\\\Roaming\\\\Python\\\\Python311\\\\site-packages\\\\zmq\\\\sugar\\\\context.py'>,\n 'zmq.sugar.frame': <module 'zmq.sugar.frame' from 'C:\\\\Users\\\\Lenovo\\\\AppData\\\\Roaming\\\\Python\\\\Python311\\\\site-packages\\\\zmq\\\\sugar\\\\frame.py'>,\n 'zmq.sugar.tracker': <module 'zmq.sugar.tracker' from 'C:\\\\Users\\\\Lenovo\\\\AppData\\\\Roaming\\\\Python\\\\Python311\\\\site-packages\\\\zmq\\\\sugar\\\\tracker.py'>,\n 'zmq.sugar.version': <module 'zmq.sugar.version' from 'C:\\\\Users\\\\Lenovo\\\\AppData\\\\Roaming\\\\Python\\\\Python311\\\\site-packages\\\\zmq\\\\sugar\\\\version.py'>,\n 'zmq.sugar.stopwatch': <module 'zmq.sugar.stopwatch' from 'C:\\\\Users\\\\Lenovo\\\\AppData\\\\Roaming\\\\Python\\\\Python311\\\\site-packages\\\\zmq\\\\sugar\\\\stopwatch.py'>,\n 'zmq.sugar': <module 'zmq.sugar' from 'C:\\\\Users\\\\Lenovo\\\\AppData\\\\Roaming\\\\Python\\\\Python311\\\\site-packages\\\\zmq\\\\sugar\\\\__init__.py'>,\n 'zmq': <module 'zmq' from 'C:\\\\Users\\\\Lenovo\\\\AppData\\\\Roaming\\\\Python\\\\Python311\\\\site-packages\\\\zmq\\\\__init__.py'>,\n 'zmq._future': <module 'zmq._future' from 'C:\\\\Users\\\\Lenovo\\\\AppData\\\\Roaming\\\\Python\\\\Python311\\\\site-packages\\\\zmq\\\\_future.py'>,\n 'zmq.asyncio': <module 'zmq.asyncio' from 'C:\\\\Users\\\\Lenovo\\\\AppData\\\\Roaming\\\\Python\\\\Python311\\\\site-packages\\\\zmq\\\\asyncio.py'>,\n 'jupyter_client.channelsabc': <module 'jupyter_client.channelsabc' from 'C:\\\\Users\\\\Lenovo\\\\AppData\\\\Roaming\\\\Python\\\\Python311\\\\site-packages\\\\jupyter_client\\\\channelsabc.py'>,\n '_hashlib': <module '_hashlib' from 'C:\\\\Users\\\\Lenovo\\\\AppData\\\\Local\\\\Programs\\\\Python\\\\Python311\\\\DLLs\\\\_hashlib.pyd'>,\n '_blake2': <module '_blake2' (built-in)>,\n 'hashlib': <module 'hashlib' from 'C:\\\\Users\\\\Lenovo\\\\AppData\\\\Local\\\\Programs\\\\Python\\\\Python311\\\\Lib\\\\hashlib.py'>,\n 'hmac': <module 'hmac' from 'C:\\\\Users\\\\Lenovo\\\\AppData\\\\Local\\\\Programs\\\\Python\\\\Python311\\\\Lib\\\\hmac.py'>,\n 'dataclasses': <module 'dataclasses' from 'C:\\\\Users\\\\Lenovo\\\\AppData\\\\Local\\\\Programs\\\\Python\\\\Python311\\\\Lib\\\\dataclasses.py'>,\n 'pprint': <module 'pprint' from 'C:\\\\Users\\\\Lenovo\\\\AppData\\\\Local\\\\Programs\\\\Python\\\\Python311\\\\Lib\\\\pprint.py'>,\n '_datetime': <module '_datetime' (built-in)>,\n 'datetime': <module 'datetime' from 'C:\\\\Users\\\\Lenovo\\\\AppData\\\\Local\\\\Programs\\\\Python\\\\Python311\\\\Lib\\\\datetime.py'>,\n 'logging.handlers': <module 'logging.handlers' from 'C:\\\\Users\\\\Lenovo\\\\AppData\\\\Local\\\\Programs\\\\Python\\\\Python311\\\\Lib\\\\logging\\\\handlers.py'>,\n 'socketserver': <module 'socketserver' from 'C:\\\\Users\\\\Lenovo\\\\AppData\\\\Local\\\\Programs\\\\Python\\\\Python311\\\\Lib\\\\socketserver.py'>,\n 'logging.config': <module 'logging.config' from 'C:\\\\Users\\\\Lenovo\\\\AppData\\\\Local\\\\Programs\\\\Python\\\\Python311\\\\Lib\\\\logging\\\\config.py'>,\n 'traitlets.utils.text': <module 'traitlets.utils.text' from 'C:\\\\Users\\\\Lenovo\\\\AppData\\\\Roaming\\\\Python\\\\Python311\\\\site-packages\\\\traitlets\\\\utils\\\\text.py'>,\n 'gettext': <module 'gettext' from 'C:\\\\Users\\\\Lenovo\\\\AppData\\\\Local\\\\Programs\\\\Python\\\\Python311\\\\Lib\\\\gettext.py'>,\n 'argparse': <module 'argparse' from 'C:\\\\Users\\\\Lenovo\\\\AppData\\\\Local\\\\Programs\\\\Python\\\\Python311\\\\Lib\\\\argparse.py'>,\n 'traitlets.config.loader': <module 'traitlets.config.loader' from 'C:\\\\Users\\\\Lenovo\\\\AppData\\\\Roaming\\\\Python\\\\Python311\\\\site-packages\\\\traitlets\\\\config\\\\loader.py'>,\n 'traitlets.config.configurable': <module 'traitlets.config.configurable' from 'C:\\\\Users\\\\Lenovo\\\\AppData\\\\Roaming\\\\Python\\\\Python311\\\\site-packages\\\\traitlets\\\\config\\\\configurable.py'>,\n 'traitlets.utils.nested_update': <module 'traitlets.utils.nested_update' from 'C:\\\\Users\\\\Lenovo\\\\AppData\\\\Roaming\\\\Python\\\\Python311\\\\site-packages\\\\traitlets\\\\utils\\\\nested_update.py'>,\n 'traitlets.config.application': <module 'traitlets.config.application' from 'C:\\\\Users\\\\Lenovo\\\\AppData\\\\Roaming\\\\Python\\\\Python311\\\\site-packages\\\\traitlets\\\\config\\\\application.py'>,\n 'traitlets.config': <module 'traitlets.config' from 'C:\\\\Users\\\\Lenovo\\\\AppData\\\\Roaming\\\\Python\\\\Python311\\\\site-packages\\\\traitlets\\\\config\\\\__init__.py'>,\n 'traitlets.log': <module 'traitlets.log' from 'C:\\\\Users\\\\Lenovo\\\\AppData\\\\Roaming\\\\Python\\\\Python311\\\\site-packages\\\\traitlets\\\\log.py'>,\n 'tornado': <module 'tornado' from 'C:\\\\Users\\\\Lenovo\\\\AppData\\\\Roaming\\\\Python\\\\Python311\\\\site-packages\\\\tornado\\\\__init__.py'>,\n 'numbers': <module 'numbers' from 'C:\\\\Users\\\\Lenovo\\\\AppData\\\\Local\\\\Programs\\\\Python\\\\Python311\\\\Lib\\\\numbers.py'>,\n 'html.entities': <module 'html.entities' from 'C:\\\\Users\\\\Lenovo\\\\AppData\\\\Local\\\\Programs\\\\Python\\\\Python311\\\\Lib\\\\html\\\\entities.py'>,\n 'html': <module 'html' from 'C:\\\\Users\\\\Lenovo\\\\AppData\\\\Local\\\\Programs\\\\Python\\\\Python311\\\\Lib\\\\html\\\\__init__.py'>,\n 'urllib': <module 'urllib' from 'C:\\\\Users\\\\Lenovo\\\\AppData\\\\Local\\\\Programs\\\\Python\\\\Python311\\\\Lib\\\\urllib\\\\__init__.py'>,\n 'urllib.parse': <module 'urllib.parse' from 'C:\\\\Users\\\\Lenovo\\\\AppData\\\\Local\\\\Programs\\\\Python\\\\Python311\\\\Lib\\\\urllib\\\\parse.py'>,\n 'array': <module 'array' (built-in)>,\n 'tornado.speedups': <module 'tornado.speedups' from 'C:\\\\Users\\\\Lenovo\\\\AppData\\\\Roaming\\\\Python\\\\Python311\\\\site-packages\\\\tornado\\\\speedups.pyd'>,\n 'tornado.util': <module 'tornado.util' from 'C:\\\\Users\\\\Lenovo\\\\AppData\\\\Roaming\\\\Python\\\\Python311\\\\site-packages\\\\tornado\\\\util.py'>,\n 'tornado.escape': <module 'tornado.escape' from 'C:\\\\Users\\\\Lenovo\\\\AppData\\\\Roaming\\\\Python\\\\Python311\\\\site-packages\\\\tornado\\\\escape.py'>,\n 'colorama.ansi': <module 'colorama.ansi' from 'C:\\\\Users\\\\Lenovo\\\\AppData\\\\Roaming\\\\Python\\\\Python311\\\\site-packages\\\\colorama\\\\ansi.py'>,\n '_ctypes': <module '_ctypes' from 'C:\\\\Users\\\\Lenovo\\\\AppData\\\\Local\\\\Programs\\\\Python\\\\Python311\\\\DLLs\\\\_ctypes.pyd'>,\n 'ctypes._endian': <module 'ctypes._endian' from 'C:\\\\Users\\\\Lenovo\\\\AppData\\\\Local\\\\Programs\\\\Python\\\\Python311\\\\Lib\\\\ctypes\\\\_endian.py'>,\n 'ctypes': <module 'ctypes' from 'C:\\\\Users\\\\Lenovo\\\\AppData\\\\Local\\\\Programs\\\\Python\\\\Python311\\\\Lib\\\\ctypes\\\\__init__.py'>,\n 'ctypes.wintypes': <module 'ctypes.wintypes' from 'C:\\\\Users\\\\Lenovo\\\\AppData\\\\Local\\\\Programs\\\\Python\\\\Python311\\\\Lib\\\\ctypes\\\\wintypes.py'>,\n 'colorama.win32': <module 'colorama.win32' from 'C:\\\\Users\\\\Lenovo\\\\AppData\\\\Roaming\\\\Python\\\\Python311\\\\site-packages\\\\colorama\\\\win32.py'>,\n 'colorama.winterm': <module 'colorama.winterm' from 'C:\\\\Users\\\\Lenovo\\\\AppData\\\\Roaming\\\\Python\\\\Python311\\\\site-packages\\\\colorama\\\\winterm.py'>,\n 'colorama.ansitowin32': <module 'colorama.ansitowin32' from 'C:\\\\Users\\\\Lenovo\\\\AppData\\\\Roaming\\\\Python\\\\Python311\\\\site-packages\\\\colorama\\\\ansitowin32.py'>,\n 'colorama.initialise': <module 'colorama.initialise' from 'C:\\\\Users\\\\Lenovo\\\\AppData\\\\Roaming\\\\Python\\\\Python311\\\\site-packages\\\\colorama\\\\initialise.py'>,\n 'colorama': <module 'colorama' from 'C:\\\\Users\\\\Lenovo\\\\AppData\\\\Roaming\\\\Python\\\\Python311\\\\site-packages\\\\colorama\\\\__init__.py'>,\n 'tornado.log': <module 'tornado.log' from 'C:\\\\Users\\\\Lenovo\\\\AppData\\\\Roaming\\\\Python\\\\Python311\\\\site-packages\\\\tornado\\\\log.py'>,\n 'tornado.concurrent': <module 'tornado.concurrent' from 'C:\\\\Users\\\\Lenovo\\\\AppData\\\\Roaming\\\\Python\\\\Python311\\\\site-packages\\\\tornado\\\\concurrent.py'>,\n 'tornado.ioloop': <module 'tornado.ioloop' from 'C:\\\\Users\\\\Lenovo\\\\AppData\\\\Roaming\\\\Python\\\\Python311\\\\site-packages\\\\tornado\\\\ioloop.py'>,\n 'tornado.platform': <module 'tornado.platform' from 'C:\\\\Users\\\\Lenovo\\\\AppData\\\\Roaming\\\\Python\\\\Python311\\\\site-packages\\\\tornado\\\\platform\\\\__init__.py'>,\n 'tornado.gen': <module 'tornado.gen' from 'C:\\\\Users\\\\Lenovo\\\\AppData\\\\Roaming\\\\Python\\\\Python311\\\\site-packages\\\\tornado\\\\gen.py'>,\n 'tornado.platform.asyncio': <module 'tornado.platform.asyncio' from 'C:\\\\Users\\\\Lenovo\\\\AppData\\\\Roaming\\\\Python\\\\Python311\\\\site-packages\\\\tornado\\\\platform\\\\asyncio.py'>,\n 'zmq.eventloop.ioloop': <module 'zmq.eventloop.ioloop' from 'C:\\\\Users\\\\Lenovo\\\\AppData\\\\Roaming\\\\Python\\\\Python311\\\\site-packages\\\\zmq\\\\eventloop\\\\ioloop.py'>,\n 'zmq.eventloop': <module 'zmq.eventloop' from 'C:\\\\Users\\\\Lenovo\\\\AppData\\\\Roaming\\\\Python\\\\Python311\\\\site-packages\\\\zmq\\\\eventloop\\\\__init__.py'>,\n 'zmq.eventloop.zmqstream': <module 'zmq.eventloop.zmqstream' from 'C:\\\\Users\\\\Lenovo\\\\AppData\\\\Roaming\\\\Python\\\\Python311\\\\site-packages\\\\zmq\\\\eventloop\\\\zmqstream.py'>,\n 'jupyter_client.adapter': <module 'jupyter_client.adapter' from 'C:\\\\Users\\\\Lenovo\\\\AppData\\\\Roaming\\\\Python\\\\Python311\\\\site-packages\\\\jupyter_client\\\\adapter.py'>,\n 'dateutil._version': <module 'dateutil._version' from 'C:\\\\Users\\\\Lenovo\\\\AppData\\\\Roaming\\\\Python\\\\Python311\\\\site-packages\\\\dateutil\\\\_version.py'>,\n 'dateutil': <module 'dateutil' from 'C:\\\\Users\\\\Lenovo\\\\AppData\\\\Roaming\\\\Python\\\\Python311\\\\site-packages\\\\dateutil\\\\__init__.py'>,\n '__future__': <module '__future__' from 'C:\\\\Users\\\\Lenovo\\\\AppData\\\\Local\\\\Programs\\\\Python\\\\Python311\\\\Lib\\\\__future__.py'>,\n 'calendar': <module 'calendar' from 'C:\\\\Users\\\\Lenovo\\\\AppData\\\\Local\\\\Programs\\\\Python\\\\Python311\\\\Lib\\\\calendar.py'>,\n 'six': <module 'six' from 'C:\\\\Users\\\\Lenovo\\\\AppData\\\\Roaming\\\\Python\\\\Python311\\\\site-packages\\\\six.py'>,\n '_decimal': <module '_decimal' from 'C:\\\\Users\\\\Lenovo\\\\AppData\\\\Local\\\\Programs\\\\Python\\\\Python311\\\\DLLs\\\\_decimal.pyd'>,\n 'decimal': <module 'decimal' from 'C:\\\\Users\\\\Lenovo\\\\AppData\\\\Local\\\\Programs\\\\Python\\\\Python311\\\\Lib\\\\decimal.py'>,\n 'dateutil._common': <module 'dateutil._common' from 'C:\\\\Users\\\\Lenovo\\\\AppData\\\\Roaming\\\\Python\\\\Python311\\\\site-packages\\\\dateutil\\\\_common.py'>,\n 'dateutil.relativedelta': <module 'dateutil.relativedelta' from 'C:\\\\Users\\\\Lenovo\\\\AppData\\\\Roaming\\\\Python\\\\Python311\\\\site-packages\\\\dateutil\\\\relativedelta.py'>,\n 'six.moves': <module 'six.moves' (<six._SixMetaPathImporter object at 0x000001AF7D4BA410>)>,\n 'dateutil.tz._common': <module 'dateutil.tz._common' from 'C:\\\\Users\\\\Lenovo\\\\AppData\\\\Roaming\\\\Python\\\\Python311\\\\site-packages\\\\dateutil\\\\tz\\\\_common.py'>,\n 'dateutil.tz._factories': <module 'dateutil.tz._factories' from 'C:\\\\Users\\\\Lenovo\\\\AppData\\\\Roaming\\\\Python\\\\Python311\\\\site-packages\\\\dateutil\\\\tz\\\\_factories.py'>,\n 'dateutil.tz.win': <module 'dateutil.tz.win' from 'C:\\\\Users\\\\Lenovo\\\\AppData\\\\Roaming\\\\Python\\\\Python311\\\\site-packages\\\\dateutil\\\\tz\\\\win.py'>,\n 'dateutil.tz.tz': <module 'dateutil.tz.tz' from 'C:\\\\Users\\\\Lenovo\\\\AppData\\\\Roaming\\\\Python\\\\Python311\\\\site-packages\\\\dateutil\\\\tz\\\\tz.py'>,\n 'dateutil.tz': <module 'dateutil.tz' from 'C:\\\\Users\\\\Lenovo\\\\AppData\\\\Roaming\\\\Python\\\\Python311\\\\site-packages\\\\dateutil\\\\tz\\\\__init__.py'>,\n 'dateutil.parser._parser': <module 'dateutil.parser._parser' from 'C:\\\\Users\\\\Lenovo\\\\AppData\\\\Roaming\\\\Python\\\\Python311\\\\site-packages\\\\dateutil\\\\parser\\\\_parser.py'>,\n 'dateutil.parser.isoparser': <module 'dateutil.parser.isoparser' from 'C:\\\\Users\\\\Lenovo\\\\AppData\\\\Roaming\\\\Python\\\\Python311\\\\site-packages\\\\dateutil\\\\parser\\\\isoparser.py'>,\n 'dateutil.parser': <module 'dateutil.parser' from 'C:\\\\Users\\\\Lenovo\\\\AppData\\\\Roaming\\\\Python\\\\Python311\\\\site-packages\\\\dateutil\\\\parser\\\\__init__.py'>,\n '_strptime': <module '_strptime' from 'C:\\\\Users\\\\Lenovo\\\\AppData\\\\Local\\\\Programs\\\\Python\\\\Python311\\\\Lib\\\\_strptime.py'>,\n 'jupyter_client.jsonutil': <module 'jupyter_client.jsonutil' from 'C:\\\\Users\\\\Lenovo\\\\AppData\\\\Roaming\\\\Python\\\\Python311\\\\site-packages\\\\jupyter_client\\\\jsonutil.py'>,\n 'jupyter_client.session': <module 'jupyter_client.session' from 'C:\\\\Users\\\\Lenovo\\\\AppData\\\\Roaming\\\\Python\\\\Python311\\\\site-packages\\\\jupyter_client\\\\session.py'>,\n 'jupyter_client.channels': <module 'jupyter_client.channels' from 'C:\\\\Users\\\\Lenovo\\\\AppData\\\\Roaming\\\\Python\\\\Python311\\\\site-packages\\\\jupyter_client\\\\channels.py'>,\n 'getpass': <module 'getpass' from 'C:\\\\Users\\\\Lenovo\\\\AppData\\\\Local\\\\Programs\\\\Python\\\\Python311\\\\Lib\\\\getpass.py'>,\n 'jupyter_client.clientabc': <module 'jupyter_client.clientabc' from 'C:\\\\Users\\\\Lenovo\\\\AppData\\\\Roaming\\\\Python\\\\Python311\\\\site-packages\\\\jupyter_client\\\\clientabc.py'>,\n 'glob': <module 'glob' from 'C:\\\\Users\\\\Lenovo\\\\AppData\\\\Local\\\\Programs\\\\Python\\\\Python311\\\\Lib\\\\glob.py'>,\n 'jupyter_core.version': <module 'jupyter_core.version' from 'C:\\\\Users\\\\Lenovo\\\\AppData\\\\Roaming\\\\Python\\\\Python311\\\\site-packages\\\\jupyter_core\\\\version.py'>,\n 'jupyter_core': <module 'jupyter_core' from 'C:\\\\Users\\\\Lenovo\\\\AppData\\\\Roaming\\\\Python\\\\Python311\\\\site-packages\\\\jupyter_core\\\\__init__.py'>,\n 'pathlib': <module 'pathlib' from 'C:\\\\Users\\\\Lenovo\\\\AppData\\\\Local\\\\Programs\\\\Python\\\\Python311\\\\Lib\\\\pathlib.py'>,\n 'jupyter_core.paths': <module 'jupyter_core.paths' from 'C:\\\\Users\\\\Lenovo\\\\AppData\\\\Roaming\\\\Python\\\\Python311\\\\site-packages\\\\jupyter_core\\\\paths.py'>,\n 'jupyter_client.localinterfaces': <module 'jupyter_client.localinterfaces' from 'C:\\\\Users\\\\Lenovo\\\\AppData\\\\Roaming\\\\Python\\\\Python311\\\\site-packages\\\\jupyter_client\\\\localinterfaces.py'>,\n 'jupyter_client.utils': <module 'jupyter_client.utils' from 'C:\\\\Users\\\\Lenovo\\\\AppData\\\\Roaming\\\\Python\\\\Python311\\\\site-packages\\\\jupyter_client\\\\utils.py'>,\n 'jupyter_client.connect': <module 'jupyter_client.connect' from 'C:\\\\Users\\\\Lenovo\\\\AppData\\\\Roaming\\\\Python\\\\Python311\\\\site-packages\\\\jupyter_client\\\\connect.py'>,\n 'jupyter_client.client': <module 'jupyter_client.client' from 'C:\\\\Users\\\\Lenovo\\\\AppData\\\\Roaming\\\\Python\\\\Python311\\\\site-packages\\\\jupyter_client\\\\client.py'>,\n 'jupyter_client.asynchronous.client': <module 'jupyter_client.asynchronous.client' from 'C:\\\\Users\\\\Lenovo\\\\AppData\\\\Roaming\\\\Python\\\\Python311\\\\site-packages\\\\jupyter_client\\\\asynchronous\\\\client.py'>,\n 'jupyter_client.asynchronous': <module 'jupyter_client.asynchronous' from 'C:\\\\Users\\\\Lenovo\\\\AppData\\\\Roaming\\\\Python\\\\Python311\\\\site-packages\\\\jupyter_client\\\\asynchronous\\\\__init__.py'>,\n 'jupyter_client.blocking.client': <module 'jupyter_client.blocking.client' from 'C:\\\\Users\\\\Lenovo\\\\AppData\\\\Roaming\\\\Python\\\\Python311\\\\site-packages\\\\jupyter_client\\\\blocking\\\\client.py'>,\n 'jupyter_client.blocking': <module 'jupyter_client.blocking' from 'C:\\\\Users\\\\Lenovo\\\\AppData\\\\Roaming\\\\Python\\\\Python311\\\\site-packages\\\\jupyter_client\\\\blocking\\\\__init__.py'>,\n 'jupyter_client.launcher': <module 'jupyter_client.launcher' from 'C:\\\\Users\\\\Lenovo\\\\AppData\\\\Roaming\\\\Python\\\\Python311\\\\site-packages\\\\jupyter_client\\\\launcher.py'>,\n '_uuid': <module '_uuid' from 'C:\\\\Users\\\\Lenovo\\\\AppData\\\\Local\\\\Programs\\\\Python\\\\Python311\\\\DLLs\\\\_uuid.pyd'>,\n 'uuid': <module 'uuid' from 'C:\\\\Users\\\\Lenovo\\\\AppData\\\\Local\\\\Programs\\\\Python\\\\Python311\\\\Lib\\\\uuid.py'>,\n 'jupyter_client.managerabc': <module 'jupyter_client.managerabc' from 'C:\\\\Users\\\\Lenovo\\\\AppData\\\\Roaming\\\\Python\\\\Python311\\\\site-packages\\\\jupyter_client\\\\managerabc.py'>,\n 'zipfile': <module 'zipfile' from 'C:\\\\Users\\\\Lenovo\\\\AppData\\\\Local\\\\Programs\\\\Python\\\\Python311\\\\Lib\\\\zipfile.py'>,\n 'configparser': <module 'configparser' from 'C:\\\\Users\\\\Lenovo\\\\AppData\\\\Local\\\\Programs\\\\Python\\\\Python311\\\\Lib\\\\configparser.py'>,\n 'entrypoints': <module 'entrypoints' from 'C:\\\\Users\\\\Lenovo\\\\AppData\\\\Roaming\\\\Python\\\\Python311\\\\site-packages\\\\entrypoints.py'>,\n 'jupyter_client.provisioning.provisioner_base': <module 'jupyter_client.provisioning.provisioner_base' from 'C:\\\\Users\\\\Lenovo\\\\AppData\\\\Roaming\\\\Python\\\\Python311\\\\site-packages\\\\jupyter_client\\\\provisioning\\\\provisioner_base.py'>,\n 'jupyter_client.provisioning.factory': <module 'jupyter_client.provisioning.factory' from 'C:\\\\Users\\\\Lenovo\\\\AppData\\\\Roaming\\\\Python\\\\Python311\\\\site-packages\\\\jupyter_client\\\\provisioning\\\\factory.py'>,\n 'jupyter_client.provisioning.local_provisioner': <module 'jupyter_client.provisioning.local_provisioner' from 'C:\\\\Users\\\\Lenovo\\\\AppData\\\\Roaming\\\\Python\\\\Python311\\\\site-packages\\\\jupyter_client\\\\provisioning\\\\local_provisioner.py'>,\n 'jupyter_client.provisioning': <module 'jupyter_client.provisioning' from 'C:\\\\Users\\\\Lenovo\\\\AppData\\\\Roaming\\\\Python\\\\Python311\\\\site-packages\\\\jupyter_client\\\\provisioning\\\\__init__.py'>,\n 'jupyter_client.kernelspec': <module 'jupyter_client.kernelspec' from 'C:\\\\Users\\\\Lenovo\\\\AppData\\\\Roaming\\\\Python\\\\Python311\\\\site-packages\\\\jupyter_client\\\\kernelspec.py'>,\n 'jupyter_client.manager': <module 'jupyter_client.manager' from 'C:\\\\Users\\\\Lenovo\\\\AppData\\\\Roaming\\\\Python\\\\Python311\\\\site-packages\\\\jupyter_client\\\\manager.py'>,\n 'jupyter_client.multikernelmanager': <module 'jupyter_client.multikernelmanager' from 'C:\\\\Users\\\\Lenovo\\\\AppData\\\\Roaming\\\\Python\\\\Python311\\\\site-packages\\\\jupyter_client\\\\multikernelmanager.py'>,\n 'jupyter_client': <module 'jupyter_client' from 'C:\\\\Users\\\\Lenovo\\\\AppData\\\\Roaming\\\\Python\\\\Python311\\\\site-packages\\\\jupyter_client\\\\__init__.py'>,\n 'ipykernel.connect': <module 'ipykernel.connect' from 'C:\\\\Users\\\\Lenovo\\\\AppData\\\\Roaming\\\\Python\\\\Python311\\\\site-packages\\\\ipykernel\\\\connect.py'>,\n 'ipykernel': <module 'ipykernel' from 'C:\\\\Users\\\\Lenovo\\\\AppData\\\\Roaming\\\\Python\\\\Python311\\\\site-packages\\\\ipykernel\\\\__init__.py'>,\n 'IPython.core': <module 'IPython.core' from 'C:\\\\Users\\\\Lenovo\\\\AppData\\\\Roaming\\\\Python\\\\Python311\\\\site-packages\\\\IPython\\\\core\\\\__init__.py'>,\n 'IPython.core.getipython': <module 'IPython.core.getipython' from 'C:\\\\Users\\\\Lenovo\\\\AppData\\\\Roaming\\\\Python\\\\Python311\\\\site-packages\\\\IPython\\\\core\\\\getipython.py'>,\n 'IPython.core.release': <module 'IPython.core.release' from 'C:\\\\Users\\\\Lenovo\\\\AppData\\\\Roaming\\\\Python\\\\Python311\\\\site-packages\\\\IPython\\\\core\\\\release.py'>,\n 'pkgutil': <module 'pkgutil' from 'C:\\\\Users\\\\Lenovo\\\\AppData\\\\Local\\\\Programs\\\\Python\\\\Python311\\\\Lib\\\\pkgutil.py'>,\n 'sysconfig': <module 'sysconfig' from 'C:\\\\Users\\\\Lenovo\\\\AppData\\\\Local\\\\Programs\\\\Python\\\\Python311\\\\Lib\\\\sysconfig.py'>,\n 'pydoc': <module 'pydoc' from 'C:\\\\Users\\\\Lenovo\\\\AppData\\\\Local\\\\Programs\\\\Python\\\\Python311\\\\Lib\\\\pydoc.py'>,\n 'executing._exceptions': <module 'executing._exceptions' from 'C:\\\\Users\\\\Lenovo\\\\AppData\\\\Roaming\\\\Python\\\\Python311\\\\site-packages\\\\executing\\\\_exceptions.py'>,\n 'executing._position_node_finder': <module 'executing._position_node_finder' from 'C:\\\\Users\\\\Lenovo\\\\AppData\\\\Roaming\\\\Python\\\\Python311\\\\site-packages\\\\executing\\\\_position_node_finder.py'>,\n 'executing.executing': <module 'executing.executing' from 'C:\\\\Users\\\\Lenovo\\\\AppData\\\\Roaming\\\\Python\\\\Python311\\\\site-packages\\\\executing\\\\executing.py'>,\n 'executing.version': <module 'executing.version' from 'C:\\\\Users\\\\Lenovo\\\\AppData\\\\Roaming\\\\Python\\\\Python311\\\\site-packages\\\\executing\\\\version.py'>,\n 'executing': <module 'executing' from 'C:\\\\Users\\\\Lenovo\\\\AppData\\\\Roaming\\\\Python\\\\Python311\\\\site-packages\\\\executing\\\\__init__.py'>,\n 'asttokens.line_numbers': <module 'asttokens.line_numbers' from 'C:\\\\Users\\\\Lenovo\\\\AppData\\\\Roaming\\\\Python\\\\Python311\\\\site-packages\\\\asttokens\\\\line_numbers.py'>,\n 'asttokens.util': <module 'asttokens.util' from 'C:\\\\Users\\\\Lenovo\\\\AppData\\\\Roaming\\\\Python\\\\Python311\\\\site-packages\\\\asttokens\\\\util.py'>,\n 'asttokens.asttokens': <module 'asttokens.asttokens' from 'C:\\\\Users\\\\Lenovo\\\\AppData\\\\Roaming\\\\Python\\\\Python311\\\\site-packages\\\\asttokens\\\\asttokens.py'>,\n 'asttokens': <module 'asttokens' from 'C:\\\\Users\\\\Lenovo\\\\AppData\\\\Roaming\\\\Python\\\\Python311\\\\site-packages\\\\asttokens\\\\__init__.py'>,\n 'fractions': <module 'fractions' from 'C:\\\\Users\\\\Lenovo\\\\AppData\\\\Local\\\\Programs\\\\Python\\\\Python311\\\\Lib\\\\fractions.py'>,\n 'pure_eval.utils': <module 'pure_eval.utils' from 'C:\\\\Users\\\\Lenovo\\\\AppData\\\\Roaming\\\\Python\\\\Python311\\\\site-packages\\\\pure_eval\\\\utils.py'>,\n 'pure_eval.my_getattr_static': <module 'pure_eval.my_getattr_static' from 'C:\\\\Users\\\\Lenovo\\\\AppData\\\\Roaming\\\\Python\\\\Python311\\\\site-packages\\\\pure_eval\\\\my_getattr_static.py'>,\n 'pure_eval.core': <module 'pure_eval.core' from 'C:\\\\Users\\\\Lenovo\\\\AppData\\\\Roaming\\\\Python\\\\Python311\\\\site-packages\\\\pure_eval\\\\core.py'>,\n 'pure_eval.version': <module 'pure_eval.version' from 'C:\\\\Users\\\\Lenovo\\\\AppData\\\\Roaming\\\\Python\\\\Python311\\\\site-packages\\\\pure_eval\\\\version.py'>,\n 'pure_eval': <module 'pure_eval' from 'C:\\\\Users\\\\Lenovo\\\\AppData\\\\Roaming\\\\Python\\\\Python311\\\\site-packages\\\\pure_eval\\\\__init__.py'>,\n 'stack_data.utils': <module 'stack_data.utils' from 'C:\\\\Users\\\\Lenovo\\\\AppData\\\\Roaming\\\\Python\\\\Python311\\\\site-packages\\\\stack_data\\\\utils.py'>,\n 'stack_data.core': <module 'stack_data.core' from 'C:\\\\Users\\\\Lenovo\\\\AppData\\\\Roaming\\\\Python\\\\Python311\\\\site-packages\\\\stack_data\\\\core.py'>,\n 'stack_data.formatting': <module 'stack_data.formatting' from 'C:\\\\Users\\\\Lenovo\\\\AppData\\\\Roaming\\\\Python\\\\Python311\\\\site-packages\\\\stack_data\\\\formatting.py'>,\n 'stack_data.serializing': <module 'stack_data.serializing' from 'C:\\\\Users\\\\Lenovo\\\\AppData\\\\Roaming\\\\Python\\\\Python311\\\\site-packages\\\\stack_data\\\\serializing.py'>,\n 'stack_data.version': <module 'stack_data.version' from 'C:\\\\Users\\\\Lenovo\\\\AppData\\\\Roaming\\\\Python\\\\Python311\\\\site-packages\\\\stack_data\\\\version.py'>,\n 'stack_data': <module 'stack_data' from 'C:\\\\Users\\\\Lenovo\\\\AppData\\\\Roaming\\\\Python\\\\Python311\\\\site-packages\\\\stack_data\\\\__init__.py'>,\n 'pygments': <module 'pygments' from 'C:\\\\Users\\\\Lenovo\\\\AppData\\\\Roaming\\\\Python\\\\Python311\\\\site-packages\\\\pygments\\\\__init__.py'>,\n 'pygments.formatters._mapping': <module 'pygments.formatters._mapping' from 'C:\\\\Users\\\\Lenovo\\\\AppData\\\\Roaming\\\\Python\\\\Python311\\\\site-packages\\\\pygments\\\\formatters\\\\_mapping.py'>,\n 'pygments.plugin': <module 'pygments.plugin' from 'C:\\\\Users\\\\Lenovo\\\\AppData\\\\Roaming\\\\Python\\\\Python311\\\\site-packages\\\\pygments\\\\plugin.py'>,\n 'pygments.util': <module 'pygments.util' from 'C:\\\\Users\\\\Lenovo\\\\AppData\\\\Roaming\\\\Python\\\\Python311\\\\site-packages\\\\pygments\\\\util.py'>,\n 'pygments.formatters': <module 'pygments.formatters' from 'C:\\\\Users\\\\Lenovo\\\\AppData\\\\Roaming\\\\Python\\\\Python311\\\\site-packages\\\\pygments\\\\formatters\\\\__init__.py'>,\n 'pygments.styles': <module 'pygments.styles' from 'C:\\\\Users\\\\Lenovo\\\\AppData\\\\Roaming\\\\Python\\\\Python311\\\\site-packages\\\\pygments\\\\styles\\\\__init__.py'>,\n 'pygments.formatter': <module 'pygments.formatter' from 'C:\\\\Users\\\\Lenovo\\\\AppData\\\\Roaming\\\\Python\\\\Python311\\\\site-packages\\\\pygments\\\\formatter.py'>,\n 'pygments.console': <module 'pygments.console' from 'C:\\\\Users\\\\Lenovo\\\\AppData\\\\Roaming\\\\Python\\\\Python311\\\\site-packages\\\\pygments\\\\console.py'>,\n 'pygments.token': <module 'pygments.token' from 'C:\\\\Users\\\\Lenovo\\\\AppData\\\\Roaming\\\\Python\\\\Python311\\\\site-packages\\\\pygments\\\\token.py'>,\n 'pygments.style': <module 'pygments.style' from 'C:\\\\Users\\\\Lenovo\\\\AppData\\\\Roaming\\\\Python\\\\Python311\\\\site-packages\\\\pygments\\\\style.py'>,\n 'pygments.formatters.terminal256': <module 'pygments.formatters.terminal256' from 'C:\\\\Users\\\\Lenovo\\\\AppData\\\\Roaming\\\\Python\\\\Python311\\\\site-packages\\\\pygments\\\\formatters\\\\terminal256.py'>,\n 'IPython.utils': <module 'IPython.utils' from 'C:\\\\Users\\\\Lenovo\\\\AppData\\\\Roaming\\\\Python\\\\Python311\\\\site-packages\\\\IPython\\\\utils\\\\__init__.py'>,\n 'IPython.utils.ipstruct': <module 'IPython.utils.ipstruct' from 'C:\\\\Users\\\\Lenovo\\\\AppData\\\\Roaming\\\\Python\\\\Python311\\\\site-packages\\\\IPython\\\\utils\\\\ipstruct.py'>,\n 'IPython.utils.coloransi': <module 'IPython.utils.coloransi' from 'C:\\\\Users\\\\Lenovo\\\\AppData\\\\Roaming\\\\Python\\\\Python311\\\\site-packages\\\\IPython\\\\utils\\\\coloransi.py'>,\n 'IPython.utils.colorable': <module 'IPython.utils.colorable' from 'C:\\\\Users\\\\Lenovo\\\\AppData\\\\Roaming\\\\Python\\\\Python311\\\\site-packages\\\\IPython\\\\utils\\\\colorable.py'>,\n 'IPython.utils.PyColorize': <module 'IPython.utils.PyColorize' from 'C:\\\\Users\\\\Lenovo\\\\AppData\\\\Roaming\\\\Python\\\\Python311\\\\site-packages\\\\IPython\\\\utils\\\\PyColorize.py'>,\n 'IPython.utils.encoding': <module 'IPython.utils.encoding' from 'C:\\\\Users\\\\Lenovo\\\\AppData\\\\Roaming\\\\Python\\\\Python311\\\\site-packages\\\\IPython\\\\utils\\\\encoding.py'>,\n 'IPython.utils.py3compat': <module 'IPython.utils.py3compat' from 'C:\\\\Users\\\\Lenovo\\\\AppData\\\\Roaming\\\\Python\\\\Python311\\\\site-packages\\\\IPython\\\\utils\\\\py3compat.py'>,\n 'IPython.core.excolors': <module 'IPython.core.excolors' from 'C:\\\\Users\\\\Lenovo\\\\AppData\\\\Roaming\\\\Python\\\\Python311\\\\site-packages\\\\IPython\\\\core\\\\excolors.py'>,\n 'cmd': <module 'cmd' from 'C:\\\\Users\\\\Lenovo\\\\AppData\\\\Local\\\\Programs\\\\Python\\\\Python311\\\\Lib\\\\cmd.py'>,\n 'bdb': <module 'bdb' from 'C:\\\\Users\\\\Lenovo\\\\AppData\\\\Local\\\\Programs\\\\Python\\\\Python311\\\\Lib\\\\bdb.py'>,\n 'codeop': <module 'codeop' from 'C:\\\\Users\\\\Lenovo\\\\AppData\\\\Local\\\\Programs\\\\Python\\\\Python311\\\\Lib\\\\codeop.py'>,\n 'code': <module 'code' from 'C:\\\\Users\\\\Lenovo\\\\AppData\\\\Local\\\\Programs\\\\Python\\\\Python311\\\\Lib\\\\code.py'>,\n 'pdb': <module 'pdb' from 'C:\\\\Users\\\\Lenovo\\\\AppData\\\\Local\\\\Programs\\\\Python\\\\Python311\\\\Lib\\\\pdb.py'>,\n 'IPython.core.debugger': <module 'IPython.core.debugger' from 'C:\\\\Users\\\\Lenovo\\\\AppData\\\\Roaming\\\\Python\\\\Python311\\\\site-packages\\\\IPython\\\\core\\\\debugger.py'>,\n 'IPython.core.display_trap': <module 'IPython.core.display_trap' from 'C:\\\\Users\\\\Lenovo\\\\AppData\\\\Roaming\\\\Python\\\\Python311\\\\site-packages\\\\IPython\\\\core\\\\display_trap.py'>,\n 'shlex': <module 'shlex' from 'C:\\\\Users\\\\Lenovo\\\\AppData\\\\Local\\\\Programs\\\\Python\\\\Python311\\\\Lib\\\\shlex.py'>,\n 'IPython.utils._process_common': <module 'IPython.utils._process_common' from 'C:\\\\Users\\\\Lenovo\\\\AppData\\\\Roaming\\\\Python\\\\Python311\\\\site-packages\\\\IPython\\\\utils\\\\_process_common.py'>,\n 'IPython.utils._process_win32': <module 'IPython.utils._process_win32' from 'C:\\\\Users\\\\Lenovo\\\\AppData\\\\Roaming\\\\Python\\\\Python311\\\\site-packages\\\\IPython\\\\utils\\\\_process_win32.py'>,\n 'IPython.utils.process': <module 'IPython.utils.process' from 'C:\\\\Users\\\\Lenovo\\\\AppData\\\\Roaming\\\\Python\\\\Python311\\\\site-packages\\\\IPython\\\\utils\\\\process.py'>,\n 'IPython.utils.decorators': <module 'IPython.utils.decorators' from 'C:\\\\Users\\\\Lenovo\\\\AppData\\\\Roaming\\\\Python\\\\Python311\\\\site-packages\\\\IPython\\\\utils\\\\decorators.py'>,\n 'IPython.utils.path': <module 'IPython.utils.path' from 'C:\\\\Users\\\\Lenovo\\\\AppData\\\\Roaming\\\\Python\\\\Python311\\\\site-packages\\\\IPython\\\\utils\\\\path.py'>,\n 'IPython.utils.terminal': <module 'IPython.utils.terminal' from 'C:\\\\Users\\\\Lenovo\\\\AppData\\\\Roaming\\\\Python\\\\Python311\\\\site-packages\\\\IPython\\\\utils\\\\terminal.py'>,\n 'IPython.core.ultratb': <module 'IPython.core.ultratb' from 'C:\\\\Users\\\\Lenovo\\\\AppData\\\\Roaming\\\\Python\\\\Python311\\\\site-packages\\\\IPython\\\\core\\\\ultratb.py'>,\n 'IPython.utils._sysinfo': <module 'IPython.utils._sysinfo' from 'C:\\\\Users\\\\Lenovo\\\\AppData\\\\Roaming\\\\Python\\\\Python311\\\\site-packages\\\\IPython\\\\utils\\\\_sysinfo.py'>,\n 'IPython.utils.sysinfo': <module 'IPython.utils.sysinfo' from 'C:\\\\Users\\\\Lenovo\\\\AppData\\\\Roaming\\\\Python\\\\Python311\\\\site-packages\\\\IPython\\\\utils\\\\sysinfo.py'>,\n 'IPython.core.crashhandler': <module 'IPython.core.crashhandler' from 'C:\\\\Users\\\\Lenovo\\\\AppData\\\\Roaming\\\\Python\\\\Python311\\\\site-packages\\\\IPython\\\\core\\\\crashhandler.py'>,\n 'IPython.utils.importstring': <module 'IPython.utils.importstring' from 'C:\\\\Users\\\\Lenovo\\\\AppData\\\\Roaming\\\\Python\\\\Python311\\\\site-packages\\\\IPython\\\\utils\\\\importstring.py'>,\n 'IPython.paths': <module 'IPython.paths' from 'C:\\\\Users\\\\Lenovo\\\\AppData\\\\Roaming\\\\Python\\\\Python311\\\\site-packages\\\\IPython\\\\paths.py'>,\n 'IPython.core.profiledir': <module 'IPython.core.profiledir' from 'C:\\\\Users\\\\Lenovo\\\\AppData\\\\Roaming\\\\Python\\\\Python311\\\\site-packages\\\\IPython\\\\core\\\\profiledir.py'>,\n 'IPython.core.application': <module 'IPython.core.application' from 'C:\\\\Users\\\\Lenovo\\\\AppData\\\\Roaming\\\\Python\\\\Python311\\\\site-packages\\\\IPython\\\\core\\\\application.py'>,\n 'IPython.terminal': <module 'IPython.terminal' from 'C:\\\\Users\\\\Lenovo\\\\AppData\\\\Roaming\\\\Python\\\\Python311\\\\site-packages\\\\IPython\\\\terminal\\\\__init__.py'>,\n 'IPython.core.compilerop': <module 'IPython.core.compilerop' from 'C:\\\\Users\\\\Lenovo\\\\AppData\\\\Roaming\\\\Python\\\\Python311\\\\site-packages\\\\IPython\\\\core\\\\compilerop.py'>,\n 'IPython.core.error': <module 'IPython.core.error' from 'C:\\\\Users\\\\Lenovo\\\\AppData\\\\Roaming\\\\Python\\\\Python311\\\\site-packages\\\\IPython\\\\core\\\\error.py'>,\n 'IPython.utils.text': <module 'IPython.utils.text' from 'C:\\\\Users\\\\Lenovo\\\\AppData\\\\Roaming\\\\Python\\\\Python311\\\\site-packages\\\\IPython\\\\utils\\\\text.py'>,\n 'IPython.core.magic_arguments': <module 'IPython.core.magic_arguments' from 'C:\\\\Users\\\\Lenovo\\\\AppData\\\\Roaming\\\\Python\\\\Python311\\\\site-packages\\\\IPython\\\\core\\\\magic_arguments.py'>,\n 'getopt': <module 'getopt' from 'C:\\\\Users\\\\Lenovo\\\\AppData\\\\Local\\\\Programs\\\\Python\\\\Python311\\\\Lib\\\\getopt.py'>,\n 'IPython.core.display_functions': <module 'IPython.core.display_functions' from 'C:\\\\Users\\\\Lenovo\\\\AppData\\\\Roaming\\\\Python\\\\Python311\\\\site-packages\\\\IPython\\\\core\\\\display_functions.py'>,\n 'mimetypes': <module 'mimetypes' from 'C:\\\\Users\\\\Lenovo\\\\AppData\\\\Local\\\\Programs\\\\Python\\\\Python311\\\\Lib\\\\mimetypes.py'>,\n 'IPython.testing': <module 'IPython.testing' from 'C:\\\\Users\\\\Lenovo\\\\AppData\\\\Roaming\\\\Python\\\\Python311\\\\site-packages\\\\IPython\\\\testing\\\\__init__.py'>,\n 'IPython.testing.skipdoctest': <module 'IPython.testing.skipdoctest' from 'C:\\\\Users\\\\Lenovo\\\\AppData\\\\Roaming\\\\Python\\\\Python311\\\\site-packages\\\\IPython\\\\testing\\\\skipdoctest.py'>,\n 'IPython.core.display': <module 'IPython.core.display' from 'C:\\\\Users\\\\Lenovo\\\\AppData\\\\Roaming\\\\Python\\\\Python311\\\\site-packages\\\\IPython\\\\core\\\\display.py'>,\n 'IPython.lib': <module 'IPython.lib' from 'C:\\\\Users\\\\Lenovo\\\\AppData\\\\Roaming\\\\Python\\\\Python311\\\\site-packages\\\\IPython\\\\lib\\\\__init__.py'>,\n 'IPython.lib.display': <module 'IPython.lib.display' from 'C:\\\\Users\\\\Lenovo\\\\AppData\\\\Roaming\\\\Python\\\\Python311\\\\site-packages\\\\IPython\\\\lib\\\\display.py'>,\n 'IPython.display': <module 'IPython.display' from 'C:\\\\Users\\\\Lenovo\\\\AppData\\\\Roaming\\\\Python\\\\Python311\\\\site-packages\\\\IPython\\\\display.py'>,\n 'IPython.utils.data': <module 'IPython.utils.data' from 'C:\\\\Users\\\\Lenovo\\\\AppData\\\\Roaming\\\\Python\\\\Python311\\\\site-packages\\\\IPython\\\\utils\\\\data.py'>,\n 'IPython.core.page': <module 'IPython.core.page' from 'C:\\\\Users\\\\Lenovo\\\\AppData\\\\Roaming\\\\Python\\\\Python311\\\\site-packages\\\\IPython\\\\core\\\\page.py'>,\n 'IPython.lib.pretty': <module 'IPython.lib.pretty' from 'C:\\\\Users\\\\Lenovo\\\\AppData\\\\Roaming\\\\Python\\\\Python311\\\\site-packages\\\\IPython\\\\lib\\\\pretty.py'>,\n 'IPython.utils.openpy': <module 'IPython.utils.openpy' from 'C:\\\\Users\\\\Lenovo\\\\AppData\\\\Roaming\\\\Python\\\\Python311\\\\site-packages\\\\IPython\\\\utils\\\\openpy.py'>,\n 'IPython.utils.dir2': <module 'IPython.utils.dir2' from 'C:\\\\Users\\\\Lenovo\\\\AppData\\\\Roaming\\\\Python\\\\Python311\\\\site-packages\\\\IPython\\\\utils\\\\dir2.py'>,\n 'IPython.utils.wildcard': <module 'IPython.utils.wildcard' from 'C:\\\\Users\\\\Lenovo\\\\AppData\\\\Roaming\\\\Python\\\\Python311\\\\site-packages\\\\IPython\\\\utils\\\\wildcard.py'>,\n 'pygments.lexers._mapping': <module 'pygments.lexers._mapping' from 'C:\\\\Users\\\\Lenovo\\\\AppData\\\\Roaming\\\\Python\\\\Python311\\\\site-packages\\\\pygments\\\\lexers\\\\_mapping.py'>,\n 'pygments.modeline': <module 'pygments.modeline' from 'C:\\\\Users\\\\Lenovo\\\\AppData\\\\Roaming\\\\Python\\\\Python311\\\\site-packages\\\\pygments\\\\modeline.py'>,\n 'pygments.lexers': <module 'pygments.lexers' from 'C:\\\\Users\\\\Lenovo\\\\AppData\\\\Roaming\\\\Python\\\\Python311\\\\site-packages\\\\pygments\\\\lexers\\\\__init__.py'>,\n 'pygments.filter': <module 'pygments.filter' from 'C:\\\\Users\\\\Lenovo\\\\AppData\\\\Roaming\\\\Python\\\\Python311\\\\site-packages\\\\pygments\\\\filter.py'>,\n 'pygments.filters': <module 'pygments.filters' from 'C:\\\\Users\\\\Lenovo\\\\AppData\\\\Roaming\\\\Python\\\\Python311\\\\site-packages\\\\pygments\\\\filters\\\\__init__.py'>,\n 'pygments.regexopt': <module 'pygments.regexopt' from 'C:\\\\Users\\\\Lenovo\\\\AppData\\\\Roaming\\\\Python\\\\Python311\\\\site-packages\\\\pygments\\\\regexopt.py'>,\n 'pygments.lexer': <module 'pygments.lexer' from 'C:\\\\Users\\\\Lenovo\\\\AppData\\\\Roaming\\\\Python\\\\Python311\\\\site-packages\\\\pygments\\\\lexer.py'>,\n 'pygments.unistring': <module 'pygments.unistring' from 'C:\\\\Users\\\\Lenovo\\\\AppData\\\\Roaming\\\\Python\\\\Python311\\\\site-packages\\\\pygments\\\\unistring.py'>,\n 'pygments.lexers.python': <module 'pygments.lexers.python' from 'C:\\\\Users\\\\Lenovo\\\\AppData\\\\Roaming\\\\Python\\\\Python311\\\\site-packages\\\\pygments\\\\lexers\\\\python.py'>,\n 'pygments.formatters.html': <module 'pygments.formatters.html' from 'C:\\\\Users\\\\Lenovo\\\\AppData\\\\Roaming\\\\Python\\\\Python311\\\\site-packages\\\\pygments\\\\formatters\\\\html.py'>,\n 'IPython.core.oinspect': <module 'IPython.core.oinspect' from 'C:\\\\Users\\\\Lenovo\\\\AppData\\\\Roaming\\\\Python\\\\Python311\\\\site-packages\\\\IPython\\\\core\\\\oinspect.py'>,\n 'IPython.core.inputtransformer2': <module 'IPython.core.inputtransformer2' from 'C:\\\\Users\\\\Lenovo\\\\AppData\\\\Roaming\\\\Python\\\\Python311\\\\site-packages\\\\IPython\\\\core\\\\inputtransformer2.py'>,\n 'IPython.core.magic': <module 'IPython.core.magic' from 'C:\\\\Users\\\\Lenovo\\\\AppData\\\\Roaming\\\\Python\\\\Python311\\\\site-packages\\\\IPython\\\\core\\\\magic.py'>,\n 'pickleshare': <module 'pickleshare' from 'C:\\\\Users\\\\Lenovo\\\\AppData\\\\Roaming\\\\Python\\\\Python311\\\\site-packages\\\\pickleshare.py'>,\n 'IPython.core.hooks': <module 'IPython.core.hooks' from 'C:\\\\Users\\\\Lenovo\\\\AppData\\\\Roaming\\\\Python\\\\Python311\\\\site-packages\\\\IPython\\\\core\\\\hooks.py'>,\n 'IPython.core.autocall': <module 'IPython.core.autocall' from 'C:\\\\Users\\\\Lenovo\\\\AppData\\\\Roaming\\\\Python\\\\Python311\\\\site-packages\\\\IPython\\\\core\\\\autocall.py'>,\n 'IPython.core.macro': <module 'IPython.core.macro' from 'C:\\\\Users\\\\Lenovo\\\\AppData\\\\Roaming\\\\Python\\\\Python311\\\\site-packages\\\\IPython\\\\core\\\\macro.py'>,\n 'IPython.core.splitinput': <module 'IPython.core.splitinput' from 'C:\\\\Users\\\\Lenovo\\\\AppData\\\\Roaming\\\\Python\\\\Python311\\\\site-packages\\\\IPython\\\\core\\\\splitinput.py'>,\n 'IPython.core.prefilter': <module 'IPython.core.prefilter' from 'C:\\\\Users\\\\Lenovo\\\\AppData\\\\Roaming\\\\Python\\\\Python311\\\\site-packages\\\\IPython\\\\core\\\\prefilter.py'>,\n 'IPython.core.alias': <module 'IPython.core.alias' from 'C:\\\\Users\\\\Lenovo\\\\AppData\\\\Roaming\\\\Python\\\\Python311\\\\site-packages\\\\IPython\\\\core\\\\alias.py'>,\n 'IPython.core.builtin_trap': <module 'IPython.core.builtin_trap' from 'C:\\\\Users\\\\Lenovo\\\\AppData\\\\Roaming\\\\Python\\\\Python311\\\\site-packages\\\\IPython\\\\core\\\\builtin_trap.py'>,\n 'IPython.core.displayhook': <module 'IPython.core.displayhook' from 'C:\\\\Users\\\\Lenovo\\\\AppData\\\\Roaming\\\\Python\\\\Python311\\\\site-packages\\\\IPython\\\\core\\\\displayhook.py'>,\n 'IPython.core.displaypub': <module 'IPython.core.displaypub' from 'C:\\\\Users\\\\Lenovo\\\\AppData\\\\Roaming\\\\Python\\\\Python311\\\\site-packages\\\\IPython\\\\core\\\\displaypub.py'>,\n 'backcall.backcall': <module 'backcall.backcall' from 'C:\\\\Users\\\\Lenovo\\\\AppData\\\\Roaming\\\\Python\\\\Python311\\\\site-packages\\\\backcall\\\\backcall.py'>,\n 'backcall': <module 'backcall' from 'C:\\\\Users\\\\Lenovo\\\\AppData\\\\Roaming\\\\Python\\\\Python311\\\\site-packages\\\\backcall\\\\__init__.py'>,\n 'IPython.core.events': <module 'IPython.core.events' from 'C:\\\\Users\\\\Lenovo\\\\AppData\\\\Roaming\\\\Python\\\\Python311\\\\site-packages\\\\IPython\\\\core\\\\events.py'>,\n 'IPython.core.extensions': <module 'IPython.core.extensions' from 'C:\\\\Users\\\\Lenovo\\\\AppData\\\\Roaming\\\\Python\\\\Python311\\\\site-packages\\\\IPython\\\\core\\\\extensions.py'>,\n 'decorator': <module 'decorator' from 'C:\\\\Users\\\\Lenovo\\\\AppData\\\\Roaming\\\\Python\\\\Python311\\\\site-packages\\\\decorator.py'>,\n 'IPython.utils.sentinel': <module 'IPython.utils.sentinel' from 'C:\\\\Users\\\\Lenovo\\\\AppData\\\\Roaming\\\\Python\\\\Python311\\\\site-packages\\\\IPython\\\\utils\\\\sentinel.py'>,\n 'IPython.core.formatters': <module 'IPython.core.formatters' from 'C:\\\\Users\\\\Lenovo\\\\AppData\\\\Roaming\\\\Python\\\\Python311\\\\site-packages\\\\IPython\\\\core\\\\formatters.py'>,\n '_sqlite3': <module '_sqlite3' from 'C:\\\\Users\\\\Lenovo\\\\AppData\\\\Local\\\\Programs\\\\Python\\\\Python311\\\\DLLs\\\\_sqlite3.pyd'>,\n 'sqlite3.dbapi2': <module 'sqlite3.dbapi2' from 'C:\\\\Users\\\\Lenovo\\\\AppData\\\\Local\\\\Programs\\\\Python\\\\Python311\\\\Lib\\\\sqlite3\\\\dbapi2.py'>,\n 'sqlite3': <module 'sqlite3' from 'C:\\\\Users\\\\Lenovo\\\\AppData\\\\Local\\\\Programs\\\\Python\\\\Python311\\\\Lib\\\\sqlite3\\\\__init__.py'>,\n 'IPython.core.history': <module 'IPython.core.history' from 'C:\\\\Users\\\\Lenovo\\\\AppData\\\\Roaming\\\\Python\\\\Python311\\\\site-packages\\\\IPython\\\\core\\\\history.py'>,\n 'IPython.core.logger': <module 'IPython.core.logger' from 'C:\\\\Users\\\\Lenovo\\\\AppData\\\\Roaming\\\\Python\\\\Python311\\\\site-packages\\\\IPython\\\\core\\\\logger.py'>,\n 'IPython.core.payload': <module 'IPython.core.payload' from 'C:\\\\Users\\\\Lenovo\\\\AppData\\\\Roaming\\\\Python\\\\Python311\\\\site-packages\\\\IPython\\\\core\\\\payload.py'>,\n 'IPython.core.usage': <module 'IPython.core.usage' from 'C:\\\\Users\\\\Lenovo\\\\AppData\\\\Roaming\\\\Python\\\\Python311\\\\site-packages\\\\IPython\\\\core\\\\usage.py'>,\n 'IPython.utils.capture': <module 'IPython.utils.capture' from 'C:\\\\Users\\\\Lenovo\\\\AppData\\\\Roaming\\\\Python\\\\Python311\\\\site-packages\\\\IPython\\\\utils\\\\capture.py'>,\n 'IPython.utils.io': <module 'IPython.utils.io' from 'C:\\\\Users\\\\Lenovo\\\\AppData\\\\Roaming\\\\Python\\\\Python311\\\\site-packages\\\\IPython\\\\utils\\\\io.py'>,\n 'IPython.utils.strdispatch': <module 'IPython.utils.strdispatch' from 'C:\\\\Users\\\\Lenovo\\\\AppData\\\\Roaming\\\\Python\\\\Python311\\\\site-packages\\\\IPython\\\\utils\\\\strdispatch.py'>,\n 'IPython.utils.syspathcontext': <module 'IPython.utils.syspathcontext' from 'C:\\\\Users\\\\Lenovo\\\\AppData\\\\Roaming\\\\Python\\\\Python311\\\\site-packages\\\\IPython\\\\utils\\\\syspathcontext.py'>,\n 'IPython.core.async_helpers': <module 'IPython.core.async_helpers' from 'C:\\\\Users\\\\Lenovo\\\\AppData\\\\Roaming\\\\Python\\\\Python311\\\\site-packages\\\\IPython\\\\core\\\\async_helpers.py'>,\n 'IPython.core.interactiveshell': <module 'IPython.core.interactiveshell' from 'C:\\\\Users\\\\Lenovo\\\\AppData\\\\Roaming\\\\Python\\\\Python311\\\\site-packages\\\\IPython\\\\core\\\\interactiveshell.py'>,\n 'prompt_toolkit.application.current': <module 'prompt_toolkit.application.current' from 'C:\\\\Users\\\\Lenovo\\\\AppData\\\\Roaming\\\\Python\\\\Python311\\\\site-packages\\\\prompt_toolkit\\\\application\\\\current.py'>,\n 'prompt_toolkit.eventloop.utils': <module 'prompt_toolkit.eventloop.utils' from 'C:\\\\Users\\\\Lenovo\\\\AppData\\\\Roaming\\\\Python\\\\Python311\\\\site-packages\\\\prompt_toolkit\\\\eventloop\\\\utils.py'>,\n 'prompt_toolkit.eventloop.async_generator': <module 'prompt_toolkit.eventloop.async_generator' from 'C:\\\\Users\\\\Lenovo\\\\AppData\\\\Roaming\\\\Python\\\\Python311\\\\site-packages\\\\prompt_toolkit\\\\eventloop\\\\async_generator.py'>,\n 'prompt_toolkit.eventloop.inputhook': <module 'prompt_toolkit.eventloop.inputhook' from 'C:\\\\Users\\\\Lenovo\\\\AppData\\\\Roaming\\\\Python\\\\Python311\\\\site-packages\\\\prompt_toolkit\\\\eventloop\\\\inputhook.py'>,\n 'prompt_toolkit.eventloop': <module 'prompt_toolkit.eventloop' from 'C:\\\\Users\\\\Lenovo\\\\AppData\\\\Roaming\\\\Python\\\\Python311\\\\site-packages\\\\prompt_toolkit\\\\eventloop\\\\__init__.py'>,\n 'prompt_toolkit.application.run_in_terminal': <module 'prompt_toolkit.application.run_in_terminal' from 'C:\\\\Users\\\\Lenovo\\\\AppData\\\\Roaming\\\\Python\\\\Python311\\\\site-packages\\\\prompt_toolkit\\\\application\\\\run_in_terminal.py'>,\n 'prompt_toolkit.selection': <module 'prompt_toolkit.selection' from 'C:\\\\Users\\\\Lenovo\\\\AppData\\\\Roaming\\\\Python\\\\Python311\\\\site-packages\\\\prompt_toolkit\\\\selection.py'>,\n 'prompt_toolkit.clipboard.base': <module 'prompt_toolkit.clipboard.base' from 'C:\\\\Users\\\\Lenovo\\\\AppData\\\\Roaming\\\\Python\\\\Python311\\\\site-packages\\\\prompt_toolkit\\\\clipboard\\\\base.py'>,\n 'prompt_toolkit.clipboard.in_memory': <module 'prompt_toolkit.clipboard.in_memory' from 'C:\\\\Users\\\\Lenovo\\\\AppData\\\\Roaming\\\\Python\\\\Python311\\\\site-packages\\\\prompt_toolkit\\\\clipboard\\\\in_memory.py'>,\n 'prompt_toolkit.clipboard': <module 'prompt_toolkit.clipboard' from 'C:\\\\Users\\\\Lenovo\\\\AppData\\\\Roaming\\\\Python\\\\Python311\\\\site-packages\\\\prompt_toolkit\\\\clipboard\\\\__init__.py'>,\n 'prompt_toolkit.cache': <module 'prompt_toolkit.cache' from 'C:\\\\Users\\\\Lenovo\\\\AppData\\\\Roaming\\\\Python\\\\Python311\\\\site-packages\\\\prompt_toolkit\\\\cache.py'>,\n 'prompt_toolkit.enums': <module 'prompt_toolkit.enums' from 'C:\\\\Users\\\\Lenovo\\\\AppData\\\\Roaming\\\\Python\\\\Python311\\\\site-packages\\\\prompt_toolkit\\\\enums.py'>,\n 'prompt_toolkit.filters.base': <module 'prompt_toolkit.filters.base' from 'C:\\\\Users\\\\Lenovo\\\\AppData\\\\Roaming\\\\Python\\\\Python311\\\\site-packages\\\\prompt_toolkit\\\\filters\\\\base.py'>,\n 'prompt_toolkit.filters.app': <module 'prompt_toolkit.filters.app' from 'C:\\\\Users\\\\Lenovo\\\\AppData\\\\Roaming\\\\Python\\\\Python311\\\\site-packages\\\\prompt_toolkit\\\\filters\\\\app.py'>,\n 'prompt_toolkit.filters.cli': <module 'prompt_toolkit.filters.cli' from 'C:\\\\Users\\\\Lenovo\\\\AppData\\\\Roaming\\\\Python\\\\Python311\\\\site-packages\\\\prompt_toolkit\\\\filters\\\\cli.py'>,\n 'prompt_toolkit.filters.utils': <module 'prompt_toolkit.filters.utils' from 'C:\\\\Users\\\\Lenovo\\\\AppData\\\\Roaming\\\\Python\\\\Python311\\\\site-packages\\\\prompt_toolkit\\\\filters\\\\utils.py'>,\n 'prompt_toolkit.filters': <module 'prompt_toolkit.filters' from 'C:\\\\Users\\\\Lenovo\\\\AppData\\\\Roaming\\\\Python\\\\Python311\\\\site-packages\\\\prompt_toolkit\\\\filters\\\\__init__.py'>,\n 'prompt_toolkit.document': <module 'prompt_toolkit.document' from 'C:\\\\Users\\\\Lenovo\\\\AppData\\\\Roaming\\\\Python\\\\Python311\\\\site-packages\\\\prompt_toolkit\\\\document.py'>,\n 'prompt_toolkit.auto_suggest': <module 'prompt_toolkit.auto_suggest' from 'C:\\\\Users\\\\Lenovo\\\\AppData\\\\Roaming\\\\Python\\\\Python311\\\\site-packages\\\\prompt_toolkit\\\\auto_suggest.py'>,\n 'prompt_toolkit.keys': <module 'prompt_toolkit.keys' from 'C:\\\\Users\\\\Lenovo\\\\AppData\\\\Roaming\\\\Python\\\\Python311\\\\site-packages\\\\prompt_toolkit\\\\keys.py'>,\n 'prompt_toolkit.key_binding.key_bindings': <module 'prompt_toolkit.key_binding.key_bindings' from 'C:\\\\Users\\\\Lenovo\\\\AppData\\\\Roaming\\\\Python\\\\Python311\\\\site-packages\\\\prompt_toolkit\\\\key_binding\\\\key_bindings.py'>,\n 'wcwidth.table_wide': <module 'wcwidth.table_wide' from 'C:\\\\Users\\\\Lenovo\\\\AppData\\\\Roaming\\\\Python\\\\Python311\\\\site-packages\\\\wcwidth\\\\table_wide.py'>,\n 'wcwidth.table_zero': <module 'wcwidth.table_zero' from 'C:\\\\Users\\\\Lenovo\\\\AppData\\\\Roaming\\\\Python\\\\Python311\\\\site-packages\\\\wcwidth\\\\table_zero.py'>,\n 'wcwidth.unicode_versions': <module 'wcwidth.unicode_versions' from 'C:\\\\Users\\\\Lenovo\\\\AppData\\\\Roaming\\\\Python\\\\Python311\\\\site-packages\\\\wcwidth\\\\unicode_versions.py'>,\n 'wcwidth.wcwidth': <module 'wcwidth.wcwidth' from 'C:\\\\Users\\\\Lenovo\\\\AppData\\\\Roaming\\\\Python\\\\Python311\\\\site-packages\\\\wcwidth\\\\wcwidth.py'>,\n 'wcwidth': <module 'wcwidth' from 'C:\\\\Users\\\\Lenovo\\\\AppData\\\\Roaming\\\\Python\\\\Python311\\\\site-packages\\\\wcwidth\\\\__init__.py'>,\n 'prompt_toolkit.utils': <module 'prompt_toolkit.utils' from 'C:\\\\Users\\\\Lenovo\\\\AppData\\\\Roaming\\\\Python\\\\Python311\\\\site-packages\\\\prompt_toolkit\\\\utils.py'>,\n 'prompt_toolkit.key_binding.key_processor': <module 'prompt_toolkit.key_binding.key_processor' from 'C:\\\\Users\\\\Lenovo\\\\AppData\\\\Roaming\\\\Python\\\\Python311\\\\site-packages\\\\prompt_toolkit\\\\key_binding\\\\key_processor.py'>,\n 'prompt_toolkit.key_binding': <module 'prompt_toolkit.key_binding' from 'C:\\\\Users\\\\Lenovo\\\\AppData\\\\Roaming\\\\Python\\\\Python311\\\\site-packages\\\\prompt_toolkit\\\\key_binding\\\\__init__.py'>,\n 'prompt_toolkit.key_binding.vi_state': <module 'prompt_toolkit.key_binding.vi_state' from 'C:\\\\Users\\\\Lenovo\\\\AppData\\\\Roaming\\\\Python\\\\Python311\\\\site-packages\\\\prompt_toolkit\\\\key_binding\\\\vi_state.py'>,\n 'prompt_toolkit.cursor_shapes': <module 'prompt_toolkit.cursor_shapes' from 'C:\\\\Users\\\\Lenovo\\\\AppData\\\\Roaming\\\\Python\\\\Python311\\\\site-packages\\\\prompt_toolkit\\\\cursor_shapes.py'>,\n 'prompt_toolkit.data_structures': <module 'prompt_toolkit.data_structures' from 'C:\\\\Users\\\\Lenovo\\\\AppData\\\\Roaming\\\\Python\\\\Python311\\\\site-packages\\\\prompt_toolkit\\\\data_structures.py'>,\n 'prompt_toolkit.styles.base': <module 'prompt_toolkit.styles.base' from 'C:\\\\Users\\\\Lenovo\\\\AppData\\\\Roaming\\\\Python\\\\Python311\\\\site-packages\\\\prompt_toolkit\\\\styles\\\\base.py'>,\n 'prompt_toolkit.styles.named_colors': <module 'prompt_toolkit.styles.named_colors' from 'C:\\\\Users\\\\Lenovo\\\\AppData\\\\Roaming\\\\Python\\\\Python311\\\\site-packages\\\\prompt_toolkit\\\\styles\\\\named_colors.py'>,\n 'prompt_toolkit.styles.style': <module 'prompt_toolkit.styles.style' from 'C:\\\\Users\\\\Lenovo\\\\AppData\\\\Roaming\\\\Python\\\\Python311\\\\site-packages\\\\prompt_toolkit\\\\styles\\\\style.py'>,\n 'prompt_toolkit.styles.defaults': <module 'prompt_toolkit.styles.defaults' from 'C:\\\\Users\\\\Lenovo\\\\AppData\\\\Roaming\\\\Python\\\\Python311\\\\site-packages\\\\prompt_toolkit\\\\styles\\\\defaults.py'>,\n 'prompt_toolkit.styles.pygments': <module 'prompt_toolkit.styles.pygments' from 'C:\\\\Users\\\\Lenovo\\\\AppData\\\\Roaming\\\\Python\\\\Python311\\\\site-packages\\\\prompt_toolkit\\\\styles\\\\pygments.py'>,\n 'colorsys': <module 'colorsys' from 'C:\\\\Users\\\\Lenovo\\\\AppData\\\\Local\\\\Programs\\\\Python\\\\Python311\\\\Lib\\\\colorsys.py'>,\n 'prompt_toolkit.styles.style_transformation': <module 'prompt_toolkit.styles.style_transformation' from 'C:\\\\Users\\\\Lenovo\\\\AppData\\\\Roaming\\\\Python\\\\Python311\\\\site-packages\\\\prompt_toolkit\\\\styles\\\\style_transformation.py'>,\n 'prompt_toolkit.styles': <module 'prompt_toolkit.styles' from 'C:\\\\Users\\\\Lenovo\\\\AppData\\\\Roaming\\\\Python\\\\Python311\\\\site-packages\\\\prompt_toolkit\\\\styles\\\\__init__.py'>,\n 'prompt_toolkit.output.color_depth': <module 'prompt_toolkit.output.color_depth' from 'C:\\\\Users\\\\Lenovo\\\\AppData\\\\Roaming\\\\Python\\\\Python311\\\\site-packages\\\\prompt_toolkit\\\\output\\\\color_depth.py'>,\n 'prompt_toolkit.output.base': <module 'prompt_toolkit.output.base' from 'C:\\\\Users\\\\Lenovo\\\\AppData\\\\Roaming\\\\Python\\\\Python311\\\\site-packages\\\\prompt_toolkit\\\\output\\\\base.py'>,\n 'prompt_toolkit.output.flush_stdout': <module 'prompt_toolkit.output.flush_stdout' from 'C:\\\\Users\\\\Lenovo\\\\AppData\\\\Roaming\\\\Python\\\\Python311\\\\site-packages\\\\prompt_toolkit\\\\output\\\\flush_stdout.py'>,\n 'prompt_toolkit.output.plain_text': <module 'prompt_toolkit.output.plain_text' from 'C:\\\\Users\\\\Lenovo\\\\AppData\\\\Roaming\\\\Python\\\\Python311\\\\site-packages\\\\prompt_toolkit\\\\output\\\\plain_text.py'>,\n 'prompt_toolkit.output.defaults': <module 'prompt_toolkit.output.defaults' from 'C:\\\\Users\\\\Lenovo\\\\AppData\\\\Roaming\\\\Python\\\\Python311\\\\site-packages\\\\prompt_toolkit\\\\output\\\\defaults.py'>,\n 'prompt_toolkit.output': <module 'prompt_toolkit.output' from 'C:\\\\Users\\\\Lenovo\\\\AppData\\\\Roaming\\\\Python\\\\Python311\\\\site-packages\\\\prompt_toolkit\\\\output\\\\__init__.py'>,\n 'prompt_toolkit.output.vt100': <module 'prompt_toolkit.output.vt100' from 'C:\\\\Users\\\\Lenovo\\\\AppData\\\\Roaming\\\\Python\\\\Python311\\\\site-packages\\\\prompt_toolkit\\\\output\\\\vt100.py'>,\n 'prompt_toolkit.mouse_events': <module 'prompt_toolkit.mouse_events' from 'C:\\\\Users\\\\Lenovo\\\\AppData\\\\Roaming\\\\Python\\\\Python311\\\\site-packages\\\\prompt_toolkit\\\\mouse_events.py'>,\n 'prompt_toolkit.formatted_text.base': <module 'prompt_toolkit.formatted_text.base' from 'C:\\\\Users\\\\Lenovo\\\\AppData\\\\Roaming\\\\Python\\\\Python311\\\\site-packages\\\\prompt_toolkit\\\\formatted_text\\\\base.py'>,\n 'prompt_toolkit.formatted_text.ansi': <module 'prompt_toolkit.formatted_text.ansi' from 'C:\\\\Users\\\\Lenovo\\\\AppData\\\\Roaming\\\\Python\\\\Python311\\\\site-packages\\\\prompt_toolkit\\\\formatted_text\\\\ansi.py'>,\n 'xml': <module 'xml' from 'C:\\\\Users\\\\Lenovo\\\\AppData\\\\Local\\\\Programs\\\\Python\\\\Python311\\\\Lib\\\\xml\\\\__init__.py'>,\n 'xml.dom.domreg': <module 'xml.dom.domreg' from 'C:\\\\Users\\\\Lenovo\\\\AppData\\\\Local\\\\Programs\\\\Python\\\\Python311\\\\Lib\\\\xml\\\\dom\\\\domreg.py'>,\n 'xml.dom': <module 'xml.dom' from 'C:\\\\Users\\\\Lenovo\\\\AppData\\\\Local\\\\Programs\\\\Python\\\\Python311\\\\Lib\\\\xml\\\\dom\\\\__init__.py'>,\n 'xml.dom.minicompat': <module 'xml.dom.minicompat' from 'C:\\\\Users\\\\Lenovo\\\\AppData\\\\Local\\\\Programs\\\\Python\\\\Python311\\\\Lib\\\\xml\\\\dom\\\\minicompat.py'>,\n 'xml.dom.NodeFilter': <module 'xml.dom.NodeFilter' from 'C:\\\\Users\\\\Lenovo\\\\AppData\\\\Local\\\\Programs\\\\Python\\\\Python311\\\\Lib\\\\xml\\\\dom\\\\NodeFilter.py'>,\n 'xml.dom.xmlbuilder': <module 'xml.dom.xmlbuilder' from 'C:\\\\Users\\\\Lenovo\\\\AppData\\\\Local\\\\Programs\\\\Python\\\\Python311\\\\Lib\\\\xml\\\\dom\\\\xmlbuilder.py'>,\n 'xml.dom.minidom': <module 'xml.dom.minidom' from 'C:\\\\Users\\\\Lenovo\\\\AppData\\\\Local\\\\Programs\\\\Python\\\\Python311\\\\Lib\\\\xml\\\\dom\\\\minidom.py'>,\n 'prompt_toolkit.formatted_text.html': <module 'prompt_toolkit.formatted_text.html' from 'C:\\\\Users\\\\Lenovo\\\\AppData\\\\Roaming\\\\Python\\\\Python311\\\\site-packages\\\\prompt_toolkit\\\\formatted_text\\\\html.py'>,\n 'prompt_toolkit.formatted_text.pygments': <module 'prompt_toolkit.formatted_text.pygments' from 'C:\\\\Users\\\\Lenovo\\\\AppData\\\\Roaming\\\\Python\\\\Python311\\\\site-packages\\\\prompt_toolkit\\\\formatted_text\\\\pygments.py'>,\n 'prompt_toolkit.formatted_text.utils': <module 'prompt_toolkit.formatted_text.utils' from 'C:\\\\Users\\\\Lenovo\\\\AppData\\\\Roaming\\\\Python\\\\Python311\\\\site-packages\\\\prompt_toolkit\\\\formatted_text\\\\utils.py'>,\n 'prompt_toolkit.formatted_text': <module 'prompt_toolkit.formatted_text' from 'C:\\\\Users\\\\Lenovo\\\\AppData\\\\Roaming\\\\Python\\\\Python311\\\\site-packages\\\\prompt_toolkit\\\\formatted_text\\\\__init__.py'>,\n 'prompt_toolkit.completion.base': <module 'prompt_toolkit.completion.base' from 'C:\\\\Users\\\\Lenovo\\\\AppData\\\\Roaming\\\\Python\\\\Python311\\\\site-packages\\\\prompt_toolkit\\\\completion\\\\base.py'>,\n 'prompt_toolkit.completion.deduplicate': <module 'prompt_toolkit.completion.deduplicate' from 'C:\\\\Users\\\\Lenovo\\\\AppData\\\\Roaming\\\\Python\\\\Python311\\\\site-packages\\\\prompt_toolkit\\\\completion\\\\deduplicate.py'>,\n 'prompt_toolkit.completion.filesystem': <module 'prompt_toolkit.completion.filesystem' from 'C:\\\\Users\\\\Lenovo\\\\AppData\\\\Roaming\\\\Python\\\\Python311\\\\site-packages\\\\prompt_toolkit\\\\completion\\\\filesystem.py'>,\n 'prompt_toolkit.completion.word_completer': <module 'prompt_toolkit.completion.word_completer' from 'C:\\\\Users\\\\Lenovo\\\\AppData\\\\Roaming\\\\Python\\\\Python311\\\\site-packages\\\\prompt_toolkit\\\\completion\\\\word_completer.py'>,\n 'prompt_toolkit.completion.fuzzy_completer': <module 'prompt_toolkit.completion.fuzzy_completer' from 'C:\\\\Users\\\\Lenovo\\\\AppData\\\\Roaming\\\\Python\\\\Python311\\\\site-packages\\\\prompt_toolkit\\\\completion\\\\fuzzy_completer.py'>,\n 'prompt_toolkit.completion.nested': <module 'prompt_toolkit.completion.nested' from 'C:\\\\Users\\\\Lenovo\\\\AppData\\\\Roaming\\\\Python\\\\Python311\\\\site-packages\\\\prompt_toolkit\\\\completion\\\\nested.py'>,\n 'prompt_toolkit.completion': <module 'prompt_toolkit.completion' from 'C:\\\\Users\\\\Lenovo\\\\AppData\\\\Roaming\\\\Python\\\\Python311\\\\site-packages\\\\prompt_toolkit\\\\completion\\\\__init__.py'>,\n 'prompt_toolkit.history': <module 'prompt_toolkit.history' from 'C:\\\\Users\\\\Lenovo\\\\AppData\\\\Roaming\\\\Python\\\\Python311\\\\site-packages\\\\prompt_toolkit\\\\history.py'>,\n 'prompt_toolkit.search': <module 'prompt_toolkit.search' from 'C:\\\\Users\\\\Lenovo\\\\AppData\\\\Roaming\\\\Python\\\\Python311\\\\site-packages\\\\prompt_toolkit\\\\search.py'>,\n 'prompt_toolkit.validation': <module 'prompt_toolkit.validation' from 'C:\\\\Users\\\\Lenovo\\\\AppData\\\\Roaming\\\\Python\\\\Python311\\\\site-packages\\\\prompt_toolkit\\\\validation.py'>,\n 'prompt_toolkit.buffer': <module 'prompt_toolkit.buffer' from 'C:\\\\Users\\\\Lenovo\\\\AppData\\\\Roaming\\\\Python\\\\Python311\\\\site-packages\\\\prompt_toolkit\\\\buffer.py'>,\n 'prompt_toolkit.input.base': <module 'prompt_toolkit.input.base' from 'C:\\\\Users\\\\Lenovo\\\\AppData\\\\Roaming\\\\Python\\\\Python311\\\\site-packages\\\\prompt_toolkit\\\\input\\\\base.py'>,\n 'prompt_toolkit.input.defaults': <module 'prompt_toolkit.input.defaults' from 'C:\\\\Users\\\\Lenovo\\\\AppData\\\\Roaming\\\\Python\\\\Python311\\\\site-packages\\\\prompt_toolkit\\\\input\\\\defaults.py'>,\n 'prompt_toolkit.input': <module 'prompt_toolkit.input' from 'C:\\\\Users\\\\Lenovo\\\\AppData\\\\Roaming\\\\Python\\\\Python311\\\\site-packages\\\\prompt_toolkit\\\\input\\\\__init__.py'>,\n 'prompt_toolkit.input.typeahead': <module 'prompt_toolkit.input.typeahead' from 'C:\\\\Users\\\\Lenovo\\\\AppData\\\\Roaming\\\\Python\\\\Python311\\\\site-packages\\\\prompt_toolkit\\\\input\\\\typeahead.py'>,\n 'prompt_toolkit.key_binding.bindings': <module 'prompt_toolkit.key_binding.bindings' from 'C:\\\\Users\\\\Lenovo\\\\AppData\\\\Roaming\\\\Python\\\\Python311\\\\site-packages\\\\prompt_toolkit\\\\key_binding\\\\bindings\\\\__init__.py'>,\n 'prompt_toolkit.key_binding.bindings.scroll': <module 'prompt_toolkit.key_binding.bindings.scroll' from 'C:\\\\Users\\\\Lenovo\\\\AppData\\\\Roaming\\\\Python\\\\Python311\\\\site-packages\\\\prompt_toolkit\\\\key_binding\\\\bindings\\\\scroll.py'>,\n 'prompt_toolkit.key_binding.bindings.page_navigation': <module 'prompt_toolkit.key_binding.bindings.page_navigation' from 'C:\\\\Users\\\\Lenovo\\\\AppData\\\\Roaming\\\\Python\\\\Python311\\\\site-packages\\\\prompt_toolkit\\\\key_binding\\\\bindings\\\\page_navigation.py'>,\n 'prompt_toolkit.lexers.base': <module 'prompt_toolkit.lexers.base' from 'C:\\\\Users\\\\Lenovo\\\\AppData\\\\Roaming\\\\Python\\\\Python311\\\\site-packages\\\\prompt_toolkit\\\\lexers\\\\base.py'>,\n 'prompt_toolkit.lexers.pygments': <module 'prompt_toolkit.lexers.pygments' from 'C:\\\\Users\\\\Lenovo\\\\AppData\\\\Roaming\\\\Python\\\\Python311\\\\site-packages\\\\prompt_toolkit\\\\lexers\\\\pygments.py'>,\n 'prompt_toolkit.lexers': <module 'prompt_toolkit.lexers' from 'C:\\\\Users\\\\Lenovo\\\\AppData\\\\Roaming\\\\Python\\\\Python311\\\\site-packages\\\\prompt_toolkit\\\\lexers\\\\__init__.py'>,\n 'prompt_toolkit.layout.utils': <module 'prompt_toolkit.layout.utils' from 'C:\\\\Users\\\\Lenovo\\\\AppData\\\\Roaming\\\\Python\\\\Python311\\\\site-packages\\\\prompt_toolkit\\\\layout\\\\utils.py'>,\n 'prompt_toolkit.layout.processors': <module 'prompt_toolkit.layout.processors' from 'C:\\\\Users\\\\Lenovo\\\\AppData\\\\Roaming\\\\Python\\\\Python311\\\\site-packages\\\\prompt_toolkit\\\\layout\\\\processors.py'>,\n 'prompt_toolkit.layout.controls': <module 'prompt_toolkit.layout.controls' from 'C:\\\\Users\\\\Lenovo\\\\AppData\\\\Roaming\\\\Python\\\\Python311\\\\site-packages\\\\prompt_toolkit\\\\layout\\\\controls.py'>,\n 'prompt_toolkit.layout.dimension': <module 'prompt_toolkit.layout.dimension' from 'C:\\\\Users\\\\Lenovo\\\\AppData\\\\Roaming\\\\Python\\\\Python311\\\\site-packages\\\\prompt_toolkit\\\\layout\\\\dimension.py'>,\n 'prompt_toolkit.layout.margins': <module 'prompt_toolkit.layout.margins' from 'C:\\\\Users\\\\Lenovo\\\\AppData\\\\Roaming\\\\Python\\\\Python311\\\\site-packages\\\\prompt_toolkit\\\\layout\\\\margins.py'>,\n 'prompt_toolkit.layout.mouse_handlers': <module 'prompt_toolkit.layout.mouse_handlers' from 'C:\\\\Users\\\\Lenovo\\\\AppData\\\\Roaming\\\\Python\\\\Python311\\\\site-packages\\\\prompt_toolkit\\\\layout\\\\mouse_handlers.py'>,\n 'prompt_toolkit.layout.screen': <module 'prompt_toolkit.layout.screen' from 'C:\\\\Users\\\\Lenovo\\\\AppData\\\\Roaming\\\\Python\\\\Python311\\\\site-packages\\\\prompt_toolkit\\\\layout\\\\screen.py'>,\n 'prompt_toolkit.layout.containers': <module 'prompt_toolkit.layout.containers' from 'C:\\\\Users\\\\Lenovo\\\\AppData\\\\Roaming\\\\Python\\\\Python311\\\\site-packages\\\\prompt_toolkit\\\\layout\\\\containers.py'>,\n 'prompt_toolkit.layout.layout': <module 'prompt_toolkit.layout.layout' from 'C:\\\\Users\\\\Lenovo\\\\AppData\\\\Roaming\\\\Python\\\\Python311\\\\site-packages\\\\prompt_toolkit\\\\layout\\\\layout.py'>,\n 'prompt_toolkit.layout.menus': <module 'prompt_toolkit.layout.menus' from 'C:\\\\Users\\\\Lenovo\\\\AppData\\\\Roaming\\\\Python\\\\Python311\\\\site-packages\\\\prompt_toolkit\\\\layout\\\\menus.py'>,\n 'prompt_toolkit.layout.scrollable_pane': <module 'prompt_toolkit.layout.scrollable_pane' from 'C:\\\\Users\\\\Lenovo\\\\AppData\\\\Roaming\\\\Python\\\\Python311\\\\site-packages\\\\prompt_toolkit\\\\layout\\\\scrollable_pane.py'>,\n 'prompt_toolkit.layout': <module 'prompt_toolkit.layout' from 'C:\\\\Users\\\\Lenovo\\\\AppData\\\\Roaming\\\\Python\\\\Python311\\\\site-packages\\\\prompt_toolkit\\\\layout\\\\__init__.py'>,\n 'prompt_toolkit.key_binding.bindings.completion': <module 'prompt_toolkit.key_binding.bindings.completion' from 'C:\\\\Users\\\\Lenovo\\\\AppData\\\\Roaming\\\\Python\\\\Python311\\\\site-packages\\\\prompt_toolkit\\\\key_binding\\\\bindings\\\\completion.py'>,\n 'prompt_toolkit.key_binding.bindings.named_commands': <module 'prompt_toolkit.key_binding.bindings.named_commands' from 'C:\\\\Users\\\\Lenovo\\\\AppData\\\\Roaming\\\\Python\\\\Python311\\\\site-packages\\\\prompt_toolkit\\\\key_binding\\\\bindings\\\\named_commands.py'>,\n 'prompt_toolkit.key_binding.bindings.basic': <module 'prompt_toolkit.key_binding.bindings.basic' from 'C:\\\\Users\\\\Lenovo\\\\AppData\\\\Roaming\\\\Python\\\\Python311\\\\site-packages\\\\prompt_toolkit\\\\key_binding\\\\bindings\\\\basic.py'>,\n 'prompt_toolkit.key_binding.bindings.cpr': <module 'prompt_toolkit.key_binding.bindings.cpr' from 'C:\\\\Users\\\\Lenovo\\\\AppData\\\\Roaming\\\\Python\\\\Python311\\\\site-packages\\\\prompt_toolkit\\\\key_binding\\\\bindings\\\\cpr.py'>,\n 'prompt_toolkit.key_binding.bindings.emacs': <module 'prompt_toolkit.key_binding.bindings.emacs' from 'C:\\\\Users\\\\Lenovo\\\\AppData\\\\Roaming\\\\Python\\\\Python311\\\\site-packages\\\\prompt_toolkit\\\\key_binding\\\\bindings\\\\emacs.py'>,\n 'prompt_toolkit.key_binding.bindings.mouse': <module 'prompt_toolkit.key_binding.bindings.mouse' from 'C:\\\\Users\\\\Lenovo\\\\AppData\\\\Roaming\\\\Python\\\\Python311\\\\site-packages\\\\prompt_toolkit\\\\key_binding\\\\bindings\\\\mouse.py'>,\n 'prompt_toolkit.input.ansi_escape_sequences': <module 'prompt_toolkit.input.ansi_escape_sequences' from 'C:\\\\Users\\\\Lenovo\\\\AppData\\\\Roaming\\\\Python\\\\Python311\\\\site-packages\\\\prompt_toolkit\\\\input\\\\ansi_escape_sequences.py'>,\n 'prompt_toolkit.input.vt100_parser': <module 'prompt_toolkit.input.vt100_parser' from 'C:\\\\Users\\\\Lenovo\\\\AppData\\\\Roaming\\\\Python\\\\Python311\\\\site-packages\\\\prompt_toolkit\\\\input\\\\vt100_parser.py'>,\n 'prompt_toolkit.key_binding.digraphs': <module 'prompt_toolkit.key_binding.digraphs' from 'C:\\\\Users\\\\Lenovo\\\\AppData\\\\Roaming\\\\Python\\\\Python311\\\\site-packages\\\\prompt_toolkit\\\\key_binding\\\\digraphs.py'>,\n 'prompt_toolkit.key_binding.bindings.vi': <module 'prompt_toolkit.key_binding.bindings.vi' from 'C:\\\\Users\\\\Lenovo\\\\AppData\\\\Roaming\\\\Python\\\\Python311\\\\site-packages\\\\prompt_toolkit\\\\key_binding\\\\bindings\\\\vi.py'>,\n 'prompt_toolkit.key_binding.defaults': <module 'prompt_toolkit.key_binding.defaults' from 'C:\\\\Users\\\\Lenovo\\\\AppData\\\\Roaming\\\\Python\\\\Python311\\\\site-packages\\\\prompt_toolkit\\\\key_binding\\\\defaults.py'>,\n 'prompt_toolkit.key_binding.emacs_state': <module 'prompt_toolkit.key_binding.emacs_state' from 'C:\\\\Users\\\\Lenovo\\\\AppData\\\\Roaming\\\\Python\\\\Python311\\\\site-packages\\\\prompt_toolkit\\\\key_binding\\\\emacs_state.py'>,\n 'prompt_toolkit.layout.dummy': <module 'prompt_toolkit.layout.dummy' from 'C:\\\\Users\\\\Lenovo\\\\AppData\\\\Roaming\\\\Python\\\\Python311\\\\site-packages\\\\prompt_toolkit\\\\layout\\\\dummy.py'>,\n 'prompt_toolkit.renderer': <module 'prompt_toolkit.renderer' from 'C:\\\\Users\\\\Lenovo\\\\AppData\\\\Roaming\\\\Python\\\\Python311\\\\site-packages\\\\prompt_toolkit\\\\renderer.py'>,\n 'prompt_toolkit.application.application': <module 'prompt_toolkit.application.application' from 'C:\\\\Users\\\\Lenovo\\\\AppData\\\\Roaming\\\\Python\\\\Python311\\\\site-packages\\\\prompt_toolkit\\\\application\\\\application.py'>,\n 'prompt_toolkit.application.dummy': <module 'prompt_toolkit.application.dummy' from 'C:\\\\Users\\\\Lenovo\\\\AppData\\\\Roaming\\\\Python\\\\Python311\\\\site-packages\\\\prompt_toolkit\\\\application\\\\dummy.py'>,\n 'prompt_toolkit.application': <module 'prompt_toolkit.application' from 'C:\\\\Users\\\\Lenovo\\\\AppData\\\\Roaming\\\\Python\\\\Python311\\\\site-packages\\\\prompt_toolkit\\\\application\\\\__init__.py'>,\n 'prompt_toolkit.key_binding.bindings.focus': <module 'prompt_toolkit.key_binding.bindings.focus' from 'C:\\\\Users\\\\Lenovo\\\\AppData\\\\Roaming\\\\Python\\\\Python311\\\\site-packages\\\\prompt_toolkit\\\\key_binding\\\\bindings\\\\focus.py'>,\n 'prompt_toolkit.widgets.toolbars': <module 'prompt_toolkit.widgets.toolbars' from 'C:\\\\Users\\\\Lenovo\\\\AppData\\\\Roaming\\\\Python\\\\Python311\\\\site-packages\\\\prompt_toolkit\\\\widgets\\\\toolbars.py'>,\n 'prompt_toolkit.widgets.base': <module 'prompt_toolkit.widgets.base' from 'C:\\\\Users\\\\Lenovo\\\\AppData\\\\Roaming\\\\Python\\\\Python311\\\\site-packages\\\\prompt_toolkit\\\\widgets\\\\base.py'>,\n 'prompt_toolkit.widgets.dialogs': <module 'prompt_toolkit.widgets.dialogs' from 'C:\\\\Users\\\\Lenovo\\\\AppData\\\\Roaming\\\\Python\\\\Python311\\\\site-packages\\\\prompt_toolkit\\\\widgets\\\\dialogs.py'>,\n 'prompt_toolkit.widgets.menus': <module 'prompt_toolkit.widgets.menus' from 'C:\\\\Users\\\\Lenovo\\\\AppData\\\\Roaming\\\\Python\\\\Python311\\\\site-packages\\\\prompt_toolkit\\\\widgets\\\\menus.py'>,\n 'prompt_toolkit.widgets': <module 'prompt_toolkit.widgets' from 'C:\\\\Users\\\\Lenovo\\\\AppData\\\\Roaming\\\\Python\\\\Python311\\\\site-packages\\\\prompt_toolkit\\\\widgets\\\\__init__.py'>,\n 'prompt_toolkit.shortcuts.dialogs': <module 'prompt_toolkit.shortcuts.dialogs' from 'C:\\\\Users\\\\Lenovo\\\\AppData\\\\Roaming\\\\Python\\\\Python311\\\\site-packages\\\\prompt_toolkit\\\\shortcuts\\\\dialogs.py'>,\n 'prompt_toolkit.shortcuts.progress_bar.formatters': <module 'prompt_toolkit.shortcuts.progress_bar.formatters' from 'C:\\\\Users\\\\Lenovo\\\\AppData\\\\Roaming\\\\Python\\\\Python311\\\\site-packages\\\\prompt_toolkit\\\\shortcuts\\\\progress_bar\\\\formatters.py'>,\n 'prompt_toolkit.shortcuts.progress_bar.base': <module 'prompt_toolkit.shortcuts.progress_bar.base' from 'C:\\\\Users\\\\Lenovo\\\\AppData\\\\Roaming\\\\Python\\\\Python311\\\\site-packages\\\\prompt_toolkit\\\\shortcuts\\\\progress_bar\\\\base.py'>,\n 'prompt_toolkit.shortcuts.progress_bar': <module 'prompt_toolkit.shortcuts.progress_bar' from 'C:\\\\Users\\\\Lenovo\\\\AppData\\\\Roaming\\\\Python\\\\Python311\\\\site-packages\\\\prompt_toolkit\\\\shortcuts\\\\progress_bar\\\\__init__.py'>,\n 'prompt_toolkit.key_binding.bindings.auto_suggest': <module 'prompt_toolkit.key_binding.bindings.auto_suggest' from 'C:\\\\Users\\\\Lenovo\\\\AppData\\\\Roaming\\\\Python\\\\Python311\\\\site-packages\\\\prompt_toolkit\\\\key_binding\\\\bindings\\\\auto_suggest.py'>,\n 'prompt_toolkit.key_binding.bindings.open_in_editor': <module 'prompt_toolkit.key_binding.bindings.open_in_editor' from 'C:\\\\Users\\\\Lenovo\\\\AppData\\\\Roaming\\\\Python\\\\Python311\\\\site-packages\\\\prompt_toolkit\\\\key_binding\\\\bindings\\\\open_in_editor.py'>,\n 'prompt_toolkit.shortcuts.prompt': <module 'prompt_toolkit.shortcuts.prompt' from 'C:\\\\Users\\\\Lenovo\\\\AppData\\\\Roaming\\\\Python\\\\Python311\\\\site-packages\\\\prompt_toolkit\\\\shortcuts\\\\prompt.py'>,\n 'prompt_toolkit.shortcuts.utils': <module 'prompt_toolkit.shortcuts.utils' from 'C:\\\\Users\\\\Lenovo\\\\AppData\\\\Roaming\\\\Python\\\\Python311\\\\site-packages\\\\prompt_toolkit\\\\shortcuts\\\\utils.py'>,\n 'prompt_toolkit.shortcuts': <module 'prompt_toolkit.shortcuts' from 'C:\\\\Users\\\\Lenovo\\\\AppData\\\\Roaming\\\\Python\\\\Python311\\\\site-packages\\\\prompt_toolkit\\\\shortcuts\\\\__init__.py'>,\n 'prompt_toolkit': <module 'prompt_toolkit' from 'C:\\\\Users\\\\Lenovo\\\\AppData\\\\Roaming\\\\Python\\\\Python311\\\\site-packages\\\\prompt_toolkit\\\\__init__.py'>,\n 'prompt_toolkit.patch_stdout': <module 'prompt_toolkit.patch_stdout' from 'C:\\\\Users\\\\Lenovo\\\\AppData\\\\Roaming\\\\Python\\\\Python311\\\\site-packages\\\\prompt_toolkit\\\\patch_stdout.py'>,\n 'unicodedata': <module 'unicodedata' from 'C:\\\\Users\\\\Lenovo\\\\AppData\\\\Local\\\\Programs\\\\Python\\\\Python311\\\\DLLs\\\\unicodedata.pyd'>,\n 'IPython.core.latex_symbols': <module 'IPython.core.latex_symbols' from 'C:\\\\Users\\\\Lenovo\\\\AppData\\\\Roaming\\\\Python\\\\Python311\\\\site-packages\\\\IPython\\\\core\\\\latex_symbols.py'>,\n 'IPython.utils.generics': <module 'IPython.utils.generics' from 'C:\\\\Users\\\\Lenovo\\\\AppData\\\\Roaming\\\\Python\\\\Python311\\\\site-packages\\\\IPython\\\\utils\\\\generics.py'>,\n 'parso.utils': <module 'parso.utils' from 'C:\\\\Users\\\\Lenovo\\\\AppData\\\\Roaming\\\\Python\\\\Python311\\\\site-packages\\\\parso\\\\utils.py'>,\n 'parso.tree': <module 'parso.tree' from 'C:\\\\Users\\\\Lenovo\\\\AppData\\\\Roaming\\\\Python\\\\Python311\\\\site-packages\\\\parso\\\\tree.py'>,\n 'parso.python': <module 'parso.python' from 'C:\\\\Users\\\\Lenovo\\\\AppData\\\\Roaming\\\\Python\\\\Python311\\\\site-packages\\\\parso\\\\python\\\\__init__.py'>,\n 'parso.python.token': <module 'parso.python.token' from 'C:\\\\Users\\\\Lenovo\\\\AppData\\\\Roaming\\\\Python\\\\Python311\\\\site-packages\\\\parso\\\\python\\\\token.py'>,\n 'parso.python.tokenize': <module 'parso.python.tokenize' from 'C:\\\\Users\\\\Lenovo\\\\AppData\\\\Roaming\\\\Python\\\\Python311\\\\site-packages\\\\parso\\\\python\\\\tokenize.py'>,\n 'parso.pgen2.grammar_parser': <module 'parso.pgen2.grammar_parser' from 'C:\\\\Users\\\\Lenovo\\\\AppData\\\\Roaming\\\\Python\\\\Python311\\\\site-packages\\\\parso\\\\pgen2\\\\grammar_parser.py'>,\n 'parso.pgen2.generator': <module 'parso.pgen2.generator' from 'C:\\\\Users\\\\Lenovo\\\\AppData\\\\Roaming\\\\Python\\\\Python311\\\\site-packages\\\\parso\\\\pgen2\\\\generator.py'>,\n 'parso.pgen2': <module 'parso.pgen2' from 'C:\\\\Users\\\\Lenovo\\\\AppData\\\\Roaming\\\\Python\\\\Python311\\\\site-packages\\\\parso\\\\pgen2\\\\__init__.py'>,\n 'parso.parser': <module 'parso.parser' from 'C:\\\\Users\\\\Lenovo\\\\AppData\\\\Roaming\\\\Python\\\\Python311\\\\site-packages\\\\parso\\\\parser.py'>,\n 'parso._compatibility': <module 'parso._compatibility' from 'C:\\\\Users\\\\Lenovo\\\\AppData\\\\Roaming\\\\Python\\\\Python311\\\\site-packages\\\\parso\\\\_compatibility.py'>,\n 'difflib': <module 'difflib' from 'C:\\\\Users\\\\Lenovo\\\\AppData\\\\Local\\\\Programs\\\\Python\\\\Python311\\\\Lib\\\\difflib.py'>,\n 'parso.python.prefix': <module 'parso.python.prefix' from 'C:\\\\Users\\\\Lenovo\\\\AppData\\\\Roaming\\\\Python\\\\Python311\\\\site-packages\\\\parso\\\\python\\\\prefix.py'>,\n 'parso.python.tree': <module 'parso.python.tree' from 'C:\\\\Users\\\\Lenovo\\\\AppData\\\\Roaming\\\\Python\\\\Python311\\\\site-packages\\\\parso\\\\python\\\\tree.py'>,\n 'parso.python.parser': <module 'parso.python.parser' from 'C:\\\\Users\\\\Lenovo\\\\AppData\\\\Roaming\\\\Python\\\\Python311\\\\site-packages\\\\parso\\\\python\\\\parser.py'>,\n 'parso.python.diff': <module 'parso.python.diff' from 'C:\\\\Users\\\\Lenovo\\\\AppData\\\\Roaming\\\\Python\\\\Python311\\\\site-packages\\\\parso\\\\python\\\\diff.py'>,\n 'gc': <module 'gc' (built-in)>,\n 'parso.cache': <module 'parso.cache' from 'C:\\\\Users\\\\Lenovo\\\\AppData\\\\Roaming\\\\Python\\\\Python311\\\\site-packages\\\\parso\\\\cache.py'>,\n 'parso.normalizer': <module 'parso.normalizer' from 'C:\\\\Users\\\\Lenovo\\\\AppData\\\\Roaming\\\\Python\\\\Python311\\\\site-packages\\\\parso\\\\normalizer.py'>,\n 'parso.python.errors': <module 'parso.python.errors' from 'C:\\\\Users\\\\Lenovo\\\\AppData\\\\Roaming\\\\Python\\\\Python311\\\\site-packages\\\\parso\\\\python\\\\errors.py'>,\n 'parso.python.pep8': <module 'parso.python.pep8' from 'C:\\\\Users\\\\Lenovo\\\\AppData\\\\Roaming\\\\Python\\\\Python311\\\\site-packages\\\\parso\\\\python\\\\pep8.py'>,\n 'parso.file_io': <module 'parso.file_io' from 'C:\\\\Users\\\\Lenovo\\\\AppData\\\\Roaming\\\\Python\\\\Python311\\\\site-packages\\\\parso\\\\file_io.py'>,\n 'parso.grammar': <module 'parso.grammar' from 'C:\\\\Users\\\\Lenovo\\\\AppData\\\\Roaming\\\\Python\\\\Python311\\\\site-packages\\\\parso\\\\grammar.py'>,\n 'parso': <module 'parso' from 'C:\\\\Users\\\\Lenovo\\\\AppData\\\\Roaming\\\\Python\\\\Python311\\\\site-packages\\\\parso\\\\__init__.py'>,\n 'jedi.parser_utils': <module 'jedi.parser_utils' from 'C:\\\\Users\\\\Lenovo\\\\AppData\\\\Roaming\\\\Python\\\\Python311\\\\site-packages\\\\jedi\\\\parser_utils.py'>,\n 'jedi.debug': <module 'jedi.debug' from 'C:\\\\Users\\\\Lenovo\\\\AppData\\\\Roaming\\\\Python\\\\Python311\\\\site-packages\\\\jedi\\\\debug.py'>,\n 'jedi.settings': <module 'jedi.settings' from 'C:\\\\Users\\\\Lenovo\\\\AppData\\\\Roaming\\\\Python\\\\Python311\\\\site-packages\\\\jedi\\\\settings.py'>,\n 'jedi.cache': <module 'jedi.cache' from 'C:\\\\Users\\\\Lenovo\\\\AppData\\\\Roaming\\\\Python\\\\Python311\\\\site-packages\\\\jedi\\\\cache.py'>,\n 'jedi.file_io': <module 'jedi.file_io' from 'C:\\\\Users\\\\Lenovo\\\\AppData\\\\Roaming\\\\Python\\\\Python311\\\\site-packages\\\\jedi\\\\file_io.py'>,\n 'jedi.inference.cache': <module 'jedi.inference.cache' from 'C:\\\\Users\\\\Lenovo\\\\AppData\\\\Roaming\\\\Python\\\\Python311\\\\site-packages\\\\jedi\\\\inference\\\\cache.py'>,\n 'jedi.inference.helpers': <module 'jedi.inference.helpers' from 'C:\\\\Users\\\\Lenovo\\\\AppData\\\\Roaming\\\\Python\\\\Python311\\\\site-packages\\\\jedi\\\\inference\\\\helpers.py'>,\n 'jedi.inference.utils': <module 'jedi.inference.utils' from 'C:\\\\Users\\\\Lenovo\\\\AppData\\\\Roaming\\\\Python\\\\Python311\\\\site-packages\\\\jedi\\\\inference\\\\utils.py'>,\n 'jedi.inference.base_value': <module 'jedi.inference.base_value' from 'C:\\\\Users\\\\Lenovo\\\\AppData\\\\Roaming\\\\Python\\\\Python311\\\\site-packages\\\\jedi\\\\inference\\\\base_value.py'>,\n 'jedi.inference.sys_path': <module 'jedi.inference.sys_path' from 'C:\\\\Users\\\\Lenovo\\\\AppData\\\\Roaming\\\\Python\\\\Python311\\\\site-packages\\\\jedi\\\\inference\\\\sys_path.py'>,\n 'jedi.inference.recursion': <module 'jedi.inference.recursion' from 'C:\\\\Users\\\\Lenovo\\\\AppData\\\\Roaming\\\\Python\\\\Python311\\\\site-packages\\\\jedi\\\\inference\\\\recursion.py'>,\n 'jedi.inference.flow_analysis': <module 'jedi.inference.flow_analysis' from 'C:\\\\Users\\\\Lenovo\\\\AppData\\\\Roaming\\\\Python\\\\Python311\\\\site-packages\\\\jedi\\\\inference\\\\flow_analysis.py'>,\n 'jedi.common': <module 'jedi.common' from 'C:\\\\Users\\\\Lenovo\\\\AppData\\\\Roaming\\\\Python\\\\Python311\\\\site-packages\\\\jedi\\\\common.py'>,\n 'jedi.inference.lazy_value': <module 'jedi.inference.lazy_value' from 'C:\\\\Users\\\\Lenovo\\\\AppData\\\\Roaming\\\\Python\\\\Python311\\\\site-packages\\\\jedi\\\\inference\\\\lazy_value.py'>,\n 'jedi.inference.docstrings': <module 'jedi.inference.docstrings' from 'C:\\\\Users\\\\Lenovo\\\\AppData\\\\Roaming\\\\Python\\\\Python311\\\\site-packages\\\\jedi\\\\inference\\\\docstrings.py'>,\n 'jedi.plugins': <module 'jedi.plugins' from 'C:\\\\Users\\\\Lenovo\\\\AppData\\\\Roaming\\\\Python\\\\Python311\\\\site-packages\\\\jedi\\\\plugins\\\\__init__.py'>,\n 'jedi.inference.names': <module 'jedi.inference.names' from 'C:\\\\Users\\\\Lenovo\\\\AppData\\\\Roaming\\\\Python\\\\Python311\\\\site-packages\\\\jedi\\\\inference\\\\names.py'>,\n 'jedi.inference.filters': <module 'jedi.inference.filters' from 'C:\\\\Users\\\\Lenovo\\\\AppData\\\\Roaming\\\\Python\\\\Python311\\\\site-packages\\\\jedi\\\\inference\\\\filters.py'>,\n 'jedi.inference.compiled.getattr_static': <module 'jedi.inference.compiled.getattr_static' from 'C:\\\\Users\\\\Lenovo\\\\AppData\\\\Roaming\\\\Python\\\\Python311\\\\site-packages\\\\jedi\\\\inference\\\\compiled\\\\getattr_static.py'>,\n 'jedi.inference.compiled.access': <module 'jedi.inference.compiled.access' from 'C:\\\\Users\\\\Lenovo\\\\AppData\\\\Roaming\\\\Python\\\\Python311\\\\site-packages\\\\jedi\\\\inference\\\\compiled\\\\access.py'>,\n 'jedi.inference.signature': <module 'jedi.inference.signature' from 'C:\\\\Users\\\\Lenovo\\\\AppData\\\\Roaming\\\\Python\\\\Python311\\\\site-packages\\\\jedi\\\\inference\\\\signature.py'>,\n 'jedi.inference.context': <module 'jedi.inference.context' from 'C:\\\\Users\\\\Lenovo\\\\AppData\\\\Roaming\\\\Python\\\\Python311\\\\site-packages\\\\jedi\\\\inference\\\\context.py'>,\n 'jedi.inference.compiled.value': <module 'jedi.inference.compiled.value' from 'C:\\\\Users\\\\Lenovo\\\\AppData\\\\Roaming\\\\Python\\\\Python311\\\\site-packages\\\\jedi\\\\inference\\\\compiled\\\\value.py'>,\n 'jedi.inference.compiled': <module 'jedi.inference.compiled' from 'C:\\\\Users\\\\Lenovo\\\\AppData\\\\Roaming\\\\Python\\\\Python311\\\\site-packages\\\\jedi\\\\inference\\\\compiled\\\\__init__.py'>,\n 'jedi.inference.analysis': <module 'jedi.inference.analysis' from 'C:\\\\Users\\\\Lenovo\\\\AppData\\\\Roaming\\\\Python\\\\Python311\\\\site-packages\\\\jedi\\\\inference\\\\analysis.py'>,\n 'jedi.inference.gradual': <module 'jedi.inference.gradual' from 'C:\\\\Users\\\\Lenovo\\\\AppData\\\\Roaming\\\\Python\\\\Python311\\\\site-packages\\\\jedi\\\\inference\\\\gradual\\\\__init__.py'>,\n 'jedi.inference.value.module': <module 'jedi.inference.value.module' from 'C:\\\\Users\\\\Lenovo\\\\AppData\\\\Roaming\\\\Python\\\\Python311\\\\site-packages\\\\jedi\\\\inference\\\\value\\\\module.py'>,\n 'jedi.inference.value.dynamic_arrays': <module 'jedi.inference.value.dynamic_arrays' from 'C:\\\\Users\\\\Lenovo\\\\AppData\\\\Roaming\\\\Python\\\\Python311\\\\site-packages\\\\jedi\\\\inference\\\\value\\\\dynamic_arrays.py'>,\n 'jedi.inference.value.iterable': <module 'jedi.inference.value.iterable' from 'C:\\\\Users\\\\Lenovo\\\\AppData\\\\Roaming\\\\Python\\\\Python311\\\\site-packages\\\\jedi\\\\inference\\\\value\\\\iterable.py'>,\n 'jedi.inference.arguments': <module 'jedi.inference.arguments' from 'C:\\\\Users\\\\Lenovo\\\\AppData\\\\Roaming\\\\Python\\\\Python311\\\\site-packages\\\\jedi\\\\inference\\\\arguments.py'>,\n 'jedi.inference.parser_cache': <module 'jedi.inference.parser_cache' from 'C:\\\\Users\\\\Lenovo\\\\AppData\\\\Roaming\\\\Python\\\\Python311\\\\site-packages\\\\jedi\\\\inference\\\\parser_cache.py'>,\n 'jedi.inference.gradual.generics': <module 'jedi.inference.gradual.generics' from 'C:\\\\Users\\\\Lenovo\\\\AppData\\\\Roaming\\\\Python\\\\Python311\\\\site-packages\\\\jedi\\\\inference\\\\gradual\\\\generics.py'>,\n 'jedi.inference.value.function': <module 'jedi.inference.value.function' from 'C:\\\\Users\\\\Lenovo\\\\AppData\\\\Roaming\\\\Python\\\\Python311\\\\site-packages\\\\jedi\\\\inference\\\\value\\\\function.py'>,\n 'jedi.inference.value.klass': <module 'jedi.inference.value.klass' from 'C:\\\\Users\\\\Lenovo\\\\AppData\\\\Roaming\\\\Python\\\\Python311\\\\site-packages\\\\jedi\\\\inference\\\\value\\\\klass.py'>,\n 'jedi.inference.value.instance': <module 'jedi.inference.value.instance' from 'C:\\\\Users\\\\Lenovo\\\\AppData\\\\Roaming\\\\Python\\\\Python311\\\\site-packages\\\\jedi\\\\inference\\\\value\\\\instance.py'>,\n 'jedi.inference.value': <module 'jedi.inference.value' from 'C:\\\\Users\\\\Lenovo\\\\AppData\\\\Roaming\\\\Python\\\\Python311\\\\site-packages\\\\jedi\\\\inference\\\\value\\\\__init__.py'>,\n 'jedi.inference.gradual.base': <module 'jedi.inference.gradual.base' from 'C:\\\\Users\\\\Lenovo\\\\AppData\\\\Roaming\\\\Python\\\\Python311\\\\site-packages\\\\jedi\\\\inference\\\\gradual\\\\base.py'>,\n 'jedi.inference.gradual.type_var': <module 'jedi.inference.gradual.type_var' from 'C:\\\\Users\\\\Lenovo\\\\AppData\\\\Roaming\\\\Python\\\\Python311\\\\site-packages\\\\jedi\\\\inference\\\\gradual\\\\type_var.py'>,\n 'jedi.inference.gradual.typing': <module 'jedi.inference.gradual.typing' from 'C:\\\\Users\\\\Lenovo\\\\AppData\\\\Roaming\\\\Python\\\\Python311\\\\site-packages\\\\jedi\\\\inference\\\\gradual\\\\typing.py'>,\n 'jedi.inference.gradual.stub_value': <module 'jedi.inference.gradual.stub_value' from 'C:\\\\Users\\\\Lenovo\\\\AppData\\\\Roaming\\\\Python\\\\Python311\\\\site-packages\\\\jedi\\\\inference\\\\gradual\\\\stub_value.py'>,\n 'jedi.inference.gradual.typeshed': <module 'jedi.inference.gradual.typeshed' from 'C:\\\\Users\\\\Lenovo\\\\AppData\\\\Roaming\\\\Python\\\\Python311\\\\site-packages\\\\jedi\\\\inference\\\\gradual\\\\typeshed.py'>,\n 'jedi._compatibility': <module 'jedi._compatibility' from 'C:\\\\Users\\\\Lenovo\\\\AppData\\\\Roaming\\\\Python\\\\Python311\\\\site-packages\\\\jedi\\\\_compatibility.py'>,\n 'jedi.inference.compiled.subprocess.functions': <module 'jedi.inference.compiled.subprocess.functions' from 'C:\\\\Users\\\\Lenovo\\\\AppData\\\\Roaming\\\\Python\\\\Python311\\\\site-packages\\\\jedi\\\\inference\\\\compiled\\\\subprocess\\\\functions.py'>,\n 'jedi.api.exceptions': <module 'jedi.api.exceptions' from 'C:\\\\Users\\\\Lenovo\\\\AppData\\\\Roaming\\\\Python\\\\Python311\\\\site-packages\\\\jedi\\\\api\\\\exceptions.py'>,\n 'jedi.inference.compiled.subprocess': <module 'jedi.inference.compiled.subprocess' from 'C:\\\\Users\\\\Lenovo\\\\AppData\\\\Roaming\\\\Python\\\\Python311\\\\site-packages\\\\jedi\\\\inference\\\\compiled\\\\subprocess\\\\__init__.py'>,\n 'jedi.inference.imports': <module 'jedi.inference.imports' from 'C:\\\\Users\\\\Lenovo\\\\AppData\\\\Roaming\\\\Python\\\\Python311\\\\site-packages\\\\jedi\\\\inference\\\\imports.py'>,\n 'jedi.inference.param': <module 'jedi.inference.param' from 'C:\\\\Users\\\\Lenovo\\\\AppData\\\\Roaming\\\\Python\\\\Python311\\\\site-packages\\\\jedi\\\\inference\\\\param.py'>,\n 'jedi.inference.gradual.annotation': <module 'jedi.inference.gradual.annotation' from 'C:\\\\Users\\\\Lenovo\\\\AppData\\\\Roaming\\\\Python\\\\Python311\\\\site-packages\\\\jedi\\\\inference\\\\gradual\\\\annotation.py'>,\n 'jedi.inference.value.decorator': <module 'jedi.inference.value.decorator' from 'C:\\\\Users\\\\Lenovo\\\\AppData\\\\Roaming\\\\Python\\\\Python311\\\\site-packages\\\\jedi\\\\inference\\\\value\\\\decorator.py'>,\n 'jedi.inference.syntax_tree': <module 'jedi.inference.syntax_tree' from 'C:\\\\Users\\\\Lenovo\\\\AppData\\\\Roaming\\\\Python\\\\Python311\\\\site-packages\\\\jedi\\\\inference\\\\syntax_tree.py'>,\n 'jedi.inference': <module 'jedi.inference' from 'C:\\\\Users\\\\Lenovo\\\\AppData\\\\Roaming\\\\Python\\\\Python311\\\\site-packages\\\\jedi\\\\inference\\\\__init__.py'>,\n 'jedi.inference.gradual.conversion': <module 'jedi.inference.gradual.conversion' from 'C:\\\\Users\\\\Lenovo\\\\AppData\\\\Roaming\\\\Python\\\\Python311\\\\site-packages\\\\jedi\\\\inference\\\\gradual\\\\conversion.py'>,\n 'jedi.inference.compiled.mixed': <module 'jedi.inference.compiled.mixed' from 'C:\\\\Users\\\\Lenovo\\\\AppData\\\\Roaming\\\\Python\\\\Python311\\\\site-packages\\\\jedi\\\\inference\\\\compiled\\\\mixed.py'>,\n 'pydoc_data': <module 'pydoc_data' from 'C:\\\\Users\\\\Lenovo\\\\AppData\\\\Local\\\\Programs\\\\Python\\\\Python311\\\\Lib\\\\pydoc_data\\\\__init__.py'>,\n 'pydoc_data.topics': <module 'pydoc_data.topics' from 'C:\\\\Users\\\\Lenovo\\\\AppData\\\\Local\\\\Programs\\\\Python\\\\Python311\\\\Lib\\\\pydoc_data\\\\topics.py'>,\n 'jedi.api.keywords': <module 'jedi.api.keywords' from 'C:\\\\Users\\\\Lenovo\\\\AppData\\\\Roaming\\\\Python\\\\Python311\\\\site-packages\\\\jedi\\\\api\\\\keywords.py'>,\n 'jedi.api.completion_cache': <module 'jedi.api.completion_cache' from 'C:\\\\Users\\\\Lenovo\\\\AppData\\\\Roaming\\\\Python\\\\Python311\\\\site-packages\\\\jedi\\\\api\\\\completion_cache.py'>,\n 'jedi.api.helpers': <module 'jedi.api.helpers' from 'C:\\\\Users\\\\Lenovo\\\\AppData\\\\Roaming\\\\Python\\\\Python311\\\\site-packages\\\\jedi\\\\api\\\\helpers.py'>,\n 'jedi.api.classes': <module 'jedi.api.classes' from 'C:\\\\Users\\\\Lenovo\\\\AppData\\\\Roaming\\\\Python\\\\Python311\\\\site-packages\\\\jedi\\\\api\\\\classes.py'>,\n 'jedi.api.interpreter': <module 'jedi.api.interpreter' from 'C:\\\\Users\\\\Lenovo\\\\AppData\\\\Roaming\\\\Python\\\\Python311\\\\site-packages\\\\jedi\\\\api\\\\interpreter.py'>,\n 'jedi.api.strings': <module 'jedi.api.strings' from 'C:\\\\Users\\\\Lenovo\\\\AppData\\\\Roaming\\\\Python\\\\Python311\\\\site-packages\\\\jedi\\\\api\\\\strings.py'>,\n 'jedi.api.file_name': <module 'jedi.api.file_name' from 'C:\\\\Users\\\\Lenovo\\\\AppData\\\\Roaming\\\\Python\\\\Python311\\\\site-packages\\\\jedi\\\\api\\\\file_name.py'>,\n 'jedi.inference.docstring_utils': <module 'jedi.inference.docstring_utils' from 'C:\\\\Users\\\\Lenovo\\\\AppData\\\\Roaming\\\\Python\\\\Python311\\\\site-packages\\\\jedi\\\\inference\\\\docstring_utils.py'>,\n 'jedi.api.completion': <module 'jedi.api.completion' from 'C:\\\\Users\\\\Lenovo\\\\AppData\\\\Roaming\\\\Python\\\\Python311\\\\site-packages\\\\jedi\\\\api\\\\completion.py'>,\n 'filecmp': <module 'filecmp' from 'C:\\\\Users\\\\Lenovo\\\\AppData\\\\Local\\\\Programs\\\\Python\\\\Python311\\\\Lib\\\\filecmp.py'>,\n 'jedi.api.environment': <module 'jedi.api.environment' from 'C:\\\\Users\\\\Lenovo\\\\AppData\\\\Roaming\\\\Python\\\\Python311\\\\site-packages\\\\jedi\\\\api\\\\environment.py'>,\n 'jedi.inference.references': <module 'jedi.inference.references' from 'C:\\\\Users\\\\Lenovo\\\\AppData\\\\Roaming\\\\Python\\\\Python311\\\\site-packages\\\\jedi\\\\inference\\\\references.py'>,\n 'jedi.api.project': <module 'jedi.api.project' from 'C:\\\\Users\\\\Lenovo\\\\AppData\\\\Roaming\\\\Python\\\\Python311\\\\site-packages\\\\jedi\\\\api\\\\project.py'>,\n 'jedi.api.errors': <module 'jedi.api.errors' from 'C:\\\\Users\\\\Lenovo\\\\AppData\\\\Roaming\\\\Python\\\\Python311\\\\site-packages\\\\jedi\\\\api\\\\errors.py'>,\n 'jedi.api.refactoring': <module 'jedi.api.refactoring' from 'C:\\\\Users\\\\Lenovo\\\\AppData\\\\Roaming\\\\Python\\\\Python311\\\\site-packages\\\\jedi\\\\api\\\\refactoring\\\\__init__.py'>,\n 'jedi.api.refactoring.extract': <module 'jedi.api.refactoring.extract' from 'C:\\\\Users\\\\Lenovo\\\\AppData\\\\Roaming\\\\Python\\\\Python311\\\\site-packages\\\\jedi\\\\api\\\\refactoring\\\\extract.py'>,\n 'jedi.inference.gradual.utils': <module 'jedi.inference.gradual.utils' from 'C:\\\\Users\\\\Lenovo\\\\AppData\\\\Roaming\\\\Python\\\\Python311\\\\site-packages\\\\jedi\\\\inference\\\\gradual\\\\utils.py'>,\n 'jedi.api': <module 'jedi.api' from 'C:\\\\Users\\\\Lenovo\\\\AppData\\\\Roaming\\\\Python\\\\Python311\\\\site-packages\\\\jedi\\\\api\\\\__init__.py'>,\n 'jedi.plugins.stdlib': <module 'jedi.plugins.stdlib' from 'C:\\\\Users\\\\Lenovo\\\\AppData\\\\Roaming\\\\Python\\\\Python311\\\\site-packages\\\\jedi\\\\plugins\\\\stdlib.py'>,\n 'jedi.plugins.flask': <module 'jedi.plugins.flask' from 'C:\\\\Users\\\\Lenovo\\\\AppData\\\\Roaming\\\\Python\\\\Python311\\\\site-packages\\\\jedi\\\\plugins\\\\flask.py'>,\n 'jedi.plugins.pytest': <module 'jedi.plugins.pytest' from 'C:\\\\Users\\\\Lenovo\\\\AppData\\\\Roaming\\\\Python\\\\Python311\\\\site-packages\\\\jedi\\\\plugins\\\\pytest.py'>,\n 'jedi.plugins.django': <module 'jedi.plugins.django' from 'C:\\\\Users\\\\Lenovo\\\\AppData\\\\Roaming\\\\Python\\\\Python311\\\\site-packages\\\\jedi\\\\plugins\\\\django.py'>,\n 'jedi.plugins.registry': <module 'jedi.plugins.registry' from 'C:\\\\Users\\\\Lenovo\\\\AppData\\\\Roaming\\\\Python\\\\Python311\\\\site-packages\\\\jedi\\\\plugins\\\\registry.py'>,\n 'jedi': <module 'jedi' from 'C:\\\\Users\\\\Lenovo\\\\AppData\\\\Roaming\\\\Python\\\\Python311\\\\site-packages\\\\jedi\\\\__init__.py'>,\n 'IPython.core.completer': <module 'IPython.core.completer' from 'C:\\\\Users\\\\Lenovo\\\\AppData\\\\Roaming\\\\Python\\\\Python311\\\\site-packages\\\\IPython\\\\core\\\\completer.py'>,\n 'IPython.terminal.ptutils': <module 'IPython.terminal.ptutils' from 'C:\\\\Users\\\\Lenovo\\\\AppData\\\\Roaming\\\\Python\\\\Python311\\\\site-packages\\\\IPython\\\\terminal\\\\ptutils.py'>,\n 'IPython.lib.clipboard': <module 'IPython.lib.clipboard' from 'C:\\\\Users\\\\Lenovo\\\\AppData\\\\Roaming\\\\Python\\\\Python311\\\\site-packages\\\\IPython\\\\lib\\\\clipboard.py'>,\n 'IPython.terminal.shortcuts': <module 'IPython.terminal.shortcuts' from 'C:\\\\Users\\\\Lenovo\\\\AppData\\\\Roaming\\\\Python\\\\Python311\\\\site-packages\\\\IPython\\\\terminal\\\\shortcuts.py'>,\n 'concurrent.futures.thread': <module 'concurrent.futures.thread' from 'C:\\\\Users\\\\Lenovo\\\\AppData\\\\Local\\\\Programs\\\\Python\\\\Python311\\\\Lib\\\\concurrent\\\\futures\\\\thread.py'>,\n 'IPython.terminal.debugger': <module 'IPython.terminal.debugger' from 'C:\\\\Users\\\\Lenovo\\\\AppData\\\\Roaming\\\\Python\\\\Python311\\\\site-packages\\\\IPython\\\\terminal\\\\debugger.py'>,\n 'IPython.terminal.magics': <module 'IPython.terminal.magics' from 'C:\\\\Users\\\\Lenovo\\\\AppData\\\\Roaming\\\\Python\\\\Python311\\\\site-packages\\\\IPython\\\\terminal\\\\magics.py'>,\n 'IPython.terminal.pt_inputhooks': <module 'IPython.terminal.pt_inputhooks' from 'C:\\\\Users\\\\Lenovo\\\\AppData\\\\Roaming\\\\Python\\\\Python311\\\\site-packages\\\\IPython\\\\terminal\\\\pt_inputhooks\\\\__init__.py'>,\n 'IPython.terminal.prompts': <module 'IPython.terminal.prompts' from 'C:\\\\Users\\\\Lenovo\\\\AppData\\\\Roaming\\\\Python\\\\Python311\\\\site-packages\\\\IPython\\\\terminal\\\\prompts.py'>,\n 'IPython.terminal.interactiveshell': <module 'IPython.terminal.interactiveshell' from 'C:\\\\Users\\\\Lenovo\\\\AppData\\\\Roaming\\\\Python\\\\Python311\\\\site-packages\\\\IPython\\\\terminal\\\\interactiveshell.py'>,\n 'IPython.core.magics.auto': <module 'IPython.core.magics.auto' from 'C:\\\\Users\\\\Lenovo\\\\AppData\\\\Roaming\\\\Python\\\\Python311\\\\site-packages\\\\IPython\\\\core\\\\magics\\\\auto.py'>,\n 'IPython.core.magics.basic': <module 'IPython.core.magics.basic' from 'C:\\\\Users\\\\Lenovo\\\\AppData\\\\Roaming\\\\Python\\\\Python311\\\\site-packages\\\\IPython\\\\core\\\\magics\\\\basic.py'>,\n 'email': <module 'email' from 'C:\\\\Users\\\\Lenovo\\\\AppData\\\\Local\\\\Programs\\\\Python\\\\Python311\\\\Lib\\\\email\\\\__init__.py'>,\n 'http': <module 'http' from 'C:\\\\Users\\\\Lenovo\\\\AppData\\\\Local\\\\Programs\\\\Python\\\\Python311\\\\Lib\\\\http\\\\__init__.py'>,\n 'email.errors': <module 'email.errors' from 'C:\\\\Users\\\\Lenovo\\\\AppData\\\\Local\\\\Programs\\\\Python\\\\Python311\\\\Lib\\\\email\\\\errors.py'>,\n 'email.quoprimime': <module 'email.quoprimime' from 'C:\\\\Users\\\\Lenovo\\\\AppData\\\\Local\\\\Programs\\\\Python\\\\Python311\\\\Lib\\\\email\\\\quoprimime.py'>,\n 'email.base64mime': <module 'email.base64mime' from 'C:\\\\Users\\\\Lenovo\\\\AppData\\\\Local\\\\Programs\\\\Python\\\\Python311\\\\Lib\\\\email\\\\base64mime.py'>,\n 'quopri': <module 'quopri' from 'C:\\\\Users\\\\Lenovo\\\\AppData\\\\Local\\\\Programs\\\\Python\\\\Python311\\\\Lib\\\\quopri.py'>,\n 'email.encoders': <module 'email.encoders' from 'C:\\\\Users\\\\Lenovo\\\\AppData\\\\Local\\\\Programs\\\\Python\\\\Python311\\\\Lib\\\\email\\\\encoders.py'>,\n 'email.charset': <module 'email.charset' from 'C:\\\\Users\\\\Lenovo\\\\AppData\\\\Local\\\\Programs\\\\Python\\\\Python311\\\\Lib\\\\email\\\\charset.py'>,\n 'email.header': <module 'email.header' from 'C:\\\\Users\\\\Lenovo\\\\AppData\\\\Local\\\\Programs\\\\Python\\\\Python311\\\\Lib\\\\email\\\\header.py'>,\n 'email._parseaddr': <module 'email._parseaddr' from 'C:\\\\Users\\\\Lenovo\\\\AppData\\\\Local\\\\Programs\\\\Python\\\\Python311\\\\Lib\\\\email\\\\_parseaddr.py'>,\n 'email.utils': <module 'email.utils' from 'C:\\\\Users\\\\Lenovo\\\\AppData\\\\Local\\\\Programs\\\\Python\\\\Python311\\\\Lib\\\\email\\\\utils.py'>,\n 'email._policybase': <module 'email._policybase' from 'C:\\\\Users\\\\Lenovo\\\\AppData\\\\Local\\\\Programs\\\\Python\\\\Python311\\\\Lib\\\\email\\\\_policybase.py'>,\n 'email.feedparser': <module 'email.feedparser' from 'C:\\\\Users\\\\Lenovo\\\\AppData\\\\Local\\\\Programs\\\\Python\\\\Python311\\\\Lib\\\\email\\\\feedparser.py'>,\n 'email.parser': <module 'email.parser' from 'C:\\\\Users\\\\Lenovo\\\\AppData\\\\Local\\\\Programs\\\\Python\\\\Python311\\\\Lib\\\\email\\\\parser.py'>,\n 'email._encoded_words': <module 'email._encoded_words' from 'C:\\\\Users\\\\Lenovo\\\\AppData\\\\Local\\\\Programs\\\\Python\\\\Python311\\\\Lib\\\\email\\\\_encoded_words.py'>,\n 'email.iterators': <module 'email.iterators' from 'C:\\\\Users\\\\Lenovo\\\\AppData\\\\Local\\\\Programs\\\\Python\\\\Python311\\\\Lib\\\\email\\\\iterators.py'>,\n 'email.message': <module 'email.message' from 'C:\\\\Users\\\\Lenovo\\\\AppData\\\\Local\\\\Programs\\\\Python\\\\Python311\\\\Lib\\\\email\\\\message.py'>,\n 'http.client': <module 'http.client' from 'C:\\\\Users\\\\Lenovo\\\\AppData\\\\Local\\\\Programs\\\\Python\\\\Python311\\\\Lib\\\\http\\\\client.py'>,\n 'urllib.response': <module 'urllib.response' from 'C:\\\\Users\\\\Lenovo\\\\AppData\\\\Local\\\\Programs\\\\Python\\\\Python311\\\\Lib\\\\urllib\\\\response.py'>,\n 'urllib.error': <module 'urllib.error' from 'C:\\\\Users\\\\Lenovo\\\\AppData\\\\Local\\\\Programs\\\\Python\\\\Python311\\\\Lib\\\\urllib\\\\error.py'>,\n 'nturl2path': <module 'nturl2path' from 'C:\\\\Users\\\\Lenovo\\\\AppData\\\\Local\\\\Programs\\\\Python\\\\Python311\\\\Lib\\\\nturl2path.py'>,\n 'urllib.request': <module 'urllib.request' from 'C:\\\\Users\\\\Lenovo\\\\AppData\\\\Local\\\\Programs\\\\Python\\\\Python311\\\\Lib\\\\urllib\\\\request.py'>,\n 'IPython.utils.contexts': <module 'IPython.utils.contexts' from 'C:\\\\Users\\\\Lenovo\\\\AppData\\\\Roaming\\\\Python\\\\Python311\\\\site-packages\\\\IPython\\\\utils\\\\contexts.py'>,\n 'IPython.core.magics.code': <module 'IPython.core.magics.code' from 'C:\\\\Users\\\\Lenovo\\\\AppData\\\\Roaming\\\\Python\\\\Python311\\\\site-packages\\\\IPython\\\\core\\\\magics\\\\code.py'>,\n 'IPython.core.magics.config': <module 'IPython.core.magics.config' from 'C:\\\\Users\\\\Lenovo\\\\AppData\\\\Roaming\\\\Python\\\\Python311\\\\site-packages\\\\IPython\\\\core\\\\magics\\\\config.py'>,\n 'IPython.core.magics.display': <module 'IPython.core.magics.display' from 'C:\\\\Users\\\\Lenovo\\\\AppData\\\\Roaming\\\\Python\\\\Python311\\\\site-packages\\\\IPython\\\\core\\\\magics\\\\display.py'>,\n '_lsprof': <module '_lsprof' (built-in)>,\n 'profile': <module 'profile' from 'C:\\\\Users\\\\Lenovo\\\\AppData\\\\Local\\\\Programs\\\\Python\\\\Python311\\\\Lib\\\\profile.py'>,\n 'cProfile': <module 'cProfile' from 'C:\\\\Users\\\\Lenovo\\\\AppData\\\\Local\\\\Programs\\\\Python\\\\Python311\\\\Lib\\\\cProfile.py'>,\n 'pstats': <module 'pstats' from 'C:\\\\Users\\\\Lenovo\\\\AppData\\\\Local\\\\Programs\\\\Python\\\\Python311\\\\Lib\\\\pstats.py'>,\n 'timeit': <module 'timeit' from 'C:\\\\Users\\\\Lenovo\\\\AppData\\\\Local\\\\Programs\\\\Python\\\\Python311\\\\Lib\\\\timeit.py'>,\n 'IPython.utils.module_paths': <module 'IPython.utils.module_paths' from 'C:\\\\Users\\\\Lenovo\\\\AppData\\\\Roaming\\\\Python\\\\Python311\\\\site-packages\\\\IPython\\\\utils\\\\module_paths.py'>,\n 'IPython.utils.timing': <module 'IPython.utils.timing' from 'C:\\\\Users\\\\Lenovo\\\\AppData\\\\Roaming\\\\Python\\\\Python311\\\\site-packages\\\\IPython\\\\utils\\\\timing.py'>,\n 'IPython.core.magics.execution': <module 'IPython.core.magics.execution' from 'C:\\\\Users\\\\Lenovo\\\\AppData\\\\Roaming\\\\Python\\\\Python311\\\\site-packages\\\\IPython\\\\core\\\\magics\\\\execution.py'>,\n 'IPython.core.magics.extension': <module 'IPython.core.magics.extension' from 'C:\\\\Users\\\\Lenovo\\\\AppData\\\\Roaming\\\\Python\\\\Python311\\\\site-packages\\\\IPython\\\\core\\\\magics\\\\extension.py'>,\n 'IPython.core.magics.history': <module 'IPython.core.magics.history' from 'C:\\\\Users\\\\Lenovo\\\\AppData\\\\Roaming\\\\Python\\\\Python311\\\\site-packages\\\\IPython\\\\core\\\\magics\\\\history.py'>,\n 'IPython.core.magics.logging': <module 'IPython.core.magics.logging' from 'C:\\\\Users\\\\Lenovo\\\\AppData\\\\Roaming\\\\Python\\\\Python311\\\\site-packages\\\\IPython\\\\core\\\\magics\\\\logging.py'>,\n 'IPython.core.magics.namespace': <module 'IPython.core.magics.namespace' from 'C:\\\\Users\\\\Lenovo\\\\AppData\\\\Roaming\\\\Python\\\\Python311\\\\site-packages\\\\IPython\\\\core\\\\magics\\\\namespace.py'>,\n 'IPython.core.magics.osm': <module 'IPython.core.magics.osm' from 'C:\\\\Users\\\\Lenovo\\\\AppData\\\\Roaming\\\\Python\\\\Python311\\\\site-packages\\\\IPython\\\\core\\\\magics\\\\osm.py'>,\n 'IPython.core.magics.packaging': <module 'IPython.core.magics.packaging' from 'C:\\\\Users\\\\Lenovo\\\\AppData\\\\Roaming\\\\Python\\\\Python311\\\\site-packages\\\\IPython\\\\core\\\\magics\\\\packaging.py'>,\n 'IPython.core.pylabtools': <module 'IPython.core.pylabtools' from 'C:\\\\Users\\\\Lenovo\\\\AppData\\\\Roaming\\\\Python\\\\Python311\\\\site-packages\\\\IPython\\\\core\\\\pylabtools.py'>,\n 'IPython.core.magics.pylab': <module 'IPython.core.magics.pylab' from 'C:\\\\Users\\\\Lenovo\\\\AppData\\\\Roaming\\\\Python\\\\Python311\\\\site-packages\\\\IPython\\\\core\\\\magics\\\\pylab.py'>,\n 'IPython.core.magics.script': <module 'IPython.core.magics.script' from 'C:\\\\Users\\\\Lenovo\\\\AppData\\\\Roaming\\\\Python\\\\Python311\\\\site-packages\\\\IPython\\\\core\\\\magics\\\\script.py'>,\n 'IPython.core.magics': <module 'IPython.core.magics' from 'C:\\\\Users\\\\Lenovo\\\\AppData\\\\Roaming\\\\Python\\\\Python311\\\\site-packages\\\\IPython\\\\core\\\\magics\\\\__init__.py'>,\n 'IPython.core.shellapp': <module 'IPython.core.shellapp' from 'C:\\\\Users\\\\Lenovo\\\\AppData\\\\Roaming\\\\Python\\\\Python311\\\\site-packages\\\\IPython\\\\core\\\\shellapp.py'>,\n 'IPython.extensions': <module 'IPython.extensions' from 'C:\\\\Users\\\\Lenovo\\\\AppData\\\\Roaming\\\\Python\\\\Python311\\\\site-packages\\\\IPython\\\\extensions\\\\__init__.py'>,\n 'IPython.extensions.storemagic': <module 'IPython.extensions.storemagic' from 'C:\\\\Users\\\\Lenovo\\\\AppData\\\\Roaming\\\\Python\\\\Python311\\\\site-packages\\\\IPython\\\\extensions\\\\storemagic.py'>,\n 'IPython.terminal.ipapp': <module 'IPython.terminal.ipapp' from 'C:\\\\Users\\\\Lenovo\\\\AppData\\\\Roaming\\\\Python\\\\Python311\\\\site-packages\\\\IPython\\\\terminal\\\\ipapp.py'>,\n 'IPython.terminal.embed': <module 'IPython.terminal.embed' from 'C:\\\\Users\\\\Lenovo\\\\AppData\\\\Roaming\\\\Python\\\\Python311\\\\site-packages\\\\IPython\\\\terminal\\\\embed.py'>,\n 'IPython.utils.frame': <module 'IPython.utils.frame' from 'C:\\\\Users\\\\Lenovo\\\\AppData\\\\Roaming\\\\Python\\\\Python311\\\\site-packages\\\\IPython\\\\utils\\\\frame.py'>,\n 'IPython': <module 'IPython' from 'C:\\\\Users\\\\Lenovo\\\\AppData\\\\Roaming\\\\Python\\\\Python311\\\\site-packages\\\\IPython\\\\__init__.py'>,\n 'ipykernel.control': <module 'ipykernel.control' from 'C:\\\\Users\\\\Lenovo\\\\AppData\\\\Roaming\\\\Python\\\\Python311\\\\site-packages\\\\ipykernel\\\\control.py'>,\n 'ipykernel.heartbeat': <module 'ipykernel.heartbeat' from 'C:\\\\Users\\\\Lenovo\\\\AppData\\\\Roaming\\\\Python\\\\Python311\\\\site-packages\\\\ipykernel\\\\heartbeat.py'>,\n 'ipykernel.iostream': <module 'ipykernel.iostream' from 'C:\\\\Users\\\\Lenovo\\\\AppData\\\\Roaming\\\\Python\\\\Python311\\\\site-packages\\\\ipykernel\\\\iostream.py'>,\n 'IPython.utils.tokenutil': <module 'IPython.utils.tokenutil' from 'C:\\\\Users\\\\Lenovo\\\\AppData\\\\Roaming\\\\Python\\\\Python311\\\\site-packages\\\\IPython\\\\utils\\\\tokenutil.py'>,\n 'ipykernel.jsonutil': <module 'ipykernel.jsonutil' from 'C:\\\\Users\\\\Lenovo\\\\AppData\\\\Roaming\\\\Python\\\\Python311\\\\site-packages\\\\ipykernel\\\\jsonutil.py'>,\n 'psutil._common': <module 'psutil._common' from 'C:\\\\Users\\\\Lenovo\\\\AppData\\\\Roaming\\\\Python\\\\Python311\\\\site-packages\\\\psutil\\\\_common.py'>,\n 'psutil._compat': <module 'psutil._compat' from 'C:\\\\Users\\\\Lenovo\\\\AppData\\\\Roaming\\\\Python\\\\Python311\\\\site-packages\\\\psutil\\\\_compat.py'>,\n 'psutil._psutil_windows': <module 'psutil._psutil_windows' from 'C:\\\\Users\\\\Lenovo\\\\AppData\\\\Roaming\\\\Python\\\\Python311\\\\site-packages\\\\psutil\\\\_psutil_windows.cp311-win_amd64.pyd'>,\n 'psutil._pswindows': <module 'psutil._pswindows' from 'C:\\\\Users\\\\Lenovo\\\\AppData\\\\Roaming\\\\Python\\\\Python311\\\\site-packages\\\\psutil\\\\_pswindows.py'>,\n 'psutil': <module 'psutil' from 'C:\\\\Users\\\\Lenovo\\\\AppData\\\\Roaming\\\\Python\\\\Python311\\\\site-packages\\\\psutil\\\\__init__.py'>,\n 'tornado.locks': <module 'tornado.locks' from 'C:\\\\Users\\\\Lenovo\\\\AppData\\\\Roaming\\\\Python\\\\Python311\\\\site-packages\\\\tornado\\\\locks.py'>,\n 'tornado.queues': <module 'tornado.queues' from 'C:\\\\Users\\\\Lenovo\\\\AppData\\\\Roaming\\\\Python\\\\Python311\\\\site-packages\\\\tornado\\\\queues.py'>,\n 'ipykernel.kernelbase': <module 'ipykernel.kernelbase' from 'C:\\\\Users\\\\Lenovo\\\\AppData\\\\Roaming\\\\Python\\\\Python311\\\\site-packages\\\\ipykernel\\\\kernelbase.py'>,\n 'ipykernel.comm.comm': <module 'ipykernel.comm.comm' from 'C:\\\\Users\\\\Lenovo\\\\AppData\\\\Roaming\\\\Python\\\\Python311\\\\site-packages\\\\ipykernel\\\\comm\\\\comm.py'>,\n 'ipykernel.comm.manager': <module 'ipykernel.comm.manager' from 'C:\\\\Users\\\\Lenovo\\\\AppData\\\\Roaming\\\\Python\\\\Python311\\\\site-packages\\\\ipykernel\\\\comm\\\\manager.py'>,\n 'ipykernel.comm': <module 'ipykernel.comm' from 'C:\\\\Users\\\\Lenovo\\\\AppData\\\\Roaming\\\\Python\\\\Python311\\\\site-packages\\\\ipykernel\\\\comm\\\\__init__.py'>,\n 'ipykernel.compiler': <module 'ipykernel.compiler' from 'C:\\\\Users\\\\Lenovo\\\\AppData\\\\Roaming\\\\Python\\\\Python311\\\\site-packages\\\\ipykernel\\\\compiler.py'>,\n 'debugpy._version': <module 'debugpy._version' from 'C:\\\\Users\\\\Lenovo\\\\AppData\\\\Roaming\\\\Python\\\\Python311\\\\site-packages\\\\debugpy\\\\_version.py'>,\n 'debugpy.public_api': <module 'debugpy.public_api' from 'C:\\\\Users\\\\Lenovo\\\\AppData\\\\Roaming\\\\Python\\\\Python311\\\\site-packages\\\\debugpy\\\\public_api.py'>,\n 'debugpy': <module 'debugpy' from 'C:\\\\Users\\\\Lenovo\\\\AppData\\\\Roaming\\\\Python\\\\Python311\\\\site-packages\\\\debugpy\\\\__init__.py'>,\n 'debugpy._vendored._util': <module 'debugpy._vendored._util' from 'C:\\\\Users\\\\Lenovo\\\\AppData\\\\Roaming\\\\Python\\\\Python311\\\\site-packages\\\\debugpy\\\\_vendored\\\\_util.py'>,\n 'debugpy._vendored': <module 'debugpy._vendored' from 'C:\\\\Users\\\\Lenovo\\\\AppData\\\\Roaming\\\\Python\\\\Python311\\\\site-packages\\\\debugpy\\\\_vendored\\\\__init__.py'>,\n 'encodings.ascii': <module 'encodings.ascii' from 'C:\\\\Users\\\\Lenovo\\\\AppData\\\\Local\\\\Programs\\\\Python\\\\Python311\\\\Lib\\\\encodings\\\\ascii.py'>,\n 'encodings.latin_1': <module 'encodings.latin_1' from 'C:\\\\Users\\\\Lenovo\\\\AppData\\\\Local\\\\Programs\\\\Python\\\\Python311\\\\Lib\\\\encodings\\\\latin_1.py'>,\n 'stringprep': <module 'stringprep' from 'C:\\\\Users\\\\Lenovo\\\\AppData\\\\Local\\\\Programs\\\\Python\\\\Python311\\\\Lib\\\\stringprep.py'>,\n 'encodings.idna': <module 'encodings.idna' from 'C:\\\\Users\\\\Lenovo\\\\AppData\\\\Local\\\\Programs\\\\Python\\\\Python311\\\\Lib\\\\encodings\\\\idna.py'>,\n 'xmlrpc': <module 'xmlrpc' from 'C:\\\\Users\\\\Lenovo\\\\AppData\\\\Local\\\\Programs\\\\Python\\\\Python311\\\\Lib\\\\xmlrpc\\\\__init__.py'>,\n 'xml.parsers': <module 'xml.parsers' from 'C:\\\\Users\\\\Lenovo\\\\AppData\\\\Local\\\\Programs\\\\Python\\\\Python311\\\\Lib\\\\xml\\\\parsers\\\\__init__.py'>,\n 'pyexpat.errors': <module 'pyexpat.errors'>,\n 'pyexpat.model': <module 'pyexpat.model'>,\n 'pyexpat': <module 'pyexpat' from 'C:\\\\Users\\\\Lenovo\\\\AppData\\\\Local\\\\Programs\\\\Python\\\\Python311\\\\DLLs\\\\pyexpat.pyd'>,\n 'xml.parsers.expat.model': <module 'pyexpat.model'>,\n 'xml.parsers.expat.errors': <module 'pyexpat.errors'>,\n 'xml.parsers.expat': <module 'xml.parsers.expat' from 'C:\\\\Users\\\\Lenovo\\\\AppData\\\\Local\\\\Programs\\\\Python\\\\Python311\\\\Lib\\\\xml\\\\parsers\\\\expat.py'>,\n 'gzip': <module 'gzip' from 'C:\\\\Users\\\\Lenovo\\\\AppData\\\\Local\\\\Programs\\\\Python\\\\Python311\\\\Lib\\\\gzip.py'>,\n 'xmlrpc.client': <module 'xmlrpc.client' from 'C:\\\\Users\\\\Lenovo\\\\AppData\\\\Local\\\\Programs\\\\Python\\\\Python311\\\\Lib\\\\xmlrpc\\\\client.py'>,\n 'http.server': <module 'http.server' from 'C:\\\\Users\\\\Lenovo\\\\AppData\\\\Local\\\\Programs\\\\Python\\\\Python311\\\\Lib\\\\http\\\\server.py'>,\n 'xmlrpc.server': <module 'xmlrpc.server' from 'C:\\\\Users\\\\Lenovo\\\\AppData\\\\Local\\\\Programs\\\\Python\\\\Python311\\\\Lib\\\\xmlrpc\\\\server.py'>,\n 'plistlib': <module 'plistlib' from 'C:\\\\Users\\\\Lenovo\\\\AppData\\\\Local\\\\Programs\\\\Python\\\\Python311\\\\Lib\\\\plistlib.py'>,\n 'pkg_resources.extern': <module 'pkg_resources.extern' from 'C:\\\\Users\\\\Lenovo\\\\AppData\\\\Local\\\\Programs\\\\Python\\\\Python311\\\\Lib\\\\site-packages\\\\pkg_resources\\\\extern\\\\__init__.py'>,\n 'pkg_resources._vendor': <module 'pkg_resources._vendor' from 'C:\\\\Users\\\\Lenovo\\\\AppData\\\\Local\\\\Programs\\\\Python\\\\Python311\\\\Lib\\\\site-packages\\\\pkg_resources\\\\_vendor\\\\__init__.py'>,\n 'pkg_resources._vendor.jaraco': <module 'pkg_resources.extern.jaraco' (<pkg_resources.extern.VendorImporter object at 0x000001AF7ECC9610>)>,\n 'pkg_resources.extern.jaraco': <module 'pkg_resources.extern.jaraco' (<pkg_resources.extern.VendorImporter object at 0x000001AF7ECC9610>)>,\n 'importlib.resources.abc': <module 'importlib.resources.abc' from 'C:\\\\Users\\\\Lenovo\\\\AppData\\\\Local\\\\Programs\\\\Python\\\\Python311\\\\Lib\\\\importlib\\\\resources\\\\abc.py'>,\n 'importlib.resources._adapters': <module 'importlib.resources._adapters' from 'C:\\\\Users\\\\Lenovo\\\\AppData\\\\Local\\\\Programs\\\\Python\\\\Python311\\\\Lib\\\\importlib\\\\resources\\\\_adapters.py'>,\n 'importlib.resources._common': <module 'importlib.resources._common' from 'C:\\\\Users\\\\Lenovo\\\\AppData\\\\Local\\\\Programs\\\\Python\\\\Python311\\\\Lib\\\\importlib\\\\resources\\\\_common.py'>,\n 'importlib.resources._legacy': <module 'importlib.resources._legacy' from 'C:\\\\Users\\\\Lenovo\\\\AppData\\\\Local\\\\Programs\\\\Python\\\\Python311\\\\Lib\\\\importlib\\\\resources\\\\_legacy.py'>,\n 'importlib.resources': <module 'importlib.resources' from 'C:\\\\Users\\\\Lenovo\\\\AppData\\\\Local\\\\Programs\\\\Python\\\\Python311\\\\Lib\\\\importlib\\\\resources\\\\__init__.py'>,\n 'pkg_resources._vendor.more_itertools.recipes': <module 'pkg_resources._vendor.more_itertools.recipes' from 'C:\\\\Users\\\\Lenovo\\\\AppData\\\\Local\\\\Programs\\\\Python\\\\Python311\\\\Lib\\\\site-packages\\\\pkg_resources\\\\_vendor\\\\more_itertools\\\\recipes.py'>,\n 'pkg_resources._vendor.more_itertools.more': <module 'pkg_resources._vendor.more_itertools.more' from 'C:\\\\Users\\\\Lenovo\\\\AppData\\\\Local\\\\Programs\\\\Python\\\\Python311\\\\Lib\\\\site-packages\\\\pkg_resources\\\\_vendor\\\\more_itertools\\\\more.py'>,\n 'pkg_resources._vendor.more_itertools': <module 'pkg_resources.extern.more_itertools' (<pkg_resources.extern.VendorImporter object at 0x000001AF7ECC9610>)>,\n 'pkg_resources.extern.more_itertools': <module 'pkg_resources.extern.more_itertools' (<pkg_resources.extern.VendorImporter object at 0x000001AF7ECC9610>)>,\n 'pkg_resources.extern.jaraco.functools': <module 'pkg_resources.extern.jaraco.functools' from 'C:\\\\Users\\\\Lenovo\\\\AppData\\\\Local\\\\Programs\\\\Python\\\\Python311\\\\Lib\\\\site-packages\\\\pkg_resources\\\\_vendor\\\\jaraco\\\\functools.py'>,\n 'pkg_resources.extern.jaraco.context': <module 'pkg_resources.extern.jaraco.context' from 'C:\\\\Users\\\\Lenovo\\\\AppData\\\\Local\\\\Programs\\\\Python\\\\Python311\\\\Lib\\\\site-packages\\\\pkg_resources\\\\_vendor\\\\jaraco\\\\context.py'>,\n 'pkg_resources.extern.jaraco.text': <module 'pkg_resources.extern.jaraco.text' from 'C:\\\\Users\\\\Lenovo\\\\AppData\\\\Local\\\\Programs\\\\Python\\\\Python311\\\\Lib\\\\site-packages\\\\pkg_resources\\\\_vendor\\\\jaraco\\\\text\\\\__init__.py'>,\n 'win32api': <module 'win32api' from 'C:\\\\Users\\\\Lenovo\\\\AppData\\\\Roaming\\\\Python\\\\Python311\\\\site-packages\\\\win32\\\\win32api.pyd'>,\n '_win32sysloader': <module '_win32sysloader' from 'C:\\\\Users\\\\Lenovo\\\\AppData\\\\Roaming\\\\Python\\\\Python311\\\\site-packages\\\\win32\\\\_win32sysloader.pyd'>,\n 'pywintypes': <module 'pywintypes' (C:\\Users\\Lenovo\\AppData\\Roaming\\Python\\Python311\\site-packages\\pywin32_system32\\pywintypes311.dll)>,\n 'pythoncom': <module 'pythoncom' (C:\\Users\\Lenovo\\AppData\\Roaming\\Python\\Python311\\site-packages\\pywin32_system32\\pythoncom311.dll)>,\n 'win32com.gen_py': <module 'win32com.gen_py'>,\n 'win32com': <module 'win32com' from 'C:\\\\Users\\\\Lenovo\\\\AppData\\\\Roaming\\\\Python\\\\Python311\\\\site-packages\\\\win32com\\\\__init__.py'>,\n 'win32com.shell': <module 'win32com.shell' from 'C:\\\\Users\\\\Lenovo\\\\AppData\\\\Roaming\\\\Python\\\\Python311\\\\site-packages\\\\win32comext\\\\shell\\\\__init__.py'>,\n 'pkg_resources._vendor.appdirs': <module 'pkg_resources.extern.appdirs' (<pkg_resources.extern.VendorImporter object at 0x000001AF7ECC9610>)>,\n 'pkg_resources.extern.appdirs': <module 'pkg_resources.extern.appdirs' (<pkg_resources.extern.VendorImporter object at 0x000001AF7ECC9610>)>,\n 'pkg_resources._vendor.packaging.__about__': <module 'pkg_resources._vendor.packaging.__about__' from 'C:\\\\Users\\\\Lenovo\\\\AppData\\\\Local\\\\Programs\\\\Python\\\\Python311\\\\Lib\\\\site-packages\\\\pkg_resources\\\\_vendor\\\\packaging\\\\__about__.py'>,\n 'pkg_resources._vendor.packaging': <module 'pkg_resources.extern.packaging' (<pkg_resources.extern.VendorImporter object at 0x000001AF7ECC9610>)>,\n 'pkg_resources.extern.packaging': <module 'pkg_resources.extern.packaging' (<pkg_resources.extern.VendorImporter object at 0x000001AF7ECC9610>)>,\n 'pkg_resources.extern.packaging._structures': <module 'pkg_resources.extern.packaging._structures' from 'C:\\\\Users\\\\Lenovo\\\\AppData\\\\Local\\\\Programs\\\\Python\\\\Python311\\\\Lib\\\\site-packages\\\\pkg_resources\\\\_vendor\\\\packaging\\\\_structures.py'>,\n 'pkg_resources.extern.packaging.version': <module 'pkg_resources.extern.packaging.version' from 'C:\\\\Users\\\\Lenovo\\\\AppData\\\\Local\\\\Programs\\\\Python\\\\Python311\\\\Lib\\\\site-packages\\\\pkg_resources\\\\_vendor\\\\packaging\\\\version.py'>,\n 'pkg_resources._vendor.packaging._manylinux': <module 'pkg_resources._vendor.packaging._manylinux' from 'C:\\\\Users\\\\Lenovo\\\\AppData\\\\Local\\\\Programs\\\\Python\\\\Python311\\\\Lib\\\\site-packages\\\\pkg_resources\\\\_vendor\\\\packaging\\\\_manylinux.py'>,\n 'pkg_resources._vendor.packaging._musllinux': <module 'pkg_resources._vendor.packaging._musllinux' from 'C:\\\\Users\\\\Lenovo\\\\AppData\\\\Local\\\\Programs\\\\Python\\\\Python311\\\\Lib\\\\site-packages\\\\pkg_resources\\\\_vendor\\\\packaging\\\\_musllinux.py'>,\n 'pkg_resources.extern.packaging.tags': <module 'pkg_resources.extern.packaging.tags' from 'C:\\\\Users\\\\Lenovo\\\\AppData\\\\Local\\\\Programs\\\\Python\\\\Python311\\\\Lib\\\\site-packages\\\\pkg_resources\\\\_vendor\\\\packaging\\\\tags.py'>,\n 'pkg_resources.extern.packaging.utils': <module 'pkg_resources.extern.packaging.utils' from 'C:\\\\Users\\\\Lenovo\\\\AppData\\\\Local\\\\Programs\\\\Python\\\\Python311\\\\Lib\\\\site-packages\\\\pkg_resources\\\\_vendor\\\\packaging\\\\utils.py'>,\n 'pkg_resources.extern.packaging.specifiers': <module 'pkg_resources.extern.packaging.specifiers' from 'C:\\\\Users\\\\Lenovo\\\\AppData\\\\Local\\\\Programs\\\\Python\\\\Python311\\\\Lib\\\\site-packages\\\\pkg_resources\\\\_vendor\\\\packaging\\\\specifiers.py'>,\n 'pkg_resources._vendor.pyparsing.util': <module 'pkg_resources._vendor.pyparsing.util' from 'C:\\\\Users\\\\Lenovo\\\\AppData\\\\Local\\\\Programs\\\\Python\\\\Python311\\\\Lib\\\\site-packages\\\\pkg_resources\\\\_vendor\\\\pyparsing\\\\util.py'>,\n 'pkg_resources._vendor.pyparsing.unicode': <module 'pkg_resources._vendor.pyparsing.unicode' from 'C:\\\\Users\\\\Lenovo\\\\AppData\\\\Local\\\\Programs\\\\Python\\\\Python311\\\\Lib\\\\site-packages\\\\pkg_resources\\\\_vendor\\\\pyparsing\\\\unicode.py'>,\n 'pkg_resources._vendor.pyparsing.exceptions': <module 'pkg_resources._vendor.pyparsing.exceptions' from 'C:\\\\Users\\\\Lenovo\\\\AppData\\\\Local\\\\Programs\\\\Python\\\\Python311\\\\Lib\\\\site-packages\\\\pkg_resources\\\\_vendor\\\\pyparsing\\\\exceptions.py'>,\n 'pkg_resources._vendor.pyparsing.actions': <module 'pkg_resources._vendor.pyparsing.actions' from 'C:\\\\Users\\\\Lenovo\\\\AppData\\\\Local\\\\Programs\\\\Python\\\\Python311\\\\Lib\\\\site-packages\\\\pkg_resources\\\\_vendor\\\\pyparsing\\\\actions.py'>,\n 'pkg_resources._vendor.pyparsing.results': <module 'pkg_resources._vendor.pyparsing.results' from 'C:\\\\Users\\\\Lenovo\\\\AppData\\\\Local\\\\Programs\\\\Python\\\\Python311\\\\Lib\\\\site-packages\\\\pkg_resources\\\\_vendor\\\\pyparsing\\\\results.py'>,\n 'pkg_resources._vendor.pyparsing.core': <module 'pkg_resources._vendor.pyparsing.core' from 'C:\\\\Users\\\\Lenovo\\\\AppData\\\\Local\\\\Programs\\\\Python\\\\Python311\\\\Lib\\\\site-packages\\\\pkg_resources\\\\_vendor\\\\pyparsing\\\\core.py'>,\n 'pkg_resources._vendor.pyparsing.helpers': <module 'pkg_resources._vendor.pyparsing.helpers' from 'C:\\\\Users\\\\Lenovo\\\\AppData\\\\Local\\\\Programs\\\\Python\\\\Python311\\\\Lib\\\\site-packages\\\\pkg_resources\\\\_vendor\\\\pyparsing\\\\helpers.py'>,\n 'pkg_resources._vendor.pyparsing.testing': <module 'pkg_resources._vendor.pyparsing.testing' from 'C:\\\\Users\\\\Lenovo\\\\AppData\\\\Local\\\\Programs\\\\Python\\\\Python311\\\\Lib\\\\site-packages\\\\pkg_resources\\\\_vendor\\\\pyparsing\\\\testing.py'>,\n 'pkg_resources._vendor.pyparsing.common': <module 'pkg_resources._vendor.pyparsing.common' from 'C:\\\\Users\\\\Lenovo\\\\AppData\\\\Local\\\\Programs\\\\Python\\\\Python311\\\\Lib\\\\site-packages\\\\pkg_resources\\\\_vendor\\\\pyparsing\\\\common.py'>,\n 'pkg_resources._vendor.pyparsing': <module 'pkg_resources.extern.pyparsing' (<pkg_resources.extern.VendorImporter object at 0x000001AF7ECC9610>)>,\n 'pkg_resources.extern.pyparsing': <module 'pkg_resources.extern.pyparsing' (<pkg_resources.extern.VendorImporter object at 0x000001AF7ECC9610>)>,\n 'pkg_resources.extern.packaging.markers': <module 'pkg_resources.extern.packaging.markers' from 'C:\\\\Users\\\\Lenovo\\\\AppData\\\\Local\\\\Programs\\\\Python\\\\Python311\\\\Lib\\\\site-packages\\\\pkg_resources\\\\_vendor\\\\packaging\\\\markers.py'>,\n 'pkg_resources.extern.packaging.requirements': <module 'pkg_resources.extern.packaging.requirements' from 'C:\\\\Users\\\\Lenovo\\\\AppData\\\\Local\\\\Programs\\\\Python\\\\Python311\\\\Lib\\\\site-packages\\\\pkg_resources\\\\_vendor\\\\packaging\\\\requirements.py'>,\n 'pkg_resources': <module 'pkg_resources' from 'C:\\\\Users\\\\Lenovo\\\\AppData\\\\Local\\\\Programs\\\\Python\\\\Python311\\\\Lib\\\\site-packages\\\\pkg_resources\\\\__init__.py'>,\n 'pydevconsole': <module 'pydevconsole' from 'C:\\\\Users\\\\Lenovo\\\\AppData\\\\Roaming\\\\Python\\\\Python311\\\\site-packages\\\\debugpy\\\\_vendored\\\\pydevd\\\\pydevconsole.py'>,\n 'debugpy._vendored.force_pydevd': <module 'debugpy._vendored.force_pydevd' from 'C:\\\\Users\\\\Lenovo\\\\AppData\\\\Roaming\\\\Python\\\\Python311\\\\site-packages\\\\debugpy\\\\_vendored\\\\force_pydevd.py'>,\n 'debugpy.server': <module 'debugpy.server' from 'C:\\\\Users\\\\Lenovo\\\\AppData\\\\Roaming\\\\Python\\\\Python311\\\\site-packages\\\\debugpy\\\\server\\\\__init__.py'>,\n 'debugpy.adapter': <module 'debugpy.adapter' from 'C:\\\\Users\\\\Lenovo\\\\AppData\\\\Roaming\\\\Python\\\\Python311\\\\site-packages\\\\debugpy\\\\adapter\\\\__init__.py'>,\n 'debugpy.common': <module 'debugpy.common' from 'C:\\\\Users\\\\Lenovo\\\\AppData\\\\Roaming\\\\Python\\\\Python311\\\\site-packages\\\\debugpy\\\\common\\\\__init__.py'>,\n 'debugpy.common.json': <module 'debugpy.common.json' from 'C:\\\\Users\\\\Lenovo\\\\AppData\\\\Roaming\\\\Python\\\\Python311\\\\site-packages\\\\debugpy\\\\common\\\\json.py'>,\n 'debugpy.common.timestamp': <module 'debugpy.common.timestamp' from 'C:\\\\Users\\\\Lenovo\\\\AppData\\\\Roaming\\\\Python\\\\Python311\\\\site-packages\\\\debugpy\\\\common\\\\timestamp.py'>,\n 'debugpy.common.util': <module 'debugpy.common.util' from 'C:\\\\Users\\\\Lenovo\\\\AppData\\\\Roaming\\\\Python\\\\Python311\\\\site-packages\\\\debugpy\\\\common\\\\util.py'>,\n 'debugpy.common.log': <module 'debugpy.common.log' from 'C:\\\\Users\\\\Lenovo\\\\AppData\\\\Roaming\\\\Python\\\\Python311\\\\site-packages\\\\debugpy\\\\common\\\\log.py'>,\n 'debugpy.common.sockets': <module 'debugpy.common.sockets' from 'C:\\\\Users\\\\Lenovo\\\\AppData\\\\Roaming\\\\Python\\\\Python311\\\\site-packages\\\\debugpy\\\\common\\\\sockets.py'>,\n 'debugpy.server.api': <module 'debugpy.server.api' from 'C:\\\\Users\\\\Lenovo\\\\AppData\\\\Roaming\\\\Python\\\\Python311\\\\site-packages\\\\debugpy\\\\server\\\\api.py'>,\n 'ipykernel.debugger': <module 'ipykernel.debugger' from 'C:\\\\Users\\\\Lenovo\\\\AppData\\\\Roaming\\\\Python\\\\Python311\\\\site-packages\\\\ipykernel\\\\debugger.py'>,\n 'packaging.__about__': <module 'packaging.__about__' from 'C:\\\\Users\\\\Lenovo\\\\AppData\\\\Roaming\\\\Python\\\\Python311\\\\site-packages\\\\packaging\\\\__about__.py'>,\n 'packaging': <module 'packaging' from 'C:\\\\Users\\\\Lenovo\\\\AppData\\\\Roaming\\\\Python\\\\Python311\\\\site-packages\\\\packaging\\\\__init__.py'>,\n 'packaging._structures': <module 'packaging._structures' from 'C:\\\\Users\\\\Lenovo\\\\AppData\\\\Roaming\\\\Python\\\\Python311\\\\site-packages\\\\packaging\\\\_structures.py'>,\n 'packaging.version': <module 'packaging.version' from 'C:\\\\Users\\\\Lenovo\\\\AppData\\\\Roaming\\\\Python\\\\Python311\\\\site-packages\\\\packaging\\\\version.py'>,\n 'ipykernel.eventloops': <module 'ipykernel.eventloops' from 'C:\\\\Users\\\\Lenovo\\\\AppData\\\\Roaming\\\\Python\\\\Python311\\\\site-packages\\\\ipykernel\\\\eventloops.py'>,\n 'IPython.core.payloadpage': <module 'IPython.core.payloadpage' from 'C:\\\\Users\\\\Lenovo\\\\AppData\\\\Roaming\\\\Python\\\\Python311\\\\site-packages\\\\IPython\\\\core\\\\payloadpage.py'>,\n 'ipykernel.displayhook': <module 'ipykernel.displayhook' from 'C:\\\\Users\\\\Lenovo\\\\AppData\\\\Roaming\\\\Python\\\\Python311\\\\site-packages\\\\ipykernel\\\\displayhook.py'>,\n 'ipykernel.zmqshell': <module 'ipykernel.zmqshell' from 'C:\\\\Users\\\\Lenovo\\\\AppData\\\\Roaming\\\\Python\\\\Python311\\\\site-packages\\\\ipykernel\\\\zmqshell.py'>,\n 'ipykernel.ipkernel': <module 'ipykernel.ipkernel' from 'C:\\\\Users\\\\Lenovo\\\\AppData\\\\Roaming\\\\Python\\\\Python311\\\\site-packages\\\\ipykernel\\\\ipkernel.py'>,\n 'ipykernel.parentpoller': <module 'ipykernel.parentpoller' from 'C:\\\\Users\\\\Lenovo\\\\AppData\\\\Roaming\\\\Python\\\\Python311\\\\site-packages\\\\ipykernel\\\\parentpoller.py'>,\n 'ipykernel.kernelapp': <module 'ipykernel.kernelapp' from 'C:\\\\Users\\\\Lenovo\\\\AppData\\\\Roaming\\\\Python\\\\Python311\\\\site-packages\\\\ipykernel\\\\kernelapp.py'>,\n 'ntsecuritycon': <module 'ntsecuritycon' from 'C:\\\\Users\\\\Lenovo\\\\AppData\\\\Roaming\\\\Python\\\\Python311\\\\site-packages\\\\win32\\\\lib\\\\ntsecuritycon.py'>,\n 'win32security': <module 'win32security' from 'C:\\\\Users\\\\Lenovo\\\\AppData\\\\Roaming\\\\Python\\\\Python311\\\\site-packages\\\\win32\\\\win32security.pyd'>,\n 'faulthandler': <module 'faulthandler' (built-in)>,\n 'IPython.core.completerlib': <module 'IPython.core.completerlib' from 'C:\\\\Users\\\\Lenovo\\\\AppData\\\\Roaming\\\\Python\\\\Python311\\\\site-packages\\\\IPython\\\\core\\\\completerlib.py'>,\n 'pydev_jupyter_utils': <module 'pydev_jupyter_utils' from 'C:\\\\Program Files\\\\JetBrains\\\\PyCharm 2022.2\\\\plugins\\\\python\\\\helpers-pro\\\\jupyter_debug\\\\pydev_jupyter_utils.py'>,\n '_pydevd_bundle': <module '_pydevd_bundle' from 'C:\\\\Program Files\\\\JetBrains\\\\PyCharm 2022.2\\\\plugins\\\\python\\\\helpers\\\\pydev\\\\_pydevd_bundle\\\\__init__.py'>,\n '_pydev_bundle': <module '_pydev_bundle' from 'C:\\\\Program Files\\\\JetBrains\\\\PyCharm 2022.2\\\\plugins\\\\python\\\\helpers\\\\pydev\\\\_pydev_bundle\\\\__init__.py'>,\n '_pydevd_bundle.pydevd_vm_type': <module '_pydevd_bundle.pydevd_vm_type' from 'C:\\\\Program Files\\\\JetBrains\\\\PyCharm 2022.2\\\\plugins\\\\python\\\\helpers\\\\pydev\\\\_pydevd_bundle\\\\pydevd_vm_type.py'>,\n '_pydev_imps': <module '_pydev_imps' from 'C:\\\\Program Files\\\\JetBrains\\\\PyCharm 2022.2\\\\plugins\\\\python\\\\helpers\\\\pydev\\\\_pydev_imps\\\\__init__.py'>,\n '_pydev_imps._pydev_saved_modules': <module '_pydev_imps._pydev_saved_modules' from 'C:\\\\Program Files\\\\JetBrains\\\\PyCharm 2022.2\\\\plugins\\\\python\\\\helpers\\\\pydev\\\\_pydev_imps\\\\_pydev_saved_modules.py'>,\n '_pydevd_bundle.pydevd_constants': <module '_pydevd_bundle.pydevd_constants' from 'C:\\\\Program Files\\\\JetBrains\\\\PyCharm 2022.2\\\\plugins\\\\python\\\\helpers\\\\pydev\\\\_pydevd_bundle\\\\pydevd_constants.py'>,\n '_pydev_bundle.pydev_log': <module '_pydev_bundle.pydev_log' from 'C:\\\\Program Files\\\\JetBrains\\\\PyCharm 2022.2\\\\plugins\\\\python\\\\helpers\\\\pydev\\\\_pydev_bundle\\\\pydev_log.py'>,\n '_pydevd_bundle.pydevd_exec2': <module '_pydevd_bundle.pydevd_exec2' from 'C:\\\\Program Files\\\\JetBrains\\\\PyCharm 2022.2\\\\plugins\\\\python\\\\helpers\\\\pydev\\\\_pydevd_bundle\\\\pydevd_exec2.py'>,\n '_pydev_bundle.pydev_imports': <module '_pydev_bundle.pydev_imports' from 'C:\\\\Program Files\\\\JetBrains\\\\PyCharm 2022.2\\\\plugins\\\\python\\\\helpers\\\\pydev\\\\_pydev_bundle\\\\pydev_imports.py'>,\n 'pydevd_plugins': <module 'pydevd_plugins' from 'C:\\\\Program Files\\\\JetBrains\\\\PyCharm 2022.2\\\\plugins\\\\python\\\\helpers\\\\pydev\\\\pydevd_plugins\\\\__init__.py'>,\n 'pydevd_plugins.extensions': <module 'pydevd_plugins.extensions' from 'C:\\\\Program Files\\\\JetBrains\\\\PyCharm 2022.2\\\\plugins\\\\python\\\\helpers\\\\pydev\\\\pydevd_plugins\\\\extensions\\\\__init__.py'>,\n '_pydevd_bundle.pydevd_extension_utils': <module '_pydevd_bundle.pydevd_extension_utils' from 'C:\\\\Program Files\\\\JetBrains\\\\PyCharm 2022.2\\\\plugins\\\\python\\\\helpers\\\\pydev\\\\_pydevd_bundle\\\\pydevd_extension_utils.py'>,\n '_pydev_bundle._pydev_filesystem_encoding': <module '_pydev_bundle._pydev_filesystem_encoding' from 'C:\\\\Program Files\\\\JetBrains\\\\PyCharm 2022.2\\\\plugins\\\\python\\\\helpers\\\\pydev\\\\_pydev_bundle\\\\_pydev_filesystem_encoding.py'>,\n '_pydevd_bundle.pydevd_comm_constants': <module '_pydevd_bundle.pydevd_comm_constants' from 'C:\\\\Program Files\\\\JetBrains\\\\PyCharm 2022.2\\\\plugins\\\\python\\\\helpers\\\\pydev\\\\_pydevd_bundle\\\\pydevd_comm_constants.py'>,\n 'pydevd_file_utils': <module 'pydevd_file_utils' from 'C:\\\\Program Files\\\\JetBrains\\\\PyCharm 2022.2\\\\plugins\\\\python\\\\helpers\\\\pydev\\\\pydevd_file_utils.py'>,\n '_pydevd_bundle.pydevd_utils': <module '_pydevd_bundle.pydevd_utils' from 'C:\\\\Program Files\\\\JetBrains\\\\PyCharm 2022.2\\\\plugins\\\\python\\\\helpers\\\\pydev\\\\_pydevd_bundle\\\\pydevd_utils.py'>,\n '_pydevd_bundle.pydevd_resolver': <module '_pydevd_bundle.pydevd_resolver' from 'C:\\\\Program Files\\\\JetBrains\\\\PyCharm 2022.2\\\\plugins\\\\python\\\\helpers\\\\pydev\\\\_pydevd_bundle\\\\pydevd_resolver.py'>,\n '_pydevd_bundle.pydevd_extension_api': <module '_pydevd_bundle.pydevd_extension_api' from 'C:\\\\Program Files\\\\JetBrains\\\\PyCharm 2022.2\\\\plugins\\\\python\\\\helpers\\\\pydev\\\\_pydevd_bundle\\\\pydevd_extension_api.py'>,\n '_pydevd_bundle.pydevd_user_type_renderers_utils': <module '_pydevd_bundle.pydevd_user_type_renderers_utils' from 'C:\\\\Program Files\\\\JetBrains\\\\PyCharm 2022.2\\\\plugins\\\\python\\\\helpers\\\\pydev\\\\_pydevd_bundle\\\\pydevd_user_type_renderers_utils.py'>,\n '_pydevd_bundle.pydevd_xml': <module '_pydevd_bundle.pydevd_xml' from 'C:\\\\Program Files\\\\JetBrains\\\\PyCharm 2022.2\\\\plugins\\\\python\\\\helpers\\\\pydev\\\\_pydevd_bundle\\\\pydevd_xml.py'>,\n '_pydevd_bundle.pydevd_custom_frames': <module '_pydevd_bundle.pydevd_custom_frames' from 'C:\\\\Program Files\\\\JetBrains\\\\PyCharm 2022.2\\\\plugins\\\\python\\\\helpers\\\\pydev\\\\_pydevd_bundle\\\\pydevd_custom_frames.py'>,\n '_pydevd_bundle.pydevd_save_locals': <module '_pydevd_bundle.pydevd_save_locals' from 'C:\\\\Program Files\\\\JetBrains\\\\PyCharm 2022.2\\\\plugins\\\\python\\\\helpers\\\\pydev\\\\_pydevd_bundle\\\\pydevd_save_locals.py'>,\n '_pydevd_bundle.pydevd_vars': <module '_pydevd_bundle.pydevd_vars' from 'C:\\\\Program Files\\\\JetBrains\\\\PyCharm 2022.2\\\\plugins\\\\python\\\\helpers\\\\pydev\\\\_pydevd_bundle\\\\pydevd_vars.py'>,\n '_pydevd_bundle.pydevd_tables': <module '_pydevd_bundle.pydevd_tables' from 'C:\\\\Program Files\\\\JetBrains\\\\PyCharm 2022.2\\\\plugins\\\\python\\\\helpers\\\\pydev\\\\_pydevd_bundle\\\\pydevd_tables.py'>,\n '_pydevd_bundle.pydevd_user_type_renderers': <module '_pydevd_bundle.pydevd_user_type_renderers' from 'C:\\\\Program Files\\\\JetBrains\\\\PyCharm 2022.2\\\\plugins\\\\python\\\\helpers\\\\pydev\\\\_pydevd_bundle\\\\pydevd_user_type_renderers.py'>,\n 'pydev_jupyter_vars': <module 'pydev_jupyter_vars' from 'C:\\\\Program Files\\\\JetBrains\\\\PyCharm 2022.2\\\\plugins\\\\python\\\\helpers-pro\\\\jupyter_debug\\\\pydev_jupyter_vars.py'>,\n 'pydevd_plugins.extensions.types': <module 'pydevd_plugins.extensions.types' from 'C:\\\\Program Files\\\\JetBrains\\\\PyCharm 2022.2\\\\plugins\\\\python\\\\helpers\\\\pydev\\\\pydevd_plugins\\\\extensions\\\\types\\\\__init__.py'>,\n 'pydevd_plugins.extensions.types.pydevd_helpers': <module 'pydevd_plugins.extensions.types.pydevd_helpers' from 'C:\\\\Program Files\\\\JetBrains\\\\PyCharm 2022.2\\\\plugins\\\\python\\\\helpers\\\\pydev\\\\pydevd_plugins\\\\extensions\\\\types\\\\pydevd_helpers.py'>,\n 'pydevd_plugins.extensions.types.pydevd_plugin_numpy_types': <module 'pydevd_plugins.extensions.types.pydevd_plugin_numpy_types' from 'C:\\\\Program Files\\\\JetBrains\\\\PyCharm 2022.2\\\\plugins\\\\python\\\\helpers\\\\pydev\\\\pydevd_plugins\\\\extensions\\\\types\\\\pydevd_plugin_numpy_types.py'>,\n 'pydevd_plugins.extensions.types.pydevd_plugins_django_form_str': <module 'pydevd_plugins.extensions.types.pydevd_plugins_django_form_str' from 'C:\\\\Program Files\\\\JetBrains\\\\PyCharm 2022.2\\\\plugins\\\\python\\\\helpers\\\\pydev\\\\pydevd_plugins\\\\extensions\\\\types\\\\pydevd_plugins_django_form_str.py'>,\n 'jedi.inference.finder': <module 'jedi.inference.finder' from 'C:\\\\Users\\\\Lenovo\\\\AppData\\\\Roaming\\\\Python\\\\Python311\\\\site-packages\\\\jedi\\\\inference\\\\finder.py'>,\n 'jedi.inference.star_args': <module 'jedi.inference.star_args' from 'C:\\\\Users\\\\Lenovo\\\\AppData\\\\Roaming\\\\Python\\\\Python311\\\\site-packages\\\\jedi\\\\inference\\\\star_args.py'>,\n 'pygments.styles.default': <module 'pygments.styles.default' from 'C:\\\\Users\\\\Lenovo\\\\AppData\\\\Roaming\\\\Python\\\\Python311\\\\site-packages\\\\pygments\\\\styles\\\\default.py'>,\n 'asttokens.mark_tokens': <module 'asttokens.mark_tokens' from 'C:\\\\Users\\\\Lenovo\\\\AppData\\\\Roaming\\\\Python\\\\Python311\\\\site-packages\\\\asttokens\\\\mark_tokens.py'>}"
     },
     "execution_count": 35,
     "metadata": {},
     "output_type": "execute_result"
    }
   ],
   "source": [
    "sys.modules"
   ],
   "metadata": {
    "collapsed": false,
    "pycharm": {
     "name": "#%%\n"
    }
   }
  },
  {
   "cell_type": "code",
   "execution_count": 34,
   "outputs": [
    {
     "data": {
      "text/plain": "dict"
     },
     "execution_count": 34,
     "metadata": {},
     "output_type": "execute_result"
    }
   ],
   "source": [
    "type(sys.modules)\n",
    "#? this is \"THE Dictionary\"  which contain the module symbol and module address"
   ],
   "metadata": {
    "collapsed": false,
    "pycharm": {
     "name": "#%%\n"
    }
   }
  },
  {
   "cell_type": "code",
   "execution_count": 36,
   "outputs": [
    {
     "data": {
      "text/plain": "True"
     },
     "execution_count": 36,
     "metadata": {},
     "output_type": "execute_result"
    }
   ],
   "source": [
    "sys.modules[\"math\"] is globals()[\"math\"]"
   ],
   "metadata": {
    "collapsed": false,
    "pycharm": {
     "name": "#%%\n"
    }
   }
  },
  {
   "cell_type": "code",
   "execution_count": 37,
   "outputs": [],
   "source": [
    "#! what happen we import the module?\n",
    "#* python load the module into memory and added the reference to sys.module\n",
    "#* since we loaded the math module from the \"__main__ module\" it also added the math module reference into the global namsespace dict\n",
    "\n",
    "#! what if load the module form the other module?\n",
    "#* python go and search in sys.module if it finds the module it will give the reference to the module namespace\n",
    "#? it won't reload the module"
   ],
   "metadata": {
    "collapsed": false,
    "pycharm": {
     "name": "#%%\n"
    }
   }
  },
  {
   "cell_type": "markdown",
   "source": [
    "# Introspection"
   ],
   "metadata": {
    "collapsed": false,
    "pycharm": {
     "name": "#%% md\n"
    }
   }
  },
  {
   "cell_type": "code",
   "execution_count": 38,
   "outputs": [
    {
     "data": {
      "text/plain": "{'__name__': 'math',\n '__doc__': 'This module provides access to the mathematical functions\\ndefined by the C standard.',\n '__package__': '',\n '__loader__': _frozen_importlib.BuiltinImporter,\n '__spec__': ModuleSpec(name='math', loader=<class '_frozen_importlib.BuiltinImporter'>, origin='built-in'),\n 'acos': <function math.acos(x, /)>,\n 'acosh': <function math.acosh(x, /)>,\n 'asin': <function math.asin(x, /)>,\n 'asinh': <function math.asinh(x, /)>,\n 'atan': <function math.atan(x, /)>,\n 'atan2': <function math.atan2(y, x, /)>,\n 'atanh': <function math.atanh(x, /)>,\n 'cbrt': <function math.cbrt(x, /)>,\n 'ceil': <function math.ceil(x, /)>,\n 'copysign': <function math.copysign(x, y, /)>,\n 'cos': <function math.cos(x, /)>,\n 'cosh': <function math.cosh(x, /)>,\n 'degrees': <function math.degrees(x, /)>,\n 'dist': <function math.dist(p, q, /)>,\n 'erf': <function math.erf(x, /)>,\n 'erfc': <function math.erfc(x, /)>,\n 'exp': <function math.exp(x, /)>,\n 'exp2': <function math.exp2(x, /)>,\n 'expm1': <function math.expm1(x, /)>,\n 'fabs': <function math.fabs(x, /)>,\n 'factorial': <function math.factorial(n, /)>,\n 'floor': <function math.floor(x, /)>,\n 'fmod': <function math.fmod(x, y, /)>,\n 'frexp': <function math.frexp(x, /)>,\n 'fsum': <function math.fsum(seq, /)>,\n 'gamma': <function math.gamma(x, /)>,\n 'gcd': <function math.gcd(*integers)>,\n 'hypot': <function math.hypot>,\n 'isclose': <function math.isclose(a, b, *, rel_tol=1e-09, abs_tol=0.0)>,\n 'isfinite': <function math.isfinite(x, /)>,\n 'isinf': <function math.isinf(x, /)>,\n 'isnan': <function math.isnan(x, /)>,\n 'isqrt': <function math.isqrt(n, /)>,\n 'lcm': <function math.lcm(*integers)>,\n 'ldexp': <function math.ldexp(x, i, /)>,\n 'lgamma': <function math.lgamma(x, /)>,\n 'log': <function math.log>,\n 'log1p': <function math.log1p(x, /)>,\n 'log10': <function math.log10(x, /)>,\n 'log2': <function math.log2(x, /)>,\n 'modf': <function math.modf(x, /)>,\n 'pow': <function math.pow(x, y, /)>,\n 'radians': <function math.radians(x, /)>,\n 'remainder': <function math.remainder(x, y, /)>,\n 'sin': <function math.sin(x, /)>,\n 'sinh': <function math.sinh(x, /)>,\n 'sqrt': <function math.sqrt(x, /)>,\n 'tan': <function math.tan(x, /)>,\n 'tanh': <function math.tanh(x, /)>,\n 'trunc': <function math.trunc(x, /)>,\n 'prod': <function math.prod(iterable, /, *, start=1)>,\n 'perm': <function math.perm(n, k=None, /)>,\n 'comb': <function math.comb(n, k, /)>,\n 'nextafter': <function math.nextafter(x, y, /)>,\n 'ulp': <function math.ulp(x, /)>,\n 'pi': 3.141592653589793,\n 'e': 2.718281828459045,\n 'tau': 6.283185307179586,\n 'inf': inf,\n 'nan': nan}"
     },
     "execution_count": 38,
     "metadata": {},
     "output_type": "execute_result"
    }
   ],
   "source": [
    "math.__dict__\n",
    "#? contain all the attribute in the math module"
   ],
   "metadata": {
    "collapsed": false,
    "pycharm": {
     "name": "#%%\n"
    }
   }
  },
  {
   "cell_type": "code",
   "execution_count": 39,
   "outputs": [
    {
     "name": "stdout",
     "output_type": "stream",
     "text": [
      "<built-in function sqrt>\n",
      "1.4142135623730951\n"
     ]
    }
   ],
   "source": [
    "f = math.__dict__[\"sqrt\"]\n",
    "print(f)\n",
    "print(f(2))"
   ],
   "metadata": {
    "collapsed": false,
    "pycharm": {
     "name": "#%%\n"
    }
   }
  },
  {
   "cell_type": "code",
   "execution_count": 40,
   "outputs": [
    {
     "data": {
      "text/plain": "<module 'fractions' from 'C:\\\\Users\\\\Lenovo\\\\AppData\\\\Local\\\\Programs\\\\Python\\\\Python311\\\\Lib\\\\fractions.py'>"
     },
     "execution_count": 40,
     "metadata": {},
     "output_type": "execute_result"
    }
   ],
   "source": [
    "import fractions\n",
    "sys.modules[\"fractions\"]"
   ],
   "metadata": {
    "collapsed": false,
    "pycharm": {
     "name": "#%%\n"
    }
   }
  },
  {
   "cell_type": "code",
   "execution_count": 41,
   "outputs": [
    {
     "data": {
      "text/plain": "['Decimal',\n 'Fraction',\n '_PyHASH_INF',\n '_PyHASH_MODULUS',\n '_RATIONAL_FORMAT',\n '__all__',\n '__builtins__',\n '__cached__',\n '__doc__',\n '__file__',\n '__loader__',\n '__name__',\n '__package__',\n '__spec__',\n 'math',\n 'numbers',\n 'operator',\n 're',\n 'sys']"
     },
     "execution_count": 41,
     "metadata": {},
     "output_type": "execute_result"
    }
   ],
   "source": [
    "dir(fractions)"
   ],
   "metadata": {
    "collapsed": false,
    "pycharm": {
     "name": "#%%\n"
    }
   }
  },
  {
   "cell_type": "code",
   "execution_count": 42,
   "outputs": [
    {
     "data": {
      "text/plain": "'C:\\\\Users\\\\Lenovo\\\\AppData\\\\Local\\\\Programs\\\\Python\\\\Python311\\\\Lib\\\\fractions.py'"
     },
     "execution_count": 42,
     "metadata": {},
     "output_type": "execute_result"
    }
   ],
   "source": [
    "fractions.__file__\n"
   ],
   "metadata": {
    "collapsed": false,
    "pycharm": {
     "name": "#%%\n"
    }
   }
  },
  {
   "cell_type": "markdown",
   "source": [
    "# What are module\n",
    "\n",
    "1. module is type like list etc\n",
    "2. can load the file\n"
   ],
   "metadata": {
    "collapsed": false,
    "pycharm": {
     "name": "#%% md\n"
    }
   }
  },
  {
   "cell_type": "code",
   "execution_count": 43,
   "outputs": [],
   "source": [
    "from types import ModuleType"
   ],
   "metadata": {
    "collapsed": false,
    "pycharm": {
     "name": "#%%\n"
    }
   }
  },
  {
   "cell_type": "code",
   "execution_count": 44,
   "outputs": [
    {
     "data": {
      "text/plain": "True"
     },
     "execution_count": 44,
     "metadata": {},
     "output_type": "execute_result"
    }
   ],
   "source": [
    "isinstance(math,ModuleType)"
   ],
   "metadata": {
    "collapsed": false,
    "pycharm": {
     "name": "#%%\n"
    }
   }
  },
  {
   "cell_type": "code",
   "execution_count": 45,
   "outputs": [
    {
     "data": {
      "text/plain": "True"
     },
     "execution_count": 45,
     "metadata": {},
     "output_type": "execute_result"
    }
   ],
   "source": [
    "isinstance(fractions,ModuleType)"
   ],
   "metadata": {
    "collapsed": false,
    "pycharm": {
     "name": "#%%\n"
    }
   }
  },
  {
   "cell_type": "code",
   "execution_count": 46,
   "outputs": [],
   "source": [
    "#? we can create oru won module\n",
    "mod = ModuleType(name=\"test\",doc=\"this is test module\")"
   ],
   "metadata": {
    "collapsed": false,
    "pycharm": {
     "name": "#%%\n"
    }
   }
  },
  {
   "cell_type": "code",
   "execution_count": 47,
   "outputs": [
    {
     "data": {
      "text/plain": "True"
     },
     "execution_count": 47,
     "metadata": {},
     "output_type": "execute_result"
    }
   ],
   "source": [
    "isinstance(mod,ModuleType)"
   ],
   "metadata": {
    "collapsed": false,
    "pycharm": {
     "name": "#%%\n"
    }
   }
  },
  {
   "cell_type": "code",
   "execution_count": 48,
   "outputs": [
    {
     "data": {
      "text/plain": "{'__name__': 'test',\n '__doc__': 'this is test module',\n '__package__': None,\n '__loader__': None,\n '__spec__': None}"
     },
     "execution_count": 48,
     "metadata": {},
     "output_type": "execute_result"
    }
   ],
   "source": [
    "mod.__dict__"
   ],
   "metadata": {
    "collapsed": false,
    "pycharm": {
     "name": "#%%\n"
    }
   }
  },
  {
   "cell_type": "code",
   "execution_count": 49,
   "outputs": [],
   "source": [
    "mod.pi = 3.14"
   ],
   "metadata": {
    "collapsed": false,
    "pycharm": {
     "name": "#%%\n"
    }
   }
  },
  {
   "cell_type": "code",
   "execution_count": 50,
   "outputs": [
    {
     "data": {
      "text/plain": "{'__name__': 'test',\n '__doc__': 'this is test module',\n '__package__': None,\n '__loader__': None,\n '__spec__': None,\n 'pi': 3.14}"
     },
     "execution_count": 50,
     "metadata": {},
     "output_type": "execute_result"
    }
   ],
   "source": [
    "mod.__dict__"
   ],
   "metadata": {
    "collapsed": false,
    "pycharm": {
     "name": "#%%\n"
    }
   }
  },
  {
   "cell_type": "code",
   "execution_count": 51,
   "outputs": [],
   "source": [
    "mod.hello = lambda : \"hello\""
   ],
   "metadata": {
    "collapsed": false,
    "pycharm": {
     "name": "#%%\n"
    }
   }
  },
  {
   "cell_type": "code",
   "execution_count": 52,
   "outputs": [
    {
     "data": {
      "text/plain": "{'__name__': 'test',\n '__doc__': 'this is test module',\n '__package__': None,\n '__loader__': None,\n '__spec__': None,\n 'pi': 3.14,\n 'hello': <function __main__.<lambda>()>}"
     },
     "execution_count": 52,
     "metadata": {},
     "output_type": "execute_result"
    }
   ],
   "source": [
    "mod.__dict__"
   ],
   "metadata": {
    "collapsed": false,
    "pycharm": {
     "name": "#%%\n"
    }
   }
  },
  {
   "cell_type": "code",
   "execution_count": 54,
   "outputs": [
    {
     "data": {
      "text/plain": "'hello'"
     },
     "execution_count": 54,
     "metadata": {},
     "output_type": "execute_result"
    }
   ],
   "source": [
    "mod.hello()"
   ],
   "metadata": {
    "collapsed": false,
    "pycharm": {
     "name": "#%%\n"
    }
   }
  },
  {
   "cell_type": "code",
   "execution_count": 55,
   "outputs": [
    {
     "data": {
      "text/plain": "'hello'"
     },
     "execution_count": 55,
     "metadata": {},
     "output_type": "execute_result"
    }
   ],
   "source": [
    "#? the same thing doing\n",
    "mod.__dict__[\"hello\"]()"
   ],
   "metadata": {
    "collapsed": false,
    "pycharm": {
     "name": "#%%\n"
    }
   }
  },
  {
   "cell_type": "code",
   "execution_count": 56,
   "outputs": [
    {
     "data": {
      "text/plain": "'hello'"
     },
     "execution_count": 56,
     "metadata": {},
     "output_type": "execute_result"
    }
   ],
   "source": [
    "getattr(mod,\"hello\")()"
   ],
   "metadata": {
    "collapsed": false,
    "pycharm": {
     "name": "#%%\n"
    }
   }
  },
  {
   "cell_type": "code",
   "execution_count": null,
   "outputs": [],
   "source": [],
   "metadata": {
    "collapsed": false,
    "pycharm": {
     "name": "#%%\n"
    }
   }
  }
 ],
 "metadata": {
  "kernelspec": {
   "display_name": "Python 3",
   "language": "python",
   "name": "python3"
  },
  "language_info": {
   "codemirror_mode": {
    "name": "ipython",
    "version": 2
   },
   "file_extension": ".py",
   "mimetype": "text/x-python",
   "name": "python",
   "nbconvert_exporter": "python",
   "pygments_lexer": "ipython2",
   "version": "2.7.6"
  }
 },
 "nbformat": 4,
 "nbformat_minor": 0
}