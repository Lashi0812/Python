{
 "cells": [
  {
   "cell_type": "code",
   "execution_count": 1,
   "metadata": {
    "collapsed": true,
    "pycharm": {
     "name": "#%%\n"
    }
   },
   "outputs": [],
   "source": [
    "import time"
   ]
  },
  {
   "cell_type": "code",
   "execution_count": 2,
   "outputs": [],
   "source": [
    "def time_it(fn,*args,**kwargs):\n",
    "    print(args,kwargs)"
   ],
   "metadata": {
    "collapsed": false,
    "pycharm": {
     "name": "#%%\n"
    }
   }
  },
  {
   "cell_type": "code",
   "execution_count": 3,
   "outputs": [
    {
     "name": "stdout",
     "output_type": "stream",
     "text": [
      "(1, 2, 3) {'sep': '-', 'end': '***'}\n"
     ]
    }
   ],
   "source": [
    "time_it(print,1,2,3,sep=\"-\",end=\"***\")"
   ],
   "metadata": {
    "collapsed": false,
    "pycharm": {
     "name": "#%%\n"
    }
   }
  },
  {
   "cell_type": "code",
   "execution_count": 4,
   "outputs": [],
   "source": [
    "def time_it(fn,*args,**kwargs):\n",
    "    fn(args,kwargs)"
   ],
   "metadata": {
    "collapsed": false,
    "pycharm": {
     "name": "#%%\n"
    }
   }
  },
  {
   "cell_type": "code",
   "execution_count": 5,
   "outputs": [
    {
     "name": "stdout",
     "output_type": "stream",
     "text": [
      "(1, 2, 3) {'sep': '-', 'end': '***'}\n"
     ]
    }
   ],
   "source": [
    "time_it(print,1,2,3,sep=\"-\",end=\"***\")"
   ],
   "metadata": {
    "collapsed": false,
    "pycharm": {
     "name": "#%%\n"
    }
   }
  },
  {
   "cell_type": "code",
   "execution_count": 6,
   "outputs": [],
   "source": [
    "def time_it(fn,*args,**kwargs):\n",
    "    # we need to unpack argument\n",
    "    fn(*args,**kwargs)"
   ],
   "metadata": {
    "collapsed": false,
    "pycharm": {
     "name": "#%%\n"
    }
   }
  },
  {
   "cell_type": "code",
   "execution_count": 8,
   "outputs": [
    {
     "name": "stdout",
     "output_type": "stream",
     "text": [
      "1-2-3 ***"
     ]
    }
   ],
   "source": [
    "time_it(print,1,2,3,sep=\"-\",end=\" ***\")"
   ],
   "metadata": {
    "collapsed": false,
    "pycharm": {
     "name": "#%%\n"
    }
   }
  },
  {
   "cell_type": "code",
   "execution_count": 9,
   "outputs": [],
   "source": [
    "def time_it(fn,*args,rep =1 ,**kwargs):\n",
    "    for _ in range(rep):\n",
    "        fn(*args,**kwargs)"
   ],
   "metadata": {
    "collapsed": false,
    "pycharm": {
     "name": "#%%\n"
    }
   }
  },
  {
   "cell_type": "code",
   "execution_count": 10,
   "outputs": [
    {
     "name": "stdout",
     "output_type": "stream",
     "text": [
      "1-2-3 ***\n",
      "1-2-3 ***\n",
      "1-2-3 ***\n",
      "1-2-3 ***\n",
      "1-2-3 ***\n"
     ]
    }
   ],
   "source": [
    "time_it(print,1,2,3,sep=\"-\",end=\" ***\\n\" ,rep=5)"
   ],
   "metadata": {
    "collapsed": false,
    "pycharm": {
     "name": "#%%\n"
    }
   }
  },
  {
   "cell_type": "code",
   "execution_count": 44,
   "outputs": [],
   "source": [
    "def time_it(fn,*args,rep =1 ,**kwargs):\n",
    "    start = time.perf_counter()\n",
    "    for _ in range(rep):\n",
    "        fn(*args,**kwargs)\n",
    "    end = time.perf_counter()\n",
    "    print(f\"{fn.__name__} function takes {(end - start) / rep}\")"
   ],
   "metadata": {
    "collapsed": false,
    "pycharm": {
     "name": "#%%\n"
    }
   }
  },
  {
   "cell_type": "code",
   "execution_count": 35,
   "outputs": [
    {
     "name": "stdout",
     "output_type": "stream",
     "text": [
      "1-2-3 ***\n",
      "1-2-3 ***\n",
      "1-2-3 ***\n",
      "1-2-3 ***\n",
      "1-2-3 ***\n"
     ]
    },
    {
     "data": {
      "text/plain": "'print functions takes 0.00010300000431016088'"
     },
     "execution_count": 35,
     "metadata": {},
     "output_type": "execute_result"
    }
   ],
   "source": [
    "time_it(print,1,2,3,sep=\"-\",end=\" ***\\n\" ,rep=5)"
   ],
   "metadata": {
    "collapsed": false,
    "pycharm": {
     "name": "#%%\n"
    }
   }
  },
  {
   "cell_type": "code",
   "execution_count": 36,
   "outputs": [],
   "source": [
    "def compute_power_1(n,*,start=1,end):\n",
    "    # using a for loop\n",
    "    results= []\n",
    "    for i in range(start,end):\n",
    "        results.append(n**i)\n",
    "    return results"
   ],
   "metadata": {
    "collapsed": false,
    "pycharm": {
     "name": "#%%\n"
    }
   }
  },
  {
   "cell_type": "code",
   "execution_count": 37,
   "outputs": [
    {
     "data": {
      "text/plain": "[2, 4]"
     },
     "execution_count": 37,
     "metadata": {},
     "output_type": "execute_result"
    }
   ],
   "source": [
    "compute_power_1(2,end=3)"
   ],
   "metadata": {
    "collapsed": false,
    "pycharm": {
     "name": "#%%\n"
    }
   }
  },
  {
   "cell_type": "code",
   "execution_count": 38,
   "outputs": [],
   "source": [
    "def compute_power_2(n,*,start=1,end):\n",
    "    # using a list comprehension\n",
    "    return [n**i for i in range(start,end)]"
   ],
   "metadata": {
    "collapsed": false,
    "pycharm": {
     "name": "#%%\n"
    }
   }
  },
  {
   "cell_type": "code",
   "execution_count": 39,
   "outputs": [
    {
     "data": {
      "text/plain": "[2, 4, 8]"
     },
     "execution_count": 39,
     "metadata": {},
     "output_type": "execute_result"
    }
   ],
   "source": [
    "\n",
    "compute_power_2(2,end=4)"
   ],
   "metadata": {
    "collapsed": false,
    "pycharm": {
     "name": "#%%\n"
    }
   }
  },
  {
   "cell_type": "code",
   "execution_count": 40,
   "outputs": [],
   "source": [
    "\n",
    "def compute_power_3(n,*,start=1,end):\n",
    "    return (n**i for i in range(start,end))"
   ],
   "metadata": {
    "collapsed": false,
    "pycharm": {
     "name": "#%%\n"
    }
   }
  },
  {
   "cell_type": "code",
   "execution_count": 31,
   "outputs": [
    {
     "data": {
      "text/plain": "<generator object compute_power_3.<locals>.<genexpr> at 0x0000024966DAC580>"
     },
     "execution_count": 31,
     "metadata": {},
     "output_type": "execute_result"
    }
   ],
   "source": [
    "compute_power_3(2,end=2)"
   ],
   "metadata": {
    "collapsed": false,
    "pycharm": {
     "name": "#%%\n"
    }
   }
  },
  {
   "cell_type": "code",
   "execution_count": 45,
   "outputs": [
    {
     "name": "stdout",
     "output_type": "stream",
     "text": [
      "compute_power_1 function takes 0.3366225000005215\n",
      "compute_power_2 function takes 0.32364767999970356\n",
      "compute_power_3 function takes 1.9599974621087313e-06\n"
     ]
    }
   ],
   "source": [
    "time_it(compute_power_1,2,start=0,rep=5,end=20000)\n",
    "time_it(compute_power_2,n=2,rep=5,start=0,end=20000)\n",
    "#! note im passing n as the keyword argument , but n is the keyword argument\n",
    "#? it fine to pass the positional argument as the keyword argument\n",
    "#? when we unpack the **kwargs n automatically sits on the n position\n",
    "time_it(compute_power_3,n=2,start=0,end=20000,rep=5)"
   ],
   "metadata": {
    "collapsed": false,
    "pycharm": {
     "name": "#%%\n"
    }
   }
  },
  {
   "cell_type": "code",
   "execution_count": 33,
   "outputs": [
    {
     "data": {
      "text/plain": "'compute_power_2 takes0.32466530000092464'"
     },
     "execution_count": 33,
     "metadata": {},
     "output_type": "execute_result"
    }
   ],
   "source": [
    "time_it(compute_power_2,n=2,rep=5,start=0,end=20000)\n",
    "#! note im passing n as the keyword argument , but n is the keyword argument\n",
    "#? it fine to pass the positional argument as the keyword argument\n",
    "#? when we unpack the **kwargs n automatically sits on the n position"
   ],
   "metadata": {
    "collapsed": false,
    "pycharm": {
     "name": "#%%\n"
    }
   }
  },
  {
   "cell_type": "code",
   "execution_count": null,
   "outputs": [],
   "source": [],
   "metadata": {
    "collapsed": false,
    "pycharm": {
     "name": "#%%\n"
    }
   }
  }
 ],
 "metadata": {
  "kernelspec": {
   "display_name": "Python 3",
   "language": "python",
   "name": "python3"
  },
  "language_info": {
   "codemirror_mode": {
    "name": "ipython",
    "version": 2
   },
   "file_extension": ".py",
   "mimetype": "text/x-python",
   "name": "python",
   "nbconvert_exporter": "python",
   "pygments_lexer": "ipython2",
   "version": "2.7.6"
  }
 },
 "nbformat": 4,
 "nbformat_minor": 0
}