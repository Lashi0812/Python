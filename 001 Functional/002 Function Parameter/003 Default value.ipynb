{
 "cells": [
  {
   "cell_type": "markdown",
   "source": [
    "**What happens as run time?**\n",
    "1. When the module is loaded  : all code inside that module is executed immediately\n",
    "\n",
    "> What is mean by module is executed?\n",
    "> 1. ```a=10```  the integer object is created and \"a\" reference it\n",
    "> 2. ```def func(a):    print(a)```the function is created and func reference it\n",
    "> 3. ```func(a)``` the function is executed\n",
    "\n",
    "> What happen the function is created with the default value?\n",
    "> 1. ```def func(a=10) :print(a)``` when the module is loaded the def will create the function and ```10``` object is created and reference to ```a```\n"
   ],
   "metadata": {
    "collapsed": false,
    "pycharm": {
     "name": "#%% md\n"
    }
   }
  },
  {
   "cell_type": "code",
   "execution_count": 4,
   "outputs": [],
   "source": [
    "#? We want to create as function that will write a log entry to console with user specified event data.tim , if the user does nt supply a data.time ,we want to set it to the current data/time\n",
    "\n",
    "\n",
    "from datetime import datetime\n",
    "def log(msg,*,dt=datetime.utcnow()):\n",
    "    print(f\"{dt} : {msg}\")\n",
    "\n",
    "#? def is called and the log function created and reference it to the log along with that \"dt\" object created with time when the def is created.\"dt\" has the reference to that object\n",
    "#! when ever the function is called with only the message this function will print the time of the def is created not pointing to time of function call"
   ],
   "metadata": {
    "collapsed": false,
    "pycharm": {
     "name": "#%%\n"
    }
   }
  },
  {
   "cell_type": "code",
   "execution_count": 2,
   "outputs": [
    {
     "name": "stdout",
     "output_type": "stream",
     "text": [
      "2022-11-15 03:53:31.734207 : message1\n"
     ]
    }
   ],
   "source": [
    "log(\"message1\")"
   ],
   "metadata": {
    "collapsed": false,
    "pycharm": {
     "name": "#%%\n"
    }
   }
  },
  {
   "cell_type": "code",
   "execution_count": 6,
   "outputs": [
    {
     "name": "stdout",
     "output_type": "stream",
     "text": [
      "2022-11-15 03:57:31.705491 : message2\n"
     ]
    }
   ],
   "source": [
    "log(\"message2\")"
   ],
   "metadata": {
    "collapsed": false,
    "pycharm": {
     "name": "#%%\n"
    }
   }
  },
  {
   "cell_type": "code",
   "execution_count": 7,
   "outputs": [
    {
     "name": "stdout",
     "output_type": "stream",
     "text": [
      "2022-11-15 03:57:31.705491 : message3\n"
     ]
    }
   ],
   "source": [
    "log(\"message3\")\n",
    "#! even-though the function is called at different time , it's printing the same time\n",
    "#? why this happens ?  the \"dt\" is reference to the object which is created when the def is created"
   ],
   "metadata": {
    "collapsed": false,
    "pycharm": {
     "name": "#%%\n"
    }
   }
  },
  {
   "cell_type": "code",
   "execution_count": 8,
   "outputs": [],
   "source": [
    "#? Solution to problem\n",
    "#* Don't created the mutable object as the default value , use None for default value\n",
    "#* inside the function create the function object\n",
    "\n",
    "from datetime import datetime\n",
    "def log(msg,*,dt=None):\n",
    "    dt = dt or datetime.utcnow()\n",
    "    print(f\"{dt} : {msg}\")"
   ],
   "metadata": {
    "collapsed": false,
    "pycharm": {
     "name": "#%%\n"
    }
   }
  },
  {
   "cell_type": "code",
   "execution_count": 9,
   "outputs": [
    {
     "name": "stdout",
     "output_type": "stream",
     "text": [
      "2022-11-15 04:03:31.365344 : message1\n"
     ]
    }
   ],
   "source": [
    "log(\"message1\")"
   ],
   "metadata": {
    "collapsed": false,
    "pycharm": {
     "name": "#%%\n"
    }
   }
  },
  {
   "cell_type": "code",
   "execution_count": 12,
   "outputs": [
    {
     "name": "stdout",
     "output_type": "stream",
     "text": [
      "2022-11-15 04:03:42.002319 : message2\n"
     ]
    }
   ],
   "source": [
    "log(\"message2\")"
   ],
   "metadata": {
    "collapsed": false,
    "pycharm": {
     "name": "#%%\n"
    }
   }
  },
  {
   "cell_type": "code",
   "execution_count": 13,
   "outputs": [
    {
     "name": "stdout",
     "output_type": "stream",
     "text": [
      "2022-11-15 04:03:44.641848 : message2\n"
     ]
    }
   ],
   "source": [
    "log(\"message2\")"
   ],
   "metadata": {
    "collapsed": false,
    "pycharm": {
     "name": "#%%\n"
    }
   }
  },
  {
   "cell_type": "markdown",
   "source": [
    "# Caveat 2"
   ],
   "metadata": {
    "collapsed": false,
    "pycharm": {
     "name": "#%% md\n"
    }
   }
  },
  {
   "cell_type": "code",
   "execution_count": 14,
   "outputs": [],
   "source": [
    "def add_item(item,grocery_list):\n",
    "    grocery_list.append(item)"
   ],
   "metadata": {
    "collapsed": false,
    "pycharm": {
     "name": "#%%\n"
    }
   }
  },
  {
   "cell_type": "code",
   "execution_count": 15,
   "outputs": [],
   "source": [
    "store1 = []\n",
    "store2 = []\n",
    "\n",
    "add_item(\"apple\",store1)\n",
    "add_item(\"banana\",store1)\n"
   ],
   "metadata": {
    "collapsed": false,
    "pycharm": {
     "name": "#%%\n"
    }
   }
  },
  {
   "cell_type": "code",
   "execution_count": 16,
   "outputs": [
    {
     "name": "stdout",
     "output_type": "stream",
     "text": [
      "['apple', 'banana']\n"
     ]
    }
   ],
   "source": [
    "print(store1)"
   ],
   "metadata": {
    "collapsed": false,
    "pycharm": {
     "name": "#%%\n"
    }
   }
  },
  {
   "cell_type": "code",
   "execution_count": 17,
   "outputs": [],
   "source": [
    "add_item(\"vegetable\",store2)"
   ],
   "metadata": {
    "collapsed": false,
    "pycharm": {
     "name": "#%%\n"
    }
   }
  },
  {
   "cell_type": "code",
   "execution_count": 19,
   "outputs": [
    {
     "name": "stdout",
     "output_type": "stream",
     "text": [
      "['vegetable']\n"
     ]
    }
   ],
   "source": [
    "print(store2)\n",
    "#? so far so good, in this approach user want ot create the empty list"
   ],
   "metadata": {
    "collapsed": false,
    "pycharm": {
     "name": "#%%\n"
    }
   }
  },
  {
   "cell_type": "code",
   "execution_count": 27,
   "outputs": [],
   "source": [
    "#? to make user life we create the empty list for user\n",
    "def add_item(item,grocery_list = []):\n",
    "    grocery_list.append(item)\n",
    "    return grocery_list"
   ],
   "metadata": {
    "collapsed": false,
    "pycharm": {
     "name": "#%%\n"
    }
   }
  },
  {
   "cell_type": "code",
   "execution_count": 28,
   "outputs": [
    {
     "name": "stdout",
     "output_type": "stream",
     "text": [
      "['apple', 'banana']\n"
     ]
    }
   ],
   "source": [
    "store1 = add_item(\"apple\")\n",
    "add_item(\"banana\",store1)\n",
    "print(store1)"
   ],
   "metadata": {
    "collapsed": false,
    "pycharm": {
     "name": "#%%\n"
    }
   }
  },
  {
   "cell_type": "code",
   "execution_count": 30,
   "outputs": [
    {
     "name": "stdout",
     "output_type": "stream",
     "text": [
      "['apple', 'banana', 'vegetable', 'vegetable']\n"
     ]
    }
   ],
   "source": [
    "#? now second user come and they create the own list\n",
    "store2 = add_item(\"vegetable\")\n",
    "print(store2)\n",
    "\n",
    "#? What happen user2 got the list of user1?\n",
    "#! when ever the def is created it called only once in the module\n",
    "#! so grocery_list object create only once and reference of object in th grocery_list\n",
    "#! when the user1 add their item in the grocery_list\n",
    "#! when the user2 come add their item in the same grocery_list which is created during the def is executed"
   ],
   "metadata": {
    "collapsed": false,
    "pycharm": {
     "name": "#%%\n"
    }
   }
  },
  {
   "cell_type": "code",
   "execution_count": 31,
   "outputs": [],
   "source": [
    "def add_item(item,grocery_list = None):\n",
    "    grocery_list = grocery_list or []\n",
    "    grocery_list.append(item)\n",
    "    return grocery_list"
   ],
   "metadata": {
    "collapsed": false,
    "pycharm": {
     "name": "#%%\n"
    }
   }
  },
  {
   "cell_type": "code",
   "execution_count": 32,
   "outputs": [
    {
     "name": "stdout",
     "output_type": "stream",
     "text": [
      "['apple', 'banana']\n"
     ]
    }
   ],
   "source": [
    "store1 = add_item(\"apple\")\n",
    "add_item(\"banana\",store1)\n",
    "print(store1)"
   ],
   "metadata": {
    "collapsed": false,
    "pycharm": {
     "name": "#%%\n"
    }
   }
  },
  {
   "cell_type": "code",
   "execution_count": 33,
   "outputs": [
    {
     "name": "stdout",
     "output_type": "stream",
     "text": [
      "['vegetable']\n"
     ]
    }
   ],
   "source": [
    "store2 = add_item(\"vegetable\")\n",
    "print(store2)"
   ],
   "metadata": {
    "collapsed": false,
    "pycharm": {
     "name": "#%%\n"
    }
   }
  },
  {
   "cell_type": "markdown",
   "source": [
    "# Using the problem as the power\n",
    "\n",
    "**Memoization**"
   ],
   "metadata": {
    "collapsed": false,
    "pycharm": {
     "name": "#%% md\n"
    }
   }
  },
  {
   "cell_type": "code",
   "execution_count": 34,
   "outputs": [],
   "source": [
    "def factorial(n):\n",
    "    if n < 1:\n",
    "        return 1\n",
    "    else:\n",
    "        print(f\"calculating the {n}!\")\n",
    "        return n * factorial(n-1)"
   ],
   "metadata": {
    "collapsed": false,
    "pycharm": {
     "name": "#%%\n"
    }
   }
  },
  {
   "cell_type": "code",
   "execution_count": 35,
   "outputs": [
    {
     "name": "stdout",
     "output_type": "stream",
     "text": [
      "calculating the 3!\n",
      "calculating the 2!\n",
      "calculating the 1!\n"
     ]
    },
    {
     "data": {
      "text/plain": "6"
     },
     "execution_count": 35,
     "metadata": {},
     "output_type": "execute_result"
    }
   ],
   "source": [
    "factorial(3)"
   ],
   "metadata": {
    "collapsed": false,
    "pycharm": {
     "name": "#%%\n"
    }
   }
  },
  {
   "cell_type": "code",
   "execution_count": 37,
   "outputs": [
    {
     "name": "stdout",
     "output_type": "stream",
     "text": [
      "calculating the 3!\n",
      "calculating the 2!\n",
      "calculating the 1!\n"
     ]
    },
    {
     "data": {
      "text/plain": "6"
     },
     "execution_count": 37,
     "metadata": {},
     "output_type": "execute_result"
    }
   ],
   "source": [
    "factorial(3)\n",
    "#? again and again we are calculating the factorial\n",
    "#? so we try to cache this calculation"
   ],
   "metadata": {
    "collapsed": false,
    "pycharm": {
     "name": "#%%\n"
    }
   }
  },
  {
   "cell_type": "code",
   "execution_count": 44,
   "outputs": [],
   "source": [
    "def factorial(n,*,cache):\n",
    "    if n < 1:\n",
    "        return 1\n",
    "    if n in cache:\n",
    "        return cache[n]\n",
    "    else:\n",
    "        print(f\"calculating the {n}!\")\n",
    "        result =  n * factorial(n-1,cache=cache)\n",
    "        cache[n] = result\n",
    "        return  result"
   ],
   "metadata": {
    "collapsed": false,
    "pycharm": {
     "name": "#%%\n"
    }
   }
  },
  {
   "cell_type": "code",
   "execution_count": 45,
   "outputs": [
    {
     "name": "stdout",
     "output_type": "stream",
     "text": [
      "calculating the 3!\n",
      "calculating the 2!\n",
      "calculating the 1!\n"
     ]
    },
    {
     "data": {
      "text/plain": "6"
     },
     "execution_count": 45,
     "metadata": {},
     "output_type": "execute_result"
    }
   ],
   "source": [
    "cache = {}\n",
    "factorial(3,cache=cache)"
   ],
   "metadata": {
    "collapsed": false,
    "pycharm": {
     "name": "#%%\n"
    }
   }
  },
  {
   "cell_type": "code",
   "execution_count": 46,
   "outputs": [
    {
     "data": {
      "text/plain": "6"
     },
     "execution_count": 46,
     "metadata": {},
     "output_type": "execute_result"
    }
   ],
   "source": [
    "factorial(3,cache=cache)\n",
    "#? now we are calculating again and again\n",
    "#? we calculate and we store them in cache"
   ],
   "metadata": {
    "collapsed": false,
    "pycharm": {
     "name": "#%%\n"
    }
   }
  },
  {
   "cell_type": "code",
   "execution_count": 49,
   "outputs": [
    {
     "name": "stdout",
     "output_type": "stream",
     "text": [
      "calculating the 4!\n"
     ]
    },
    {
     "data": {
      "text/plain": "24"
     },
     "execution_count": 49,
     "metadata": {},
     "output_type": "execute_result"
    }
   ],
   "source": [
    "factorial(4,cache=cache)"
   ],
   "metadata": {
    "collapsed": false,
    "pycharm": {
     "name": "#%%\n"
    }
   }
  },
  {
   "cell_type": "code",
   "execution_count": 50,
   "outputs": [],
   "source": [
    "def factorial(n,cache={}):\n",
    "    if n < 1:\n",
    "        return 1\n",
    "    if n in cache:\n",
    "        return cache[n]\n",
    "    else:\n",
    "        print(f\"calculating the {n}!\")\n",
    "        result =  n * factorial(n-1)\n",
    "        cache[n] = result\n",
    "        return  result"
   ],
   "metadata": {
    "collapsed": false,
    "pycharm": {
     "name": "#%%\n"
    }
   }
  },
  {
   "cell_type": "code",
   "execution_count": 51,
   "outputs": [
    {
     "name": "stdout",
     "output_type": "stream",
     "text": [
      "calculating the 3!\n",
      "calculating the 2!\n",
      "calculating the 1!\n"
     ]
    },
    {
     "data": {
      "text/plain": "6"
     },
     "execution_count": 51,
     "metadata": {},
     "output_type": "execute_result"
    }
   ],
   "source": [
    "factorial(3)"
   ],
   "metadata": {
    "collapsed": false,
    "pycharm": {
     "name": "#%%\n"
    }
   }
  },
  {
   "cell_type": "code",
   "execution_count": 52,
   "outputs": [
    {
     "name": "stdout",
     "output_type": "stream",
     "text": [
      "calculating the 4!\n"
     ]
    },
    {
     "data": {
      "text/plain": "24"
     },
     "execution_count": 52,
     "metadata": {},
     "output_type": "execute_result"
    }
   ],
   "source": [
    "factorial(4)"
   ],
   "metadata": {
    "collapsed": false,
    "pycharm": {
     "name": "#%%\n"
    }
   }
  },
  {
   "cell_type": "code",
   "execution_count": 53,
   "outputs": [
    {
     "data": {
      "text/plain": "6"
     },
     "execution_count": 53,
     "metadata": {},
     "output_type": "execute_result"
    }
   ],
   "source": [
    "factorial(3)"
   ],
   "metadata": {
    "collapsed": false,
    "pycharm": {
     "name": "#%%\n"
    }
   }
  }
 ],
 "metadata": {
  "kernelspec": {
   "display_name": "Python 3",
   "language": "python",
   "name": "python3"
  },
  "language_info": {
   "codemirror_mode": {
    "name": "ipython",
    "version": 2
   },
   "file_extension": ".py",
   "mimetype": "text/x-python",
   "name": "python",
   "nbconvert_exporter": "python",
   "pygments_lexer": "ipython2",
   "version": "2.7.6"
  }
 },
 "nbformat": 4,
 "nbformat_minor": 0
}