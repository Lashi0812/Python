{
 "cells": [
  {
   "cell_type": "markdown",
   "source": [
    "1. So far we have created the timed , logged,memoize decorator .\n",
    "2. they don't take parameter like wraps and lru_cache"
   ],
   "metadata": {
    "collapsed": false,
    "pycharm": {
     "name": "#%% md\n"
    }
   }
  },
  {
   "cell_type": "code",
   "execution_count": 7,
   "outputs": [],
   "source": [
    "def timed(fn):\n",
    "    from functools import wraps\n",
    "    from time import perf_counter\n",
    "\n",
    "    @wraps(fn)\n",
    "    def inner(*args,**kwargs):\n",
    "        start = perf_counter()\n",
    "        result = fn(*args,**kwargs)\n",
    "        end = perf_counter()\n",
    "        elapsed = end -start\n",
    "        print(f\"{fn.__name__} took {elapsed:.6f}s to run.\")\n",
    "        return result\n",
    "    return inner"
   ],
   "metadata": {
    "collapsed": false,
    "pycharm": {
     "name": "#%%\n"
    }
   }
  },
  {
   "cell_type": "code",
   "execution_count": 8,
   "outputs": [
    {
     "name": "stdout",
     "output_type": "stream",
     "text": [
      "my_func took 0.000001s to run.\n"
     ]
    }
   ],
   "source": [
    "@timed\n",
    "def my_func():\n",
    "    pass\n",
    "my_func()"
   ],
   "metadata": {
    "collapsed": false,
    "pycharm": {
     "name": "#%%\n"
    }
   }
  },
  {
   "cell_type": "markdown",
   "source": [
    "3. In this we need to avg time taken\n",
    "4. For this we will create the loop and hard code the value"
   ],
   "metadata": {
    "collapsed": false,
    "pycharm": {
     "name": "#%% md\n"
    }
   }
  },
  {
   "cell_type": "code",
   "execution_count": 10,
   "outputs": [],
   "source": [
    "def timed(fn):\n",
    "    from functools import wraps\n",
    "    from time import perf_counter\n",
    "\n",
    "    @wraps(fn)\n",
    "    def inner(*args,**kwargs):\n",
    "        total_elapsed = 0\n",
    "        for i in range(10):\n",
    "            print(f\"running the iteration {i}\")\n",
    "            start = perf_counter()\n",
    "            result = fn(*args,**kwargs)\n",
    "            end = perf_counter()\n",
    "            total_elapsed += end -start\n",
    "        avg_elapsed = total_elapsed/10\n",
    "        print(f\"{fn.__name__} took average {avg_elapsed:.6f}s to run.\")\n",
    "        return result\n",
    "    return inner"
   ],
   "metadata": {
    "collapsed": false,
    "pycharm": {
     "name": "#%%\n"
    }
   }
  },
  {
   "cell_type": "code",
   "execution_count": 11,
   "outputs": [
    {
     "name": "stdout",
     "output_type": "stream",
     "text": [
      "running the iteration 0\n",
      "running the iteration 1\n",
      "running the iteration 2\n",
      "running the iteration 3\n",
      "running the iteration 4\n",
      "running the iteration 5\n",
      "running the iteration 6\n",
      "running the iteration 7\n",
      "running the iteration 8\n",
      "running the iteration 9\n",
      "my_func took average 0.000001s to run.\n"
     ]
    }
   ],
   "source": [
    "@timed\n",
    "def my_func():\n",
    "    pass\n",
    "my_func()"
   ],
   "metadata": {
    "collapsed": false,
    "pycharm": {
     "name": "#%%\n"
    }
   }
  },
  {
   "cell_type": "markdown",
   "source": [
    "5. instead of hard coding the value we can pass the parameter to timed function"
   ],
   "metadata": {
    "collapsed": false,
    "pycharm": {
     "name": "#%% md\n"
    }
   }
  },
  {
   "cell_type": "code",
   "execution_count": 15,
   "outputs": [],
   "source": [
    "def timed(fn,reps):\n",
    "    from functools import wraps\n",
    "    from time import perf_counter\n",
    "\n",
    "    @wraps(fn)\n",
    "    def inner(*args,**kwargs):\n",
    "        total_elapsed = 0\n",
    "        for i in range(reps):\n",
    "            print(f\"running the iteration {i}\")\n",
    "            start = perf_counter()\n",
    "            result = fn(*args,**kwargs)\n",
    "            end = perf_counter()\n",
    "            total_elapsed += end -start\n",
    "        avg_elapsed = total_elapsed/reps\n",
    "        print(f\"{fn.__name__} took average {avg_elapsed:.6f}s to run.\")\n",
    "        return result\n",
    "    return inner"
   ],
   "metadata": {
    "collapsed": false,
    "pycharm": {
     "name": "#%%\n"
    }
   }
  },
  {
   "cell_type": "code",
   "execution_count": 14,
   "outputs": [
    {
     "name": "stdout",
     "output_type": "stream",
     "text": [
      "running the iteration 0\n",
      "running the iteration 1\n",
      "running the iteration 2\n",
      "running the iteration 3\n",
      "running the iteration 4\n",
      "running the iteration 5\n",
      "running the iteration 6\n",
      "running the iteration 7\n",
      "running the iteration 8\n",
      "running the iteration 9\n",
      "my_func took average 0.000001s to run.\n"
     ]
    }
   ],
   "source": [
    "def my_func():\n",
    "    pass\n",
    "my_func = timed(my_func,10)\n",
    "my_func()"
   ],
   "metadata": {
    "collapsed": false,
    "pycharm": {
     "name": "#%%\n"
    }
   }
  },
  {
   "cell_type": "markdown",
   "source": [
    "6. above approach can be possible but we can use the ```@timed(10)```\n",
    "7. timed method expecting the two parameter"
   ],
   "metadata": {
    "collapsed": false,
    "pycharm": {
     "name": "#%% md\n"
    }
   }
  },
  {
   "cell_type": "code",
   "execution_count": 16,
   "outputs": [
    {
     "ename": "TypeError",
     "evalue": "timed() missing 1 required positional argument: 'reps'",
     "output_type": "error",
     "traceback": [
      "\u001B[1;31m---------------------------------------------------------------------------\u001B[0m",
      "\u001B[1;31mTypeError\u001B[0m                                 Traceback (most recent call last)",
      "Cell \u001B[1;32mIn [16], line 1\u001B[0m\n\u001B[1;32m----> 1\u001B[0m \u001B[38;5;129m@timed\u001B[39m\u001B[43m(\u001B[49m\u001B[38;5;241;43m10\u001B[39;49m\u001B[43m)\u001B[49m\n\u001B[0;32m      2\u001B[0m \u001B[38;5;28;01mdef\u001B[39;00m \u001B[38;5;21mmy_func\u001B[39m():\n\u001B[0;32m      3\u001B[0m     \u001B[38;5;28;01mpass\u001B[39;00m\n\u001B[0;32m      4\u001B[0m my_func()\n",
      "\u001B[1;31mTypeError\u001B[0m: timed() missing 1 required positional argument: 'reps'"
     ]
    }
   ],
   "source": [
    "@timed(10)\n",
    "def my_func():\n",
    "    pass\n",
    "my_func()"
   ],
   "metadata": {
    "collapsed": false,
    "pycharm": {
     "name": "#%%\n"
    }
   }
  },
  {
   "cell_type": "markdown",
   "source": [
    "8. so we create the outer function to the timed decorator form the outer we will return the decorator"
   ],
   "metadata": {
    "collapsed": false,
    "pycharm": {
     "name": "#%% md\n"
    }
   }
  },
  {
   "cell_type": "code",
   "execution_count": 17,
   "outputs": [],
   "source": [
    "def outer(reps):\n",
    "    def timed(fn):\n",
    "        from functools import wraps\n",
    "        from time import perf_counter\n",
    "\n",
    "        @wraps(fn)\n",
    "        def inner(*args,**kwargs):\n",
    "            total_elapsed = 0\n",
    "            for i in range(reps):\n",
    "                print(f\"running the iteration {i}\")\n",
    "                start = perf_counter()\n",
    "                result = fn(*args,**kwargs)\n",
    "                end = perf_counter()\n",
    "                total_elapsed += end -start\n",
    "            avg_elapsed = total_elapsed/reps\n",
    "            print(f\"{fn.__name__} took average {avg_elapsed:.6f}s to run.\")\n",
    "            return result\n",
    "        return inner\n",
    "    return timed"
   ],
   "metadata": {
    "collapsed": false,
    "pycharm": {
     "name": "#%%\n"
    }
   }
  },
  {
   "cell_type": "code",
   "execution_count": 18,
   "outputs": [
    {
     "name": "stdout",
     "output_type": "stream",
     "text": [
      "running the iteration 0\n",
      "running the iteration 1\n",
      "running the iteration 2\n",
      "running the iteration 3\n",
      "running the iteration 4\n",
      "running the iteration 5\n",
      "running the iteration 6\n",
      "running the iteration 7\n",
      "running the iteration 8\n",
      "running the iteration 9\n",
      "my_func took average 0.000001s to run.\n"
     ]
    }
   ],
   "source": [
    "@outer(10)\n",
    "def my_func():\n",
    "    pass\n",
    "my_func()"
   ],
   "metadata": {
    "collapsed": false,
    "pycharm": {
     "name": "#%%\n"
    }
   }
  },
  {
   "cell_type": "markdown",
   "source": [
    "9. since the outer function is creating to decorate we call them as *decorator factory*.\n"
   ],
   "metadata": {
    "collapsed": false,
    "pycharm": {
     "name": "#%% md\n"
    }
   }
  },
  {
   "cell_type": "code",
   "execution_count": 19,
   "outputs": [],
   "source": [
    "def timed(reps):\n",
    "    def dec(fn):\n",
    "        from functools import wraps\n",
    "        from time import perf_counter\n",
    "\n",
    "        @wraps(fn)\n",
    "        def inner(*args,**kwargs):\n",
    "            total_elapsed = 0\n",
    "            for i in range(reps):\n",
    "                print(f\"running the iteration {i}\")\n",
    "                start = perf_counter()\n",
    "                result = fn(*args,**kwargs)\n",
    "                end = perf_counter()\n",
    "                total_elapsed += end -start\n",
    "            avg_elapsed = total_elapsed/reps\n",
    "            print(f\"{fn.__name__} took average {avg_elapsed:.6f}s to run.\")\n",
    "            return result\n",
    "        return inner\n",
    "    return dec"
   ],
   "metadata": {
    "collapsed": false,
    "pycharm": {
     "name": "#%%\n"
    }
   }
  },
  {
   "cell_type": "code",
   "execution_count": 20,
   "outputs": [
    {
     "name": "stdout",
     "output_type": "stream",
     "text": [
      "running the iteration 0\n",
      "running the iteration 1\n",
      "running the iteration 2\n",
      "running the iteration 3\n",
      "running the iteration 4\n",
      "running the iteration 5\n",
      "running the iteration 6\n",
      "running the iteration 7\n",
      "running the iteration 8\n",
      "running the iteration 9\n",
      "my_func took average 0.000001s to run.\n"
     ]
    }
   ],
   "source": [
    "@timed(10)\n",
    "def my_func():\n",
    "    pass\n",
    "my_func()\n",
    "#? timed is not decorator , it is decorator factory , which create the decorator"
   ],
   "metadata": {
    "collapsed": false,
    "pycharm": {
     "name": "#%%\n"
    }
   }
  },
  {
   "cell_type": "code",
   "execution_count": null,
   "outputs": [],
   "source": [],
   "metadata": {
    "collapsed": false,
    "pycharm": {
     "name": "#%%\n"
    }
   }
  }
 ],
 "metadata": {
  "kernelspec": {
   "display_name": "Python 3",
   "language": "python",
   "name": "python3"
  },
  "language_info": {
   "codemirror_mode": {
    "name": "ipython",
    "version": 2
   },
   "file_extension": ".py",
   "mimetype": "text/x-python",
   "name": "python",
   "nbconvert_exporter": "python",
   "pygments_lexer": "ipython2",
   "version": "2.7.6"
  }
 },
 "nbformat": 4,
 "nbformat_minor": 0
}