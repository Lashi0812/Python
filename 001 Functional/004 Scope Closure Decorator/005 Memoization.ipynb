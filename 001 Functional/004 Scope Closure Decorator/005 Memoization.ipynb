{
 "cells": [
  {
   "cell_type": "code",
   "execution_count": 3,
   "metadata": {
    "collapsed": true,
    "pycharm": {
     "name": "#%%\n"
    }
   },
   "outputs": [],
   "source": [
    "def fib(n):\n",
    "    print(f\"Calculation the fib({n})\")\n",
    "    return 1 if n < 3 else fib(n-1) + fib(n-2)"
   ]
  },
  {
   "cell_type": "code",
   "execution_count": 5,
   "outputs": [
    {
     "name": "stdout",
     "output_type": "stream",
     "text": [
      "Calculation the fib(10)\n",
      "Calculation the fib(9)\n",
      "Calculation the fib(8)\n",
      "Calculation the fib(7)\n",
      "Calculation the fib(6)\n",
      "Calculation the fib(5)\n",
      "Calculation the fib(4)\n",
      "Calculation the fib(3)\n",
      "Calculation the fib(2)\n",
      "Calculation the fib(1)\n",
      "Calculation the fib(2)\n",
      "Calculation the fib(3)\n",
      "Calculation the fib(2)\n",
      "Calculation the fib(1)\n",
      "Calculation the fib(4)\n",
      "Calculation the fib(3)\n",
      "Calculation the fib(2)\n",
      "Calculation the fib(1)\n",
      "Calculation the fib(2)\n",
      "Calculation the fib(5)\n",
      "Calculation the fib(4)\n",
      "Calculation the fib(3)\n",
      "Calculation the fib(2)\n",
      "Calculation the fib(1)\n",
      "Calculation the fib(2)\n",
      "Calculation the fib(3)\n",
      "Calculation the fib(2)\n",
      "Calculation the fib(1)\n",
      "Calculation the fib(6)\n",
      "Calculation the fib(5)\n",
      "Calculation the fib(4)\n",
      "Calculation the fib(3)\n",
      "Calculation the fib(2)\n",
      "Calculation the fib(1)\n",
      "Calculation the fib(2)\n",
      "Calculation the fib(3)\n",
      "Calculation the fib(2)\n",
      "Calculation the fib(1)\n",
      "Calculation the fib(4)\n",
      "Calculation the fib(3)\n",
      "Calculation the fib(2)\n",
      "Calculation the fib(1)\n",
      "Calculation the fib(2)\n",
      "Calculation the fib(7)\n",
      "Calculation the fib(6)\n",
      "Calculation the fib(5)\n",
      "Calculation the fib(4)\n",
      "Calculation the fib(3)\n",
      "Calculation the fib(2)\n",
      "Calculation the fib(1)\n",
      "Calculation the fib(2)\n",
      "Calculation the fib(3)\n",
      "Calculation the fib(2)\n",
      "Calculation the fib(1)\n",
      "Calculation the fib(4)\n",
      "Calculation the fib(3)\n",
      "Calculation the fib(2)\n",
      "Calculation the fib(1)\n",
      "Calculation the fib(2)\n",
      "Calculation the fib(5)\n",
      "Calculation the fib(4)\n",
      "Calculation the fib(3)\n",
      "Calculation the fib(2)\n",
      "Calculation the fib(1)\n",
      "Calculation the fib(2)\n",
      "Calculation the fib(3)\n",
      "Calculation the fib(2)\n",
      "Calculation the fib(1)\n",
      "Calculation the fib(8)\n",
      "Calculation the fib(7)\n",
      "Calculation the fib(6)\n",
      "Calculation the fib(5)\n",
      "Calculation the fib(4)\n",
      "Calculation the fib(3)\n",
      "Calculation the fib(2)\n",
      "Calculation the fib(1)\n",
      "Calculation the fib(2)\n",
      "Calculation the fib(3)\n",
      "Calculation the fib(2)\n",
      "Calculation the fib(1)\n",
      "Calculation the fib(4)\n",
      "Calculation the fib(3)\n",
      "Calculation the fib(2)\n",
      "Calculation the fib(1)\n",
      "Calculation the fib(2)\n",
      "Calculation the fib(5)\n",
      "Calculation the fib(4)\n",
      "Calculation the fib(3)\n",
      "Calculation the fib(2)\n",
      "Calculation the fib(1)\n",
      "Calculation the fib(2)\n",
      "Calculation the fib(3)\n",
      "Calculation the fib(2)\n",
      "Calculation the fib(1)\n",
      "Calculation the fib(6)\n",
      "Calculation the fib(5)\n",
      "Calculation the fib(4)\n",
      "Calculation the fib(3)\n",
      "Calculation the fib(2)\n",
      "Calculation the fib(1)\n",
      "Calculation the fib(2)\n",
      "Calculation the fib(3)\n",
      "Calculation the fib(2)\n",
      "Calculation the fib(1)\n",
      "Calculation the fib(4)\n",
      "Calculation the fib(3)\n",
      "Calculation the fib(2)\n",
      "Calculation the fib(1)\n",
      "Calculation the fib(2)\n"
     ]
    },
    {
     "data": {
      "text/plain": "55"
     },
     "execution_count": 5,
     "metadata": {},
     "output_type": "execute_result"
    }
   ],
   "source": [
    "fib(10)"
   ],
   "metadata": {
    "collapsed": false,
    "pycharm": {
     "name": "#%%\n"
    }
   }
  },
  {
   "cell_type": "code",
   "execution_count": 8,
   "outputs": [],
   "source": [
    "#? since we are doing calculation again, and again we need to store the intermediate calculation\n",
    "class Fib:\n",
    "    def __init__(self):\n",
    "        self.cache = {1:1,2:1}\n",
    "    def calc_fib(self,n):\n",
    "        if n not in self.cache:\n",
    "            print(f\"Calculation the fib({n})\")\n",
    "            self.cache[n] = self.calc_fib(n-1) + self.calc_fib(n-2)\n",
    "        return self.cache[n]"
   ],
   "metadata": {
    "collapsed": false,
    "pycharm": {
     "name": "#%%\n"
    }
   }
  },
  {
   "cell_type": "code",
   "execution_count": 9,
   "outputs": [],
   "source": [
    "f = Fib()"
   ],
   "metadata": {
    "collapsed": false,
    "pycharm": {
     "name": "#%%\n"
    }
   }
  },
  {
   "cell_type": "code",
   "execution_count": 10,
   "outputs": [
    {
     "name": "stdout",
     "output_type": "stream",
     "text": [
      "Calculation the fib(10)\n",
      "Calculation the fib(9)\n",
      "Calculation the fib(8)\n",
      "Calculation the fib(7)\n",
      "Calculation the fib(6)\n",
      "Calculation the fib(5)\n",
      "Calculation the fib(4)\n",
      "Calculation the fib(3)\n"
     ]
    },
    {
     "data": {
      "text/plain": "55"
     },
     "execution_count": 10,
     "metadata": {},
     "output_type": "execute_result"
    }
   ],
   "source": [
    "f.calc_fib(10)\n",
    "#* Now we are calculating only once"
   ],
   "metadata": {
    "collapsed": false,
    "pycharm": {
     "name": "#%%\n"
    }
   }
  },
  {
   "cell_type": "markdown",
   "source": [
    "# Using the closure"
   ],
   "metadata": {
    "collapsed": false,
    "pycharm": {
     "name": "#%% md\n"
    }
   }
  },
  {
   "cell_type": "code",
   "execution_count": 13,
   "outputs": [],
   "source": [
    "def fib():\n",
    "    cache = {1:1,2:1}\n",
    "    def calc_fib(n):\n",
    "        if n not in cache:\n",
    "            print(f\"Calculation the fib({n})\")\n",
    "            cache[n] = calc_fib(n-1) + calc_fib(n-2)\n",
    "        return cache[n]\n",
    "    return calc_fib"
   ],
   "metadata": {
    "collapsed": false,
    "pycharm": {
     "name": "#%%\n"
    }
   }
  },
  {
   "cell_type": "code",
   "execution_count": 14,
   "outputs": [],
   "source": [
    "fib = fib()"
   ],
   "metadata": {
    "collapsed": false,
    "pycharm": {
     "name": "#%%\n"
    }
   }
  },
  {
   "cell_type": "code",
   "execution_count": 15,
   "outputs": [
    {
     "name": "stdout",
     "output_type": "stream",
     "text": [
      "Calculation the fib(10)\n",
      "Calculation the fib(9)\n",
      "Calculation the fib(8)\n",
      "Calculation the fib(7)\n",
      "Calculation the fib(6)\n",
      "Calculation the fib(5)\n",
      "Calculation the fib(4)\n",
      "Calculation the fib(3)\n"
     ]
    },
    {
     "data": {
      "text/plain": "55"
     },
     "execution_count": 15,
     "metadata": {},
     "output_type": "execute_result"
    }
   ],
   "source": [
    "fib(10)"
   ],
   "metadata": {
    "collapsed": false,
    "pycharm": {
     "name": "#%%\n"
    }
   }
  },
  {
   "cell_type": "markdown",
   "source": [
    "# Using the decorator"
   ],
   "metadata": {
    "collapsed": false,
    "pycharm": {
     "name": "#%% md\n"
    }
   }
  },
  {
   "cell_type": "code",
   "execution_count": 16,
   "outputs": [],
   "source": [
    "def memoize_fib(fn):\n",
    "    cache = {1:1,2:1}\n",
    "    def inner(n):\n",
    "        if n not in cache:\n",
    "            cache[n] = fn(n)\n",
    "        return cache[n]\n",
    "    return inner"
   ],
   "metadata": {
    "collapsed": false,
    "pycharm": {
     "name": "#%%\n"
    }
   }
  },
  {
   "cell_type": "code",
   "execution_count": 17,
   "outputs": [],
   "source": [
    "@memoize_fib\n",
    "def fib(n):\n",
    "    print(f\"Calculation the fib({n})\")\n",
    "    return 1 if n <3 else fib(n-1) + fib(n-2)"
   ],
   "metadata": {
    "collapsed": false,
    "pycharm": {
     "name": "#%%\n"
    }
   }
  },
  {
   "cell_type": "code",
   "execution_count": 18,
   "outputs": [
    {
     "name": "stdout",
     "output_type": "stream",
     "text": [
      "Calculation the fib(10)\n",
      "Calculation the fib(9)\n",
      "Calculation the fib(8)\n",
      "Calculation the fib(7)\n",
      "Calculation the fib(6)\n",
      "Calculation the fib(5)\n",
      "Calculation the fib(4)\n",
      "Calculation the fib(3)\n"
     ]
    },
    {
     "data": {
      "text/plain": "55"
     },
     "execution_count": 18,
     "metadata": {},
     "output_type": "execute_result"
    }
   ],
   "source": [
    "fib(10)"
   ],
   "metadata": {
    "collapsed": false,
    "pycharm": {
     "name": "#%%\n"
    }
   }
  },
  {
   "cell_type": "code",
   "execution_count": 20,
   "outputs": [
    {
     "data": {
      "text/plain": "55"
     },
     "execution_count": 20,
     "metadata": {},
     "output_type": "execute_result"
    }
   ],
   "source": [
    "fib(10)\n",
    "#? since we already calculated , we just return the value"
   ],
   "metadata": {
    "collapsed": false,
    "pycharm": {
     "name": "#%%\n"
    }
   }
  },
  {
   "cell_type": "code",
   "execution_count": 22,
   "outputs": [
    {
     "data": {
      "text/plain": "102334155"
     },
     "execution_count": 22,
     "metadata": {},
     "output_type": "execute_result"
    }
   ],
   "source": [
    "fib(40)"
   ],
   "metadata": {
    "collapsed": false,
    "pycharm": {
     "name": "#%%\n"
    }
   }
  },
  {
   "cell_type": "markdown",
   "source": [
    "1. using the recursion took lot of time to calculate the fib\n",
    "2. now we are memoize the function it took lot short time\n"
   ],
   "metadata": {
    "collapsed": false,
    "pycharm": {
     "name": "#%% md\n"
    }
   }
  },
  {
   "cell_type": "code",
   "execution_count": 23,
   "outputs": [],
   "source": [
    "def timed(fn):\n",
    "    from functools import wraps\n",
    "    from time import perf_counter\n",
    "\n",
    "    @wraps(fn)\n",
    "    def inner(*args,**kwargs):\n",
    "        start = perf_counter()\n",
    "        result = fn(*args,**kwargs)\n",
    "        end = perf_counter()\n",
    "        elapsed = end -start\n",
    "        print(f\"{fn.__name__} took {elapsed:.6f}s to run.\")\n",
    "        return result\n",
    "    return inner"
   ],
   "metadata": {
    "collapsed": false,
    "pycharm": {
     "name": "#%%\n"
    }
   }
  },
  {
   "cell_type": "code",
   "execution_count": 32,
   "outputs": [],
   "source": [
    "def fib(n):\n",
    "    return 1 if n < 3 else fib(n-1) + fib(n-2)"
   ],
   "metadata": {
    "collapsed": false,
    "pycharm": {
     "name": "#%%\n"
    }
   }
  },
  {
   "cell_type": "code",
   "execution_count": 31,
   "outputs": [],
   "source": [
    "@timed\n",
    "def without_memoize(n):\n",
    "    return fib(n)"
   ],
   "metadata": {
    "collapsed": false,
    "pycharm": {
     "name": "#%%\n"
    }
   }
  },
  {
   "cell_type": "code",
   "execution_count": 29,
   "outputs": [
    {
     "name": "stdout",
     "output_type": "stream",
     "text": [
      "without_memoize took 28.616637s to run.\n"
     ]
    },
    {
     "data": {
      "text/plain": "102334155"
     },
     "execution_count": 29,
     "metadata": {},
     "output_type": "execute_result"
    }
   ],
   "source": [
    "without_memoize(40)"
   ],
   "metadata": {
    "collapsed": false,
    "pycharm": {
     "name": "#%%\n"
    }
   }
  },
  {
   "cell_type": "code",
   "execution_count": 40,
   "outputs": [],
   "source": [
    "@memoize_fib\n",
    "def fib(n):\n",
    "    return 1 if n < 3 else fib(n-1) + fib(n-2)"
   ],
   "metadata": {
    "collapsed": false,
    "pycharm": {
     "name": "#%%\n"
    }
   }
  },
  {
   "cell_type": "code",
   "execution_count": 41,
   "outputs": [],
   "source": [
    "@timed\n",
    "def with_memoize(n):\n",
    "    return fib(n)"
   ],
   "metadata": {
    "collapsed": false,
    "pycharm": {
     "name": "#%%\n"
    }
   }
  },
  {
   "cell_type": "code",
   "execution_count": 42,
   "outputs": [
    {
     "name": "stdout",
     "output_type": "stream",
     "text": [
      "with_memoize took 0.000067s to run.\n"
     ]
    },
    {
     "data": {
      "text/plain": "102334155"
     },
     "execution_count": 42,
     "metadata": {},
     "output_type": "execute_result"
    }
   ],
   "source": [
    "with_memoize(40)"
   ],
   "metadata": {
    "collapsed": false,
    "pycharm": {
     "name": "#%%\n"
    }
   }
  },
  {
   "cell_type": "markdown",
   "source": [
    "# Generalize the memoization"
   ],
   "metadata": {
    "collapsed": false,
    "pycharm": {
     "name": "#%% md\n"
    }
   }
  },
  {
   "cell_type": "code",
   "execution_count": 43,
   "outputs": [],
   "source": [
    "def memoize(fn):\n",
    "    cache = dict()\n",
    "    def inner(n):\n",
    "        if n not in cache:\n",
    "            cache[n] = fn(n)\n",
    "        return cache[n]\n",
    "    return inner"
   ],
   "metadata": {
    "collapsed": false,
    "pycharm": {
     "name": "#%%\n"
    }
   }
  },
  {
   "cell_type": "code",
   "execution_count": 49,
   "outputs": [],
   "source": [
    "@ memoize\n",
    "def fib(n):\n",
    "    print(f\"Calculation the fib({n})\")\n",
    "    return 1 if n < 3 else fib(n-1) + fib(n-2)"
   ],
   "metadata": {
    "collapsed": false,
    "pycharm": {
     "name": "#%%\n"
    }
   }
  },
  {
   "cell_type": "code",
   "execution_count": 50,
   "outputs": [
    {
     "name": "stdout",
     "output_type": "stream",
     "text": [
      "Calculation the fib(10)\n",
      "Calculation the fib(9)\n",
      "Calculation the fib(8)\n",
      "Calculation the fib(7)\n",
      "Calculation the fib(6)\n",
      "Calculation the fib(5)\n",
      "Calculation the fib(4)\n",
      "Calculation the fib(3)\n",
      "Calculation the fib(2)\n",
      "Calculation the fib(1)\n"
     ]
    },
    {
     "data": {
      "text/plain": "55"
     },
     "execution_count": 50,
     "metadata": {},
     "output_type": "execute_result"
    }
   ],
   "source": [
    "fib(10)"
   ],
   "metadata": {
    "collapsed": false,
    "pycharm": {
     "name": "#%%\n"
    }
   }
  },
  {
   "cell_type": "code",
   "execution_count": 52,
   "outputs": [],
   "source": [
    "@memoize\n",
    "def fact(n):\n",
    "    print(f\"Calculating the {n}!\")\n",
    "    return 1 if n<2 else n*fact(n-1)"
   ],
   "metadata": {
    "collapsed": false,
    "pycharm": {
     "name": "#%%\n"
    }
   }
  },
  {
   "cell_type": "code",
   "execution_count": 53,
   "outputs": [
    {
     "name": "stdout",
     "output_type": "stream",
     "text": [
      "Calculating the 10!\n",
      "Calculating the 9!\n",
      "Calculating the 8!\n",
      "Calculating the 7!\n",
      "Calculating the 6!\n",
      "Calculating the 5!\n",
      "Calculating the 4!\n",
      "Calculating the 3!\n",
      "Calculating the 2!\n",
      "Calculating the 1!\n"
     ]
    },
    {
     "data": {
      "text/plain": "3628800"
     },
     "execution_count": 53,
     "metadata": {},
     "output_type": "execute_result"
    }
   ],
   "source": [
    "fact(10)"
   ],
   "metadata": {
    "collapsed": false,
    "pycharm": {
     "name": "#%%\n"
    }
   }
  },
  {
   "cell_type": "code",
   "execution_count": 54,
   "outputs": [
    {
     "data": {
      "text/plain": "3628800"
     },
     "execution_count": 54,
     "metadata": {},
     "output_type": "execute_result"
    }
   ],
   "source": [
    "fact(10)"
   ],
   "metadata": {
    "collapsed": false,
    "pycharm": {
     "name": "#%%\n"
    }
   }
  },
  {
   "cell_type": "code",
   "execution_count": 55,
   "outputs": [
    {
     "name": "stdout",
     "output_type": "stream",
     "text": [
      "Calculating the 11!\n"
     ]
    },
    {
     "data": {
      "text/plain": "39916800"
     },
     "execution_count": 55,
     "metadata": {},
     "output_type": "execute_result"
    }
   ],
   "source": [
    "fact(11)"
   ],
   "metadata": {
    "collapsed": false,
    "pycharm": {
     "name": "#%%\n"
    }
   }
  },
  {
   "cell_type": "code",
   "execution_count": 56,
   "outputs": [
    {
     "data": {
      "text/plain": "120"
     },
     "execution_count": 56,
     "metadata": {},
     "output_type": "execute_result"
    }
   ],
   "source": [
    "fact(5)"
   ],
   "metadata": {
    "collapsed": false,
    "pycharm": {
     "name": "#%%\n"
    }
   }
  },
  {
   "cell_type": "markdown",
   "source": [
    "**Problem with our memoize**\n",
    "1. it can store the lot of value there is no limit,*only limit is memory*\n",
    "2. it cant take the keyword arg\n",
    "\n",
    "**lru_cache**\n",
    "1. python has the lru cache\n",
    "2. default size is 128\n",
    "3. we set the maxsize of size.\n",
    "4. it will remove the old value from the cache"
   ],
   "metadata": {
    "collapsed": false,
    "pycharm": {
     "name": "#%% md\n"
    }
   }
  },
  {
   "cell_type": "code",
   "execution_count": 60,
   "outputs": [],
   "source": [
    "from functools import lru_cache\n",
    "\n",
    "@lru_cache()\n",
    "def fib(n):\n",
    "    print(f\"Calculation the fib({n})\")\n",
    "    return 1 if n < 3 else fib(n-1) + fib(n-2)"
   ],
   "metadata": {
    "collapsed": false,
    "pycharm": {
     "name": "#%%\n"
    }
   }
  },
  {
   "cell_type": "code",
   "execution_count": 61,
   "outputs": [
    {
     "name": "stdout",
     "output_type": "stream",
     "text": [
      "Calculation the fib(8)\n",
      "Calculation the fib(7)\n",
      "Calculation the fib(6)\n",
      "Calculation the fib(5)\n",
      "Calculation the fib(4)\n",
      "Calculation the fib(3)\n",
      "Calculation the fib(2)\n",
      "Calculation the fib(1)\n"
     ]
    },
    {
     "data": {
      "text/plain": "21"
     },
     "execution_count": 61,
     "metadata": {},
     "output_type": "execute_result"
    }
   ],
   "source": [
    "fib(8)"
   ],
   "metadata": {
    "collapsed": false,
    "pycharm": {
     "name": "#%%\n"
    }
   }
  },
  {
   "cell_type": "code",
   "execution_count": 62,
   "outputs": [
    {
     "data": {
      "text/plain": "21"
     },
     "execution_count": 62,
     "metadata": {},
     "output_type": "execute_result"
    }
   ],
   "source": [
    "fib(8)"
   ],
   "metadata": {
    "collapsed": false,
    "pycharm": {
     "name": "#%%\n"
    }
   }
  },
  {
   "cell_type": "code",
   "execution_count": 69,
   "outputs": [],
   "source": [
    "#? we can limit cache size\n",
    "@lru_cache(maxsize=8)\n",
    "def fib(n):\n",
    "    print(f\"Calculation the fib({n})\")\n",
    "    return 1 if n < 3 else fib(n-1) + fib(n-2)"
   ],
   "metadata": {
    "collapsed": false,
    "pycharm": {
     "name": "#%%\n"
    }
   }
  },
  {
   "cell_type": "code",
   "execution_count": 70,
   "outputs": [
    {
     "name": "stdout",
     "output_type": "stream",
     "text": [
      "Calculation the fib(8)\n",
      "Calculation the fib(7)\n",
      "Calculation the fib(6)\n",
      "Calculation the fib(5)\n",
      "Calculation the fib(4)\n",
      "Calculation the fib(3)\n",
      "Calculation the fib(2)\n",
      "Calculation the fib(1)\n"
     ]
    },
    {
     "data": {
      "text/plain": "21"
     },
     "execution_count": 70,
     "metadata": {},
     "output_type": "execute_result"
    }
   ],
   "source": [
    "fib(8)"
   ],
   "metadata": {
    "collapsed": false,
    "pycharm": {
     "name": "#%%\n"
    }
   }
  },
  {
   "cell_type": "code",
   "execution_count": 71,
   "outputs": [
    {
     "data": {
      "text/plain": "21"
     },
     "execution_count": 71,
     "metadata": {},
     "output_type": "execute_result"
    }
   ],
   "source": [
    "fib(8)"
   ],
   "metadata": {
    "collapsed": false,
    "pycharm": {
     "name": "#%%\n"
    }
   }
  },
  {
   "cell_type": "code",
   "execution_count": 72,
   "outputs": [
    {
     "name": "stdout",
     "output_type": "stream",
     "text": [
      "Calculation the fib(16)\n",
      "Calculation the fib(15)\n",
      "Calculation the fib(14)\n",
      "Calculation the fib(13)\n",
      "Calculation the fib(12)\n",
      "Calculation the fib(11)\n",
      "Calculation the fib(10)\n",
      "Calculation the fib(9)\n"
     ]
    },
    {
     "data": {
      "text/plain": "987"
     },
     "execution_count": 72,
     "metadata": {},
     "output_type": "execute_result"
    }
   ],
   "source": [
    "fib(16)\n",
    "#! it removes old calculated value"
   ],
   "metadata": {
    "collapsed": false,
    "pycharm": {
     "name": "#%%\n"
    }
   }
  },
  {
   "cell_type": "code",
   "execution_count": 73,
   "outputs": [
    {
     "name": "stdout",
     "output_type": "stream",
     "text": [
      "Calculation the fib(8)\n",
      "Calculation the fib(7)\n",
      "Calculation the fib(6)\n",
      "Calculation the fib(5)\n",
      "Calculation the fib(4)\n",
      "Calculation the fib(3)\n",
      "Calculation the fib(2)\n",
      "Calculation the fib(1)\n"
     ]
    },
    {
     "data": {
      "text/plain": "21"
     },
     "execution_count": 73,
     "metadata": {},
     "output_type": "execute_result"
    }
   ],
   "source": [
    "fib(8)\n",
    "#! since we already remove the cache data , so we calculating again"
   ],
   "metadata": {
    "collapsed": false,
    "pycharm": {
     "name": "#%%\n"
    }
   }
  },
  {
   "cell_type": "code",
   "execution_count": null,
   "outputs": [],
   "source": [],
   "metadata": {
    "collapsed": false,
    "pycharm": {
     "name": "#%%\n"
    }
   }
  }
 ],
 "metadata": {
  "kernelspec": {
   "display_name": "Python 3",
   "language": "python",
   "name": "python3"
  },
  "language_info": {
   "codemirror_mode": {
    "name": "ipython",
    "version": 2
   },
   "file_extension": ".py",
   "mimetype": "text/x-python",
   "name": "python",
   "nbconvert_exporter": "python",
   "pygments_lexer": "ipython2",
   "version": "2.7.6"
  }
 },
 "nbformat": 4,
 "nbformat_minor": 0
}