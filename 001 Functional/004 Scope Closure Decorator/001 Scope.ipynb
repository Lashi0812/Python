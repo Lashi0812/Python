{
 "cells": [
  {
   "cell_type": "markdown",
   "source": [
    "# Scope and Namespace\n",
    "\n",
    "1. When an object is assigned to variable `a=10` that variable points to some object, and we say the variable\n",
    "(name) is *bound* to that object.\n",
    "2. That object can be accessed using the variable name in *various part of code*\n",
    "3. **But not just anywhere**\n",
    "4. That variable name and its binding (name and object) only **exist in specific part of out code**\n",
    "5. The portion code where that name/binding is defined ic called **scope** of the variable and these binding are stored in **namespace**\n",
    "\n",
    "**Global Scope**\n",
    "1. The global scope is essentially the *module scope*\n",
    "2. it spans a *single file*only\n",
    "3. There is *no concept of truly global* (across all teh modules in out entire app) scope in python\n",
    "4. the only exception are *built-in globally available object* ex ``True,False,None,dict,print etc``\n",
    "\n",
    "**Local Scope**\n",
    "1. When we create function ,we can create variable name `inside those function` (using assignment) `a=10`\n",
    "2. Variable define inside a function are not create *until the function is called*\n",
    "3. Every time the function is called *new scope is created*\n",
    "4. The actual object the variable reference could be different each time the function is called\n",
    "5. This why recursion works\n",
    "\n",
    "\n",
    "**Namespace Lookup**\n",
    "```Local -> Enclosing -> Global -> Builtin```\n"
   ],
   "metadata": {
    "collapsed": false,
    "pycharm": {
     "name": "#%% md\n"
    }
   }
  },
  {
   "cell_type": "code",
   "execution_count": 15,
   "outputs": [],
   "source": [
    "a = 10"
   ],
   "metadata": {
    "collapsed": false,
    "pycharm": {
     "name": "#%%\n"
    }
   }
  },
  {
   "cell_type": "code",
   "execution_count": 2,
   "outputs": [],
   "source": [
    "def my_func(n):\n",
    "    c = n**2\n",
    "    return c\n",
    "\n",
    "#? n and c are the local variable\n",
    "#* any parameter and the variable is assigned ==> they all local scope"
   ],
   "metadata": {
    "collapsed": false,
    "pycharm": {
     "name": "#%%\n"
    }
   }
  },
  {
   "cell_type": "code",
   "execution_count": 7,
   "outputs": [],
   "source": [
    "def my_func(n):\n",
    "    print(f\"global a:{a}\")\n",
    "    c = a ** n\n",
    "    return c\n",
    "#? we are assessing the global scope from the local scope"
   ],
   "metadata": {
    "collapsed": false,
    "pycharm": {
     "name": "#%%\n"
    }
   }
  },
  {
   "cell_type": "code",
   "execution_count": 8,
   "outputs": [
    {
     "name": "stdout",
     "output_type": "stream",
     "text": [
      "global a:10\n"
     ]
    },
    {
     "data": {
      "text/plain": "100"
     },
     "execution_count": 8,
     "metadata": {},
     "output_type": "execute_result"
    }
   ],
   "source": [
    "my_func(2)"
   ],
   "metadata": {
    "collapsed": false,
    "pycharm": {
     "name": "#%%\n"
    }
   }
  },
  {
   "cell_type": "code",
   "execution_count": 9,
   "outputs": [],
   "source": [
    "def my_func(n):\n",
    "    a = 20\n",
    "    c = a **n\n",
    "    return c\n",
    "#? here we are assigning the object to the variable \"a\" , this means we are shadowing the global scope"
   ],
   "metadata": {
    "collapsed": false,
    "pycharm": {
     "name": "#%%\n"
    }
   }
  },
  {
   "cell_type": "code",
   "execution_count": 10,
   "outputs": [
    {
     "data": {
      "text/plain": "8000"
     },
     "execution_count": 10,
     "metadata": {},
     "output_type": "execute_result"
    }
   ],
   "source": [
    "my_func(3)"
   ],
   "metadata": {
    "collapsed": false,
    "pycharm": {
     "name": "#%%\n"
    }
   }
  },
  {
   "cell_type": "code",
   "execution_count": 16,
   "outputs": [
    {
     "name": "stdout",
     "output_type": "stream",
     "text": [
      "a value before calling the function 10 \n",
      "8000\n",
      "a value after calling the function 20 \n"
     ]
    }
   ],
   "source": [
    "def my_func(n):\n",
    "    global a\n",
    "    a =20\n",
    "    c = a**n\n",
    "    return c\n",
    "#? we are changing  global variable from the local scope\n",
    "print(f\"a value before calling the function {a} \")\n",
    "print(my_func(3))\n",
    "print(f\"a value after calling the function {a} \")\n"
   ],
   "metadata": {
    "collapsed": false,
    "pycharm": {
     "name": "#%%\n"
    }
   }
  },
  {
   "cell_type": "code",
   "execution_count": 18,
   "outputs": [
    {
     "name": "stdout",
     "output_type": "stream",
     "text": [
      "is b exist before the calling the function False\n",
      "8000\n",
      "is b exist after the calling the function True\n"
     ]
    }
   ],
   "source": [
    "#! when we are changing the global variable from the local scope , the global variable need not be exists in the global scope\n",
    "\n",
    "def my_func(n):\n",
    "    global b\n",
    "    b = 20\n",
    "    c = b**n\n",
    "    return c\n",
    "print(f\"is b exist before the calling the function {'b' in dir()}\")\n",
    "print(my_func(3))\n",
    "print(f\"is b exist after the calling the function {'b' in dir()}\")"
   ],
   "metadata": {
    "collapsed": false,
    "pycharm": {
     "name": "#%%\n"
    }
   }
  },
  {
   "cell_type": "code",
   "execution_count": 19,
   "outputs": [
    {
     "ename": "UnboundLocalError",
     "evalue": "cannot access local variable 'a' where it is not associated with a value",
     "output_type": "error",
     "traceback": [
      "\u001B[1;31m---------------------------------------------------------------------------\u001B[0m",
      "\u001B[1;31mUnboundLocalError\u001B[0m                         Traceback (most recent call last)",
      "Cell \u001B[1;32mIn [19], line 6\u001B[0m\n\u001B[0;32m      3\u001B[0m     \u001B[38;5;28mprint\u001B[39m(\u001B[38;5;124mf\u001B[39m\u001B[38;5;124m\"\u001B[39m\u001B[38;5;124mglobal a : \u001B[39m\u001B[38;5;132;01m{\u001B[39;00ma\u001B[38;5;132;01m}\u001B[39;00m\u001B[38;5;124m\"\u001B[39m)\n\u001B[0;32m      4\u001B[0m     a \u001B[38;5;241m=\u001B[39m \u001B[38;5;241m100\u001B[39m\n\u001B[1;32m----> 6\u001B[0m \u001B[43mmy_func\u001B[49m\u001B[43m(\u001B[49m\u001B[43m)\u001B[49m\n",
      "Cell \u001B[1;32mIn [19], line 3\u001B[0m, in \u001B[0;36mmy_func\u001B[1;34m()\u001B[0m\n\u001B[0;32m      2\u001B[0m \u001B[38;5;28;01mdef\u001B[39;00m \u001B[38;5;21mmy_func\u001B[39m():\n\u001B[1;32m----> 3\u001B[0m     \u001B[38;5;28mprint\u001B[39m(\u001B[38;5;124mf\u001B[39m\u001B[38;5;124m\"\u001B[39m\u001B[38;5;124mglobal a : \u001B[39m\u001B[38;5;132;01m{\u001B[39;00ma\u001B[38;5;132;01m}\u001B[39;00m\u001B[38;5;124m\"\u001B[39m)\n\u001B[0;32m      4\u001B[0m     a \u001B[38;5;241m=\u001B[39m \u001B[38;5;241m100\u001B[39m\n",
      "\u001B[1;31mUnboundLocalError\u001B[0m: cannot access local variable 'a' where it is not associated with a value"
     ]
    }
   ],
   "source": [
    "#? When we're trying to access the variable before creating the variable the python throws error\n",
    "def my_func():\n",
    "    print(f\"global a : {a}\")\n",
    "    a = 100\n",
    "\n",
    "my_func()\n",
    "#! even-though \"a\" is available in global scope , inside teh function we assigned object to variable to \"a\",during the compling the function python see the assignment operation, so it will create local variable a not pointing to anything ,nothing is associated to \"a\" during the compile time"
   ],
   "metadata": {
    "collapsed": false,
    "pycharm": {
     "name": "#%%\n"
    }
   }
  },
  {
   "cell_type": "code",
   "execution_count": 24,
   "outputs": [],
   "source": [
    "#! there is no code block scope in python\n",
    "for i in range(10):\n",
    "    x = a * i"
   ],
   "metadata": {
    "collapsed": false,
    "pycharm": {
     "name": "#%%\n"
    }
   }
  },
  {
   "cell_type": "code",
   "execution_count": 28,
   "outputs": [
    {
     "name": "stdout",
     "output_type": "stream",
     "text": [
      "180\n",
      "9\n"
     ]
    }
   ],
   "source": [
    "print(x)\n",
    "print(i)\n",
    "#? x is available in the global scope\n",
    "#! this will not be there in java"
   ],
   "metadata": {
    "collapsed": false,
    "pycharm": {
     "name": "#%%\n"
    }
   }
  },
  {
   "cell_type": "markdown",
   "source": [
    "# Non Local scope"
   ],
   "metadata": {
    "collapsed": false,
    "pycharm": {
     "name": "#%% md\n"
    }
   }
  },
  {
   "cell_type": "code",
   "execution_count": 29,
   "outputs": [
    {
     "name": "stdout",
     "output_type": "stream",
     "text": [
      "hello\n"
     ]
    }
   ],
   "source": [
    "def outer_func():\n",
    "    x = \"hello\"\n",
    "    def inner_func():\n",
    "        print(x) #? during compile python mark as nonlocal\n",
    "    inner_func()\n",
    "outer_func()"
   ],
   "metadata": {
    "collapsed": false,
    "pycharm": {
     "name": "#%%\n"
    }
   }
  },
  {
   "cell_type": "code",
   "execution_count": 30,
   "outputs": [
    {
     "name": "stdout",
     "output_type": "stream",
     "text": [
      "hello\n"
     ]
    }
   ],
   "source": [
    "def outer_func():\n",
    "    x = \"hello\"\n",
    "    def inner1():\n",
    "        def inner2():\n",
    "            print(x) #? during compile python mark as nonlocal\n",
    "        inner2()\n",
    "    inner1()\n",
    "outer_func()"
   ],
   "metadata": {
    "collapsed": false,
    "pycharm": {
     "name": "#%%\n"
    }
   }
  },
  {
   "cell_type": "code",
   "execution_count": 35,
   "outputs": [
    {
     "data": {
      "text/plain": "('x',)"
     },
     "execution_count": 35,
     "metadata": {},
     "output_type": "execute_result"
    }
   ],
   "source": [
    "outer_func.__code__.co_cellvars"
   ],
   "metadata": {
    "collapsed": false,
    "pycharm": {
     "name": "#%%\n"
    }
   }
  },
  {
   "cell_type": "code",
   "execution_count": 37,
   "outputs": [
    {
     "ename": "SyntaxError",
     "evalue": "no binding for nonlocal 'x' found (2162979148.py, line 7)",
     "output_type": "error",
     "traceback": [
      "\u001B[1;36m  Cell \u001B[1;32mIn [37], line 7\u001B[1;36m\u001B[0m\n\u001B[1;33m    nonlocal x\u001B[0m\n\u001B[1;37m    ^\u001B[0m\n\u001B[1;31mSyntaxError\u001B[0m\u001B[1;31m:\u001B[0m no binding for nonlocal 'x' found\n"
     ]
    }
   ],
   "source": [
    "x = \"python\"\n",
    "\n",
    "def outer():\n",
    "    global x  #! we mark as the global\n",
    "    x = \"month\"\n",
    "    def inner():\n",
    "        nonlocal x\n",
    "        x = \"hello\" #? there is no x in enclosing local scope\n",
    "    print(x)"
   ],
   "metadata": {
    "collapsed": false,
    "pycharm": {
     "name": "#%%\n"
    }
   }
  },
  {
   "cell_type": "code",
   "execution_count": 38,
   "outputs": [
    {
     "ename": "SyntaxError",
     "evalue": "no binding for nonlocal 'x' found (2226371994.py, line 3)",
     "output_type": "error",
     "traceback": [
      "\u001B[1;36m  Cell \u001B[1;32mIn [38], line 3\u001B[1;36m\u001B[0m\n\u001B[1;33m    nonlocal x\u001B[0m\n\u001B[1;37m    ^\u001B[0m\n\u001B[1;31mSyntaxError\u001B[0m\u001B[1;31m:\u001B[0m no binding for nonlocal 'x' found\n"
     ]
    }
   ],
   "source": [
    "def outer():\n",
    "    def inner():\n",
    "        nonlocal x\n",
    "        x = \"hello\" #? there is no x in enclosing local scope\n",
    "    print(x)\n",
    "\n",
    "#! if no variable in the enclosing scope we cant create the variable from teh local scope\n",
    "#? this is possible for the global variable creation from the local scope"
   ],
   "metadata": {
    "collapsed": false,
    "pycharm": {
     "name": "#%%\n"
    }
   }
  },
  {
   "cell_type": "code",
   "execution_count": null,
   "outputs": [],
   "source": [],
   "metadata": {
    "collapsed": false,
    "pycharm": {
     "name": "#%%\n"
    }
   }
  }
 ],
 "metadata": {
  "kernelspec": {
   "display_name": "Python 3",
   "language": "python",
   "name": "python3"
  },
  "language_info": {
   "codemirror_mode": {
    "name": "ipython",
    "version": 2
   },
   "file_extension": ".py",
   "mimetype": "text/x-python",
   "name": "python",
   "nbconvert_exporter": "python",
   "pygments_lexer": "ipython2",
   "version": "2.7.6"
  }
 },
 "nbformat": 4,
 "nbformat_minor": 0
}