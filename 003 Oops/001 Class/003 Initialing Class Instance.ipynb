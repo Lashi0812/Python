{
 "cells": [
  {
   "cell_type": "markdown",
   "source": [
    "# Initializing Class Instance"
   ],
   "metadata": {
    "collapsed": false,
    "pycharm": {
     "name": "#%% md\n"
    }
   }
  },
  {
   "cell_type": "markdown",
   "source": [
    "When we instantiate a class by default python does two separate thing.\n",
    "* create a new instance of the class\n",
    "* initialize the namespace of the class."
   ],
   "metadata": {
    "collapsed": false,
    "pycharm": {
     "name": "#%% md\n"
    }
   }
  },
  {
   "cell_type": "code",
   "execution_count": 6,
   "outputs": [],
   "source": [
    "class MyClass:\n",
    "    language = \"python\""
   ],
   "metadata": {
    "collapsed": false,
    "pycharm": {
     "name": "#%%\n"
    }
   }
  },
  {
   "cell_type": "code",
   "execution_count": 7,
   "outputs": [],
   "source": [
    "instance = MyClass()"
   ],
   "metadata": {
    "collapsed": false,
    "pycharm": {
     "name": "#%%\n"
    }
   }
  },
  {
   "cell_type": "code",
   "execution_count": 9,
   "outputs": [
    {
     "data": {
      "text/plain": "{}"
     },
     "execution_count": 9,
     "metadata": {},
     "output_type": "execute_result"
    }
   ],
   "source": [
    "instance.__dict__\n",
    "#? my default create nothing in the namespace\n",
    "#?we can provide teh custom initializer method ,python will use this method instead of its own."
   ],
   "metadata": {
    "collapsed": false,
    "pycharm": {
     "name": "#%%\n"
    }
   }
  },
  {
   "cell_type": "code",
   "execution_count": 16,
   "outputs": [],
   "source": [
    "class MyClass:\n",
    "    language = \"python\"\n",
    "\n",
    "    def __init__(self,version):\n",
    "        print(self.__dict__,self)\n",
    "        self.version = version\n",
    "        print(self.__dict__)"
   ],
   "metadata": {
    "collapsed": false,
    "pycharm": {
     "name": "#%%\n"
    }
   }
  },
  {
   "cell_type": "code",
   "execution_count": 17,
   "outputs": [
    {
     "name": "stdout",
     "output_type": "stream",
     "text": [
      "{} <__main__.MyClass object at 0x0000023033C647D0>\n",
      "{'version': 'nothing'}\n"
     ]
    },
    {
     "data": {
      "text/plain": "<__main__.MyClass at 0x23033c647d0>"
     },
     "execution_count": 17,
     "metadata": {},
     "output_type": "execute_result"
    }
   ],
   "source": [
    "MyClass(\"nothing\")"
   ],
   "metadata": {
    "collapsed": false,
    "pycharm": {
     "name": "#%%\n"
    }
   }
  },
  {
   "cell_type": "code",
   "execution_count": 14,
   "outputs": [
    {
     "name": "stdout",
     "output_type": "stream",
     "text": [
      "{}\n",
      "{'version': 'V3.11'}\n"
     ]
    }
   ],
   "source": [
    "instance = MyClass(\"V3.11\")"
   ],
   "metadata": {
    "collapsed": false,
    "pycharm": {
     "name": "#%%\n"
    }
   }
  },
  {
   "cell_type": "code",
   "execution_count": 15,
   "outputs": [
    {
     "data": {
      "text/plain": "mappingproxy({'__module__': '__main__',\n              'language': 'python',\n              '__init__': <function __main__.MyClass.__init__(self, version)>,\n              '__dict__': <attribute '__dict__' of 'MyClass' objects>,\n              '__weakref__': <attribute '__weakref__' of 'MyClass' objects>,\n              '__doc__': None})"
     },
     "execution_count": 15,
     "metadata": {},
     "output_type": "execute_result"
    }
   ],
   "source": [
    "MyClass.__dict__"
   ],
   "metadata": {
    "collapsed": false,
    "pycharm": {
     "name": "#%%\n"
    }
   }
  },
  {
   "cell_type": "markdown",
   "source": [
    "When we call `MyClass(\"V3.11\")`\n",
    "1. python create new instance of the object with an empty namespace.\n",
    "2. if we defined on `__init__` function in class.\n",
    "    * it calls `obj.__init__(\"V3.11\")`\n",
    "    * our function runs and add version to `obj namespace`\n",
    "    * version is a instance attribute\n",
    "        * `obj.__dict__` --> {\"version\" : \"V3.11\"}\n"
   ],
   "metadata": {
    "collapsed": false,
    "pycharm": {
     "name": "#%% md\n"
    }
   },
   "outputs": []
  },
  {
   "cell_type": "markdown",
   "source": [
    "By the time `__init__` is called\n",
    "* Python has already created the object and a namespace for it.\n",
    "* then `__init__` is called as *bounded method* on the newly created instance.\n",
    "\n",
    "We can also specify a custom function to create the object.\n",
    "`__new__` this method create the object.\n",
    "`__init__` just initialise the namespace of instance."
   ],
   "metadata": {
    "collapsed": false,
    "pycharm": {
     "name": "#%% md\n"
    }
   }
  }
 ],
 "metadata": {
  "kernelspec": {
   "display_name": "Python 3",
   "language": "python",
   "name": "python3"
  },
  "language_info": {
   "codemirror_mode": {
    "name": "ipython",
    "version": 2
   },
   "file_extension": ".py",
   "mimetype": "text/x-python",
   "name": "python",
   "nbconvert_exporter": "python",
   "pygments_lexer": "ipython2",
   "version": "2.7.6"
  }
 },
 "nbformat": 4,
 "nbformat_minor": 0
}