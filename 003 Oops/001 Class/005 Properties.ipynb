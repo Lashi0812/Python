{
 "cells": [
  {
   "cell_type": "markdown",
   "source": [
    "# Properties\n",
    "\n",
    "We can define the \"bare\" attribute in class and instance"
   ],
   "metadata": {
    "collapsed": false,
    "pycharm": {
     "name": "#%% md\n"
    }
   }
  },
  {
   "cell_type": "code",
   "execution_count": 1,
   "outputs": [],
   "source": [
    "class MyClass:\n",
    "    def __init__(self,language):\n",
    "        self.language = language"
   ],
   "metadata": {
    "collapsed": false,
    "pycharm": {
     "name": "#%%\n"
    }
   }
  },
  {
   "cell_type": "code",
   "execution_count": 2,
   "outputs": [
    {
     "data": {
      "text/plain": "'java'"
     },
     "execution_count": 2,
     "metadata": {},
     "output_type": "execute_result"
    }
   ],
   "source": [
    "instance = MyClass(\"python\")\n",
    "#? direct access to the language attribute\n",
    "instance.language = \"java\"\n",
    "instance.language"
   ],
   "metadata": {
    "collapsed": false,
    "pycharm": {
     "name": "#%%\n"
    }
   }
  },
  {
   "cell_type": "markdown",
   "source": [
    "In many language the direct access to attribute is discouraged.Instead, we make the attribute as private we will access the attribute through the function.In python there is no concept of private variable all are *public variable.* But we can create the *pseudo private variable.*\n"
   ],
   "metadata": {
    "collapsed": false,
    "pycharm": {
     "name": "#%% md\n"
    }
   }
  },
  {
   "cell_type": "code",
   "execution_count": 3,
   "outputs": [],
   "source": [
    "class MyClass:\n",
    "    def __init__(self,language):\n",
    "        self._language = language\n",
    "    def get_language(self):\n",
    "        return self._language\n",
    "    def set_language(self,language):\n",
    "        self._language = language"
   ],
   "metadata": {
    "collapsed": false,
    "pycharm": {
     "name": "#%%\n"
    }
   }
  },
  {
   "cell_type": "code",
   "execution_count": 4,
   "outputs": [
    {
     "data": {
      "text/plain": "'java'"
     },
     "execution_count": 4,
     "metadata": {},
     "output_type": "execute_result"
    }
   ],
   "source": [
    "instance = MyClass(\"python\")\n",
    "instance.set_language(\"java\")\n",
    "instance.get_language()"
   ],
   "metadata": {
    "collapsed": false,
    "pycharm": {
     "name": "#%%\n"
    }
   }
  },
  {
   "cell_type": "code",
   "execution_count": 6,
   "outputs": [
    {
     "data": {
      "text/plain": "'accessing the pseudo variable'"
     },
     "execution_count": 6,
     "metadata": {},
     "output_type": "execute_result"
    }
   ],
   "source": [
    "# since the language is pseudo private, we can access the language attribute as well\n",
    "instance._language = \"accessing the pseudo variable\"\n",
    "instance._language"
   ],
   "metadata": {
    "collapsed": false,
    "pycharm": {
     "name": "#%%\n"
    }
   }
  },
  {
   "cell_type": "markdown",
   "source": [
    "But accessing the variable by `dot notation` easier than the `calling function`\n",
    "\n",
    "# Reason to use the calling function approach.\n",
    "1. provide the control on how an attribute's value is set and return.\n",
    "2. If you start with a class that provides direct access to the language attribute, and later need to  change it to use accessor methods, you will change the interface of the class any code that uses the attribute directly: `obj.language = 'Java'` will need to be refactored to use the accessor methods instead:\n",
    "`obj.set_language('Java')`\n"
   ],
   "metadata": {
    "collapsed": false,
    "pycharm": {
     "name": "#%% md\n"
    }
   }
  },
  {
   "cell_type": "markdown",
   "source": [
    "# Property class\n",
    "\n",
    "we can use the property class to define the property in the class.\n",
    "\n",
    "property is a class (type) and constructor has a few parameters:\n",
    "1. `fget` -> specifies the function to use to get instance property value\n",
    "2. `fset` -> specifies the function to use to set the instance property value\n",
    "3. `fdel` -> specifies the function to call when deleting the instance property\n",
    "4. `doc`  -> a string representing the docstring for the property\n",
    "\n",
    "In general, we start with plain attributes, and if later we need to change to a property we can easily do so using the property class without changing"
   ],
   "metadata": {
    "collapsed": false,
    "pycharm": {
     "name": "#%% md\n"
    }
   }
  },
  {
   "cell_type": "code",
   "execution_count": 47,
   "outputs": [],
   "source": [
    "class MyClass:\n",
    "    def __init__(self,language):\n",
    "        self._language = language\n",
    "    def get_language(self):\n",
    "        return self._language\n",
    "    def set_language(self,language):\n",
    "        self._language = language\n",
    "    # this class attribute\n",
    "    language = property(fget=get_language,fset=set_language)"
   ],
   "metadata": {
    "collapsed": false,
    "pycharm": {
     "name": "#%%\n"
    }
   }
  },
  {
   "cell_type": "code",
   "execution_count": 48,
   "outputs": [],
   "source": [
    "def searching(obj):\n",
    "    print(f\"searching in {obj.name}\")\n",
    "    return obj.__dict__"
   ],
   "metadata": {
    "collapsed": false,
    "pycharm": {
     "name": "#%%\n"
    }
   }
  },
  {
   "cell_type": "code",
   "execution_count": 49,
   "outputs": [],
   "source": [
    "instance = MyClass(\"python\")"
   ],
   "metadata": {
    "collapsed": false,
    "pycharm": {
     "name": "#%%\n"
    }
   }
  },
  {
   "cell_type": "code",
   "execution_count": 50,
   "outputs": [
    {
     "data": {
      "text/plain": "{'_language': 'python'}"
     },
     "execution_count": 50,
     "metadata": {},
     "output_type": "execute_result"
    }
   ],
   "source": [
    "instance.__dict__"
   ],
   "metadata": {
    "collapsed": false,
    "pycharm": {
     "name": "#%%\n"
    }
   }
  },
  {
   "cell_type": "code",
   "execution_count": 53,
   "outputs": [
    {
     "data": {
      "text/plain": "mappingproxy({'__module__': '__main__',\n              '__init__': <function __main__.MyClass.__init__(self, language)>,\n              'get_language': <function __main__.MyClass.get_language(self)>,\n              'set_language': <function __main__.MyClass.set_language(self, language)>,\n              'language': <property at 0x1c9dec692b0>,\n              '__dict__': <attribute '__dict__' of 'MyClass' objects>,\n              '__weakref__': <attribute '__weakref__' of 'MyClass' objects>,\n              '__doc__': None})"
     },
     "execution_count": 53,
     "metadata": {},
     "output_type": "execute_result"
    }
   ],
   "source": [
    "MyClass.__dict__"
   ],
   "metadata": {
    "collapsed": false,
    "pycharm": {
     "name": "#%%\n"
    }
   }
  },
  {
   "cell_type": "markdown",
   "source": [
    "*How python search attribute.*\n",
    "1. instance namespace first (not found)\n",
    "2. next class namespace\n",
    "    1. finds language which is a property object that has get and set accessor"
   ],
   "metadata": {
    "collapsed": false,
    "pycharm": {
     "name": "#%% md\n"
    }
   }
  },
  {
   "cell_type": "code",
   "execution_count": null,
   "outputs": [],
   "source": [],
   "metadata": {
    "collapsed": false,
    "pycharm": {
     "name": "#%%\n"
    }
   }
  }
 ],
 "metadata": {
  "kernelspec": {
   "display_name": "Python 3",
   "language": "python",
   "name": "python3"
  },
  "language_info": {
   "codemirror_mode": {
    "name": "ipython",
    "version": 2
   },
   "file_extension": ".py",
   "mimetype": "text/x-python",
   "name": "python",
   "nbconvert_exporter": "python",
   "pygments_lexer": "ipython2",
   "version": "2.7.6"
  }
 },
 "nbformat": 4,
 "nbformat_minor": 0
}