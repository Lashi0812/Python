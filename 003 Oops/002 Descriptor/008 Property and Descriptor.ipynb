{
 "cells": [
  {
   "cell_type": "markdown",
   "source": [
    "# Properties and Descriptor"
   ],
   "metadata": {
    "collapsed": false,
    "pycharm": {
     "name": "#%% md\n"
    }
   }
  },
  {
   "cell_type": "code",
   "execution_count": 1,
   "outputs": [],
   "source": [
    "from numbers import Integral"
   ],
   "metadata": {
    "collapsed": false,
    "pycharm": {
     "name": "#%%\n"
    }
   }
  },
  {
   "cell_type": "code",
   "execution_count": 2,
   "outputs": [],
   "source": [
    "class Person:\n",
    "    @property\n",
    "    def age(self):\n",
    "        print(\"getter called\")\n",
    "        return getattr(self,\"_age\",None)\n",
    "    @age.setter\n",
    "    def age(self,value):\n",
    "        print(\"setter called\")\n",
    "        if not isinstance(value,Integral):\n",
    "            raise ValueError(f\"age: must be integer\")\n",
    "        elif value < 0:\n",
    "            raise  ValueError(f\"age cannot be non negative integer\")\n",
    "        self._age = value"
   ],
   "metadata": {
    "collapsed": false,
    "pycharm": {
     "name": "#%%\n"
    }
   }
  },
  {
   "cell_type": "code",
   "execution_count": 3,
   "outputs": [],
   "source": [
    "p = Person()"
   ],
   "metadata": {
    "collapsed": false,
    "pycharm": {
     "name": "#%%\n"
    }
   }
  },
  {
   "cell_type": "code",
   "execution_count": 4,
   "outputs": [
    {
     "name": "stdout",
     "output_type": "stream",
     "text": [
      "setter called\n",
      "age cannot be non negative integer\n"
     ]
    }
   ],
   "source": [
    "try:\n",
    "    p.age = -10\n",
    "except ValueError as ex:\n",
    "    print(ex)"
   ],
   "metadata": {
    "collapsed": false,
    "pycharm": {
     "name": "#%%\n"
    }
   }
  },
  {
   "cell_type": "code",
   "execution_count": 5,
   "outputs": [
    {
     "name": "stdout",
     "output_type": "stream",
     "text": [
      "setter called\n"
     ]
    }
   ],
   "source": [
    "p.age =10"
   ],
   "metadata": {
    "collapsed": false,
    "pycharm": {
     "name": "#%%\n"
    }
   }
  },
  {
   "cell_type": "code",
   "execution_count": 6,
   "outputs": [
    {
     "data": {
      "text/plain": "{'_age': 10}"
     },
     "execution_count": 6,
     "metadata": {},
     "output_type": "execute_result"
    }
   ],
   "source": [
    "p.__dict__"
   ],
   "metadata": {
    "collapsed": false,
    "pycharm": {
     "name": "#%%\n"
    }
   }
  },
  {
   "cell_type": "code",
   "execution_count": 7,
   "outputs": [],
   "source": [
    "p.__dict__[\"age\"] = \"hello\""
   ],
   "metadata": {
    "collapsed": false,
    "pycharm": {
     "name": "#%%\n"
    }
   }
  },
  {
   "cell_type": "code",
   "execution_count": 8,
   "outputs": [
    {
     "data": {
      "text/plain": "{'_age': 10, 'age': 'hello'}"
     },
     "execution_count": 8,
     "metadata": {},
     "output_type": "execute_result"
    }
   ],
   "source": [
    "p.__dict__"
   ],
   "metadata": {
    "collapsed": false,
    "pycharm": {
     "name": "#%%\n"
    }
   }
  },
  {
   "cell_type": "code",
   "execution_count": 9,
   "outputs": [
    {
     "name": "stdout",
     "output_type": "stream",
     "text": [
      "getter called\n"
     ]
    },
    {
     "data": {
      "text/plain": "10"
     },
     "execution_count": 9,
     "metadata": {},
     "output_type": "execute_result"
    }
   ],
   "source": [
    "p.age"
   ],
   "metadata": {
    "collapsed": false,
    "pycharm": {
     "name": "#%%\n"
    }
   }
  },
  {
   "cell_type": "markdown",
   "source": [
    "1. same behavior as we have seen in the data descriptor.\n",
    "2. class attribute not shadow by instance attribute\n",
    "3. So instead so storing in the different name we can use the same name.\n",
    "\n",
    "We cant use the same name for the non data descriptor."
   ],
   "metadata": {
    "collapsed": false,
    "pycharm": {
     "name": "#%% md\n"
    }
   }
  },
  {
   "cell_type": "code",
   "execution_count": 10,
   "outputs": [],
   "source": [
    "from numbers import Integral\n",
    "class Person:\n",
    "    @property\n",
    "    def age(self):\n",
    "        print(\"getter called\")\n",
    "        return self.__dict__.get(\"age\",None)\n",
    "\n",
    "    @age.setter\n",
    "    def age(self,value):\n",
    "        print(\"setter called\")\n",
    "        if not isinstance(value,Integral):\n",
    "            raise ValueError(f\"age: must be integer\")\n",
    "        elif value < 0:\n",
    "            raise  ValueError(f\"age cannot be non negative integer\")\n",
    "        self.__dict__[\"age\"] = value"
   ],
   "metadata": {
    "collapsed": false,
    "pycharm": {
     "name": "#%%\n"
    }
   }
  },
  {
   "cell_type": "code",
   "execution_count": 11,
   "outputs": [],
   "source": [
    "p = Person()"
   ],
   "metadata": {
    "collapsed": false,
    "pycharm": {
     "name": "#%%\n"
    }
   }
  },
  {
   "cell_type": "code",
   "execution_count": 12,
   "outputs": [
    {
     "name": "stdout",
     "output_type": "stream",
     "text": [
      "setter called\n"
     ]
    }
   ],
   "source": [
    "p.age = 10"
   ],
   "metadata": {
    "collapsed": false,
    "pycharm": {
     "name": "#%%\n"
    }
   }
  },
  {
   "cell_type": "code",
   "execution_count": 13,
   "outputs": [
    {
     "name": "stdout",
     "output_type": "stream",
     "text": [
      "getter called\n"
     ]
    },
    {
     "data": {
      "text/plain": "10"
     },
     "execution_count": 13,
     "metadata": {},
     "output_type": "execute_result"
    }
   ],
   "source": [
    "p.age"
   ],
   "metadata": {
    "collapsed": false,
    "pycharm": {
     "name": "#%%\n"
    }
   }
  },
  {
   "cell_type": "code",
   "execution_count": 14,
   "outputs": [
    {
     "data": {
      "text/plain": "mappingproxy({'__module__': '__main__',\n              'age': <property at 0x24dbbd26700>,\n              '__dict__': <attribute '__dict__' of 'Person' objects>,\n              '__weakref__': <attribute '__weakref__' of 'Person' objects>,\n              '__doc__': None})"
     },
     "execution_count": 14,
     "metadata": {},
     "output_type": "execute_result"
    }
   ],
   "source": [
    "Person.__dict__"
   ],
   "metadata": {
    "collapsed": false,
    "pycharm": {
     "name": "#%%\n"
    }
   }
  },
  {
   "cell_type": "code",
   "execution_count": 15,
   "outputs": [
    {
     "data": {
      "text/plain": "{'age': 10}"
     },
     "execution_count": 15,
     "metadata": {},
     "output_type": "execute_result"
    }
   ],
   "source": [
    "p.__dict__"
   ],
   "metadata": {
    "collapsed": false,
    "pycharm": {
     "name": "#%%\n"
    }
   }
  },
  {
   "cell_type": "markdown",
   "source": [
    "# Not using as decorator"
   ],
   "metadata": {
    "collapsed": false,
    "pycharm": {
     "name": "#%% md\n"
    }
   }
  },
  {
   "cell_type": "code",
   "execution_count": 16,
   "outputs": [],
   "source": [
    "from numbers import Integral\n",
    "class Person:\n",
    "    def get_age(self):\n",
    "        print(\"getter called\")\n",
    "        return self.__dict__.get(\"age\",None)\n",
    "\n",
    "    def set_age(self,value):\n",
    "        print(\"setter called\")\n",
    "        if not isinstance(value,Integral):\n",
    "            raise ValueError(f\"age: must be integer\")\n",
    "        elif value < 0:\n",
    "            raise  ValueError(f\"age cannot be non negative integer\")\n",
    "        self.__dict__[\"age\"] = value\n",
    "\n",
    "    age = property(fget=get_age,fset=set_age)"
   ],
   "metadata": {
    "collapsed": false,
    "pycharm": {
     "name": "#%%\n"
    }
   }
  },
  {
   "cell_type": "code",
   "execution_count": 17,
   "outputs": [],
   "source": [
    "p = Person()"
   ],
   "metadata": {
    "collapsed": false,
    "pycharm": {
     "name": "#%%\n"
    }
   }
  },
  {
   "cell_type": "code",
   "execution_count": 18,
   "outputs": [],
   "source": [
    "import operator"
   ],
   "metadata": {
    "collapsed": false,
    "pycharm": {
     "name": "#%%\n"
    }
   }
  },
  {
   "cell_type": "code",
   "execution_count": 19,
   "outputs": [],
   "source": [
    "check_descriptor = operator.attrgetter(\"__set__\",\"__get__\",\"__delete__\")"
   ],
   "metadata": {
    "collapsed": false,
    "pycharm": {
     "name": "#%%\n"
    }
   }
  },
  {
   "cell_type": "code",
   "execution_count": 20,
   "outputs": [
    {
     "data": {
      "text/plain": "(<method-wrapper '__set__' of property object at 0x0000024DBBD24130>,\n <method-wrapper '__get__' of property object at 0x0000024DBBD24130>,\n <method-wrapper '__delete__' of property object at 0x0000024DBBD24130>)"
     },
     "execution_count": 20,
     "metadata": {},
     "output_type": "execute_result"
    }
   ],
   "source": [
    "check_descriptor(Person.age)"
   ],
   "metadata": {
    "collapsed": false,
    "pycharm": {
     "name": "#%%\n"
    }
   }
  },
  {
   "cell_type": "markdown",
   "source": [
    "we can implement our own version of property decorator"
   ],
   "metadata": {
    "collapsed": false,
    "pycharm": {
     "name": "#%% md\n"
    }
   }
  },
  {
   "cell_type": "code",
   "execution_count": 21,
   "outputs": [],
   "source": [
    "class Test:\n",
    "    @property\n",
    "    def test(self):\n",
    "        pass"
   ],
   "metadata": {
    "collapsed": false,
    "pycharm": {
     "name": "#%%\n"
    }
   }
  },
  {
   "cell_type": "code",
   "execution_count": 22,
   "outputs": [
    {
     "name": "stdout",
     "output_type": "stream",
     "text": [
      "property 'test' of 'Test' object has no setter\n"
     ]
    }
   ],
   "source": [
    "t = Test()\n",
    "try:\n",
    "    t.test =100\n",
    "except AttributeError as ex:\n",
    "    print(ex)"
   ],
   "metadata": {
    "collapsed": false,
    "pycharm": {
     "name": "#%%\n"
    }
   }
  },
  {
   "cell_type": "code",
   "execution_count": 23,
   "outputs": [],
   "source": [
    "class Test:\n",
    "    def set_test(self,value):\n",
    "        pass\n",
    "    test = property(fset=set_test)\n",
    "\n",
    "\n",
    "t = Test()\n",
    "t.test =100"
   ],
   "metadata": {
    "collapsed": false,
    "pycharm": {
     "name": "#%%\n"
    }
   }
  },
  {
   "cell_type": "code",
   "execution_count": 24,
   "outputs": [
    {
     "name": "stdout",
     "output_type": "stream",
     "text": [
      "property 'test' of 'Test' object has no getter\n"
     ]
    }
   ],
   "source": [
    "try:\n",
    "    t.test\n",
    "except AttributeError as ex:\n",
    "    print(ex)"
   ],
   "metadata": {
    "collapsed": false,
    "pycharm": {
     "name": "#%%\n"
    }
   }
  },
  {
   "cell_type": "code",
   "execution_count": 25,
   "outputs": [],
   "source": [
    "class MakeProperty:\n",
    "    def __init__(self,fget=None,fset=None):\n",
    "        self.fget = fget\n",
    "        self.fset = fset\n",
    "    def __set_name__(self, owner, name):\n",
    "        self.prop_name = name\n",
    "\n",
    "    def __get__(self, instance, owner):\n",
    "        print(\"property get called... \")\n",
    "        if instance is None:\n",
    "            return self\n",
    "        elif self.fget is None:\n",
    "            raise AttributeError(f\"property '{self.prop_name}' of '{instance.__class__.__name__}' object has no getter \")\n",
    "        return self.fget(instance)\n",
    "\n",
    "    def __set__(self, instance, value):\n",
    "        print(\"property set called... \")\n",
    "        if self.fset is None:\n",
    "            raise AttributeError(f\"property '{self.prop_name}' of '{instance.__class__.__name__}' object has no setter \")\n",
    "        self.fset(instance,value)\n"
   ],
   "metadata": {
    "collapsed": false,
    "pycharm": {
     "name": "#%%\n"
    }
   }
  },
  {
   "cell_type": "code",
   "execution_count": 26,
   "outputs": [],
   "source": [
    "from numbers import Integral\n",
    "class Person:\n",
    "    def get_age(self):\n",
    "        print(\"getter called\")\n",
    "        return self.__dict__.get(\"age\",None)\n",
    "\n",
    "    def set_age(self,value):\n",
    "        print(\"setter called\")\n",
    "        if not isinstance(value,Integral):\n",
    "            raise ValueError(f\"age: must be integer\")\n",
    "        elif value < 0:\n",
    "            raise  ValueError(f\"age cannot be non negative integer\")\n",
    "        self.__dict__[\"age\"] = value\n",
    "\n",
    "    age = MakeProperty(fget=get_age,fset=set_age)"
   ],
   "metadata": {
    "collapsed": false,
    "pycharm": {
     "name": "#%%\n"
    }
   }
  },
  {
   "cell_type": "code",
   "execution_count": 27,
   "outputs": [],
   "source": [
    "p = Person()"
   ],
   "metadata": {
    "collapsed": false,
    "pycharm": {
     "name": "#%%\n"
    }
   }
  },
  {
   "cell_type": "code",
   "execution_count": 28,
   "outputs": [
    {
     "name": "stdout",
     "output_type": "stream",
     "text": [
      "property set called... \n",
      "setter called\n",
      "age cannot be non negative integer\n"
     ]
    }
   ],
   "source": [
    "try:\n",
    "    p.age = -10\n",
    "except ValueError as ex:\n",
    "    print(ex)"
   ],
   "metadata": {
    "collapsed": false,
    "pycharm": {
     "name": "#%%\n"
    }
   }
  },
  {
   "cell_type": "code",
   "execution_count": 29,
   "outputs": [
    {
     "name": "stdout",
     "output_type": "stream",
     "text": [
      "property set called... \n",
      "setter called\n"
     ]
    }
   ],
   "source": [
    "p.age =10"
   ],
   "metadata": {
    "collapsed": false,
    "pycharm": {
     "name": "#%%\n"
    }
   }
  },
  {
   "cell_type": "code",
   "execution_count": 30,
   "outputs": [
    {
     "name": "stdout",
     "output_type": "stream",
     "text": [
      "property get called... \n",
      "getter called\n"
     ]
    },
    {
     "data": {
      "text/plain": "10"
     },
     "execution_count": 30,
     "metadata": {},
     "output_type": "execute_result"
    }
   ],
   "source": [
    "p.age"
   ],
   "metadata": {
    "collapsed": false,
    "pycharm": {
     "name": "#%%\n"
    }
   }
  },
  {
   "cell_type": "code",
   "execution_count": 31,
   "outputs": [],
   "source": [
    "from numbers import Integral\n",
    "class Person:\n",
    "    def get_age(self):\n",
    "        print(\"getter called\")\n",
    "        return self.__dict__.get(\"age\",None)\n",
    "\n",
    "    def set_age(self,value):\n",
    "        print(\"setter called\")\n",
    "        if not isinstance(value,Integral):\n",
    "            raise ValueError(f\"age: must be integer\")\n",
    "        elif value < 0:\n",
    "            raise  ValueError(f\"age cannot be non negative integer\")\n",
    "        self.__dict__[\"age\"] = value\n",
    "\n",
    "    age = MakeProperty(fget=get_age)"
   ],
   "metadata": {
    "collapsed": false,
    "pycharm": {
     "name": "#%%\n"
    }
   }
  },
  {
   "cell_type": "code",
   "execution_count": 32,
   "outputs": [],
   "source": [
    "p = Person()"
   ],
   "metadata": {
    "collapsed": false,
    "pycharm": {
     "name": "#%%\n"
    }
   }
  },
  {
   "cell_type": "code",
   "execution_count": 33,
   "outputs": [
    {
     "name": "stdout",
     "output_type": "stream",
     "text": [
      "property set called... \n",
      "property 'age' of 'Person' object has no setter \n"
     ]
    }
   ],
   "source": [
    "try:\n",
    "    p.age = 10\n",
    "except AttributeError as ex:\n",
    "    print(ex)"
   ],
   "metadata": {
    "collapsed": false,
    "pycharm": {
     "name": "#%%\n"
    }
   }
  },
  {
   "cell_type": "code",
   "execution_count": 34,
   "outputs": [],
   "source": [
    "from numbers import Integral\n",
    "class Person:\n",
    "    def get_age(self):\n",
    "        print(\"getter called\")\n",
    "        return self.__dict__.get(\"age\",None)\n",
    "\n",
    "    def set_age(self,value):\n",
    "        print(\"setter called\")\n",
    "        if not isinstance(value,Integral):\n",
    "            raise ValueError(f\"age: must be integer\")\n",
    "        elif value < 0:\n",
    "            raise  ValueError(f\"age cannot be non negative integer\")\n",
    "        self.__dict__[\"age\"] = value\n",
    "\n",
    "    age = MakeProperty(fset=set_age)"
   ],
   "metadata": {
    "collapsed": false,
    "pycharm": {
     "name": "#%%\n"
    }
   }
  },
  {
   "cell_type": "code",
   "execution_count": 35,
   "outputs": [
    {
     "name": "stdout",
     "output_type": "stream",
     "text": [
      "property get called... \n",
      "property 'age' of 'Person' object has no getter \n"
     ]
    }
   ],
   "source": [
    "p =Person()\n",
    "try:\n",
    "    p.age\n",
    "except AttributeError as ex:\n",
    "    print(ex)"
   ],
   "metadata": {
    "collapsed": false,
    "pycharm": {
     "name": "#%%\n"
    }
   }
  },
  {
   "cell_type": "markdown",
   "source": [
    "## As decorator"
   ],
   "metadata": {
    "collapsed": false,
    "pycharm": {
     "name": "#%% md\n"
    }
   }
  },
  {
   "cell_type": "code",
   "execution_count": 36,
   "outputs": [],
   "source": [
    "class MakeProperty:\n",
    "    def __init__(self,fget=None,fset=None):\n",
    "        self.fget = fget\n",
    "        self.fset = fset\n",
    "    def __set_name__(self, owner, name):\n",
    "        self.prop_name = name\n",
    "\n",
    "    def __get__(self, instance, owner):\n",
    "        print(\"property get called... \")\n",
    "        if instance is None:\n",
    "            return self\n",
    "        elif self.fget is None:\n",
    "            raise AttributeError(f\"property '{self.prop_name}' of '{instance.__class__.__name__}' object has no getter \")\n",
    "        return self.fget(instance)\n",
    "\n",
    "    def __set__(self, instance, value):\n",
    "        print(\"property set called... \")\n",
    "        if self.fset is None:\n",
    "            raise AttributeError(f\"property '{self.prop_name}' of '{instance.__class__.__name__}' object has no setter \")\n",
    "        self.fset(instance,value)\n",
    "\n",
    "    def setter(self,fset):\n",
    "        self.fset = fset\n",
    "        return self\n"
   ],
   "metadata": {
    "collapsed": false,
    "pycharm": {
     "name": "#%%\n"
    }
   }
  },
  {
   "cell_type": "code",
   "execution_count": 37,
   "outputs": [],
   "source": [
    "from numbers import Integral\n",
    "class Person:\n",
    "    @MakeProperty\n",
    "    def age(self):\n",
    "        print(\"getter called\")\n",
    "        return self.__dict__.get(\"age\",None)\n",
    "\n",
    "    @age.setter\n",
    "    def age(self,value):\n",
    "        print(\"setter called\")\n",
    "        if not isinstance(value,Integral):\n",
    "            raise ValueError(f\"age: must be integer\")\n",
    "        elif value < 0:\n",
    "            raise  ValueError(f\"age cannot be non negative integer\")\n",
    "        self.__dict__[\"age\"] = value"
   ],
   "metadata": {
    "collapsed": false,
    "pycharm": {
     "name": "#%%\n"
    }
   }
  },
  {
   "cell_type": "code",
   "execution_count": 38,
   "outputs": [],
   "source": [
    "p = Person()"
   ],
   "metadata": {
    "collapsed": false,
    "pycharm": {
     "name": "#%%\n"
    }
   }
  },
  {
   "cell_type": "code",
   "execution_count": 39,
   "outputs": [
    {
     "name": "stdout",
     "output_type": "stream",
     "text": [
      "property set called... \n",
      "setter called\n",
      "age cannot be non negative integer\n"
     ]
    }
   ],
   "source": [
    "try:\n",
    "    p.age = -10\n",
    "except ValueError as ex:\n",
    "    print(ex)"
   ],
   "metadata": {
    "collapsed": false,
    "pycharm": {
     "name": "#%%\n"
    }
   }
  },
  {
   "cell_type": "code",
   "execution_count": 40,
   "outputs": [
    {
     "name": "stdout",
     "output_type": "stream",
     "text": [
      "property set called... \n",
      "setter called\n"
     ]
    }
   ],
   "source": [
    "p.age = 10"
   ],
   "metadata": {
    "collapsed": false,
    "pycharm": {
     "name": "#%%\n"
    }
   }
  },
  {
   "cell_type": "code",
   "execution_count": 41,
   "outputs": [
    {
     "data": {
      "text/plain": "{'age': 10}"
     },
     "execution_count": 41,
     "metadata": {},
     "output_type": "execute_result"
    }
   ],
   "source": [
    "p.__dict__"
   ],
   "metadata": {
    "collapsed": false,
    "pycharm": {
     "name": "#%%\n"
    }
   }
  },
  {
   "cell_type": "code",
   "execution_count": 42,
   "outputs": [
    {
     "name": "stdout",
     "output_type": "stream",
     "text": [
      "property get called... \n",
      "getter called\n"
     ]
    },
    {
     "data": {
      "text/plain": "10"
     },
     "execution_count": 42,
     "metadata": {},
     "output_type": "execute_result"
    }
   ],
   "source": [
    "p.age"
   ],
   "metadata": {
    "collapsed": false,
    "pycharm": {
     "name": "#%%\n"
    }
   }
  },
  {
   "cell_type": "code",
   "execution_count": null,
   "outputs": [],
   "source": [],
   "metadata": {
    "collapsed": false,
    "pycharm": {
     "name": "#%%\n"
    }
   }
  }
 ],
 "metadata": {
  "kernelspec": {
   "display_name": "Python 3",
   "language": "python",
   "name": "python3"
  },
  "language_info": {
   "codemirror_mode": {
    "name": "ipython",
    "version": 2
   },
   "file_extension": ".py",
   "mimetype": "text/x-python",
   "name": "python",
   "nbconvert_exporter": "python",
   "pygments_lexer": "ipython2",
   "version": "2.7.6"
  }
 },
 "nbformat": 4,
 "nbformat_minor": 0
}