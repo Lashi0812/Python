{
 "cells": [
  {
   "cell_type": "markdown",
   "source": [
    "# `__prepare__` Method\n",
    "\n",
    "we know that when we are creating the class , the metaclass `__new__` method invoked with an argument (cls_dict) for thr class dictionary."
   ],
   "metadata": {
    "collapsed": false,
    "pycharm": {
     "name": "#%% md\n"
    }
   }
  },
  {
   "cell_type": "code",
   "execution_count": 1,
   "outputs": [],
   "source": [
    "class MyMeta(type):\n",
    "    def __new__(mcls, name, bases, cls_dict, **kwargs):\n",
    "        print('MyMeta.__new__ called...')\n",
    "        print('\\tcls: ', mcls, type(mcls))\n",
    "        print('\\tname:', name, type(name))\n",
    "        print('\\tbases: ', bases, type(bases))\n",
    "        print('\\tcls_dict:', cls_dict, type(cls_dict))\n",
    "        print('\\tkwargs:', kwargs)\n",
    "        return super().__new__(mcls, name, bases, cls_dict)"
   ],
   "metadata": {
    "collapsed": false,
    "pycharm": {
     "name": "#%%\n"
    }
   }
  },
  {
   "cell_type": "code",
   "execution_count": 2,
   "outputs": [
    {
     "name": "stdout",
     "output_type": "stream",
     "text": [
      "MyMeta.__new__ called...\n",
      "\tcls:  <class '__main__.MyMeta'> <class 'type'>\n",
      "\tname: MyClass <class 'str'>\n",
      "\tbases:  () <class 'tuple'>\n",
      "\tcls_dict: {'__module__': '__main__', '__qualname__': 'MyClass'} <class 'dict'>\n",
      "\tkwargs: {}\n"
     ]
    }
   ],
   "source": [
    "class MyClass(metaclass=MyMeta):\n",
    "    pass"
   ],
   "metadata": {
    "collapsed": false,
    "pycharm": {
     "name": "#%%\n"
    }
   }
  },
  {
   "cell_type": "markdown",
   "source": [
    "So, as we see, cls_dict is a dictionary and it also contains some information already. It is obviously being created somewhere before being passed to the __new__ method.\n",
    "\n",
    "The class dictionary is actually created by calling the __prepare__ method, which the type class implements.\n",
    "\n",
    "When the class is created, Python calls __prepare__ and uses the return value of that method as the initialized class dictionary. Then right before calling __new__ it adds a few items into that dictionary, and then calls the __new__ method using that pre-created and initialized dictionary.\n",
    "\n",
    "Since __prepare__ is just a method in type, we can override it."
   ],
   "metadata": {
    "collapsed": false,
    "pycharm": {
     "name": "#%% md\n"
    }
   }
  },
  {
   "cell_type": "code",
   "execution_count": 4,
   "outputs": [],
   "source": [
    "class MyMeta(type):\n",
    "    @staticmethod\n",
    "    def __prepare__(name, bases, **kwargs):\n",
    "        print('MyMeta.__prepare__ called...')\n",
    "        print('\\tname:', name)\n",
    "        print('\\tkwargs:', kwargs)\n",
    "        return {'a': 100, 'b': 200}\n",
    "\n",
    "    def __new__(mcls, name, bases, cls_dict, **kwargs):\n",
    "        print('MyMeta.__new__ called...')\n",
    "        print('\\tcls: ', mcls, type(mcls))\n",
    "        print('\\tname:', name, type(name))\n",
    "        print('\\tbases: ', bases, type(bases))\n",
    "        print('\\tcls_dict:', cls_dict, type(cls_dict))\n",
    "        print('\\tkwargs:', kwargs)\n",
    "        return super().__new__(mcls, name, bases, cls_dict)\n"
   ],
   "metadata": {
    "collapsed": false,
    "pycharm": {
     "name": "#%%\n"
    }
   }
  },
  {
   "cell_type": "code",
   "execution_count": 5,
   "outputs": [
    {
     "name": "stdout",
     "output_type": "stream",
     "text": [
      "MyMeta.__prepare__ called...\n",
      "\tname: MyClass\n",
      "\tkwargs: {'kw1': 10, 'kw2': 20}\n",
      "MyMeta.__new__ called...\n",
      "\tcls:  <class '__main__.MyMeta'> <class 'type'>\n",
      "\tname: MyClass <class 'str'>\n",
      "\tbases:  () <class 'tuple'>\n",
      "\tcls_dict: {'a': 100, 'b': 200, '__module__': '__main__', '__qualname__': 'MyClass'} <class 'dict'>\n",
      "\tkwargs: {'kw1': 10, 'kw2': 20}\n"
     ]
    }
   ],
   "source": [
    "class MyClass(metaclass=MyMeta, kw1=10, kw2=20):\n",
    "    pass"
   ],
   "metadata": {
    "collapsed": false,
    "pycharm": {
     "name": "#%%\n"
    }
   }
  },
  {
   "cell_type": "markdown",
   "source": [
    "Notice how the __prepare__ method was called before the __new__ method was called.\n",
    "\n",
    "Also notice how it contains the items 'a': 100 and 'b': 200 which we injected in the __prepare__ method.\n",
    "\n",
    "The cls_dict argument in __new__ has a couple of extra items that it injects for us prior to calling the __new__ method.\n",
    "\n",
    "Of course, if we do not specify a __prepare__ method in our metaclass, we inherit the one that is already defined in type - which returns an empty dictionary."
   ],
   "metadata": {
    "collapsed": false,
    "pycharm": {
     "name": "#%% md\n"
    }
   }
  },
  {
   "cell_type": "code",
   "execution_count": 6,
   "outputs": [
    {
     "data": {
      "text/plain": "{}"
     },
     "execution_count": 6,
     "metadata": {},
     "output_type": "execute_result"
    }
   ],
   "source": [
    "type.__prepare__()"
   ],
   "metadata": {
    "collapsed": false,
    "pycharm": {
     "name": "#%%\n"
    }
   }
  },
  {
   "cell_type": "code",
   "execution_count": 8,
   "outputs": [],
   "source": [
    "class CustomDict(dict):\n",
    "    def __setitem__(self, key, value):\n",
    "        print(f'Setting {key} = {value} in custom dictionary')\n",
    "        super().__setitem__(key, value)\n",
    "\n",
    "    def __getitem__(self, key):\n",
    "        print(f'Getting {key} from custom dictionary')\n",
    "        return int(super().__getitem__(key))"
   ],
   "metadata": {
    "collapsed": false,
    "pycharm": {
     "name": "#%%\n"
    }
   }
  },
  {
   "cell_type": "code",
   "execution_count": 9,
   "outputs": [],
   "source": [
    "class MyMeta(type):\n",
    "    def __prepare__(name, bases):\n",
    "        return CustomDict()\n",
    "\n",
    "    def __new__(mcls, name, bases, cls_dict):\n",
    "        print('metaclass __new__ called...')\n",
    "        print(f'\\ttype(cls_dict) = {type(cls_dict)}')\n",
    "        print(f'\\tcls_dict={cls_dict}')"
   ],
   "metadata": {
    "collapsed": false,
    "pycharm": {
     "name": "#%%\n"
    }
   }
  },
  {
   "cell_type": "code",
   "execution_count": 10,
   "outputs": [
    {
     "name": "stdout",
     "output_type": "stream",
     "text": [
      "Getting __name__ from custom dictionary\n",
      "Setting __module__ = __main__ in custom dictionary\n",
      "Setting __qualname__ = MyClass in custom dictionary\n",
      "metaclass __new__ called...\n",
      "\ttype(cls_dict) = <class '__main__.CustomDict'>\n",
      "\tcls_dict={'__module__': '__main__', '__qualname__': 'MyClass'}\n"
     ]
    }
   ],
   "source": [
    "class MyClass(metaclass=MyMeta):\n",
    "    pass"
   ],
   "metadata": {
    "collapsed": false,
    "pycharm": {
     "name": "#%%\n"
    }
   }
  },
  {
   "cell_type": "markdown",
   "source": [
    "As you can see, the dictionary we returned from __prepare__ was a CustomDict instance that is eventually passed to __new__ when it is called.\n",
    "\n",
    "And between __prepare__ and __new__, Python accessed our dictionary to read/write a few items."
   ],
   "metadata": {
    "collapsed": false,
    "pycharm": {
     "name": "#%% md\n"
    }
   }
  },
  {
   "cell_type": "code",
   "execution_count": null,
   "outputs": [],
   "source": [],
   "metadata": {
    "collapsed": false,
    "pycharm": {
     "name": "#%%\n"
    }
   }
  }
 ],
 "metadata": {
  "kernelspec": {
   "display_name": "Python 3",
   "language": "python",
   "name": "python3"
  },
  "language_info": {
   "codemirror_mode": {
    "name": "ipython",
    "version": 2
   },
   "file_extension": ".py",
   "mimetype": "text/x-python",
   "name": "python",
   "nbconvert_exporter": "python",
   "pygments_lexer": "ipython2",
   "version": "2.7.6"
  }
 },
 "nbformat": 4,
 "nbformat_minor": 0
}