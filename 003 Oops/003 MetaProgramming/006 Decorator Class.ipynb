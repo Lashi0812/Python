{
 "cells": [
  {
   "cell_type": "markdown",
   "source": [
    "# Decorator class\n",
    "\n",
    "so far we are using the functional approach to decorator the class or function to decorate it."
   ],
   "metadata": {
    "collapsed": false,
    "pycharm": {
     "name": "#%% md\n"
    }
   }
  },
  {
   "cell_type": "markdown",
   "source": [
    "## Functional Approach"
   ],
   "metadata": {
    "collapsed": false,
    "pycharm": {
     "name": "#%% md\n"
    }
   }
  },
  {
   "cell_type": "code",
   "execution_count": 29,
   "outputs": [],
   "source": [
    "#? decorating the function\n",
    "import inspect\n",
    "import types\n",
    "from functools import wraps\n",
    "\n",
    "def func_decorator(fn):\n",
    "    @wraps(fn)\n",
    "    def inner(*arg,**kwargs):\n",
    "        print(f\"decorating the function {fn.__qualname__}\")\n",
    "        return fn(*arg,**kwargs)\n",
    "    return inner\n"
   ],
   "metadata": {
    "collapsed": false,
    "pycharm": {
     "name": "#%%\n"
    }
   }
  },
  {
   "cell_type": "code",
   "execution_count": 13,
   "outputs": [],
   "source": [
    "@func_decorator\n",
    "def hello():\n",
    "    return \"say hello\""
   ],
   "metadata": {
    "collapsed": false,
    "pycharm": {
     "name": "#%%\n"
    }
   }
  },
  {
   "cell_type": "code",
   "execution_count": 14,
   "outputs": [
    {
     "name": "stdout",
     "output_type": "stream",
     "text": [
      "decorating the function hello\n"
     ]
    },
    {
     "data": {
      "text/plain": "'say hello'"
     },
     "execution_count": 14,
     "metadata": {},
     "output_type": "execute_result"
    }
   ],
   "source": [
    "hello()"
   ],
   "metadata": {
    "collapsed": false,
    "pycharm": {
     "name": "#%%\n"
    }
   }
  },
  {
   "cell_type": "code",
   "execution_count": 16,
   "outputs": [],
   "source": [
    "#? decorating the class\n",
    "def class_decorator(cls):\n",
    "    print(f\"decorating the cls : {cls.__qualname__}\")\n",
    "    for name,obj in vars(cls).items():\n",
    "        if callable(obj):\n",
    "            setattr(cls,name,func_decorator(obj))\n",
    "    return cls"
   ],
   "metadata": {
    "collapsed": false,
    "pycharm": {
     "name": "#%%\n"
    }
   }
  },
  {
   "cell_type": "code",
   "execution_count": 17,
   "outputs": [
    {
     "name": "stdout",
     "output_type": "stream",
     "text": [
      "decorating the cls : Person\n"
     ]
    }
   ],
   "source": [
    "@class_decorator\n",
    "class Person:\n",
    "    def __init__(self,name):\n",
    "        self.name = name\n",
    "    def greet(self):\n",
    "        return f\"{self.name} say hello\""
   ],
   "metadata": {
    "collapsed": false,
    "pycharm": {
     "name": "#%%\n"
    }
   }
  },
  {
   "cell_type": "code",
   "execution_count": 18,
   "outputs": [
    {
     "name": "stdout",
     "output_type": "stream",
     "text": [
      "decorating the function Person.__init__\n"
     ]
    }
   ],
   "source": [
    "p = Person(\"python\")"
   ],
   "metadata": {
    "collapsed": false,
    "pycharm": {
     "name": "#%%\n"
    }
   }
  },
  {
   "cell_type": "code",
   "execution_count": 19,
   "outputs": [
    {
     "name": "stdout",
     "output_type": "stream",
     "text": [
      "decorating the function Person.greet\n"
     ]
    },
    {
     "data": {
      "text/plain": "'python say hello'"
     },
     "execution_count": 19,
     "metadata": {},
     "output_type": "execute_result"
    }
   ],
   "source": [
    "p.greet()"
   ],
   "metadata": {
    "collapsed": false,
    "pycharm": {
     "name": "#%%\n"
    }
   }
  },
  {
   "cell_type": "markdown",
   "source": [
    "so far we are using the function of decorate the function or class.\n",
    "Similar we can use the class to decorate  function or class"
   ],
   "metadata": {
    "collapsed": false,
    "pycharm": {
     "name": "#%% md\n"
    }
   }
  },
  {
   "cell_type": "code",
   "execution_count": 26,
   "outputs": [],
   "source": [
    "#? decorating the function\n",
    "class Logger:\n",
    "    def __init__(self,fn):\n",
    "        self.fn = fn\n",
    "    def __call__(self, *args, **kwargs):\n",
    "        print(f\"Logging : {self.fn.__qualname__} function\")\n",
    "        return self.fn(*args,**kwargs)"
   ],
   "metadata": {
    "collapsed": false,
    "pycharm": {
     "name": "#%%\n"
    }
   }
  },
  {
   "cell_type": "code",
   "execution_count": 27,
   "outputs": [],
   "source": [
    "@Logger\n",
    "def hello(name):\n",
    "    print(f\" {name} say hello\")"
   ],
   "metadata": {
    "collapsed": false,
    "pycharm": {
     "name": "#%%\n"
    }
   }
  },
  {
   "cell_type": "code",
   "execution_count": 28,
   "outputs": [
    {
     "name": "stdout",
     "output_type": "stream",
     "text": [
      "Logging : hello function\n",
      " python say hello\n"
     ]
    }
   ],
   "source": [
    "hello(\"python\")"
   ],
   "metadata": {
    "collapsed": false,
    "pycharm": {
     "name": "#%%\n"
    }
   }
  },
  {
   "cell_type": "markdown",
   "source": [
    "When we are using class to decorate the function it's okay.\n",
    "\n",
    "but we use the class to decorate the method this make problem .we need to be careful."
   ],
   "metadata": {
    "collapsed": false,
    "pycharm": {
     "name": "#%% md\n"
    }
   }
  },
  {
   "cell_type": "code",
   "execution_count": 30,
   "outputs": [],
   "source": [
    "class Person:\n",
    "    def __init__(self,name):\n",
    "        self.name = name\n",
    "    @Logger\n",
    "    def greet(self):\n",
    "        return f\"{self.name} say hello\""
   ],
   "metadata": {
    "collapsed": false,
    "pycharm": {
     "name": "#%%\n"
    }
   }
  },
  {
   "cell_type": "code",
   "execution_count": 31,
   "outputs": [],
   "source": [
    "p = Person(\"python\")"
   ],
   "metadata": {
    "collapsed": false,
    "pycharm": {
     "name": "#%%\n"
    }
   }
  },
  {
   "cell_type": "code",
   "execution_count": 37,
   "outputs": [
    {
     "name": "stdout",
     "output_type": "stream",
     "text": [
      "Logging : Person.greet function\n",
      "Person.greet() missing 1 required positional argument: 'self'\n"
     ]
    }
   ],
   "source": [
    "try:\n",
    "    p.greet()\n",
    "except TypeError as ex:\n",
    "    print(ex)"
   ],
   "metadata": {
    "collapsed": false,
    "pycharm": {
     "name": "#%%\n"
    }
   }
  },
  {
   "cell_type": "markdown",
   "source": [
    "What's going on here? Why is Python complaining that self has not been passed to say_hello?\n",
    "\n",
    "We called it from an instance, so why is self not being passed to it.\n",
    "\n",
    "Well, you have to remember what say_hello is now that it has been decorated - it is an instance of a class, not a function!\n",
    "\n",
    "And do you remember how functions are turned into methods?\n",
    "\n",
    "The descriptor protocol... Functions implement a __get__ method, and that is ultimately used to create the bound method.\n",
    "\n",
    "Our class does not implement the __get__ method, so that callable remain a plain callable, not a bound method, and that's why our implementation is broken."
   ],
   "metadata": {
    "collapsed": false,
    "pycharm": {
     "name": "#%% md\n"
    }
   }
  },
  {
   "cell_type": "markdown",
   "source": [
    "Why typeerror is raised?\n",
    "1. when we use the `class decorator` to decorate the function or method it returns` instance of class decorator`\n",
    "2. since we implement the` __call__` method , instance are callable.\n",
    "3. Instance of class decorator take argument and call the original function.\n",
    "4. this work well in normal function. but when we are working with method, these are bound to some object.\n",
    "5. method are expecting the bounded object as first argument."
   ],
   "metadata": {
    "collapsed": false,
    "pycharm": {
     "name": "#%% md\n"
    }
   }
  },
  {
   "cell_type": "code",
   "execution_count": 38,
   "outputs": [],
   "source": [
    "class Person:\n",
    "    def __init__(self,name):\n",
    "        self.name = name\n",
    "    @Logger\n",
    "    def greet(self):\n",
    "        return f\"{self.name} say hello\""
   ],
   "metadata": {
    "collapsed": false,
    "pycharm": {
     "name": "#%%\n"
    }
   }
  },
  {
   "cell_type": "code",
   "execution_count": 39,
   "outputs": [
    {
     "data": {
      "text/plain": "<__main__.Logger at 0x2295ab9fe10>"
     },
     "execution_count": 39,
     "metadata": {},
     "output_type": "execute_result"
    }
   ],
   "source": [
    "Person.greet\n",
    "#! instance of the class Logger"
   ],
   "metadata": {
    "collapsed": false,
    "pycharm": {
     "name": "#%%\n"
    }
   }
  },
  {
   "cell_type": "markdown",
   "source": [
    "# How to overcome this problem?\n"
   ],
   "metadata": {
    "collapsed": false,
    "pycharm": {
     "name": "#%% md\n"
    }
   }
  },
  {
   "cell_type": "markdown",
   "source": [
    "method are non-data descriptor."
   ],
   "metadata": {
    "collapsed": false,
    "pycharm": {
     "name": "#%% md\n"
    }
   }
  },
  {
   "cell_type": "code",
   "execution_count": 49,
   "outputs": [],
   "source": [
    "class Person:\n",
    "    def __init__(self,name):\n",
    "        self.name = name\n",
    "    def greet(self):\n",
    "        return f\"{self.name} say hello\""
   ],
   "metadata": {
    "collapsed": false,
    "pycharm": {
     "name": "#%%\n"
    }
   }
  },
  {
   "cell_type": "code",
   "execution_count": 71,
   "outputs": [
    {
     "data": {
      "text/plain": "(True, False)"
     },
     "execution_count": 71,
     "metadata": {},
     "output_type": "execute_result"
    }
   ],
   "source": [
    "hasattr(Person.__dict__[\"greet\"],\"__get__\") ,hasattr(Person.__dict__[\"greet\"],\"__set__\")\n",
    "#? non data description"
   ],
   "metadata": {
    "collapsed": false,
    "pycharm": {
     "name": "#%%\n"
    }
   }
  },
  {
   "cell_type": "markdown",
   "source": [
    "so we can implement descriptor protocol for the class Descriptor"
   ],
   "metadata": {
    "collapsed": false,
    "pycharm": {
     "name": "#%% md\n"
    }
   }
  },
  {
   "cell_type": "code",
   "execution_count": 80,
   "outputs": [],
   "source": [
    "class Logger:\n",
    "    def __init__(self,fn):\n",
    "        self.fn = fn\n",
    "    def __call__(self, *args, **kwargs):\n",
    "        print(f\"Logging : {self.fn.__qualname__} function\")\n",
    "        return self.fn(*args,**kwargs)\n",
    "    def __get__(self, instance, owner):\n",
    "        if instance is None:\n",
    "            return self\n",
    "        return types.MethodType(self.fn,instance)"
   ],
   "metadata": {
    "collapsed": false,
    "pycharm": {
     "name": "#%%\n"
    }
   }
  },
  {
   "cell_type": "code",
   "execution_count": 81,
   "outputs": [],
   "source": [
    "class Person:\n",
    "    def __init__(self,name):\n",
    "        self.name = name\n",
    "    @Logger\n",
    "    def greet(self):\n",
    "        return f\"{self.name} say hello\""
   ],
   "metadata": {
    "collapsed": false,
    "pycharm": {
     "name": "#%%\n"
    }
   }
  },
  {
   "cell_type": "code",
   "execution_count": 82,
   "outputs": [],
   "source": [
    "p = Person(\"python\")"
   ],
   "metadata": {
    "collapsed": false,
    "pycharm": {
     "name": "#%%\n"
    }
   }
  },
  {
   "cell_type": "code",
   "execution_count": 84,
   "outputs": [
    {
     "data": {
      "text/plain": "'python say hello'"
     },
     "execution_count": 84,
     "metadata": {},
     "output_type": "execute_result"
    }
   ],
   "source": [
    "p.greet()"
   ],
   "metadata": {
    "collapsed": false,
    "pycharm": {
     "name": "#%%\n"
    }
   }
  }
 ],
 "metadata": {
  "kernelspec": {
   "display_name": "Python 3",
   "language": "python",
   "name": "python3"
  },
  "language_info": {
   "codemirror_mode": {
    "name": "ipython",
    "version": 2
   },
   "file_extension": ".py",
   "mimetype": "text/x-python",
   "name": "python",
   "nbconvert_exporter": "python",
   "pygments_lexer": "ipython2",
   "version": "2.7.6"
  }
 },
 "nbformat": 4,
 "nbformat_minor": 0
}