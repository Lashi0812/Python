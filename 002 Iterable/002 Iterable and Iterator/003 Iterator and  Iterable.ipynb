{
 "cells": [
  {
   "cell_type": "code",
   "execution_count": 3,
   "metadata": {
    "collapsed": true,
    "pycharm": {
     "name": "#%%\n"
    }
   },
   "outputs": [],
   "source": [
    "#? Iterator protocol with along data\n",
    "class Cities:\n",
    "    def __init__(self):\n",
    "        self._cities = list(\"ABCDE\")\n",
    "        self._index = 0\n",
    "\n",
    "    def __iter__(self):\n",
    "        return self\n",
    "\n",
    "    def __next__(self):\n",
    "        if self._index >= len(self._cities):\n",
    "            raise StopIteration\n",
    "        else:\n",
    "            result = self._cities[self._index]\n",
    "            self._index += 1\n",
    "            return result"
   ]
  },
  {
   "cell_type": "code",
   "execution_count": 4,
   "outputs": [
    {
     "data": {
      "text/plain": "[(0, 'A'), (1, 'B'), (2, 'C'), (3, 'D'), (4, 'E')]"
     },
     "execution_count": 4,
     "metadata": {},
     "output_type": "execute_result"
    }
   ],
   "source": [
    "cities = Cities()\n",
    "list(enumerate(cities))"
   ],
   "metadata": {
    "collapsed": false,
    "pycharm": {
     "name": "#%%\n"
    }
   }
  },
  {
   "cell_type": "code",
   "execution_count": 11,
   "outputs": [
    {
     "data": {
      "text/plain": "['E', 'D', 'C', 'B', 'A']"
     },
     "execution_count": 11,
     "metadata": {},
     "output_type": "execute_result"
    }
   ],
   "source": [
    "cities = Cities()\n",
    "sorted(cities, key=ord, reverse=True)"
   ],
   "metadata": {
    "collapsed": false,
    "pycharm": {
     "name": "#%%\n"
    }
   }
  },
  {
   "cell_type": "markdown",
   "source": [
    "Now, we have an iterator object, but we need to re-create it every time we want to start the iterations from the beginning:\n",
    "\n"
   ],
   "metadata": {
    "collapsed": false,
    "pycharm": {
     "name": "#%% md\n"
    }
   }
  },
  {
   "cell_type": "code",
   "execution_count": 18,
   "outputs": [],
   "source": [
    "#? Iterable protocol without iter\n",
    "class Cities:\n",
    "    def __init__(self):\n",
    "        self.cities = list(\"ABCDE\")\n",
    "\n",
    "    def __len__(self):\n",
    "        return len(self.cities)\n",
    "\n",
    "\n",
    "#? Iterator protocol without  data\n",
    "class CityIterator:\n",
    "    def __init__(self, cty_obj):\n",
    "        self._cities = cty_obj\n",
    "        self._index = 0\n",
    "\n",
    "    def __iter__(self):\n",
    "        return self\n",
    "\n",
    "    def __next__(self):\n",
    "        if self._index >= len(self._cities):\n",
    "            raise StopIteration\n",
    "        else:\n",
    "            result = self._cities.cities[self._index]\n",
    "            self._index += 1\n",
    "            return result"
   ],
   "metadata": {
    "collapsed": false,
    "pycharm": {
     "name": "#%%\n"
    }
   }
  },
  {
   "cell_type": "code",
   "execution_count": 19,
   "outputs": [],
   "source": [
    "cities = Cities()\n",
    "city_iter = CityIterator(cities)"
   ],
   "metadata": {
    "collapsed": false,
    "pycharm": {
     "name": "#%%\n"
    }
   }
  },
  {
   "cell_type": "code",
   "execution_count": 20,
   "outputs": [
    {
     "data": {
      "text/plain": "[(0, 'A'), (1, 'B'), (2, 'C'), (3, 'D'), (4, 'E')]"
     },
     "execution_count": 20,
     "metadata": {},
     "output_type": "execute_result"
    }
   ],
   "source": [
    "list(enumerate(city_iter))"
   ],
   "metadata": {
    "collapsed": false,
    "pycharm": {
     "name": "#%%\n"
    }
   }
  },
  {
   "cell_type": "code",
   "execution_count": 21,
   "outputs": [
    {
     "data": {
      "text/plain": "[]"
     },
     "execution_count": 21,
     "metadata": {},
     "output_type": "execute_result"
    }
   ],
   "source": [
    "list(enumerate(city_iter))\n",
    "#? we exhausted the iterator we have to manually create the iterator object"
   ],
   "metadata": {
    "collapsed": false,
    "pycharm": {
     "name": "#%%\n"
    }
   }
  },
  {
   "cell_type": "code",
   "execution_count": 22,
   "outputs": [
    {
     "data": {
      "text/plain": "[(0, 'A'), (1, 'B'), (2, 'C'), (3, 'D'), (4, 'E')]"
     },
     "execution_count": 22,
     "metadata": {},
     "output_type": "execute_result"
    }
   ],
   "source": [
    "city_iter = CityIterator(cities)\n",
    "list(enumerate(city_iter))"
   ],
   "metadata": {
    "collapsed": false,
    "pycharm": {
     "name": "#%%\n"
    }
   }
  },
  {
   "cell_type": "code",
   "execution_count": 27,
   "outputs": [],
   "source": [
    "#? Iterable protocol with iter\n",
    "class Cities:\n",
    "    def __init__(self):\n",
    "        self.cities = list(\"ABCDE\")\n",
    "\n",
    "    def __len__(self):\n",
    "        return len(self.cities)\n",
    "\n",
    "    def __iter__(self):\n",
    "        return CityIterator(self.cities)\n",
    "\n",
    "\n",
    "#? Iterator protocol without  data\n",
    "class CityIterator:\n",
    "    def __init__(self, cty_obj):\n",
    "        self._cities = cty_obj\n",
    "        self._index = 0\n",
    "\n",
    "    def __iter__(self):\n",
    "        return self\n",
    "\n",
    "    def __next__(self):\n",
    "        if self._index >= len(self._cities):\n",
    "            raise StopIteration\n",
    "        else:\n",
    "            result = self._cities[self._index]\n",
    "            self._index += 1\n",
    "            return result"
   ],
   "metadata": {
    "collapsed": false,
    "pycharm": {
     "name": "#%%\n"
    }
   }
  },
  {
   "cell_type": "code",
   "execution_count": 28,
   "outputs": [
    {
     "data": {
      "text/plain": "[(0, 'A'), (1, 'B'), (2, 'C'), (3, 'D'), (4, 'E')]"
     },
     "execution_count": 28,
     "metadata": {},
     "output_type": "execute_result"
    }
   ],
   "source": [
    "cities = Cities()\n",
    "list(enumerate(cities))"
   ],
   "metadata": {
    "collapsed": false,
    "pycharm": {
     "name": "#%%\n"
    }
   }
  },
  {
   "cell_type": "code",
   "execution_count": 29,
   "outputs": [],
   "source": [
    "#? Iterable protocol with iter\n",
    "class Cities:\n",
    "    def __init__(self):\n",
    "        self.cities = list(\"ABCDE\")\n",
    "\n",
    "    def __len__(self):\n",
    "        return len(self.cities)\n",
    "\n",
    "    def __iter__(self):\n",
    "        print(\"Iterable calling __iter__\")\n",
    "        return CityIterator(self.cities)\n",
    "\n",
    "\n",
    "#? Iterator protocol without  data\n",
    "class CityIterator:\n",
    "    def __init__(self, cty_obj):\n",
    "        print(\"New Iterator object is created\")\n",
    "        self._cities = cty_obj\n",
    "        self._index = 0\n",
    "\n",
    "    def __iter__(self):\n",
    "        print(\"Iterator calling the __init__\")\n",
    "        return self\n",
    "\n",
    "    def __next__(self):\n",
    "        print(\"Iterator calling the __next__\")\n",
    "        if self._index >= len(self._cities):\n",
    "            raise StopIteration\n",
    "        else:\n",
    "            result = self._cities[self._index]\n",
    "            self._index += 1\n",
    "            return result"
   ],
   "metadata": {
    "collapsed": false,
    "pycharm": {
     "name": "#%%\n"
    }
   }
  },
  {
   "cell_type": "code",
   "execution_count": 30,
   "outputs": [
    {
     "name": "stdout",
     "output_type": "stream",
     "text": [
      "Iterable calling __iter__\n",
      "New Iterator object is created\n",
      "Iterator calling the __next__\n",
      "Iterator calling the __next__\n",
      "Iterator calling the __next__\n",
      "Iterator calling the __next__\n",
      "Iterator calling the __next__\n",
      "Iterator calling the __next__\n"
     ]
    }
   ],
   "source": [
    "cities = Cities()\n",
    "for city in cities:\n",
    "    pass"
   ],
   "metadata": {
    "collapsed": false,
    "pycharm": {
     "name": "#%%\n"
    }
   }
  },
  {
   "cell_type": "code",
   "execution_count": 31,
   "outputs": [
    {
     "name": "stdout",
     "output_type": "stream",
     "text": [
      "Iterable calling __iter__\n",
      "New Iterator object is created\n",
      "Iterator calling the __next__\n",
      "Iterator calling the __next__\n",
      "Iterator calling the __next__\n",
      "Iterator calling the __next__\n",
      "Iterator calling the __next__\n",
      "Iterator calling the __next__\n"
     ]
    },
    {
     "data": {
      "text/plain": "[(0, 'A'), (1, 'B'), (2, 'C'), (3, 'D'), (4, 'E')]"
     },
     "execution_count": 31,
     "metadata": {},
     "output_type": "execute_result"
    }
   ],
   "source": [
    "list(enumerate(cities))"
   ],
   "metadata": {
    "collapsed": false,
    "pycharm": {
     "name": "#%%\n"
    }
   }
  },
  {
   "cell_type": "code",
   "execution_count": 32,
   "outputs": [
    {
     "name": "stdout",
     "output_type": "stream",
     "text": [
      "Iterable calling __iter__\n",
      "New Iterator object is created\n",
      "Iterator calling the __next__\n",
      "Iterator calling the __next__\n",
      "Iterator calling the __next__\n",
      "Iterator calling the __next__\n",
      "Iterator calling the __next__\n",
      "Iterator calling the __next__\n"
     ]
    },
    {
     "data": {
      "text/plain": "['A', 'B', 'C', 'D', 'E']"
     },
     "execution_count": 32,
     "metadata": {},
     "output_type": "execute_result"
    }
   ],
   "source": [
    "sorted(cities)"
   ],
   "metadata": {
    "collapsed": false,
    "pycharm": {
     "name": "#%%\n"
    }
   }
  },
  {
   "cell_type": "code",
   "execution_count": 37,
   "outputs": [
    {
     "ename": "NameError",
     "evalue": "name 'CityIterator' is not defined",
     "output_type": "error",
     "traceback": [
      "\u001B[1;31m---------------------------------------------------------------------------\u001B[0m",
      "\u001B[1;31mNameError\u001B[0m                                 Traceback (most recent call last)",
      "Cell \u001B[1;32mIn [37], line 2\u001B[0m\n\u001B[0;32m      1\u001B[0m \u001B[38;5;28;01mdel\u001B[39;00m Cities\n\u001B[1;32m----> 2\u001B[0m \u001B[38;5;28;01mdel\u001B[39;00m \u001B[43mCityIterator\u001B[49m\n",
      "\u001B[1;31mNameError\u001B[0m: name 'CityIterator' is not defined"
     ]
    }
   ],
   "source": [
    "del Cities\n",
    "del CityIterator"
   ],
   "metadata": {
    "collapsed": false,
    "pycharm": {
     "name": "#%%\n"
    }
   }
  },
  {
   "cell_type": "code",
   "execution_count": 38,
   "outputs": [],
   "source": [
    "#? Iterable protocol with iter nested the iterator class into the iterable\n",
    "class Cities:\n",
    "    def __init__(self):\n",
    "        self.cities = list(\"ABCDE\")\n",
    "\n",
    "    def __len__(self):\n",
    "        return len(self.cities)\n",
    "\n",
    "    def __iter__(self):\n",
    "        print(\"Iterable calling __iter__\")\n",
    "        return self.CityIterator(self.cities)\n",
    "\n",
    "    class CityIterator:\n",
    "        def __init__(self, cty_obj):\n",
    "            print(\"New Iterator object is created\")\n",
    "            self._cities = cty_obj\n",
    "            self._index = 0\n",
    "\n",
    "        def __iter__(self):\n",
    "            print(\"Iterator calling the __init__\")\n",
    "            return self\n",
    "\n",
    "        def __next__(self):\n",
    "            print(\"Iterator calling the __next__\")\n",
    "            if self._index >= len(self._cities):\n",
    "                raise StopIteration\n",
    "            else:\n",
    "                result = self._cities[self._index]\n",
    "                self._index += 1\n",
    "                return result"
   ],
   "metadata": {
    "collapsed": false,
    "pycharm": {
     "name": "#%%\n"
    }
   }
  },
  {
   "cell_type": "code",
   "execution_count": 39,
   "outputs": [],
   "source": [
    "cities = Cities()"
   ],
   "metadata": {
    "collapsed": false,
    "pycharm": {
     "name": "#%%\n"
    }
   }
  },
  {
   "cell_type": "code",
   "execution_count": 40,
   "outputs": [
    {
     "name": "stdout",
     "output_type": "stream",
     "text": [
      "Iterable calling __iter__\n",
      "New Iterator object is created\n",
      "Iterator calling the __next__\n",
      "Iterator calling the __next__\n",
      "Iterator calling the __next__\n",
      "Iterator calling the __next__\n",
      "Iterator calling the __next__\n",
      "Iterator calling the __next__\n"
     ]
    },
    {
     "data": {
      "text/plain": "[(0, 'A'), (1, 'B'), (2, 'C'), (3, 'D'), (4, 'E')]"
     },
     "execution_count": 40,
     "metadata": {},
     "output_type": "execute_result"
    }
   ],
   "source": [
    "list(enumerate(cities))"
   ],
   "metadata": {
    "collapsed": false,
    "pycharm": {
     "name": "#%%\n"
    }
   }
  },
  {
   "cell_type": "code",
   "execution_count": 41,
   "outputs": [
    {
     "name": "stdout",
     "output_type": "stream",
     "text": [
      "Iterable calling __iter__\n",
      "New Iterator object is created\n",
      "Iterator calling the __next__\n",
      "Iterator calling the __next__\n",
      "Iterator calling the __next__\n",
      "Iterator calling the __next__\n",
      "Iterator calling the __next__\n",
      "Iterator calling the __next__\n"
     ]
    },
    {
     "data": {
      "text/plain": "['A', 'B', 'C', 'D', 'E']"
     },
     "execution_count": 41,
     "metadata": {},
     "output_type": "execute_result"
    }
   ],
   "source": [
    "sorted(cities)"
   ],
   "metadata": {
    "collapsed": false,
    "pycharm": {
     "name": "#%%\n"
    }
   }
  },
  {
   "cell_type": "code",
   "execution_count": 42,
   "outputs": [
    {
     "name": "stdout",
     "output_type": "stream",
     "text": [
      "Iterable calling __iter__\n",
      "New Iterator object is created\n",
      "Iterable calling __iter__\n",
      "New Iterator object is created\n"
     ]
    }
   ],
   "source": [
    "#?we can get the iterator instance, and we can iterate over them\n",
    "iter1 = iter(cities)\n",
    "iter2 = cities.__iter__()\n"
   ],
   "metadata": {
    "collapsed": false,
    "pycharm": {
     "name": "#%%\n"
    }
   }
  },
  {
   "cell_type": "code",
   "execution_count": 43,
   "outputs": [
    {
     "name": "stdout",
     "output_type": "stream",
     "text": [
      "Iterator calling the __init__\n",
      "Iterator calling the __next__\n",
      "Iterator calling the __next__\n",
      "Iterator calling the __next__\n",
      "Iterator calling the __next__\n",
      "Iterator calling the __next__\n",
      "Iterator calling the __next__\n"
     ]
    }
   ],
   "source": [
    "for i in iter1:\n",
    "    pass"
   ],
   "metadata": {
    "collapsed": false,
    "pycharm": {
     "name": "#%%\n"
    }
   }
  },
  {
   "cell_type": "code",
   "execution_count": 44,
   "outputs": [
    {
     "name": "stdout",
     "output_type": "stream",
     "text": [
      "Iterator calling the __init__\n",
      "Iterator calling the __next__\n"
     ]
    }
   ],
   "source": [
    "for i in iter1:\n",
    "    pass\n",
    "#? since we exhausted the iterator"
   ],
   "metadata": {
    "collapsed": false,
    "pycharm": {
     "name": "#%%\n"
    }
   }
  },
  {
   "cell_type": "code",
   "execution_count": 45,
   "outputs": [
    {
     "name": "stdout",
     "output_type": "stream",
     "text": [
      "Iterator calling the __init__\n",
      "Iterator calling the __next__\n",
      "Iterator calling the __next__\n",
      "Iterator calling the __next__\n",
      "Iterator calling the __next__\n",
      "Iterator calling the __next__\n",
      "Iterator calling the __next__\n"
     ]
    }
   ],
   "source": [
    "for i in iter2:\n",
    "    pass"
   ],
   "metadata": {
    "collapsed": false,
    "pycharm": {
     "name": "#%%\n"
    }
   }
  },
  {
   "cell_type": "code",
   "execution_count": 46,
   "outputs": [],
   "source": [
    "#? Iterable with sequence protocol\n",
    "class Cities:\n",
    "    def __init__(self):\n",
    "        self.cities = list(\"ABCDE\")\n",
    "\n",
    "    def __len__(self):\n",
    "        return len(self.cities)\n",
    "\n",
    "    def __iter__(self):\n",
    "        print(\"Iterable calling __iter__\")\n",
    "        return self.CityIterator(self.cities)\n",
    "\n",
    "    def __getitem__(self, item):\n",
    "        print(\"getting item\")\n",
    "        return self.cities[item]\n",
    "\n",
    "    class CityIterator:\n",
    "        def __init__(self, cty_obj):\n",
    "            print(\"New Iterator object is created\")\n",
    "            self._cities = cty_obj\n",
    "            self._index = 0\n",
    "\n",
    "        def __iter__(self):\n",
    "            print(\"Iterator calling the __init__\")\n",
    "            return self\n",
    "\n",
    "        def __next__(self):\n",
    "            print(\"Iterator calling the __next__\")\n",
    "            if self._index >= len(self._cities):\n",
    "                raise StopIteration\n",
    "            else:\n",
    "                result = self._cities[self._index]\n",
    "                self._index += 1\n",
    "                return result"
   ],
   "metadata": {
    "collapsed": false,
    "pycharm": {
     "name": "#%%\n"
    }
   }
  },
  {
   "cell_type": "code",
   "execution_count": 47,
   "outputs": [],
   "source": [
    "cities = Cities()"
   ],
   "metadata": {
    "collapsed": false,
    "pycharm": {
     "name": "#%%\n"
    }
   }
  },
  {
   "cell_type": "code",
   "execution_count": 48,
   "outputs": [
    {
     "name": "stdout",
     "output_type": "stream",
     "text": [
      "getting item\n"
     ]
    },
    {
     "data": {
      "text/plain": "'A'"
     },
     "execution_count": 48,
     "metadata": {},
     "output_type": "execute_result"
    }
   ],
   "source": [
    "cities[0]"
   ],
   "metadata": {
    "collapsed": false,
    "pycharm": {
     "name": "#%%\n"
    }
   }
  },
  {
   "cell_type": "code",
   "execution_count": 49,
   "outputs": [
    {
     "name": "stdout",
     "output_type": "stream",
     "text": [
      "getting item\n"
     ]
    },
    {
     "data": {
      "text/plain": "'B'"
     },
     "execution_count": 49,
     "metadata": {},
     "output_type": "execute_result"
    }
   ],
   "source": [
    "cities[1]"
   ],
   "metadata": {
    "collapsed": false,
    "pycharm": {
     "name": "#%%\n"
    }
   }
  },
  {
   "cell_type": "code",
   "execution_count": 50,
   "outputs": [
    {
     "name": "stdout",
     "output_type": "stream",
     "text": [
      "getting item\n"
     ]
    },
    {
     "data": {
      "text/plain": "['B']"
     },
     "execution_count": 50,
     "metadata": {},
     "output_type": "execute_result"
    }
   ],
   "source": [
    "cities[1:2]"
   ],
   "metadata": {
    "collapsed": false,
    "pycharm": {
     "name": "#%%\n"
    }
   }
  },
  {
   "cell_type": "code",
   "execution_count": 51,
   "outputs": [
    {
     "name": "stdout",
     "output_type": "stream",
     "text": [
      "Iterable calling __iter__\n",
      "New Iterator object is created\n",
      "Iterator calling the __next__\n",
      "Iterator calling the __next__\n",
      "Iterator calling the __next__\n",
      "Iterator calling the __next__\n",
      "Iterator calling the __next__\n",
      "Iterator calling the __next__\n"
     ]
    }
   ],
   "source": [
    "#? does the for loop done via the getitem as we seen in the sequence\n",
    "for i in cities:\n",
    "    pass\n",
    "#* Nope for loop done via iterator"
   ],
   "metadata": {
    "collapsed": false,
    "pycharm": {
     "name": "#%%\n"
    }
   }
  },
  {
   "cell_type": "code",
   "execution_count": 52,
   "outputs": [],
   "source": [
    "#? Iterable with sequence protocol\n",
    "class Cities:\n",
    "    def __init__(self):\n",
    "        self.cities = list(\"ABCDE\")\n",
    "\n",
    "    def __len__(self):\n",
    "        return len(self.cities)\n",
    "\n",
    "    # def __iter__(self):\n",
    "    #     print(\"Iterable calling __iter__\")\n",
    "    #     return self.CityIterator(self.cities)\n",
    "\n",
    "    def __getitem__(self, item):\n",
    "        print(\"getting item\")\n",
    "        return self.cities[item]\n",
    "\n",
    "    class CityIterator:\n",
    "        def __init__(self, cty_obj):\n",
    "            print(\"New Iterator object is created\")\n",
    "            self._cities = cty_obj\n",
    "            self._index = 0\n",
    "\n",
    "        def __iter__(self):\n",
    "            print(\"Iterator calling the __init__\")\n",
    "            return self\n",
    "\n",
    "        def __next__(self):\n",
    "            print(\"Iterator calling the __next__\")\n",
    "            if self._index >= len(self._cities):\n",
    "                raise StopIteration\n",
    "            else:\n",
    "                result = self._cities[self._index]\n",
    "                self._index += 1\n",
    "                return result"
   ],
   "metadata": {
    "collapsed": false,
    "pycharm": {
     "name": "#%%\n"
    }
   }
  },
  {
   "cell_type": "code",
   "execution_count": 53,
   "outputs": [
    {
     "name": "stdout",
     "output_type": "stream",
     "text": [
      "getting item\n",
      "getting item\n",
      "getting item\n",
      "getting item\n",
      "getting item\n",
      "getting item\n"
     ]
    }
   ],
   "source": [
    "#? disable the iter\n",
    "cities = Cities()\n",
    "for i in cities:\n",
    "    pass\n",
    "#* Now done via the getitem method"
   ],
   "metadata": {
    "collapsed": false,
    "pycharm": {
     "name": "#%%\n"
    }
   }
  },
  {
   "cell_type": "markdown",
   "source": [
    "* Python check object that implement the iter method if it does then for loop is done via the iterable protocol.\n",
    "* if not then check fot getitem , it if it has , then for loop done via the sequence protocol.\n",
    "* if it does not have both iter and getitem then throw error."
   ],
   "metadata": {
    "collapsed": false,
    "pycharm": {
     "name": "#%% md\n"
    }
   }
  },
  {
   "cell_type": "code",
   "execution_count": 54,
   "outputs": [
    {
     "data": {
      "text/plain": "<set_iterator at 0x29bf7208400>"
     },
     "execution_count": 54,
     "metadata": {},
     "output_type": "execute_result"
    }
   ],
   "source": [
    "#? set is iterable but not sequence\n",
    "sets = {1,2,3,4}\n",
    "sets.__iter__()"
   ],
   "metadata": {
    "collapsed": false,
    "pycharm": {
     "name": "#%%\n"
    }
   }
  },
  {
   "cell_type": "code",
   "execution_count": 55,
   "outputs": [
    {
     "ename": "AttributeError",
     "evalue": "'set' object has no attribute '__getitem__'",
     "output_type": "error",
     "traceback": [
      "\u001B[1;31m---------------------------------------------------------------------------\u001B[0m",
      "\u001B[1;31mAttributeError\u001B[0m                            Traceback (most recent call last)",
      "Cell \u001B[1;32mIn [55], line 1\u001B[0m\n\u001B[1;32m----> 1\u001B[0m \u001B[43msets\u001B[49m\u001B[38;5;241;43m.\u001B[39;49m\u001B[38;5;21;43m__getitem__\u001B[39;49m(s)\n",
      "\u001B[1;31mAttributeError\u001B[0m: 'set' object has no attribute '__getitem__'"
     ]
    }
   ],
   "source": [
    "sets.__getitem__(s)\n",
    "#> set is not the sequence"
   ],
   "metadata": {
    "collapsed": false,
    "pycharm": {
     "name": "#%%\n"
    }
   }
  },
  {
   "cell_type": "code",
   "execution_count": 57,
   "outputs": [
    {
     "data": {
      "text/plain": "(True, True)"
     },
     "execution_count": 57,
     "metadata": {},
     "output_type": "execute_result"
    }
   ],
   "source": [
    "\"__iter__\" in dir(list) , \"__getitem__\" in dir(list)\n",
    "#? sequence and iterable"
   ],
   "metadata": {
    "collapsed": false,
    "pycharm": {
     "name": "#%%\n"
    }
   }
  },
  {
   "cell_type": "code",
   "execution_count": 58,
   "outputs": [
    {
     "data": {
      "text/plain": "(True, False)"
     },
     "execution_count": 58,
     "metadata": {},
     "output_type": "execute_result"
    }
   ],
   "source": [
    "\"__iter__\" in dir(set) , \"__getitem__\" in dir(set)\n",
    "#? iterable but not the sequence"
   ],
   "metadata": {
    "collapsed": false,
    "pycharm": {
     "name": "#%%\n"
    }
   }
  },
  {
   "cell_type": "code",
   "execution_count": 59,
   "outputs": [
    {
     "data": {
      "text/plain": "(True, True)"
     },
     "execution_count": 59,
     "metadata": {},
     "output_type": "execute_result"
    }
   ],
   "source": [
    "\"__iter__\" in dir(dict) , \"__getitem__\" in dir(dict)\n",
    "#? iterable and sequence"
   ],
   "metadata": {
    "collapsed": false,
    "pycharm": {
     "name": "#%%\n"
    }
   }
  },
  {
   "cell_type": "code",
   "execution_count": null,
   "outputs": [],
   "source": [],
   "metadata": {
    "collapsed": false,
    "pycharm": {
     "name": "#%%\n"
    }
   }
  }
 ],
 "metadata": {
  "kernelspec": {
   "display_name": "Python 3",
   "language": "python",
   "name": "python3"
  },
  "language_info": {
   "codemirror_mode": {
    "name": "ipython",
    "version": 2
   },
   "file_extension": ".py",
   "mimetype": "text/x-python",
   "name": "python",
   "nbconvert_exporter": "python",
   "pygments_lexer": "ipython2",
   "version": "2.7.6"
  }
 },
 "nbformat": 4,
 "nbformat_minor": 0
}