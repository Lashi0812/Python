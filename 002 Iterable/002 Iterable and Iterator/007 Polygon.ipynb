{
 "cells": [
  {
   "cell_type": "code",
   "execution_count": 13,
   "metadata": {
    "collapsed": true,
    "pycharm": {
     "name": "#%%\n"
    }
   },
   "outputs": [],
   "source": [
    "import math\n",
    "\n",
    "\n",
    "class Polygon:\n",
    "    def __init__(self, vertices, cr):\n",
    "        self.vertices = vertices\n",
    "        self.circum_radius = cr\n",
    "\n",
    "    @property\n",
    "    def vertices(self):\n",
    "        return self._vertices\n",
    "\n",
    "    @vertices.setter\n",
    "    def vertices(self, value):\n",
    "        if value < 3:\n",
    "            raise ValueError(\"number of vertices must be more than 2\")\n",
    "        self._vertices = value\n",
    "\n",
    "    @property\n",
    "    def circum_radius(self):\n",
    "        return self._circum_radius\n",
    "\n",
    "    @circum_radius.setter\n",
    "    def circum_radius(self, value):\n",
    "        if value <= 0:\n",
    "            raise ValueError(\"circum radius cannot be  <= zero\")\n",
    "        self._circum_radius = value\n",
    "\n",
    "    @property\n",
    "    def edge_length(self):\n",
    "        return 2 * self._circum_radius * math.sin(math.pi / self._vertices)\n",
    "\n",
    "    @property\n",
    "    def interior_angle(self):\n",
    "        return (self._vertices - 2) * (180 / self._vertices)\n",
    "\n",
    "    @property\n",
    "    def apothem(self):\n",
    "        return self._circum_radius * math.cos(math.pi / self._vertices)\n",
    "\n",
    "    @property\n",
    "    def perimeter(self):\n",
    "        return self._vertices * self.edge_length\n",
    "\n",
    "    @property\n",
    "    def area(self):\n",
    "        return 0.5 * self._vertices * self.edge_length * self.apothem\n",
    "\n",
    "    @property\n",
    "    def efficiency(self):\n",
    "        return self.area / self.perimeter\n",
    "\n",
    "    def __repr__(self):\n",
    "        return f\"Polygon(n={self._vertices}, R={self._circum_radius})\"\n",
    "\n",
    "    def __eq__(self, other):\n",
    "        if isinstance(other, self.__class__):\n",
    "            return self._vertices == other.vertices and self._circum_radius == other.circum_radius\n",
    "        return NotImplemented\n",
    "\n",
    "    def __gt__(self, other):\n",
    "        if not isinstance(other, self.__class__):\n",
    "            return NotImplemented\n",
    "        return self._vertices > other.vertices\n",
    "\n",
    "\n"
   ]
  },
  {
   "cell_type": "code",
   "execution_count": 16,
   "outputs": [],
   "source": [
    "def test_polygon():\n",
    "    abs_tol = 0.001\n",
    "    rel_tol = 0.001\n",
    "\n",
    "    try:\n",
    "        p = Polygon(2, 10)\n",
    "        assert False, ('Creating a Polygon with 2 sides: '\n",
    "                       ' Exception expected, not received')\n",
    "    except ValueError:\n",
    "        pass\n",
    "\n",
    "    n = 3\n",
    "    R = 1\n",
    "    p = Polygon(n, R)\n",
    "    assert str(p) == 'Polygon(n=3, R=1)', f'actual: {str(p)}'\n",
    "    assert p.vertices == n, (f'actual: {p.vertices},'\n",
    "                             f' expected: {n}')\n",
    "    assert p.vertices == n, f'actual: {p.vertices}, expected: {n}'\n",
    "    assert p.circum_radius == R, f'actual: {p.circum_radius}, expected: {n}'\n",
    "    assert p.interior_angle == 60, (f'actual: {p.interior_angle},'\n",
    "                                    ' expected: 60')\n",
    "    n = 4\n",
    "    R = 1\n",
    "    p = Polygon(n, R)\n",
    "    assert p.interior_angle == 90, (f'actual: {p.interior_angle}, '\n",
    "                                    ' expected: 90')\n",
    "    assert math.isclose(p.area, 2,\n",
    "                        rel_tol=abs_tol,\n",
    "                        abs_tol=abs_tol), (f'actual: {p.area},'\n",
    "                                           ' expected: 2.0')\n",
    "\n",
    "    assert math.isclose(p.edge_length, math.sqrt(2),\n",
    "                        rel_tol=rel_tol,\n",
    "                        abs_tol=abs_tol), (f'actual: {p.edge_length},'\n",
    "                                           f' expected: {math.sqrt(2)}')\n",
    "\n",
    "    assert math.isclose(p.perimeter, 4 * math.sqrt(2),\n",
    "                        rel_tol=rel_tol,\n",
    "                        abs_tol=abs_tol), (f'actual: {p.perimeter},'\n",
    "                                           f' expected: {4 * math.sqrt(2)}')\n",
    "\n",
    "    assert math.isclose(p.apothem, 0.707,\n",
    "                        rel_tol=rel_tol,\n",
    "                        abs_tol=abs_tol), (f'actual: {p.perimeter},'\n",
    "                                           ' expected: 0.707')\n",
    "    p = Polygon(6, 2)\n",
    "    assert math.isclose(p.edge_length, 2,\n",
    "                        rel_tol=rel_tol, abs_tol=abs_tol)\n",
    "    assert math.isclose(p.apothem, 1.73205,\n",
    "                        rel_tol=rel_tol, abs_tol=abs_tol)\n",
    "    assert math.isclose(p.area, 10.3923,\n",
    "                        rel_tol=rel_tol, abs_tol=abs_tol)\n",
    "    assert math.isclose(p.perimeter, 12,\n",
    "                        rel_tol=rel_tol, abs_tol=abs_tol)\n",
    "    assert math.isclose(p.interior_angle, 120,\n",
    "                        rel_tol=rel_tol, abs_tol=abs_tol)\n",
    "\n",
    "    p = Polygon(12, 3)\n",
    "    assert math.isclose(p.edge_length, 1.55291,\n",
    "                        rel_tol=rel_tol, abs_tol=abs_tol)\n",
    "    assert math.isclose(p.apothem, 2.89778,\n",
    "                        rel_tol=rel_tol, abs_tol=abs_tol)\n",
    "    assert math.isclose(p.area, 27,\n",
    "                        rel_tol=rel_tol, abs_tol=abs_tol)\n",
    "    assert math.isclose(p.perimeter, 18.635,\n",
    "                        rel_tol=rel_tol, abs_tol=abs_tol)\n",
    "    assert math.isclose(p.interior_angle, 150,\n",
    "                        rel_tol=rel_tol, abs_tol=abs_tol)\n",
    "\n",
    "    p1 = Polygon(3, 10)\n",
    "    p2 = Polygon(10, 10)\n",
    "    p3 = Polygon(15, 10)\n",
    "    p4 = Polygon(15, 100)\n",
    "    p5 = Polygon(15, 100)\n",
    "\n",
    "    assert p2 > p1\n",
    "    assert p2 < p3\n",
    "    assert p3 != p4\n",
    "    assert p1 != p4\n",
    "    assert p4 == p5"
   ],
   "metadata": {
    "collapsed": false,
    "pycharm": {
     "name": "#%%\n"
    }
   }
  },
  {
   "cell_type": "code",
   "execution_count": 20,
   "outputs": [
    {
     "data": {
      "text/plain": "Polygon(n=3, R=2)"
     },
     "execution_count": 20,
     "metadata": {},
     "output_type": "execute_result"
    }
   ],
   "source": [
    "Polygon(3, 2)"
   ],
   "metadata": {
    "collapsed": false,
    "pycharm": {
     "name": "#%%\n"
    }
   }
  },
  {
   "cell_type": "code",
   "execution_count": 18,
   "outputs": [],
   "source": [
    "test_polygon()"
   ],
   "metadata": {
    "collapsed": false,
    "pycharm": {
     "name": "#%%\n"
    }
   }
  },
  {
   "cell_type": "code",
   "execution_count": 21,
   "outputs": [],
   "source": [
    "import math\n",
    "\n",
    "\n",
    "class Polygon:\n",
    "    def __init__(self, vertices, cr):\n",
    "        self.vertices = vertices\n",
    "        self.circum_radius = cr\n",
    "\n",
    "    @property\n",
    "    def vertices(self):\n",
    "        return self._vertices\n",
    "\n",
    "    @vertices.setter\n",
    "    def vertices(self, value):\n",
    "        if value < 3:\n",
    "            raise ValueError(\"number of vertices must be more than 2\")\n",
    "        self._vertices = value\n",
    "        self._area = None\n",
    "        self._apothem = None\n",
    "        self._edge_length = None\n",
    "        self._perimeter = None\n",
    "        self._interior_angle = None\n",
    "        self._efficiency = None\n",
    "\n",
    "    @property\n",
    "    def circum_radius(self):\n",
    "        return self._circum_radius\n",
    "\n",
    "    @circum_radius.setter\n",
    "    def circum_radius(self, value):\n",
    "        if value <= 0:\n",
    "            raise ValueError(\"circum radius cannot be  <= zero\")\n",
    "        self._circum_radius = value\n",
    "        self._area = None\n",
    "        self._apothem = None\n",
    "        self._edge_length = None\n",
    "        self._perimeter = None\n",
    "        self._interior_angle = None\n",
    "        self._efficiency = None\n",
    "\n",
    "    @property\n",
    "    def edge_length(self):\n",
    "        if self._edge_length is None:\n",
    "            self._edge_length = 2 * self._circum_radius * math.sin(math.pi / self._vertices)\n",
    "        return self._edge_length\n",
    "\n",
    "    @property\n",
    "    def interior_angle(self):\n",
    "        if self._interior_angle is None:\n",
    "            self._interior_angle = (self._vertices - 2) * (180 / self._vertices)\n",
    "        return self._interior_angle\n",
    "\n",
    "    @property\n",
    "    def apothem(self):\n",
    "        if self._apothem is None:\n",
    "            self._apothem = self._circum_radius * math.cos(math.pi / self._vertices)\n",
    "        return self._apothem\n",
    "\n",
    "    @property\n",
    "    def perimeter(self):\n",
    "        if self._perimeter is None:\n",
    "            self._perimeter = self._vertices * self.edge_length\n",
    "        return self._perimeter\n",
    "\n",
    "    @property\n",
    "    def area(self):\n",
    "        if self._area is None:\n",
    "            self._area = 0.5 * self._vertices * self.edge_length * self.apothem\n",
    "        return self._area\n",
    "\n",
    "    @property\n",
    "    def efficiency(self):\n",
    "        if self._efficiency is None:\n",
    "            self._efficiency = self.area / self.perimeter\n",
    "        return self._efficiency\n",
    "\n",
    "    def __repr__(self):\n",
    "        return f\"Polygon(n={self._vertices}, R={self._circum_radius})\"\n",
    "\n",
    "    def __eq__(self, other):\n",
    "        if isinstance(other, self.__class__):\n",
    "            return self._vertices == other.vertices and self._circum_radius == other.circum_radius\n",
    "        return NotImplemented\n",
    "\n",
    "    def __gt__(self, other):\n",
    "        if not isinstance(other, self.__class__):\n",
    "            return NotImplemented\n",
    "        return self._vertices > other.vertices\n",
    "\n",
    "\n"
   ],
   "metadata": {
    "collapsed": false,
    "pycharm": {
     "name": "#%%\n"
    }
   }
  },
  {
   "cell_type": "code",
   "execution_count": 22,
   "outputs": [],
   "source": [
    "test_polygon()"
   ],
   "metadata": {
    "collapsed": false,
    "pycharm": {
     "name": "#%%\n"
    }
   }
  },
  {
   "cell_type": "markdown",
   "source": [
    "# Polygons as Iterator"
   ],
   "metadata": {
    "collapsed": false,
    "pycharm": {
     "name": "#%% md\n"
    }
   }
  },
  {
   "cell_type": "code",
   "execution_count": 56,
   "outputs": [],
   "source": [
    "class Polygons:\n",
    "    def __init__(self, vertices, cr):\n",
    "        self.vertices = vertices\n",
    "        self.circum_radius = cr\n",
    "\n",
    "    @property\n",
    "    def vertices(self):\n",
    "        return self._vertices\n",
    "\n",
    "    @vertices.setter\n",
    "    def vertices(self, value):\n",
    "        if value < 3:\n",
    "            raise ValueError(\"number of vertices must be more than 2\")\n",
    "        self._vertices = value\n",
    "\n",
    "    @property\n",
    "    def circum_radius(self):\n",
    "        return self._circum_radius\n",
    "\n",
    "    @circum_radius.setter\n",
    "    def circum_radius(self, value):\n",
    "        if value <= 0:\n",
    "            raise ValueError(\"circum radius cannot be  <= zero\")\n",
    "        self._circum_radius = value\n",
    "\n",
    "    def __repr__(self):\n",
    "        return f\"Polygons(vertices={self._vertices} ,cr = {self._circum_radius})\"\n",
    "\n",
    "    def __len__(self):\n",
    "        return self._vertices - 2\n",
    "\n",
    "    def __iter__(self):\n",
    "        return self.PolyIterator(self.vertices,self.circum_radius)\n",
    "\n",
    "\n",
    "    def max_efficiency(self):\n",
    "        new = sorted(self.__iter__(), key=lambda x:-x.efficiency)\n",
    "        return new[0]\n",
    "\n",
    "    class PolyIterator:\n",
    "        def __init__(self,length,r):\n",
    "            self.index = 3\n",
    "            self.length = length\n",
    "            self.radius = r\n",
    "\n",
    "        def __iter__(self):\n",
    "            return self\n",
    "\n",
    "        def __next__(self):\n",
    "            if self.index > self.length:\n",
    "                raise StopIteration\n",
    "            else:\n",
    "                poly = Polygon(self.index,self.radius)\n",
    "                self.index += 1\n",
    "                return poly"
   ],
   "metadata": {
    "collapsed": false,
    "pycharm": {
     "name": "#%%\n"
    }
   }
  },
  {
   "cell_type": "code",
   "execution_count": 57,
   "outputs": [],
   "source": [
    "p = Polygons(8,3)"
   ],
   "metadata": {
    "collapsed": false,
    "pycharm": {
     "name": "#%%\n"
    }
   }
  },
  {
   "cell_type": "code",
   "execution_count": 58,
   "outputs": [
    {
     "data": {
      "text/plain": "[Polygon(n=3, R=3),\n Polygon(n=4, R=3),\n Polygon(n=5, R=3),\n Polygon(n=6, R=3),\n Polygon(n=7, R=3),\n Polygon(n=8, R=3)]"
     },
     "execution_count": 58,
     "metadata": {},
     "output_type": "execute_result"
    }
   ],
   "source": [
    "list(p)"
   ],
   "metadata": {
    "collapsed": false,
    "pycharm": {
     "name": "#%%\n"
    }
   }
  },
  {
   "cell_type": "code",
   "execution_count": 59,
   "outputs": [
    {
     "name": "stdout",
     "output_type": "stream",
     "text": [
      "0.7500000000000002\n",
      "1.0606601717798214\n",
      "1.2135254915624212\n",
      "1.299038105676658\n",
      "1.3514533018536288\n",
      "1.38581929876693\n"
     ]
    }
   ],
   "source": [
    "for i in p:\n",
    "    print(i.efficiency)"
   ],
   "metadata": {
    "collapsed": false,
    "pycharm": {
     "name": "#%%\n"
    }
   }
  },
  {
   "cell_type": "code",
   "execution_count": 60,
   "outputs": [
    {
     "name": "stdout",
     "output_type": "stream",
     "text": [
      "Help on built-in function sorted in module builtins:\n",
      "\n",
      "sorted(iterable, /, *, key=None, reverse=False)\n",
      "    Return a new list containing all items from the iterable in ascending order.\n",
      "    \n",
      "    A custom key function can be supplied to customize the sort order, and the\n",
      "    reverse flag can be set to request the result in descending order.\n",
      "\n"
     ]
    }
   ],
   "source": [
    "help(sorted)"
   ],
   "metadata": {
    "collapsed": false,
    "pycharm": {
     "name": "#%%\n"
    }
   }
  },
  {
   "cell_type": "code",
   "execution_count": 61,
   "outputs": [
    {
     "data": {
      "text/plain": "Polygon(n=8, R=3)"
     },
     "execution_count": 61,
     "metadata": {},
     "output_type": "execute_result"
    }
   ],
   "source": [
    "p.max_efficiency()"
   ],
   "metadata": {
    "collapsed": false,
    "pycharm": {
     "name": "#%%\n"
    }
   }
  },
  {
   "cell_type": "code",
   "execution_count": null,
   "outputs": [],
   "source": [],
   "metadata": {
    "collapsed": false,
    "pycharm": {
     "name": "#%%\n"
    }
   }
  }
 ],
 "metadata": {
  "kernelspec": {
   "display_name": "Python 3",
   "language": "python",
   "name": "python3"
  },
  "language_info": {
   "codemirror_mode": {
    "name": "ipython",
    "version": 2
   },
   "file_extension": ".py",
   "mimetype": "text/x-python",
   "name": "python",
   "nbconvert_exporter": "python",
   "pygments_lexer": "ipython2",
   "version": "2.7.6"
  }
 },
 "nbformat": 4,
 "nbformat_minor": 0
}