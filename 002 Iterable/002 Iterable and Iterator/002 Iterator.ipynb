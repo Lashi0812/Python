{
 "cells": [
  {
   "cell_type": "code",
   "execution_count": 1,
   "metadata": {
    "collapsed": true,
    "pycharm": {
     "name": "#%%\n"
    }
   },
   "outputs": [],
   "source": [
    "class Container:\n",
    "    def __init__(self, total):\n",
    "        self.i = 0\n",
    "        self.total = total\n",
    "\n",
    "    def __next__(self):\n",
    "        if self.i >= self.total:\n",
    "            raise StopIteration\n",
    "        result = self.i\n",
    "        self.i += 1\n",
    "        return result\n",
    "\n",
    "    def __iter__(self):\n",
    "       return self"
   ]
  },
  {
   "cell_type": "code",
   "execution_count": 2,
   "outputs": [
    {
     "name": "stdout",
     "output_type": "stream",
     "text": [
      "0\n",
      "1\n",
      "2\n",
      "3\n",
      "4\n"
     ]
    }
   ],
   "source": [
    "container = Container(5)\n",
    "for item in container:\n",
    "    print(item)\n"
   ],
   "metadata": {
    "collapsed": false,
    "pycharm": {
     "name": "#%%\n"
    }
   }
  },
  {
   "cell_type": "code",
   "execution_count": 4,
   "outputs": [
    {
     "data": {
      "text/plain": "[0, 1, 2, 3, 4]"
     },
     "execution_count": 4,
     "metadata": {},
     "output_type": "execute_result"
    }
   ],
   "source": [
    "container = Container(5)\n",
    "[item for item in container]\n",
    "#! still we to create the new instance to start again"
   ],
   "metadata": {
    "collapsed": false,
    "pycharm": {
     "name": "#%%\n"
    }
   }
  },
  {
   "cell_type": "code",
   "execution_count": 5,
   "outputs": [
    {
     "data": {
      "text/plain": "[]"
     },
     "execution_count": 5,
     "metadata": {},
     "output_type": "execute_result"
    }
   ],
   "source": [
    "[item for item in container]\n",
    "#? because we exhaust the container"
   ],
   "metadata": {
    "collapsed": false,
    "pycharm": {
     "name": "#%%\n"
    }
   }
  },
  {
   "cell_type": "markdown",
   "source": [
    "# How python does"
   ],
   "metadata": {
    "collapsed": false,
    "pycharm": {
     "name": "#%% md\n"
    }
   }
  },
  {
   "cell_type": "code",
   "execution_count": 6,
   "outputs": [],
   "source": [
    "class Container:\n",
    "    def __init__(self, total):\n",
    "        self.i = 0\n",
    "        self.total = total\n",
    "\n",
    "    def __next__(self):\n",
    "        print(\"__next__ called\")\n",
    "        if self.i >= self.total:\n",
    "            raise StopIteration\n",
    "        result = self.i\n",
    "        self.i += 1\n",
    "        return result\n",
    "\n",
    "    def __iter__(self):\n",
    "        print(\"__iter__ called\")\n",
    "        return self"
   ],
   "metadata": {
    "collapsed": false,
    "pycharm": {
     "name": "#%%\n"
    }
   }
  },
  {
   "cell_type": "code",
   "execution_count": 8,
   "outputs": [
    {
     "name": "stdout",
     "output_type": "stream",
     "text": [
      "__iter__ called\n",
      "__next__ called\n",
      "__next__ called\n",
      "__next__ called\n",
      "__next__ called\n",
      "__next__ called\n",
      "__next__ called\n"
     ]
    },
    {
     "data": {
      "text/plain": "[0, 1, 2, 3, 4]"
     },
     "execution_count": 8,
     "metadata": {},
     "output_type": "execute_result"
    }
   ],
   "source": [
    "container = Container(5)\n",
    "[item for item in container]"
   ],
   "metadata": {
    "collapsed": false,
    "pycharm": {
     "name": "#%%\n"
    }
   }
  },
  {
   "cell_type": "code",
   "execution_count": 9,
   "outputs": [
    {
     "name": "stdout",
     "output_type": "stream",
     "text": [
      "__iter__ called\n",
      "__next__ called\n",
      "0\n",
      "__next__ called\n",
      "1\n",
      "__next__ called\n",
      "2\n",
      "__next__ called\n",
      "3\n",
      "__next__ called\n",
      "4\n",
      "__next__ called\n"
     ]
    }
   ],
   "source": [
    "container = Container(5)\n",
    "cont_iter = iter(container)\n",
    "while True:\n",
    "    try:\n",
    "        item = next(cont_iter)\n",
    "        print(item)\n",
    "    except StopIteration:\n",
    "        break"
   ],
   "metadata": {
    "collapsed": false,
    "pycharm": {
     "name": "#%%\n"
    }
   }
  },
  {
   "cell_type": "code",
   "execution_count": null,
   "outputs": [],
   "source": [],
   "metadata": {
    "collapsed": false,
    "pycharm": {
     "name": "#%%\n"
    }
   }
  }
 ],
 "metadata": {
  "kernelspec": {
   "display_name": "Python 3",
   "language": "python",
   "name": "python3"
  },
  "language_info": {
   "codemirror_mode": {
    "name": "ipython",
    "version": 2
   },
   "file_extension": ".py",
   "mimetype": "text/x-python",
   "name": "python",
   "nbconvert_exporter": "python",
   "pygments_lexer": "ipython2",
   "version": "2.7.6"
  }
 },
 "nbformat": 4,
 "nbformat_minor": 0
}