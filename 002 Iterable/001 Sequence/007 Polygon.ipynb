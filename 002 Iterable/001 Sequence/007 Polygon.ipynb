{
 "cells": [
  {
   "cell_type": "code",
   "execution_count": 7,
   "metadata": {
    "collapsed": true,
    "pycharm": {
     "name": "#%%\n"
    }
   },
   "outputs": [],
   "source": [
    "import math\n",
    "\n",
    "\n",
    "class Polygon:\n",
    "    def __init__(self, vertices, cr):\n",
    "        self.vertices = vertices\n",
    "        self.circum_radius = cr\n",
    "\n",
    "\n",
    "    @property\n",
    "    def vertices(self):\n",
    "        return self._vertices\n",
    "\n",
    "    @vertices.setter\n",
    "    def vertices(self, value):\n",
    "        if value < 3:\n",
    "            raise ValueError(\"number of vertices must be more than 2\")\n",
    "        self._vertices = value\n",
    "\n",
    "    @property\n",
    "    def circum_radius(self):\n",
    "        return self._circum_radius\n",
    "\n",
    "    @circum_radius.setter\n",
    "    def circum_radius(self, value):\n",
    "        if value <= 0:\n",
    "            raise ValueError(\"circum radius cannot be  <= zero\")\n",
    "        self._circum_radius = value\n",
    "\n",
    "    @property\n",
    "    def edge_length(self):\n",
    "        return 2 * self._circum_radius * math.sin(math.pi / self._vertices)\n",
    "\n",
    "    @property\n",
    "    def interior_angle(self):\n",
    "        return (self._vertices - 2) * (180 / self._vertices)\n",
    "    @property\n",
    "    def apothem(self):\n",
    "        return self._circum_radius * math.cos(math.pi / self._vertices)\n",
    "\n",
    "    @property\n",
    "    def perimeter(self):\n",
    "        return self._vertices * self.edge_length\n",
    "\n",
    "    @property\n",
    "    def area(self):\n",
    "        return 0.5 * self._vertices * self.edge_length * self.apothem\n",
    "\n",
    "    @property\n",
    "    def efficiency(self):\n",
    "        return self.area / self.perimeter\n",
    "\n",
    "    def __repr__(self):\n",
    "        return f\"Polygon(vertices={self._vertices},cr={self._circum_radius})\"\n",
    "\n",
    "    def __eq__(self, other):\n",
    "        if isinstance(other, self.__class__):\n",
    "            return self._vertices == other.vertices and self._circum_radius == other.circum_radius\n",
    "        return NotImplemented\n",
    "\n",
    "    def __gt__(self, other):\n",
    "        if not isinstance(other, self.__class__):\n",
    "            return NotImplemented\n",
    "        return self._vertices > other.vertices\n",
    "\n",
    "\n"
   ]
  },
  {
   "cell_type": "code",
   "execution_count": 8,
   "outputs": [],
   "source": [
    "triangle = Polygon(3, 0.5773502691896258)"
   ],
   "metadata": {
    "collapsed": false,
    "pycharm": {
     "name": "#%%\n"
    }
   }
  },
  {
   "cell_type": "code",
   "execution_count": 9,
   "outputs": [
    {
     "data": {
      "text/plain": "0.1443375672974065"
     },
     "execution_count": 9,
     "metadata": {},
     "output_type": "execute_result"
    }
   ],
   "source": [
    "triangle.efficiency"
   ],
   "metadata": {
    "collapsed": false,
    "pycharm": {
     "name": "#%%\n"
    }
   }
  },
  {
   "cell_type": "code",
   "execution_count": 10,
   "outputs": [
    {
     "data": {
      "text/plain": "(1.0, 0.43301270189221946, 60.0, 0.288675134594813, 3.0)"
     },
     "execution_count": 10,
     "metadata": {},
     "output_type": "execute_result"
    }
   ],
   "source": [
    "triangle.edge_length, triangle.area, triangle.interior_angle, triangle.apothem, triangle.perimeter"
   ],
   "metadata": {
    "collapsed": false,
    "pycharm": {
     "name": "#%%\n"
    }
   }
  },
  {
   "cell_type": "code",
   "execution_count": 11,
   "outputs": [
    {
     "data": {
      "text/plain": "(1.0, 1.0, 90.0, 0.5, 4.0)"
     },
     "execution_count": 11,
     "metadata": {},
     "output_type": "execute_result"
    }
   ],
   "source": [
    "square = Polygon(4, 0.7071067811865475)\n",
    "square.edge_length, square.area, square.interior_angle, square.apothem, square.perimeter"
   ],
   "metadata": {
    "collapsed": false,
    "pycharm": {
     "name": "#%%\n"
    }
   }
  },
  {
   "cell_type": "code",
   "execution_count": 12,
   "outputs": [
    {
     "ename": "ValueError",
     "evalue": "number of vertices must be more than 2",
     "output_type": "error",
     "traceback": [
      "\u001B[1;31m---------------------------------------------------------------------------\u001B[0m",
      "\u001B[1;31mValueError\u001B[0m                                Traceback (most recent call last)",
      "Cell \u001B[1;32mIn [12], line 1\u001B[0m\n\u001B[1;32m----> 1\u001B[0m \u001B[43mPolygon\u001B[49m\u001B[43m(\u001B[49m\u001B[38;5;241;43m2\u001B[39;49m\u001B[43m,\u001B[49m\u001B[43m \u001B[49m\u001B[38;5;241;43m345\u001B[39;49m\u001B[43m)\u001B[49m\n",
      "Cell \u001B[1;32mIn [7], line 6\u001B[0m, in \u001B[0;36mPolygon.__init__\u001B[1;34m(self, vertices, cr)\u001B[0m\n\u001B[0;32m      5\u001B[0m \u001B[38;5;28;01mdef\u001B[39;00m \u001B[38;5;21m__init__\u001B[39m(\u001B[38;5;28mself\u001B[39m, vertices, cr):\n\u001B[1;32m----> 6\u001B[0m     \u001B[38;5;28;43mself\u001B[39;49m\u001B[38;5;241;43m.\u001B[39;49m\u001B[43mvertices\u001B[49m \u001B[38;5;241m=\u001B[39m vertices\n\u001B[0;32m      7\u001B[0m     \u001B[38;5;28mself\u001B[39m\u001B[38;5;241m.\u001B[39mcircum_radius \u001B[38;5;241m=\u001B[39m cr\n",
      "Cell \u001B[1;32mIn [7], line 17\u001B[0m, in \u001B[0;36mPolygon.vertices\u001B[1;34m(self, value)\u001B[0m\n\u001B[0;32m     14\u001B[0m \u001B[38;5;129m@vertices\u001B[39m\u001B[38;5;241m.\u001B[39msetter\n\u001B[0;32m     15\u001B[0m \u001B[38;5;28;01mdef\u001B[39;00m \u001B[38;5;21mvertices\u001B[39m(\u001B[38;5;28mself\u001B[39m, value):\n\u001B[0;32m     16\u001B[0m     \u001B[38;5;28;01mif\u001B[39;00m value \u001B[38;5;241m<\u001B[39m \u001B[38;5;241m3\u001B[39m:\n\u001B[1;32m---> 17\u001B[0m         \u001B[38;5;28;01mraise\u001B[39;00m \u001B[38;5;167;01mValueError\u001B[39;00m(\u001B[38;5;124m\"\u001B[39m\u001B[38;5;124mnumber of vertices must be more than 2\u001B[39m\u001B[38;5;124m\"\u001B[39m)\n\u001B[0;32m     18\u001B[0m     \u001B[38;5;28mself\u001B[39m\u001B[38;5;241m.\u001B[39m_vertices \u001B[38;5;241m=\u001B[39m value\n",
      "\u001B[1;31mValueError\u001B[0m: number of vertices must be more than 2"
     ]
    }
   ],
   "source": [
    "Polygon(2, 345)"
   ],
   "metadata": {
    "collapsed": false,
    "pycharm": {
     "name": "#%%\n"
    }
   }
  },
  {
   "cell_type": "code",
   "execution_count": 13,
   "outputs": [
    {
     "ename": "ValueError",
     "evalue": "circum radius cannot be  <= zero",
     "output_type": "error",
     "traceback": [
      "\u001B[1;31m---------------------------------------------------------------------------\u001B[0m",
      "\u001B[1;31mValueError\u001B[0m                                Traceback (most recent call last)",
      "Cell \u001B[1;32mIn [13], line 1\u001B[0m\n\u001B[1;32m----> 1\u001B[0m \u001B[43mPolygon\u001B[49m\u001B[43m(\u001B[49m\u001B[38;5;241;43m3\u001B[39;49m\u001B[43m,\u001B[49m\u001B[43m \u001B[49m\u001B[38;5;241;43m-\u001B[39;49m\u001B[38;5;241;43m234\u001B[39;49m\u001B[43m)\u001B[49m\n",
      "Cell \u001B[1;32mIn [7], line 7\u001B[0m, in \u001B[0;36mPolygon.__init__\u001B[1;34m(self, vertices, cr)\u001B[0m\n\u001B[0;32m      5\u001B[0m \u001B[38;5;28;01mdef\u001B[39;00m \u001B[38;5;21m__init__\u001B[39m(\u001B[38;5;28mself\u001B[39m, vertices, cr):\n\u001B[0;32m      6\u001B[0m     \u001B[38;5;28mself\u001B[39m\u001B[38;5;241m.\u001B[39mvertices \u001B[38;5;241m=\u001B[39m vertices\n\u001B[1;32m----> 7\u001B[0m     \u001B[38;5;28;43mself\u001B[39;49m\u001B[38;5;241;43m.\u001B[39;49m\u001B[43mcircum_radius\u001B[49m \u001B[38;5;241m=\u001B[39m cr\n",
      "Cell \u001B[1;32mIn [7], line 27\u001B[0m, in \u001B[0;36mPolygon.circum_radius\u001B[1;34m(self, value)\u001B[0m\n\u001B[0;32m     24\u001B[0m \u001B[38;5;129m@circum_radius\u001B[39m\u001B[38;5;241m.\u001B[39msetter\n\u001B[0;32m     25\u001B[0m \u001B[38;5;28;01mdef\u001B[39;00m \u001B[38;5;21mcircum_radius\u001B[39m(\u001B[38;5;28mself\u001B[39m, value):\n\u001B[0;32m     26\u001B[0m     \u001B[38;5;28;01mif\u001B[39;00m value \u001B[38;5;241m<\u001B[39m\u001B[38;5;241m=\u001B[39m \u001B[38;5;241m0\u001B[39m:\n\u001B[1;32m---> 27\u001B[0m         \u001B[38;5;28;01mraise\u001B[39;00m \u001B[38;5;167;01mValueError\u001B[39;00m(\u001B[38;5;124m\"\u001B[39m\u001B[38;5;124mcircum radius cannot be  <= zero\u001B[39m\u001B[38;5;124m\"\u001B[39m)\n\u001B[0;32m     28\u001B[0m     \u001B[38;5;28mself\u001B[39m\u001B[38;5;241m.\u001B[39m_circum_radius \u001B[38;5;241m=\u001B[39m value\n",
      "\u001B[1;31mValueError\u001B[0m: circum radius cannot be  <= zero"
     ]
    }
   ],
   "source": [
    "Polygon(3, -234)"
   ],
   "metadata": {
    "collapsed": false,
    "pycharm": {
     "name": "#%%\n"
    }
   }
  },
  {
   "cell_type": "code",
   "execution_count": 14,
   "outputs": [
    {
     "data": {
      "text/plain": "False"
     },
     "execution_count": 14,
     "metadata": {},
     "output_type": "execute_result"
    }
   ],
   "source": [
    "triangle > square"
   ],
   "metadata": {
    "collapsed": false,
    "pycharm": {
     "name": "#%%\n"
    }
   }
  },
  {
   "cell_type": "code",
   "execution_count": 15,
   "outputs": [
    {
     "data": {
      "text/plain": "True"
     },
     "execution_count": 15,
     "metadata": {},
     "output_type": "execute_result"
    }
   ],
   "source": [
    "square > triangle"
   ],
   "metadata": {
    "collapsed": false,
    "pycharm": {
     "name": "#%%\n"
    }
   }
  },
  {
   "cell_type": "code",
   "execution_count": 16,
   "outputs": [
    {
     "data": {
      "text/plain": "False"
     },
     "execution_count": 16,
     "metadata": {},
     "output_type": "execute_result"
    }
   ],
   "source": [
    "square == triangle"
   ],
   "metadata": {
    "collapsed": false,
    "pycharm": {
     "name": "#%%\n"
    }
   }
  },
  {
   "cell_type": "code",
   "execution_count": 17,
   "outputs": [
    {
     "data": {
      "text/plain": "False"
     },
     "execution_count": 17,
     "metadata": {},
     "output_type": "execute_result"
    }
   ],
   "source": [
    "Polygon(3, 3) == Polygon(3, 4)"
   ],
   "metadata": {
    "collapsed": false,
    "pycharm": {
     "name": "#%%\n"
    }
   }
  },
  {
   "cell_type": "code",
   "execution_count": 18,
   "outputs": [
    {
     "data": {
      "text/plain": "True"
     },
     "execution_count": 18,
     "metadata": {},
     "output_type": "execute_result"
    }
   ],
   "source": [
    "Polygon(3, 3) == Polygon(3, 3)"
   ],
   "metadata": {
    "collapsed": false,
    "pycharm": {
     "name": "#%%\n"
    }
   }
  },
  {
   "cell_type": "code",
   "execution_count": 19,
   "outputs": [
    {
     "data": {
      "text/plain": "Polygon(vertices=3,cr=0.5773502691896258)"
     },
     "execution_count": 19,
     "metadata": {},
     "output_type": "execute_result"
    }
   ],
   "source": [
    "triangle"
   ],
   "metadata": {
    "collapsed": false,
    "pycharm": {
     "name": "#%%\n"
    }
   }
  },
  {
   "cell_type": "markdown",
   "source": [
    "# Polygons as sequence"
   ],
   "metadata": {
    "collapsed": false,
    "pycharm": {
     "name": "#%% md\n"
    }
   }
  },
  {
   "cell_type": "code",
   "execution_count": 25,
   "outputs": [],
   "source": [
    "class Polygons:\n",
    "    def __init__(self, vertices, cr):\n",
    "        self.vertices = vertices\n",
    "        self.circum_radius = cr\n",
    "        self.poly = [Polygon(i, self._circum_radius) for i in range(3, self._vertices)]\n",
    "\n",
    "    @property\n",
    "    def vertices(self):\n",
    "        return self._vertices\n",
    "\n",
    "    @vertices.setter\n",
    "    def vertices(self, value):\n",
    "        if value < 3:\n",
    "            raise ValueError(\"number of vertices must be more than 2\")\n",
    "        self._vertices = value\n",
    "\n",
    "    @property\n",
    "    def circum_radius(self):\n",
    "        return self._circum_radius\n",
    "\n",
    "    @circum_radius.setter\n",
    "    def circum_radius(self, value):\n",
    "        if value <= 0:\n",
    "            raise ValueError(\"circum radius cannot be  <= zero\")\n",
    "        self._circum_radius = value\n",
    "\n",
    "    def __repr__(self):\n",
    "        return f\"Polygons(vertices={self._vertices} ,cr = {self._circum_radius})\"\n",
    "\n",
    "    def __len__(self):\n",
    "        return self._vertices - 2\n",
    "\n",
    "    def __getitem__(self, item):\n",
    "        return self.poly[item]\n",
    "\n",
    "    def max_efficiency(self):\n",
    "        new = sorted(self.poly, key=lambda x:-x.efficiency)\n",
    "        return new[0]"
   ],
   "metadata": {
    "collapsed": false,
    "pycharm": {
     "name": "#%%\n"
    }
   }
  },
  {
   "cell_type": "code",
   "execution_count": 26,
   "outputs": [],
   "source": [
    "p = Polygons(8,3)"
   ],
   "metadata": {
    "collapsed": false,
    "pycharm": {
     "name": "#%%\n"
    }
   }
  },
  {
   "cell_type": "code",
   "execution_count": 27,
   "outputs": [
    {
     "data": {
      "text/plain": "Polygon(vertices=7,cr=3)"
     },
     "execution_count": 27,
     "metadata": {},
     "output_type": "execute_result"
    }
   ],
   "source": [
    "p.max_efficiency()"
   ],
   "metadata": {
    "collapsed": false,
    "pycharm": {
     "name": "#%%\n"
    }
   }
  },
  {
   "cell_type": "code",
   "execution_count": 28,
   "outputs": [
    {
     "name": "stdout",
     "output_type": "stream",
     "text": [
      "Polygon(vertices=3,cr=3) 11.691342951089926 15.588457268119896 0.7500000000000002\n",
      "Polygon(vertices=4,cr=3) 18.000000000000004 16.970562748477143 1.0606601717798214\n",
      "Polygon(vertices=5,cr=3) 21.398771616640957 17.633557568774194 1.2135254915624212\n",
      "Polygon(vertices=6,cr=3) 23.38268590217984 17.999999999999996 1.299038105676658\n",
      "Polygon(vertices=7,cr=3) 24.627691697742943 18.223117042937442 1.3514533018536288\n"
     ]
    }
   ],
   "source": [
    "for i in p:\n",
    "    print(i,i.area,i.perimeter,i.efficiency)"
   ],
   "metadata": {
    "collapsed": false,
    "pycharm": {
     "name": "#%%\n"
    }
   }
  },
  {
   "cell_type": "code",
   "execution_count": null,
   "outputs": [],
   "source": [],
   "metadata": {
    "collapsed": false,
    "pycharm": {
     "name": "#%%\n"
    }
   }
  }
 ],
 "metadata": {
  "kernelspec": {
   "display_name": "Python 3",
   "language": "python",
   "name": "python3"
  },
  "language_info": {
   "codemirror_mode": {
    "name": "ipython",
    "version": 2
   },
   "file_extension": ".py",
   "mimetype": "text/x-python",
   "name": "python",
   "nbconvert_exporter": "python",
   "pygments_lexer": "ipython2",
   "version": "2.7.6"
  }
 },
 "nbformat": 4,
 "nbformat_minor": 0
}