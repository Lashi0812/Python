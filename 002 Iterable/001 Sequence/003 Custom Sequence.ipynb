{
 "cells": [
  {
   "cell_type": "code",
   "execution_count": 1,
   "metadata": {
    "collapsed": true,
    "pycharm": {
     "name": "#%%\n"
    }
   },
   "outputs": [],
   "source": [
    "my_list = [1, 2, 3, 4]"
   ]
  },
  {
   "cell_type": "code",
   "execution_count": 2,
   "outputs": [
    {
     "data": {
      "text/plain": "(2, 2)"
     },
     "execution_count": 2,
     "metadata": {},
     "output_type": "execute_result"
    }
   ],
   "source": [
    "my_list[1], my_list.__getitem__(1)"
   ],
   "metadata": {
    "collapsed": false,
    "pycharm": {
     "name": "#%%\n"
    }
   }
  },
  {
   "cell_type": "code",
   "execution_count": 3,
   "outputs": [
    {
     "ename": "IndexError",
     "evalue": "list index out of range",
     "output_type": "error",
     "traceback": [
      "\u001B[1;31m---------------------------------------------------------------------------\u001B[0m",
      "\u001B[1;31mIndexError\u001B[0m                                Traceback (most recent call last)",
      "Cell \u001B[1;32mIn [3], line 1\u001B[0m\n\u001B[1;32m----> 1\u001B[0m \u001B[43mmy_list\u001B[49m\u001B[43m[\u001B[49m\u001B[38;5;241;43m6\u001B[39;49m\u001B[43m]\u001B[49m\n",
      "\u001B[1;31mIndexError\u001B[0m: list index out of range"
     ]
    }
   ],
   "source": [
    "my_list[6]"
   ],
   "metadata": {
    "collapsed": false,
    "pycharm": {
     "name": "#%%\n"
    }
   }
  },
  {
   "cell_type": "code",
   "execution_count": null,
   "outputs": [],
   "source": [
    "my_list.__getitem__(6)"
   ],
   "metadata": {
    "collapsed": false,
    "pycharm": {
     "name": "#%%\n"
    }
   }
  },
  {
   "cell_type": "code",
   "execution_count": 4,
   "outputs": [
    {
     "data": {
      "text/plain": "(4, 4)"
     },
     "execution_count": 4,
     "metadata": {},
     "output_type": "execute_result"
    }
   ],
   "source": [
    "my_list[-1], my_list.__getitem__(-1)"
   ],
   "metadata": {
    "collapsed": false,
    "pycharm": {
     "name": "#%%\n"
    }
   }
  },
  {
   "cell_type": "code",
   "execution_count": 5,
   "outputs": [
    {
     "data": {
      "text/plain": "([1, 2], [1, 2])"
     },
     "execution_count": 5,
     "metadata": {},
     "output_type": "execute_result"
    }
   ],
   "source": [
    "my_list[:2], my_list.__getitem__(slice(None, 2))"
   ],
   "metadata": {
    "collapsed": false,
    "pycharm": {
     "name": "#%%\n"
    }
   }
  },
  {
   "cell_type": "code",
   "execution_count": 6,
   "outputs": [
    {
     "data": {
      "text/plain": "([4, 3, 2, 1], [4, 3, 2, 1])"
     },
     "execution_count": 6,
     "metadata": {},
     "output_type": "execute_result"
    }
   ],
   "source": [
    "my_list[::-1], my_list.__getitem__(slice(None, None, -1))"
   ],
   "metadata": {
    "collapsed": false,
    "pycharm": {
     "name": "#%%\n"
    }
   }
  },
  {
   "cell_type": "markdown",
   "source": [
    "# Mimicking the python for loop"
   ],
   "metadata": {
    "collapsed": false,
    "pycharm": {
     "name": "#%% md\n"
    }
   }
  },
  {
   "cell_type": "code",
   "execution_count": 7,
   "outputs": [
    {
     "name": "stdout",
     "output_type": "stream",
     "text": [
      "1\n",
      "4\n",
      "9\n",
      "16\n"
     ]
    }
   ],
   "source": [
    "for item in my_list:\n",
    "    print(item ** 2)"
   ],
   "metadata": {
    "collapsed": false,
    "pycharm": {
     "name": "#%%\n"
    }
   }
  },
  {
   "cell_type": "code",
   "execution_count": 8,
   "outputs": [
    {
     "name": "stdout",
     "output_type": "stream",
     "text": [
      "1\n",
      "4\n",
      "9\n",
      "16\n"
     ]
    }
   ],
   "source": [
    "index = 0\n",
    "while True:\n",
    "    try:\n",
    "        item = my_list.__getitem__(index)\n",
    "    except IndexError:\n",
    "        break\n",
    "    print(item ** 2)\n",
    "    index += 1"
   ],
   "metadata": {
    "collapsed": false,
    "pycharm": {
     "name": "#%%\n"
    }
   }
  },
  {
   "cell_type": "markdown",
   "source": [
    "# Implementing the custom Sequence"
   ],
   "metadata": {
    "collapsed": false,
    "pycharm": {
     "name": "#%% md\n"
    }
   }
  },
  {
   "cell_type": "code",
   "execution_count": 1,
   "outputs": [],
   "source": [
    "class MySequence:\n",
    "    def __len__(self):\n",
    "        print(\"calling the __len__ method\")\n",
    "        return 10\n",
    "\n",
    "    def __getitem__(self, items):\n",
    "        return \"calling the __getitem__ method\"\n"
   ],
   "metadata": {
    "collapsed": false,
    "pycharm": {
     "name": "#%%\n"
    }
   }
  },
  {
   "cell_type": "code",
   "execution_count": 2,
   "outputs": [
    {
     "name": "stdout",
     "output_type": "stream",
     "text": [
      "calling the __len__ method\n"
     ]
    },
    {
     "data": {
      "text/plain": "(10, 'calling the __getitem__ method', 'calling the __getitem__ method')"
     },
     "execution_count": 2,
     "metadata": {},
     "output_type": "execute_result"
    }
   ],
   "source": [
    "seq = MySequence()\n",
    "len(seq), seq[0], seq[:]"
   ],
   "metadata": {
    "collapsed": false,
    "pycharm": {
     "name": "#%%\n"
    }
   }
  },
  {
   "cell_type": "code",
   "execution_count": 3,
   "outputs": [],
   "source": [
    "class MySequence:\n",
    "    def __init__(self, n):\n",
    "        self.n = n\n",
    "\n",
    "    def __len__(self):\n",
    "        print(\"calling the __len__ method\")\n",
    "        return self.n\n",
    "\n",
    "    def __getitem__(self, items):\n",
    "        if items > self.n:\n",
    "            raise IndexError\n",
    "        return f\"return the item number {items}\"\n"
   ],
   "metadata": {
    "collapsed": false,
    "pycharm": {
     "name": "#%%\n"
    }
   }
  },
  {
   "cell_type": "code",
   "execution_count": 4,
   "outputs": [
    {
     "name": "stdout",
     "output_type": "stream",
     "text": [
      "return the item number 0\n",
      "return the item number 1\n",
      "return the item number 2\n",
      "return the item number 3\n",
      "return the item number 4\n"
     ]
    }
   ],
   "source": [
    "seq = MySequence(4)\n",
    "for item in seq:\n",
    "    print(item)"
   ],
   "metadata": {
    "collapsed": false,
    "pycharm": {
     "name": "#%%\n"
    }
   }
  },
  {
   "cell_type": "code",
   "execution_count": 8,
   "outputs": [],
   "source": [
    "\n",
    "class MySequence:\n",
    "    def __init__(self, n):\n",
    "        self.n = n\n",
    "\n",
    "    def __len__(self):\n",
    "        print(\"calling the __len__ method\")\n",
    "        return self.n\n",
    "\n",
    "    def __getitem__(self, items):\n",
    "        if isinstance(items, int):\n",
    "            if items > self.n:\n",
    "                raise IndexError\n",
    "            return f\"return the item number {items}\"\n"
   ],
   "metadata": {
    "collapsed": false,
    "pycharm": {
     "name": "#%%\n"
    }
   }
  },
  {
   "cell_type": "code",
   "execution_count": 9,
   "outputs": [
    {
     "name": "stdout",
     "output_type": "stream",
     "text": [
      "return the item number 0\n",
      "return the item number 1\n",
      "return the item number 2\n",
      "return the item number 3\n",
      "return the item number 4\n"
     ]
    }
   ],
   "source": [
    "seq = MySequence(4)\n",
    "for item in seq:\n",
    "    print(item)"
   ],
   "metadata": {
    "collapsed": false,
    "pycharm": {
     "name": "#%%\n"
    }
   }
  },
  {
   "cell_type": "code",
   "execution_count": 10,
   "outputs": [],
   "source": [
    "seq[:2]\n",
    "#? i didn't handle the slice object"
   ],
   "metadata": {
    "collapsed": false,
    "pycharm": {
     "name": "#%%\n"
    }
   }
  },
  {
   "cell_type": "code",
   "execution_count": 11,
   "outputs": [],
   "source": [
    "class MySequence:\n",
    "    def __init__(self, n):\n",
    "        self.n = n\n",
    "\n",
    "    def __len__(self):\n",
    "        print(\"calling the __len__ method\")\n",
    "        return self.n\n",
    "\n",
    "    def __getitem__(self, items):\n",
    "        if isinstance(items, int):\n",
    "            if items > self.n:\n",
    "                raise IndexError\n",
    "            return f\"return the item number {items}\"\n",
    "        elif isinstance(items, slice):\n",
    "            rng = range(*items.indices(self.n))\n",
    "            return [f\"retuning the element {i}\" for i in rng]\n",
    "\n"
   ],
   "metadata": {
    "collapsed": false,
    "pycharm": {
     "name": "#%%\n"
    }
   }
  },
  {
   "cell_type": "code",
   "execution_count": 12,
   "outputs": [
    {
     "data": {
      "text/plain": "['retuning the element 3',\n 'retuning the element 2',\n 'retuning the element 1',\n 'retuning the element 0']"
     },
     "execution_count": 12,
     "metadata": {},
     "output_type": "execute_result"
    }
   ],
   "source": [
    "seq = MySequence(4)\n",
    "seq[::-1]"
   ],
   "metadata": {
    "collapsed": false,
    "pycharm": {
     "name": "#%%\n"
    }
   }
  },
  {
   "cell_type": "markdown",
   "source": [
    "# Fib sequence"
   ],
   "metadata": {
    "collapsed": false,
    "pycharm": {
     "name": "#%% md\n"
    }
   }
  },
  {
   "cell_type": "code",
   "execution_count": 29,
   "outputs": [],
   "source": [
    "from functools import lru_cache\n",
    "\n",
    "\n",
    "class Fib:\n",
    "    def __init__(self, n):\n",
    "        self.n = n\n",
    "\n",
    "    def __len__(self):\n",
    "        return self.n\n",
    "\n",
    "    def __getitem__(self, items):\n",
    "        if isinstance(items, int):\n",
    "            if items < 0:\n",
    "                items = self.n + items\n",
    "            if 0 <= items < self.n:\n",
    "                return self._fib(items)\n",
    "            else:\n",
    "                raise IndexError\n",
    "\n",
    "    @staticmethod\n",
    "    @lru_cache\n",
    "    def _fib(n):\n",
    "        return 1 if n < 2 else Fib._fib(n - 1) + Fib._fib(n - 2)"
   ],
   "metadata": {
    "collapsed": false,
    "pycharm": {
     "name": "#%%\n"
    }
   }
  },
  {
   "cell_type": "code",
   "execution_count": 30,
   "outputs": [],
   "source": [
    "fib = Fib(10)"
   ],
   "metadata": {
    "collapsed": false,
    "pycharm": {
     "name": "#%%\n"
    }
   }
  },
  {
   "cell_type": "code",
   "execution_count": 39,
   "outputs": [
    {
     "data": {
      "text/plain": "(8, 55, 1, 3)"
     },
     "execution_count": 39,
     "metadata": {},
     "output_type": "execute_result"
    }
   ],
   "source": [
    "fib[5], fib[-1], fib[-9], fib[3]"
   ],
   "metadata": {
    "collapsed": false,
    "pycharm": {
     "name": "#%%\n"
    }
   }
  },
  {
   "cell_type": "code",
   "execution_count": 32,
   "outputs": [
    {
     "ename": "IndexError",
     "evalue": "",
     "output_type": "error",
     "traceback": [
      "\u001B[1;31m---------------------------------------------------------------------------\u001B[0m",
      "\u001B[1;31mIndexError\u001B[0m                                Traceback (most recent call last)",
      "Cell \u001B[1;32mIn [32], line 1\u001B[0m\n\u001B[1;32m----> 1\u001B[0m \u001B[43mfib\u001B[49m\u001B[43m[\u001B[49m\u001B[38;5;241;43m101\u001B[39;49m\u001B[43m]\u001B[49m\n",
      "Cell \u001B[1;32mIn [29], line 18\u001B[0m, in \u001B[0;36mFib.__getitem__\u001B[1;34m(self, items)\u001B[0m\n\u001B[0;32m     16\u001B[0m     \u001B[38;5;28;01mreturn\u001B[39;00m \u001B[38;5;28mself\u001B[39m\u001B[38;5;241m.\u001B[39m_fib(items)\n\u001B[0;32m     17\u001B[0m \u001B[38;5;28;01melse\u001B[39;00m:\n\u001B[1;32m---> 18\u001B[0m     \u001B[38;5;28;01mraise\u001B[39;00m \u001B[38;5;167;01mIndexError\u001B[39;00m\n",
      "\u001B[1;31mIndexError\u001B[0m: "
     ]
    }
   ],
   "source": [
    "fib[101]"
   ],
   "metadata": {
    "collapsed": false,
    "pycharm": {
     "name": "#%%\n"
    }
   }
  },
  {
   "cell_type": "code",
   "execution_count": 33,
   "outputs": [
    {
     "data": {
      "text/plain": "[1, 1, 2, 3, 5, 8, 13, 21, 34, 55]"
     },
     "execution_count": 33,
     "metadata": {},
     "output_type": "execute_result"
    }
   ],
   "source": [
    "list(fib)"
   ],
   "metadata": {
    "collapsed": false,
    "pycharm": {
     "name": "#%%\n"
    }
   }
  },
  {
   "cell_type": "code",
   "execution_count": 34,
   "outputs": [
    {
     "data": {
      "text/plain": "10"
     },
     "execution_count": 34,
     "metadata": {},
     "output_type": "execute_result"
    }
   ],
   "source": [
    "len(fib)"
   ],
   "metadata": {
    "collapsed": false,
    "pycharm": {
     "name": "#%%\n"
    }
   }
  },
  {
   "cell_type": "code",
   "execution_count": 52,
   "outputs": [],
   "source": [
    "# we have to handle the slice object\n",
    "from functools import lru_cache\n",
    "\n",
    "\n",
    "class Fib:\n",
    "    def __init__(self, n):\n",
    "        self.n = n\n",
    "\n",
    "    def __len__(self):\n",
    "        return self.n\n",
    "\n",
    "    def __getitem__(self, items):\n",
    "        if isinstance(items, int):\n",
    "            if items < 0:\n",
    "                items = self.n + items\n",
    "            if 0 <= items < self.n:\n",
    "                return self.fib(items)\n",
    "            else:\n",
    "                raise IndexError\n",
    "        elif isinstance(items, slice):\n",
    "            rng = range(*items.indices(self.n))\n",
    "            return [self.fib(i) for i in rng]\n",
    "\n",
    "    @staticmethod\n",
    "    @lru_cache\n",
    "    def fib(n):\n",
    "        return 1 if n < 2 else Fib.fib(n - 1) + Fib.fib(n - 2)"
   ],
   "metadata": {
    "collapsed": false,
    "pycharm": {
     "name": "#%%\n"
    }
   }
  },
  {
   "cell_type": "code",
   "execution_count": 53,
   "outputs": [
    {
     "data": {
      "text/plain": "10"
     },
     "execution_count": 53,
     "metadata": {},
     "output_type": "execute_result"
    }
   ],
   "source": [
    "fib = Fib(10)\n",
    "len(fib)"
   ],
   "metadata": {
    "collapsed": false,
    "pycharm": {
     "name": "#%%\n"
    }
   }
  },
  {
   "cell_type": "code",
   "execution_count": 55,
   "outputs": [
    {
     "data": {
      "text/plain": "[1, 1, 2, 3, 5, 8, 13, 21, 34, 55]"
     },
     "execution_count": 55,
     "metadata": {},
     "output_type": "execute_result"
    }
   ],
   "source": [
    "list(fib)"
   ],
   "metadata": {
    "collapsed": false,
    "pycharm": {
     "name": "#%%\n"
    }
   }
  },
  {
   "cell_type": "code",
   "execution_count": 54,
   "outputs": [
    {
     "data": {
      "text/plain": "[2, 3, 5, 8, 13, 21]"
     },
     "execution_count": 54,
     "metadata": {},
     "output_type": "execute_result"
    }
   ],
   "source": [
    "fib[2:8]"
   ],
   "metadata": {
    "collapsed": false,
    "pycharm": {
     "name": "#%%\n"
    }
   }
  },
  {
   "cell_type": "code",
   "execution_count": 56,
   "outputs": [
    {
     "data": {
      "text/plain": "[1, 1, 2, 3, 5, 8, 13, 21, 34, 55]"
     },
     "execution_count": 56,
     "metadata": {},
     "output_type": "execute_result"
    }
   ],
   "source": [
    "[i for i in fib]"
   ],
   "metadata": {
    "collapsed": false,
    "pycharm": {
     "name": "#%%\n"
    }
   }
  },
  {
   "cell_type": "markdown",
   "source": [
    "# Concatenation"
   ],
   "metadata": {
    "collapsed": false,
    "pycharm": {
     "name": "#%% md\n"
    }
   }
  },
  {
   "cell_type": "code",
   "execution_count": 1,
   "outputs": [],
   "source": [
    "class MyClass:\n",
    "    def __init__(self, name):\n",
    "        self.name = name\n",
    "\n",
    "    def __add__(self, other):\n",
    "        print(f\"calling the  + operation on {self} with {other}\")\n",
    "        return \"you have called the __add__ method\"\n",
    "\n",
    "    def __iadd__(self, other):\n",
    "        print(f\"calling the  += operation on {self} with {other}\")\n",
    "        return \"you have called the __iadd__ method\"\n",
    "\n",
    "    def __repr__(self):\n",
    "        return f\"MyClass({self.name})\"\n"
   ],
   "metadata": {
    "collapsed": false,
    "pycharm": {
     "name": "#%%\n"
    }
   }
  },
  {
   "cell_type": "code",
   "execution_count": 5,
   "outputs": [
    {
     "name": "stdout",
     "output_type": "stream",
     "text": [
      "calling the  + operation on MyClass(instance 1) with MyClass(instance 2)\n"
     ]
    },
    {
     "data": {
      "text/plain": "'you have called the __add__ method'"
     },
     "execution_count": 5,
     "metadata": {},
     "output_type": "execute_result"
    }
   ],
   "source": [
    "c1 = MyClass(\"instance 1\")\n",
    "c2 = MyClass(\"instance 2\")\n",
    "c1 + c2"
   ],
   "metadata": {
    "collapsed": false,
    "pycharm": {
     "name": "#%%\n"
    }
   }
  },
  {
   "cell_type": "code",
   "execution_count": 6,
   "outputs": [
    {
     "name": "stdout",
     "output_type": "stream",
     "text": [
      "calling the  += operation on MyClass(instance 2) with MyClass(instance 1)\n"
     ]
    }
   ],
   "source": [
    "c2 += c1"
   ],
   "metadata": {
    "collapsed": false,
    "pycharm": {
     "name": "#%%\n"
    }
   }
  },
  {
   "cell_type": "code",
   "execution_count": 7,
   "outputs": [
    {
     "data": {
      "text/plain": "'you have called the __iadd__ method'"
     },
     "execution_count": 7,
     "metadata": {},
     "output_type": "execute_result"
    }
   ],
   "source": [
    "c2"
   ],
   "metadata": {
    "collapsed": false,
    "pycharm": {
     "name": "#%%\n"
    }
   }
  },
  {
   "cell_type": "code",
   "execution_count": 8,
   "outputs": [
    {
     "data": {
      "text/plain": "2849779526864"
     },
     "execution_count": 8,
     "metadata": {},
     "output_type": "execute_result"
    }
   ],
   "source": [
    "id(c2)\n",
    "#? we have the mutate the object not create the new object"
   ],
   "metadata": {
    "collapsed": false,
    "pycharm": {
     "name": "#%%\n"
    }
   }
  },
  {
   "cell_type": "code",
   "execution_count": 9,
   "outputs": [],
   "source": [
    "class MyClass:\n",
    "    def __init__(self, name):\n",
    "        self.name = name\n",
    "\n",
    "    def __add__(self, other):\n",
    "        return MyClass(self.name + other.name)\n",
    "\n",
    "    def __iadd__(self, other):\n",
    "        self.name += other.name\n",
    "        return self\n",
    "\n",
    "    def __repr__(self):\n",
    "        return f\"MyClass({self.name})\""
   ],
   "metadata": {
    "collapsed": false,
    "pycharm": {
     "name": "#%%\n"
    }
   }
  },
  {
   "cell_type": "code",
   "execution_count": 10,
   "outputs": [],
   "source": [
    "c1 = MyClass(\"instance 1\")\n",
    "c2 = MyClass(\"instance 2\")"
   ],
   "metadata": {
    "collapsed": false,
    "pycharm": {
     "name": "#%%\n"
    }
   }
  },
  {
   "cell_type": "code",
   "execution_count": 11,
   "outputs": [
    {
     "data": {
      "text/plain": "(2849801393872, MyClass(instance 1))"
     },
     "execution_count": 11,
     "metadata": {},
     "output_type": "execute_result"
    }
   ],
   "source": [
    "id(c1), c1"
   ],
   "metadata": {
    "collapsed": false,
    "pycharm": {
     "name": "#%%\n"
    }
   }
  },
  {
   "cell_type": "code",
   "execution_count": 12,
   "outputs": [
    {
     "data": {
      "text/plain": "(2849801325200, MyClass(instance 2))"
     },
     "execution_count": 12,
     "metadata": {},
     "output_type": "execute_result"
    }
   ],
   "source": [
    "id(c2), c2"
   ],
   "metadata": {
    "collapsed": false,
    "pycharm": {
     "name": "#%%\n"
    }
   }
  },
  {
   "cell_type": "code",
   "execution_count": 14,
   "outputs": [
    {
     "data": {
      "text/plain": "(MyClass(instance 1instance 2), 2849800261904)"
     },
     "execution_count": 14,
     "metadata": {},
     "output_type": "execute_result"
    }
   ],
   "source": [
    "result = c1 + c2\n",
    "result, id(result)\n",
    "#? new object is created"
   ],
   "metadata": {
    "collapsed": false,
    "pycharm": {
     "name": "#%%\n"
    }
   }
  },
  {
   "cell_type": "code",
   "execution_count": 17,
   "outputs": [
    {
     "ename": "AttributeError",
     "evalue": "'str' object has no attribute 'name'",
     "output_type": "error",
     "traceback": [
      "\u001B[1;31m---------------------------------------------------------------------------\u001B[0m",
      "\u001B[1;31mAttributeError\u001B[0m                            Traceback (most recent call last)",
      "Cell \u001B[1;32mIn [17], line 1\u001B[0m\n\u001B[1;32m----> 1\u001B[0m result \u001B[38;5;241m=\u001B[39m \u001B[43mc1\u001B[49m\u001B[38;5;241;43m+\u001B[39;49m\u001B[38;5;124;43m\"\u001B[39;49m\u001B[38;5;124;43mabc\u001B[39;49m\u001B[38;5;124;43m\"\u001B[39;49m\n\u001B[0;32m      2\u001B[0m result,\u001B[38;5;28mid\u001B[39m(result)\n",
      "Cell \u001B[1;32mIn [9], line 6\u001B[0m, in \u001B[0;36mMyClass.__add__\u001B[1;34m(self, other)\u001B[0m\n\u001B[0;32m      5\u001B[0m \u001B[38;5;28;01mdef\u001B[39;00m \u001B[38;5;21m__add__\u001B[39m(\u001B[38;5;28mself\u001B[39m, other):\n\u001B[1;32m----> 6\u001B[0m     \u001B[38;5;28;01mreturn\u001B[39;00m MyClass(\u001B[38;5;28mself\u001B[39m\u001B[38;5;241m.\u001B[39mname \u001B[38;5;241m+\u001B[39m \u001B[43mother\u001B[49m\u001B[38;5;241;43m.\u001B[39;49m\u001B[43mname\u001B[49m)\n",
      "\u001B[1;31mAttributeError\u001B[0m: 'str' object has no attribute 'name'"
     ]
    }
   ],
   "source": [
    "result = c1 + \"abc\"\n",
    "result, id(result)\n",
    "#? we even though i didn't implement the exception , python throw the error"
   ],
   "metadata": {
    "collapsed": false,
    "pycharm": {
     "name": "#%%\n"
    }
   }
  },
  {
   "cell_type": "code",
   "execution_count": 18,
   "outputs": [
    {
     "data": {
      "text/plain": "(2849801393872, MyClass(instance 1instance 2))"
     },
     "execution_count": 18,
     "metadata": {},
     "output_type": "execute_result"
    }
   ],
   "source": [
    "c1 += c2\n",
    "id(c1), c1\n",
    "#? address of the c1 is not changed we mutate the object, and also we concat the method"
   ],
   "metadata": {
    "collapsed": false,
    "pycharm": {
     "name": "#%%\n"
    }
   }
  },
  {
   "cell_type": "markdown",
   "source": [
    "# Repeat"
   ],
   "metadata": {
    "collapsed": false,
    "pycharm": {
     "name": "#%% md\n"
    }
   }
  },
  {
   "cell_type": "code",
   "execution_count": 19,
   "outputs": [],
   "source": [
    "class MyClass:\n",
    "    def __init__(self, name):\n",
    "        self.name = name\n",
    "\n",
    "    def __add__(self, other):\n",
    "        return MyClass(self.name + other.name)\n",
    "\n",
    "    def __iadd__(self, other):\n",
    "        self.name += other.name\n",
    "        return self\n",
    "\n",
    "    def __repr__(self):\n",
    "        return f\"MyClass({self.name})\"\n",
    "\n",
    "    def __mul__(self, n):\n",
    "        return MyClass(self.name * n)\n",
    "\n",
    "    def __imul__(self, n):\n",
    "        self.name *= n\n",
    "        return self\n"
   ],
   "metadata": {
    "collapsed": false,
    "pycharm": {
     "name": "#%%\n"
    }
   }
  },
  {
   "cell_type": "code",
   "execution_count": 20,
   "outputs": [],
   "source": [
    "c1 = MyClass(\"instance 1\")\n",
    "c2 = MyClass(\"instance 2\")"
   ],
   "metadata": {
    "collapsed": false,
    "pycharm": {
     "name": "#%%\n"
    }
   }
  },
  {
   "cell_type": "code",
   "execution_count": 21,
   "outputs": [
    {
     "data": {
      "text/plain": "(2849799386000, MyClass(instance 1))"
     },
     "execution_count": 21,
     "metadata": {},
     "output_type": "execute_result"
    }
   ],
   "source": [
    "id(c1), c1"
   ],
   "metadata": {
    "collapsed": false,
    "pycharm": {
     "name": "#%%\n"
    }
   }
  },
  {
   "cell_type": "code",
   "execution_count": 22,
   "outputs": [
    {
     "data": {
      "text/plain": "(2849810435856, MyClass(instance 2))"
     },
     "execution_count": 22,
     "metadata": {},
     "output_type": "execute_result"
    }
   ],
   "source": [
    "id(c2), c2"
   ],
   "metadata": {
    "collapsed": false,
    "pycharm": {
     "name": "#%%\n"
    }
   }
  },
  {
   "cell_type": "code",
   "execution_count": 23,
   "outputs": [
    {
     "data": {
      "text/plain": "MyClass(instance 1instance 1instance 1)"
     },
     "execution_count": 23,
     "metadata": {},
     "output_type": "execute_result"
    }
   ],
   "source": [
    "c1 * 3"
   ],
   "metadata": {
    "collapsed": false,
    "pycharm": {
     "name": "#%%\n"
    }
   }
  },
  {
   "cell_type": "code",
   "execution_count": 24,
   "outputs": [
    {
     "data": {
      "text/plain": "(2849799386000, MyClass(instance 1instance 1))"
     },
     "execution_count": 24,
     "metadata": {},
     "output_type": "execute_result"
    }
   ],
   "source": [
    "c1 *= 2\n",
    "id(c1), c1"
   ],
   "metadata": {
    "collapsed": false,
    "pycharm": {
     "name": "#%%\n"
    }
   }
  },
  {
   "cell_type": "code",
   "execution_count": 25,
   "outputs": [
    {
     "ename": "TypeError",
     "evalue": "unsupported operand type(s) for *: 'int' and 'MyClass'",
     "output_type": "error",
     "traceback": [
      "\u001B[1;31m---------------------------------------------------------------------------\u001B[0m",
      "\u001B[1;31mTypeError\u001B[0m                                 Traceback (most recent call last)",
      "Cell \u001B[1;32mIn [25], line 1\u001B[0m\n\u001B[1;32m----> 1\u001B[0m \u001B[38;5;241;43m3\u001B[39;49m\u001B[43m \u001B[49m\u001B[38;5;241;43m*\u001B[39;49m\u001B[43m \u001B[49m\u001B[43mc1\u001B[49m\n",
      "\u001B[1;31mTypeError\u001B[0m: unsupported operand type(s) for *: 'int' and 'MyClass'"
     ]
    }
   ],
   "source": [
    "3 * c1"
   ],
   "metadata": {
    "collapsed": false,
    "pycharm": {
     "name": "#%%\n"
    }
   }
  },
  {
   "cell_type": "code",
   "execution_count": 27,
   "outputs": [
    {
     "data": {
      "text/plain": "NotImplemented"
     },
     "execution_count": 27,
     "metadata": {},
     "output_type": "execute_result"
    }
   ],
   "source": [
    "(3).__mul__(c1)\n",
    "#? in the integer class the __mul__ is method is not implement for type MyClass"
   ],
   "metadata": {
    "collapsed": false,
    "pycharm": {
     "name": "#%%\n"
    }
   }
  },
  {
   "cell_type": "code",
   "execution_count": 29,
   "outputs": [
    {
     "data": {
      "text/plain": "(9, 9)"
     },
     "execution_count": 29,
     "metadata": {},
     "output_type": "execute_result"
    }
   ],
   "source": [
    "(3).__mul__(3), 3 * 3"
   ],
   "metadata": {
    "collapsed": false,
    "pycharm": {
     "name": "#%%\n"
    }
   }
  },
  {
   "cell_type": "code",
   "execution_count": 30,
   "outputs": [
    {
     "ename": "AttributeError",
     "evalue": "'MyClass' object has no attribute '__rmul__'",
     "output_type": "error",
     "traceback": [
      "\u001B[1;31m---------------------------------------------------------------------------\u001B[0m",
      "\u001B[1;31mAttributeError\u001B[0m                            Traceback (most recent call last)",
      "Cell \u001B[1;32mIn [30], line 2\u001B[0m\n\u001B[0;32m      1\u001B[0m \u001B[38;5;66;03m#! since __mul__ method is not implement then python try to call the __rmul__ of the MyClass \u001B[39;00m\n\u001B[1;32m----> 2\u001B[0m \u001B[43mc1\u001B[49m\u001B[38;5;241;43m.\u001B[39;49m\u001B[38;5;21;43m__rmul__\u001B[39;49m(\u001B[38;5;241m3\u001B[39m)\n",
      "\u001B[1;31mAttributeError\u001B[0m: 'MyClass' object has no attribute '__rmul__'"
     ]
    }
   ],
   "source": [
    "#! since __mul__ method is not implement then python try to call the __rmul__ of the MyClass\n",
    "c1.__rmul__(3)"
   ],
   "metadata": {
    "collapsed": false,
    "pycharm": {
     "name": "#%%\n"
    }
   }
  },
  {
   "cell_type": "code",
   "execution_count": 31,
   "outputs": [],
   "source": [
    "class MyClass:\n",
    "    def __init__(self, name):\n",
    "        self.name = name\n",
    "\n",
    "    def __add__(self, other):\n",
    "        return MyClass(self.name + other.name)\n",
    "\n",
    "    def __iadd__(self, other):\n",
    "        self.name += other.name\n",
    "        return self\n",
    "\n",
    "    def __repr__(self):\n",
    "        return f\"MyClass({self.name})\"\n",
    "\n",
    "    def __mul__(self, n):\n",
    "        return MyClass(self.name * n)\n",
    "\n",
    "    def __rmul__(self, n):\n",
    "        return self.__mul__(n)\n",
    "\n",
    "    def __imul__(self, n):\n",
    "        self.name *= n\n",
    "        return self\n",
    "\n"
   ],
   "metadata": {
    "collapsed": false,
    "pycharm": {
     "name": "#%%\n"
    }
   }
  },
  {
   "cell_type": "code",
   "execution_count": 32,
   "outputs": [],
   "source": [
    "c1 = MyClass(\"instance 1\")\n",
    "c2 = MyClass(\"instance 2\")"
   ],
   "metadata": {
    "collapsed": false,
    "pycharm": {
     "name": "#%%\n"
    }
   }
  },
  {
   "cell_type": "code",
   "execution_count": 33,
   "outputs": [
    {
     "data": {
      "text/plain": "MyClass(instance 1instance 1instance 1)"
     },
     "execution_count": 33,
     "metadata": {},
     "output_type": "execute_result"
    }
   ],
   "source": [
    "c1 * 3"
   ],
   "metadata": {
    "collapsed": false,
    "pycharm": {
     "name": "#%%\n"
    }
   }
  },
  {
   "cell_type": "code",
   "execution_count": 34,
   "outputs": [
    {
     "data": {
      "text/plain": "MyClass(instance 1instance 1instance 1)"
     },
     "execution_count": 34,
     "metadata": {},
     "output_type": "execute_result"
    }
   ],
   "source": [
    "3 * c1"
   ],
   "metadata": {
    "collapsed": false,
    "pycharm": {
     "name": "#%%\n"
    }
   }
  },
  {
   "cell_type": "markdown",
   "source": [
    "# Implement the Polygon"
   ],
   "metadata": {
    "collapsed": false,
    "pycharm": {
     "name": "#%% md\n"
    }
   }
  },
  {
   "cell_type": "code",
   "execution_count": 43,
   "outputs": [],
   "source": [
    "from numbers import Real\n",
    "\n",
    "\n",
    "class Point:\n",
    "    def __init__(self, x, y):\n",
    "        if isinstance(x, Real) and isinstance(y, Real):\n",
    "            self._pt = (x, y)\n",
    "        else:\n",
    "            raise TypeError(\"co ordinate must be real\")\n",
    "\n",
    "    def __repr__(self):\n",
    "        return f\"Point(x={self._pt[0]},y={self._pt[1]})\""
   ],
   "metadata": {
    "collapsed": false,
    "pycharm": {
     "name": "#%%\n"
    }
   }
  },
  {
   "cell_type": "code",
   "execution_count": 44,
   "outputs": [
    {
     "data": {
      "text/plain": "Point(x=1,y=2)"
     },
     "execution_count": 44,
     "metadata": {},
     "output_type": "execute_result"
    }
   ],
   "source": [
    "pt1 = Point(1, 2)\n",
    "pt1"
   ],
   "metadata": {
    "collapsed": false,
    "pycharm": {
     "name": "#%%\n"
    }
   }
  },
  {
   "cell_type": "code",
   "execution_count": 45,
   "outputs": [
    {
     "ename": "TypeError",
     "evalue": "cannot unpack non-iterable Point object",
     "output_type": "error",
     "traceback": [
      "\u001B[1;31m---------------------------------------------------------------------------\u001B[0m",
      "\u001B[1;31mTypeError\u001B[0m                                 Traceback (most recent call last)",
      "Cell \u001B[1;32mIn [45], line 1\u001B[0m\n\u001B[1;32m----> 1\u001B[0m x,y \u001B[38;5;241m=\u001B[39m pt1\n",
      "\u001B[1;31mTypeError\u001B[0m: cannot unpack non-iterable Point object"
     ]
    }
   ],
   "source": [
    "x, y = pt1"
   ],
   "metadata": {
    "collapsed": false,
    "pycharm": {
     "name": "#%%\n"
    }
   }
  },
  {
   "cell_type": "code",
   "execution_count": 1,
   "outputs": [],
   "source": [
    "from numbers import Real\n",
    "\n",
    "\n",
    "class Point:\n",
    "    def __init__(self, x, y):\n",
    "        if isinstance(x, Real) and isinstance(y, Real):\n",
    "            self._pt = (x, y)\n",
    "        else:\n",
    "            raise TypeError(\"co ordinate must be real\")\n",
    "\n",
    "    def __repr__(self):\n",
    "        return f\"Point(x={self._pt[0]},y={self._pt[1]})\"\n",
    "\n",
    "    def __getitem__(self, item):\n",
    "        return self._pt[item]"
   ],
   "metadata": {
    "collapsed": false,
    "pycharm": {
     "name": "#%%\n"
    }
   }
  },
  {
   "cell_type": "code",
   "execution_count": 2,
   "outputs": [
    {
     "data": {
      "text/plain": "Point(x=1,y=2)"
     },
     "execution_count": 2,
     "metadata": {},
     "output_type": "execute_result"
    }
   ],
   "source": [
    "pt1 = Point(1, 2)\n",
    "pt1"
   ],
   "metadata": {
    "collapsed": false,
    "pycharm": {
     "name": "#%%\n"
    }
   }
  },
  {
   "cell_type": "code",
   "execution_count": 49,
   "outputs": [
    {
     "name": "stdout",
     "output_type": "stream",
     "text": [
      "1 2\n"
     ]
    }
   ],
   "source": [
    "x, y = pt1\n",
    "print(x, y)"
   ],
   "metadata": {
    "collapsed": false,
    "pycharm": {
     "name": "#%%\n"
    }
   }
  },
  {
   "cell_type": "code",
   "execution_count": 50,
   "outputs": [],
   "source": [
    "pt1._pt = (\"a\", \"b\")"
   ],
   "metadata": {
    "collapsed": false,
    "pycharm": {
     "name": "#%%\n"
    }
   }
  },
  {
   "cell_type": "code",
   "execution_count": 51,
   "outputs": [
    {
     "data": {
      "text/plain": "Point(x=a,y=b)"
     },
     "execution_count": 51,
     "metadata": {},
     "output_type": "execute_result"
    }
   ],
   "source": [
    "pt1"
   ],
   "metadata": {
    "collapsed": false,
    "pycharm": {
     "name": "#%%\n"
    }
   }
  },
  {
   "cell_type": "code",
   "execution_count": 5,
   "outputs": [],
   "source": [
    "from numbers import Real\n",
    "from typing import Iterable\n",
    "\n",
    "\n",
    "class Point:\n",
    "    def __init__(self, x_cord, y_cord):\n",
    "        self.x_cord = x_cord\n",
    "        self.y_cord = y_cord\n",
    "        self.pt = (self.x_cord, self.y_cord)\n",
    "\n",
    "    def __repr__(self):\n",
    "        return f\"Point(x_cord={self.pt[0]},y_cord={self.pt[1]})\"\n",
    "\n",
    "    def __getitem__(self, s):\n",
    "        return self.pt[s]\n",
    "\n",
    "    def __len__(self):\n",
    "        return len(self.pt)\n",
    "\n",
    "    @property\n",
    "    def x_cord(self):\n",
    "        return self._x_cord\n",
    "\n",
    "    @x_cord.setter\n",
    "    def x_cord(self, value):\n",
    "        if isinstance(value, Real):\n",
    "            self._x_cord = value\n",
    "        else:\n",
    "            raise TypeError(\"x co ordinate must be real number\")\n",
    "\n",
    "    @property\n",
    "    def y_cord(self):\n",
    "        return self._y_cord\n",
    "\n",
    "    @y_cord.setter\n",
    "    def y_cord(self, value):\n",
    "        if isinstance(value, Real):\n",
    "            self._y_cord = value\n",
    "        else:\n",
    "            raise TypeError(\"y co ordinate must be real number\")\n",
    "\n",
    "    @property\n",
    "    def pt(self):\n",
    "        return self._pt\n",
    "\n",
    "    @pt.setter\n",
    "    def pt(self, value):\n",
    "        if isinstance(value, Iterable):\n",
    "            self.x_cord = value[0]\n",
    "            self.y_cord = value[1]\n",
    "            self._pt = (self.x_cord,self.y_cord)\n",
    "        else:\n",
    "            raise TypeError(\"co ordinate must be real number\")"
   ],
   "metadata": {
    "collapsed": false,
    "pycharm": {
     "name": "#%%\n"
    }
   }
  },
  {
   "cell_type": "code",
   "execution_count": 11,
   "outputs": [
    {
     "data": {
      "text/plain": "(1, 2)"
     },
     "execution_count": 11,
     "metadata": {},
     "output_type": "execute_result"
    }
   ],
   "source": [
    "pt1 = Point(1,2)\n",
    "pt1.pt"
   ],
   "metadata": {
    "collapsed": false,
    "pycharm": {
     "name": "#%%\n"
    }
   }
  },
  {
   "cell_type": "code",
   "execution_count": 13,
   "outputs": [
    {
     "data": {
      "text/plain": "Point(x_cord=1,y_cord=2)"
     },
     "execution_count": 13,
     "metadata": {},
     "output_type": "execute_result"
    }
   ],
   "source": [
    "pt2 = Point(*pt1)\n",
    "pt2"
   ],
   "metadata": {
    "collapsed": false,
    "pycharm": {
     "name": "#%%\n"
    }
   }
  },
  {
   "cell_type": "code",
   "execution_count": 14,
   "outputs": [
    {
     "data": {
      "text/plain": "(1240435923536, 1240455821264)"
     },
     "execution_count": 14,
     "metadata": {},
     "output_type": "execute_result"
    }
   ],
   "source": [
    "id(pt1),id(pt2)"
   ],
   "metadata": {
    "collapsed": false,
    "pycharm": {
     "name": "#%%\n"
    }
   }
  },
  {
   "cell_type": "code",
   "execution_count": 15,
   "outputs": [],
   "source": [
    "class Polygon:\n",
    "    def __init__(self,*pts):\n",
    "        if pts:\n",
    "            self.pts = [Point(*pt) for pt in pts]\n",
    "        else:\n",
    "            self.pts =[]\n",
    "    def __repr__(self):\n",
    "        return f\"Polygon({self.pts})\""
   ],
   "metadata": {
    "collapsed": false,
    "pycharm": {
     "name": "#%%\n"
    }
   }
  },
  {
   "cell_type": "code",
   "execution_count": 16,
   "outputs": [],
   "source": [
    "p = Polygon((0,0),Point(1,1))"
   ],
   "metadata": {
    "collapsed": false,
    "pycharm": {
     "name": "#%%\n"
    }
   }
  },
  {
   "cell_type": "code",
   "execution_count": 17,
   "outputs": [
    {
     "data": {
      "text/plain": "Polygon([Point(x_cord=0,y_cord=0), Point(x_cord=1,y_cord=1)])"
     },
     "execution_count": 17,
     "metadata": {},
     "output_type": "execute_result"
    }
   ],
   "source": [
    "p"
   ],
   "metadata": {
    "collapsed": false,
    "pycharm": {
     "name": "#%%\n"
    }
   }
  },
  {
   "cell_type": "code",
   "execution_count": 18,
   "outputs": [
    {
     "ename": "TypeError",
     "evalue": "x co ordinate must be real number",
     "output_type": "error",
     "traceback": [
      "\u001B[1;31m---------------------------------------------------------------------------\u001B[0m",
      "\u001B[1;31mTypeError\u001B[0m                                 Traceback (most recent call last)",
      "Cell \u001B[1;32mIn [18], line 1\u001B[0m\n\u001B[1;32m----> 1\u001B[0m \u001B[43mPolygon\u001B[49m\u001B[43m(\u001B[49m\u001B[43m[\u001B[49m\u001B[43mPoint\u001B[49m\u001B[43m(\u001B[49m\u001B[43mx_cord\u001B[49m\u001B[38;5;241;43m=\u001B[39;49m\u001B[38;5;241;43m0\u001B[39;49m\u001B[43m,\u001B[49m\u001B[43my_cord\u001B[49m\u001B[38;5;241;43m=\u001B[39;49m\u001B[38;5;241;43m0\u001B[39;49m\u001B[43m)\u001B[49m\u001B[43m,\u001B[49m\u001B[43m \u001B[49m\u001B[43mPoint\u001B[49m\u001B[43m(\u001B[49m\u001B[43mx_cord\u001B[49m\u001B[38;5;241;43m=\u001B[39;49m\u001B[38;5;241;43m1\u001B[39;49m\u001B[43m,\u001B[49m\u001B[43my_cord\u001B[49m\u001B[38;5;241;43m=\u001B[39;49m\u001B[38;5;241;43m1\u001B[39;49m\u001B[43m)\u001B[49m\u001B[43m]\u001B[49m\u001B[43m)\u001B[49m\n",
      "Cell \u001B[1;32mIn [15], line 4\u001B[0m, in \u001B[0;36mPolygon.__init__\u001B[1;34m(self, *pts)\u001B[0m\n\u001B[0;32m      2\u001B[0m \u001B[38;5;28;01mdef\u001B[39;00m \u001B[38;5;21m__init__\u001B[39m(\u001B[38;5;28mself\u001B[39m,\u001B[38;5;241m*\u001B[39mpts):\n\u001B[0;32m      3\u001B[0m     \u001B[38;5;28;01mif\u001B[39;00m pts:\n\u001B[1;32m----> 4\u001B[0m         \u001B[38;5;28mself\u001B[39m\u001B[38;5;241m.\u001B[39mpts \u001B[38;5;241m=\u001B[39m \u001B[43m[\u001B[49m\u001B[43mPoint\u001B[49m\u001B[43m(\u001B[49m\u001B[38;5;241;43m*\u001B[39;49m\u001B[43mpt\u001B[49m\u001B[43m)\u001B[49m\u001B[43m \u001B[49m\u001B[38;5;28;43;01mfor\u001B[39;49;00m\u001B[43m \u001B[49m\u001B[43mpt\u001B[49m\u001B[43m \u001B[49m\u001B[38;5;129;43;01min\u001B[39;49;00m\u001B[43m \u001B[49m\u001B[43mpts\u001B[49m\u001B[43m]\u001B[49m\n\u001B[0;32m      5\u001B[0m     \u001B[38;5;28;01melse\u001B[39;00m:\n\u001B[0;32m      6\u001B[0m         \u001B[38;5;28mself\u001B[39m\u001B[38;5;241m.\u001B[39mpts \u001B[38;5;241m=\u001B[39m[]\n",
      "Cell \u001B[1;32mIn [15], line 4\u001B[0m, in \u001B[0;36m<listcomp>\u001B[1;34m(.0)\u001B[0m\n\u001B[0;32m      2\u001B[0m \u001B[38;5;28;01mdef\u001B[39;00m \u001B[38;5;21m__init__\u001B[39m(\u001B[38;5;28mself\u001B[39m,\u001B[38;5;241m*\u001B[39mpts):\n\u001B[0;32m      3\u001B[0m     \u001B[38;5;28;01mif\u001B[39;00m pts:\n\u001B[1;32m----> 4\u001B[0m         \u001B[38;5;28mself\u001B[39m\u001B[38;5;241m.\u001B[39mpts \u001B[38;5;241m=\u001B[39m [\u001B[43mPoint\u001B[49m\u001B[43m(\u001B[49m\u001B[38;5;241;43m*\u001B[39;49m\u001B[43mpt\u001B[49m\u001B[43m)\u001B[49m \u001B[38;5;28;01mfor\u001B[39;00m pt \u001B[38;5;129;01min\u001B[39;00m pts]\n\u001B[0;32m      5\u001B[0m     \u001B[38;5;28;01melse\u001B[39;00m:\n\u001B[0;32m      6\u001B[0m         \u001B[38;5;28mself\u001B[39m\u001B[38;5;241m.\u001B[39mpts \u001B[38;5;241m=\u001B[39m[]\n",
      "Cell \u001B[1;32mIn [5], line 7\u001B[0m, in \u001B[0;36mPoint.__init__\u001B[1;34m(self, x_cord, y_cord)\u001B[0m\n\u001B[0;32m      6\u001B[0m \u001B[38;5;28;01mdef\u001B[39;00m \u001B[38;5;21m__init__\u001B[39m(\u001B[38;5;28mself\u001B[39m, x_cord, y_cord):\n\u001B[1;32m----> 7\u001B[0m     \u001B[38;5;28;43mself\u001B[39;49m\u001B[38;5;241;43m.\u001B[39;49m\u001B[43mx_cord\u001B[49m \u001B[38;5;241m=\u001B[39m x_cord\n\u001B[0;32m      8\u001B[0m     \u001B[38;5;28mself\u001B[39m\u001B[38;5;241m.\u001B[39my_cord \u001B[38;5;241m=\u001B[39m y_cord\n\u001B[0;32m      9\u001B[0m     \u001B[38;5;28mself\u001B[39m\u001B[38;5;241m.\u001B[39mpt \u001B[38;5;241m=\u001B[39m (\u001B[38;5;28mself\u001B[39m\u001B[38;5;241m.\u001B[39mx_cord, \u001B[38;5;28mself\u001B[39m\u001B[38;5;241m.\u001B[39my_cord)\n",
      "Cell \u001B[1;32mIn [5], line 29\u001B[0m, in \u001B[0;36mPoint.x_cord\u001B[1;34m(self, value)\u001B[0m\n\u001B[0;32m     27\u001B[0m     \u001B[38;5;28mself\u001B[39m\u001B[38;5;241m.\u001B[39m_x_cord \u001B[38;5;241m=\u001B[39m value\n\u001B[0;32m     28\u001B[0m \u001B[38;5;28;01melse\u001B[39;00m:\n\u001B[1;32m---> 29\u001B[0m     \u001B[38;5;28;01mraise\u001B[39;00m \u001B[38;5;167;01mTypeError\u001B[39;00m(\u001B[38;5;124m\"\u001B[39m\u001B[38;5;124mx co ordinate must be real number\u001B[39m\u001B[38;5;124m\"\u001B[39m)\n",
      "\u001B[1;31mTypeError\u001B[0m: x co ordinate must be real number"
     ]
    }
   ],
   "source": [
    "Polygon([Point(x_cord=0,y_cord=0), Point(x_cord=1,y_cord=1)])"
   ],
   "metadata": {
    "collapsed": false,
    "pycharm": {
     "name": "#%%\n"
    }
   }
  },
  {
   "cell_type": "code",
   "execution_count": 21,
   "outputs": [],
   "source": [
    "class Polygon:\n",
    "    def __init__(self,*pts):\n",
    "        if pts:\n",
    "            self.pts = [Point(*pt) for pt in pts]\n",
    "        else:\n",
    "            self.pts =[]\n",
    "    def __repr__(self):\n",
    "        pts_str = \", \".join([str(pt) for pt in self.pts])\n",
    "        return f\"Polygon({pts_str})\""
   ],
   "metadata": {
    "collapsed": false,
    "pycharm": {
     "name": "#%%\n"
    }
   }
  },
  {
   "cell_type": "code",
   "execution_count": 22,
   "outputs": [
    {
     "data": {
      "text/plain": "Polygon(Point(x_cord=0,y_cord=0), Point(x_cord=1,y_cord=1))"
     },
     "execution_count": 22,
     "metadata": {},
     "output_type": "execute_result"
    }
   ],
   "source": [
    "p = Polygon((0,0),Point(1,1))\n",
    "p"
   ],
   "metadata": {
    "collapsed": false,
    "pycharm": {
     "name": "#%%\n"
    }
   }
  },
  {
   "cell_type": "code",
   "execution_count": 24,
   "outputs": [
    {
     "ename": "TypeError",
     "evalue": "'Polygon' object is not subscriptable",
     "output_type": "error",
     "traceback": [
      "\u001B[1;31m---------------------------------------------------------------------------\u001B[0m",
      "\u001B[1;31mTypeError\u001B[0m                                 Traceback (most recent call last)",
      "Cell \u001B[1;32mIn [24], line 1\u001B[0m\n\u001B[1;32m----> 1\u001B[0m \u001B[43mp\u001B[49m\u001B[43m[\u001B[49m\u001B[38;5;241;43m0\u001B[39;49m\u001B[43m]\u001B[49m\n",
      "\u001B[1;31mTypeError\u001B[0m: 'Polygon' object is not subscriptable"
     ]
    }
   ],
   "source": [
    "p[0]"
   ],
   "metadata": {
    "collapsed": false,
    "pycharm": {
     "name": "#%%\n"
    }
   }
  },
  {
   "cell_type": "code",
   "execution_count": 25,
   "outputs": [],
   "source": [
    "class Polygon:\n",
    "    def __init__(self,*pts):\n",
    "        if pts:\n",
    "            self._pts = [Point(*pt) for pt in pts]\n",
    "        else:\n",
    "            self._pts =[]\n",
    "    def __repr__(self):\n",
    "        pts_str = \", \".join([str(pt) for pt in self._pts])\n",
    "        return f\"Polygon({pts_str})\"\n",
    "\n",
    "    def __len__(self):\n",
    "        return len(self._pts)\n",
    "\n",
    "    def __getitem__(self, s):\n",
    "        return self._pts[s]"
   ],
   "metadata": {
    "collapsed": false,
    "pycharm": {
     "name": "#%%\n"
    }
   }
  },
  {
   "cell_type": "code",
   "execution_count": 26,
   "outputs": [
    {
     "data": {
      "text/plain": "Polygon(Point(x_cord=0,y_cord=0), Point(x_cord=1,y_cord=1))"
     },
     "execution_count": 26,
     "metadata": {},
     "output_type": "execute_result"
    }
   ],
   "source": [
    "p = Polygon((0,0),Point(1,1))\n",
    "p"
   ],
   "metadata": {
    "collapsed": false,
    "pycharm": {
     "name": "#%%\n"
    }
   }
  },
  {
   "cell_type": "code",
   "execution_count": 27,
   "outputs": [
    {
     "data": {
      "text/plain": "Point(x_cord=0,y_cord=0)"
     },
     "execution_count": 27,
     "metadata": {},
     "output_type": "execute_result"
    }
   ],
   "source": [
    "p[0]"
   ],
   "metadata": {
    "collapsed": false,
    "pycharm": {
     "name": "#%%\n"
    }
   }
  },
  {
   "cell_type": "code",
   "execution_count": 28,
   "outputs": [
    {
     "data": {
      "text/plain": "[Point(x_cord=0,y_cord=0), Point(x_cord=1,y_cord=1)]"
     },
     "execution_count": 28,
     "metadata": {},
     "output_type": "execute_result"
    }
   ],
   "source": [
    "p[:2]"
   ],
   "metadata": {
    "collapsed": false,
    "pycharm": {
     "name": "#%%\n"
    }
   }
  },
  {
   "cell_type": "code",
   "execution_count": 32,
   "outputs": [],
   "source": [
    "class Polygon:\n",
    "    def __init__(self,*pts):\n",
    "        if pts:\n",
    "            self._pts = [Point(*pt) for pt in pts]\n",
    "        else:\n",
    "            self._pts =[]\n",
    "    def __repr__(self):\n",
    "        pts_str = \", \".join([str(pt) for pt in self._pts])\n",
    "        return f\"Polygon({pts_str})\"\n",
    "\n",
    "    def __len__(self):\n",
    "        return len(self._pts)\n",
    "\n",
    "    def __getitem__(self, s):\n",
    "        return self._pts[s]\n",
    "\n",
    "    def __add__(self, other):\n",
    "        if isinstance(other,Polygon):\n",
    "            new_pts = self._pts + other._pts\n",
    "            return Polygon(*new_pts)\n",
    "        else:\n",
    "            raise TypeError(\"can concat with another Polygon\")\n"
   ],
   "metadata": {
    "collapsed": false,
    "pycharm": {
     "name": "#%%\n"
    }
   }
  },
  {
   "cell_type": "code",
   "execution_count": 33,
   "outputs": [],
   "source": [
    "p1 = Polygon((0,0),(1,1))\n",
    "p2 = Polygon((2,2),(3,3))\n"
   ],
   "metadata": {
    "collapsed": false,
    "pycharm": {
     "name": "#%%\n"
    }
   }
  },
  {
   "cell_type": "code",
   "execution_count": 34,
   "outputs": [
    {
     "data": {
      "text/plain": "Polygon(Point(x_cord=0,y_cord=0), Point(x_cord=1,y_cord=1), Point(x_cord=2,y_cord=2), Point(x_cord=3,y_cord=3))"
     },
     "execution_count": 34,
     "metadata": {},
     "output_type": "execute_result"
    }
   ],
   "source": [
    "p1 + p2"
   ],
   "metadata": {
    "collapsed": false,
    "pycharm": {
     "name": "#%%\n"
    }
   }
  },
  {
   "cell_type": "code",
   "execution_count": 35,
   "outputs": [],
   "source": [
    "class Polygon:\n",
    "    def __init__(self,*pts):\n",
    "        if pts:\n",
    "            self._pts = [Point(*pt) for pt in pts]\n",
    "        else:\n",
    "            self._pts =[]\n",
    "    def __repr__(self):\n",
    "        pts_str = \", \".join([str(pt) for pt in self._pts])\n",
    "        return f\"Polygon({pts_str})\"\n",
    "\n",
    "    def __len__(self):\n",
    "        return len(self._pts)\n",
    "\n",
    "    def __getitem__(self, s):\n",
    "        return self._pts[s]\n",
    "\n",
    "    def __add__(self, other):\n",
    "        if isinstance(other,Polygon):\n",
    "            new_pts = self._pts + other._pts\n",
    "            return Polygon(*new_pts)\n",
    "        else:\n",
    "            raise TypeError(\"can concat with another Polygon\")\n",
    "\n",
    "    def __iadd__(self, other):\n",
    "        if isinstance(other,Polygon):\n",
    "            self._pts +=  other._pts\n",
    "            return self\n",
    "        else:\n",
    "            raise TypeError(\"can concat with another Polygon\")\n"
   ],
   "metadata": {
    "collapsed": false,
    "pycharm": {
     "name": "#%%\n"
    }
   }
  },
  {
   "cell_type": "code",
   "execution_count": 36,
   "outputs": [],
   "source": [
    "p1 = Polygon((0,0),(1,1))\n",
    "p2 = Polygon((2,2),(3,3))\n"
   ],
   "metadata": {
    "collapsed": false,
    "pycharm": {
     "name": "#%%\n"
    }
   }
  },
  {
   "cell_type": "code",
   "execution_count": 37,
   "outputs": [
    {
     "data": {
      "text/plain": "(1240456121040, Polygon(Point(x_cord=0,y_cord=0), Point(x_cord=1,y_cord=1)))"
     },
     "execution_count": 37,
     "metadata": {},
     "output_type": "execute_result"
    }
   ],
   "source": [
    "id(p1),p1"
   ],
   "metadata": {
    "collapsed": false,
    "pycharm": {
     "name": "#%%\n"
    }
   }
  },
  {
   "cell_type": "code",
   "execution_count": 38,
   "outputs": [
    {
     "data": {
      "text/plain": "(1240456133776, Polygon(Point(x_cord=2,y_cord=2), Point(x_cord=3,y_cord=3)))"
     },
     "execution_count": 38,
     "metadata": {},
     "output_type": "execute_result"
    }
   ],
   "source": [
    "id(p2),p2"
   ],
   "metadata": {
    "collapsed": false,
    "pycharm": {
     "name": "#%%\n"
    }
   }
  },
  {
   "cell_type": "code",
   "execution_count": 39,
   "outputs": [
    {
     "data": {
      "text/plain": "(1240456121040,\n Polygon(Point(x_cord=0,y_cord=0), Point(x_cord=1,y_cord=1), Point(x_cord=2,y_cord=2), Point(x_cord=3,y_cord=3)))"
     },
     "execution_count": 39,
     "metadata": {},
     "output_type": "execute_result"
    }
   ],
   "source": [
    "p1 += p2\n",
    "id(p1),p1"
   ],
   "metadata": {
    "collapsed": false,
    "pycharm": {
     "name": "#%%\n"
    }
   }
  },
  {
   "cell_type": "code",
   "execution_count": 40,
   "outputs": [
    {
     "ename": "TypeError",
     "evalue": "can concat with another Polygon",
     "output_type": "error",
     "traceback": [
      "\u001B[1;31m---------------------------------------------------------------------------\u001B[0m",
      "\u001B[1;31mTypeError\u001B[0m                                 Traceback (most recent call last)",
      "Cell \u001B[1;32mIn [40], line 1\u001B[0m\n\u001B[1;32m----> 1\u001B[0m \u001B[43mp1\u001B[49m\u001B[43m \u001B[49m\u001B[38;5;241;43m+\u001B[39;49m\u001B[38;5;241;43m=\u001B[39;49m\u001B[43m \u001B[49m\u001B[43m[\u001B[49m\u001B[43m(\u001B[49m\u001B[38;5;241;43m2\u001B[39;49m\u001B[43m,\u001B[49m\u001B[38;5;241;43m2\u001B[39;49m\u001B[43m)\u001B[49m\u001B[43m,\u001B[49m\u001B[43m(\u001B[49m\u001B[38;5;241;43m3\u001B[39;49m\u001B[43m,\u001B[49m\u001B[38;5;241;43m3\u001B[39;49m\u001B[43m)\u001B[49m\u001B[43m]\u001B[49m\n",
      "Cell \u001B[1;32mIn [35], line 29\u001B[0m, in \u001B[0;36mPolygon.__iadd__\u001B[1;34m(self, other)\u001B[0m\n\u001B[0;32m     27\u001B[0m     \u001B[38;5;28;01mreturn\u001B[39;00m \u001B[38;5;28mself\u001B[39m\n\u001B[0;32m     28\u001B[0m \u001B[38;5;28;01melse\u001B[39;00m:\n\u001B[1;32m---> 29\u001B[0m     \u001B[38;5;28;01mraise\u001B[39;00m \u001B[38;5;167;01mTypeError\u001B[39;00m(\u001B[38;5;124m\"\u001B[39m\u001B[38;5;124mcan concat with another Polygon\u001B[39m\u001B[38;5;124m\"\u001B[39m)\n",
      "\u001B[1;31mTypeError\u001B[0m: can concat with another Polygon"
     ]
    }
   ],
   "source": [
    "p1 += [(2,2),(3,3)]"
   ],
   "metadata": {
    "collapsed": false,
    "pycharm": {
     "name": "#%%\n"
    }
   }
  },
  {
   "cell_type": "code",
   "execution_count": 41,
   "outputs": [],
   "source": [
    "class Polygon:\n",
    "    def __init__(self,*pts):\n",
    "        if pts:\n",
    "            self._pts = [Point(*pt) for pt in pts]\n",
    "        else:\n",
    "            self._pts =[]\n",
    "    def __repr__(self):\n",
    "        pts_str = \", \".join([str(pt) for pt in self._pts])\n",
    "        return f\"Polygon({pts_str})\"\n",
    "\n",
    "    def __len__(self):\n",
    "        return len(self._pts)\n",
    "\n",
    "    def __getitem__(self, s):\n",
    "        return self._pts[s]\n",
    "\n",
    "    def __add__(self, other):\n",
    "        if isinstance(other,Polygon):\n",
    "            new_pts = self._pts + other._pts\n",
    "            return Polygon(*new_pts)\n",
    "        else:\n",
    "            raise TypeError(\"can concat with another Polygon\")\n",
    "\n",
    "    def __iadd__(self, other):\n",
    "        if isinstance(other,Polygon):\n",
    "            self._pts +=  other._pts\n",
    "        else:\n",
    "            points = [Point(*pt) for pt in other]\n",
    "            self._pts += points\n",
    "        return self\n",
    "\n"
   ],
   "metadata": {
    "collapsed": false,
    "pycharm": {
     "name": "#%%\n"
    }
   }
  },
  {
   "cell_type": "code",
   "execution_count": 42,
   "outputs": [],
   "source": [
    "p1 = Polygon((0,0),(1,1))\n",
    "p2 = Polygon((2,2),(3,3))\n"
   ],
   "metadata": {
    "collapsed": false,
    "pycharm": {
     "name": "#%%\n"
    }
   }
  },
  {
   "cell_type": "code",
   "execution_count": 43,
   "outputs": [],
   "source": [
    "p1 += p2"
   ],
   "metadata": {
    "collapsed": false,
    "pycharm": {
     "name": "#%%\n"
    }
   }
  },
  {
   "cell_type": "code",
   "execution_count": 44,
   "outputs": [
    {
     "data": {
      "text/plain": "(1240443662544,\n Polygon(Point(x_cord=0,y_cord=0), Point(x_cord=1,y_cord=1), Point(x_cord=2,y_cord=2), Point(x_cord=3,y_cord=3)))"
     },
     "execution_count": 44,
     "metadata": {},
     "output_type": "execute_result"
    }
   ],
   "source": [
    "id(p1),p1"
   ],
   "metadata": {
    "collapsed": false,
    "pycharm": {
     "name": "#%%\n"
    }
   }
  },
  {
   "cell_type": "code",
   "execution_count": 45,
   "outputs": [
    {
     "data": {
      "text/plain": "(1240443662544,\n Polygon(Point(x_cord=0,y_cord=0), Point(x_cord=1,y_cord=1), Point(x_cord=2,y_cord=2), Point(x_cord=3,y_cord=3), Point(x_cord=0,y_cord=1), Point(x_cord=100,y_cord=200)))"
     },
     "execution_count": 45,
     "metadata": {},
     "output_type": "execute_result"
    }
   ],
   "source": [
    "p1 += [(0,1),(100,200)]\n",
    "id(p1),p1"
   ],
   "metadata": {
    "collapsed": false,
    "pycharm": {
     "name": "#%%\n"
    }
   }
  },
  {
   "cell_type": "code",
   "execution_count": 55,
   "outputs": [],
   "source": [
    "class Polygon:\n",
    "    def __init__(self,*pts):\n",
    "        if pts:\n",
    "            self._pts = [Point(*pt) for pt in pts]\n",
    "        else:\n",
    "            self._pts =[]\n",
    "    def __repr__(self):\n",
    "        pts_str = \", \".join([str(pt) for pt in self._pts])\n",
    "        return f\"Polygon({pts_str})\"\n",
    "\n",
    "    def __len__(self):\n",
    "        return len(self._pts)\n",
    "\n",
    "    def __getitem__(self, s):\n",
    "        return self._pts[s]\n",
    "\n",
    "    def __add__(self, other):\n",
    "        if isinstance(other,Polygon):\n",
    "            new_pts = self._pts + other._pts\n",
    "            return Polygon(*new_pts)\n",
    "        else:\n",
    "            raise TypeError(\"can concat with another Polygon\")\n",
    "\n",
    "    def __iadd__(self, other):\n",
    "        self.extend(other)\n",
    "        return self\n",
    "\n",
    "    def append(self,pt):\n",
    "        self._pts.append(Point(*pt))\n",
    "\n",
    "    def insert(self,i,pt):\n",
    "        self._pts.insert(i,Point(*pt))\n",
    "\n",
    "    def extend(self,pts):\n",
    "        if isinstance(pts,Polygon):\n",
    "            self._pts +=  pts._pts\n",
    "        else:\n",
    "            points = [Point(*pt) for pt in pts]\n",
    "            self._pts += points"
   ],
   "metadata": {
    "collapsed": false,
    "pycharm": {
     "name": "#%%\n"
    }
   }
  },
  {
   "cell_type": "code",
   "execution_count": 56,
   "outputs": [],
   "source": [
    "p1 = Polygon((0,0),(1,1))\n",
    "p2 = Polygon((2,2),(3,3))\n"
   ],
   "metadata": {
    "collapsed": false,
    "pycharm": {
     "name": "#%%\n"
    }
   }
  },
  {
   "cell_type": "code",
   "execution_count": 57,
   "outputs": [],
   "source": [
    "p1.append(Point(300,400))"
   ],
   "metadata": {
    "collapsed": false,
    "pycharm": {
     "name": "#%%\n"
    }
   }
  },
  {
   "cell_type": "code",
   "execution_count": 58,
   "outputs": [
    {
     "data": {
      "text/plain": "Polygon(Point(x_cord=0,y_cord=0), Point(x_cord=1,y_cord=1), Point(x_cord=300,y_cord=400))"
     },
     "execution_count": 58,
     "metadata": {},
     "output_type": "execute_result"
    }
   ],
   "source": [
    "p1"
   ],
   "metadata": {
    "collapsed": false,
    "pycharm": {
     "name": "#%%\n"
    }
   }
  },
  {
   "cell_type": "code",
   "execution_count": 59,
   "outputs": [
    {
     "data": {
      "text/plain": "Polygon(Point(x_cord=0,y_cord=10), Point(x_cord=0,y_cord=0), Point(x_cord=1,y_cord=1), Point(x_cord=300,y_cord=400))"
     },
     "execution_count": 59,
     "metadata": {},
     "output_type": "execute_result"
    }
   ],
   "source": [
    "p1.insert(0,Point(0,10))\n",
    "p1"
   ],
   "metadata": {
    "collapsed": false,
    "pycharm": {
     "name": "#%%\n"
    }
   }
  },
  {
   "cell_type": "code",
   "execution_count": 60,
   "outputs": [
    {
     "data": {
      "text/plain": "Polygon(Point(x_cord=0,y_cord=10), Point(x_cord=0,y_cord=0), Point(x_cord=1,y_cord=1), Point(x_cord=300,y_cord=400), Point(x_cord=0,y_cord=0), Point(x_cord=10,y_cord=20))"
     },
     "execution_count": 60,
     "metadata": {},
     "output_type": "execute_result"
    }
   ],
   "source": [
    "p1.extend([[0,0],(10,20)])\n",
    "p1"
   ],
   "metadata": {
    "collapsed": false,
    "pycharm": {
     "name": "#%%\n"
    }
   }
  },
  {
   "cell_type": "code",
   "execution_count": null,
   "outputs": [],
   "source": [],
   "metadata": {
    "collapsed": false,
    "pycharm": {
     "name": "#%%\n"
    }
   }
  }
 ],
 "metadata": {
  "kernelspec": {
   "display_name": "Python 3",
   "language": "python",
   "name": "python3"
  },
  "language_info": {
   "codemirror_mode": {
    "name": "ipython",
    "version": 2
   },
   "file_extension": ".py",
   "mimetype": "text/x-python",
   "name": "python",
   "nbconvert_exporter": "python",
   "pygments_lexer": "ipython2",
   "version": "2.7.6"
  }
 },
 "nbformat": 4,
 "nbformat_minor": 0
}