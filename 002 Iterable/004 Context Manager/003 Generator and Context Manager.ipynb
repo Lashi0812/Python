{
 "cells": [
  {
   "cell_type": "markdown",
   "source": [
    "# Generator and Context Manager"
   ],
   "metadata": {
    "collapsed": false,
    "pycharm": {
     "name": "#%% md\n"
    }
   }
  },
  {
   "cell_type": "code",
   "execution_count": 7,
   "outputs": [],
   "source": [
    "def gen_fn():\n",
    "    try:\n",
    "        print(\"creating the context and yielding object\")\n",
    "        lst = [1,12,3,4,3]\n",
    "        yield lst\n",
    "    finally:\n",
    "        print(\"exiting the context and performing  cleanup activity\")\n"
   ],
   "metadata": {
    "collapsed": false,
    "pycharm": {
     "name": "#%%\n"
    }
   }
  },
  {
   "cell_type": "code",
   "execution_count": 8,
   "outputs": [],
   "source": [
    "gen = gen_fn()"
   ],
   "metadata": {
    "collapsed": false,
    "pycharm": {
     "name": "#%%\n"
    }
   }
  },
  {
   "cell_type": "code",
   "execution_count": 9,
   "outputs": [
    {
     "name": "stdout",
     "output_type": "stream",
     "text": [
      "creating the context and yielding object\n"
     ]
    }
   ],
   "source": [
    "obj = next(gen)\n"
   ],
   "metadata": {
    "collapsed": false,
    "pycharm": {
     "name": "#%%\n"
    }
   }
  },
  {
   "cell_type": "code",
   "execution_count": 10,
   "outputs": [
    {
     "name": "stdout",
     "output_type": "stream",
     "text": [
      "[1, 12, 3, 4, 3]\n"
     ]
    }
   ],
   "source": [
    "print(obj)\n",
    "# we can perform the operation with this object"
   ],
   "metadata": {
    "collapsed": false,
    "pycharm": {
     "name": "#%%\n"
    }
   }
  },
  {
   "cell_type": "code",
   "execution_count": 11,
   "outputs": [
    {
     "name": "stdout",
     "output_type": "stream",
     "text": [
      "exiting the context and performing  cleanup activity\n"
     ]
    },
    {
     "ename": "StopIteration",
     "evalue": "",
     "output_type": "error",
     "traceback": [
      "\u001B[1;31m---------------------------------------------------------------------------\u001B[0m",
      "\u001B[1;31mStopIteration\u001B[0m                             Traceback (most recent call last)",
      "Cell \u001B[1;32mIn [11], line 1\u001B[0m\n\u001B[1;32m----> 1\u001B[0m \u001B[38;5;28;43mnext\u001B[39;49m\u001B[43m(\u001B[49m\u001B[43mgen\u001B[49m\u001B[43m)\u001B[49m\n",
      "\u001B[1;31mStopIteration\u001B[0m: "
     ]
    }
   ],
   "source": [
    "next(gen)"
   ],
   "metadata": {
    "collapsed": false,
    "pycharm": {
     "name": "#%%\n"
    }
   }
  },
  {
   "cell_type": "code",
   "execution_count": 12,
   "outputs": [
    {
     "name": "stdout",
     "output_type": "stream",
     "text": [
      "creating the context and yielding object\n",
      "exiting the context and performing  cleanup activity\n"
     ]
    }
   ],
   "source": [
    "#! we need to catch the stop iteration exception\n",
    "gen = gen_fn()\n",
    "next(gen)\n",
    "try:\n",
    "    next(gen)\n",
    "except StopIteration:\n",
    "    pass\n"
   ],
   "metadata": {
    "collapsed": false,
    "pycharm": {
     "name": "#%%\n"
    }
   }
  },
  {
   "cell_type": "code",
   "execution_count": 15,
   "outputs": [],
   "source": [
    "#? now we can generalize the context manager\n",
    "class GenCxtManager:\n",
    "    def __init__(self,gen_fn):\n",
    "        self.gen_fn = gen_fn()\n",
    "    def __enter__(self):\n",
    "        return next(self.gen_fn)\n",
    "    def __exit__(self, exc_type, exc_val, exc_tb):\n",
    "        try:\n",
    "            next(self.gen_fn)\n",
    "        except StopIteration:\n",
    "            pass\n",
    "        return False\n"
   ],
   "metadata": {
    "collapsed": false,
    "pycharm": {
     "name": "#%%\n"
    }
   }
  },
  {
   "cell_type": "code",
   "execution_count": 16,
   "outputs": [
    {
     "name": "stdout",
     "output_type": "stream",
     "text": [
      "creating the context and yielding object\n",
      "[1, 12, 3, 4, 3]\n",
      "exiting the context and performing  cleanup activity\n"
     ]
    }
   ],
   "source": [
    "with GenCxtManager(gen_fn) as lst:\n",
    "    print(lst)"
   ],
   "metadata": {
    "collapsed": false,
    "pycharm": {
     "name": "#%%\n"
    }
   }
  },
  {
   "cell_type": "code",
   "execution_count": 17,
   "outputs": [],
   "source": [
    "#? we can pass the argument to context manager\n",
    "class GenCxtManager:\n",
    "    def __init__(self,gen_fn,*args,**kwargs):\n",
    "        self.gen_fn = gen_fn(*args,**kwargs)\n",
    "    def __enter__(self):\n",
    "        return next(self.gen_fn)\n",
    "    def __exit__(self, exc_type, exc_val, exc_tb):\n",
    "        try:\n",
    "            next(self.gen_fn)\n",
    "        except StopIteration:\n",
    "            pass\n",
    "        return False\n"
   ],
   "metadata": {
    "collapsed": false,
    "pycharm": {
     "name": "#%%\n"
    }
   }
  },
  {
   "cell_type": "code",
   "execution_count": 20,
   "outputs": [],
   "source": [
    "def open_file(file_name,mode):\n",
    "    try:\n",
    "        print(\"opening file\")\n",
    "        f = open(file_name,mode)\n",
    "        yield f\n",
    "    finally:\n",
    "        print(\"closing file\")\n",
    "        f.close()\n"
   ],
   "metadata": {
    "collapsed": false,
    "pycharm": {
     "name": "#%%\n"
    }
   }
  },
  {
   "cell_type": "code",
   "execution_count": 22,
   "outputs": [
    {
     "name": "stdout",
     "output_type": "stream",
     "text": [
      "opening file\n",
      "# Context Manager\n",
      "\n",
      "closing file\n"
     ]
    }
   ],
   "source": [
    "with GenCxtManager(open_file,\"readme.md\",\"r\") as file:\n",
    "    print(next(file))\n"
   ],
   "metadata": {
    "collapsed": false,
    "pycharm": {
     "name": "#%%\n"
    }
   }
  },
  {
   "cell_type": "code",
   "execution_count": null,
   "outputs": [],
   "source": [],
   "metadata": {
    "collapsed": false,
    "pycharm": {
     "name": "#%%\n"
    }
   }
  }
 ],
 "metadata": {
  "kernelspec": {
   "display_name": "Python 3",
   "language": "python",
   "name": "python3"
  },
  "language_info": {
   "codemirror_mode": {
    "name": "ipython",
    "version": 2
   },
   "file_extension": ".py",
   "mimetype": "text/x-python",
   "name": "python",
   "nbconvert_exporter": "python",
   "pygments_lexer": "ipython2",
   "version": "2.7.6"
  }
 },
 "nbformat": 4,
 "nbformat_minor": 0
}