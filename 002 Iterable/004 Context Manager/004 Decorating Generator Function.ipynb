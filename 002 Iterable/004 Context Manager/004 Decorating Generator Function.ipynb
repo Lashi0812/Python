{
 "cells": [
  {
   "cell_type": "code",
   "execution_count": 1,
   "metadata": {
    "collapsed": true,
    "pycharm": {
     "name": "#%%\n"
    }
   },
   "outputs": [],
   "source": [
    "def open_file(file_name, mode):\n",
    "    try:\n",
    "        print(\"entering the context and opening the file\")\n",
    "        file = open(file_name, mode)\n",
    "        yield file\n",
    "    finally:\n",
    "        print(\"exiting the context\")\n",
    "        file.close()"
   ]
  },
  {
   "cell_type": "code",
   "execution_count": 2,
   "outputs": [],
   "source": [
    "class GenContextManager:\n",
    "    def __init__(self, gen_obj):\n",
    "        self.gen = gen_obj\n",
    "\n",
    "    def __enter__(self):\n",
    "        return next(self.gen)\n",
    "\n",
    "    def __exit__(self, exc_type, exc_val, exc_tb):\n",
    "        try:\n",
    "            next(self.gen)\n",
    "        except StopIteration:\n",
    "            pass\n",
    "        return False"
   ],
   "metadata": {
    "collapsed": false,
    "pycharm": {
     "name": "#%%\n"
    }
   }
  },
  {
   "cell_type": "code",
   "execution_count": 5,
   "outputs": [
    {
     "name": "stdout",
     "output_type": "stream",
     "text": [
      "entering the context and opening the file\n",
      "working with file inside the context\n",
      "# Context Manager\n",
      "\n",
      "exiting the context\n"
     ]
    }
   ],
   "source": [
    "gen = open_file(\"readme.md\", \"r\")\n",
    "with GenContextManager(gen) as f:\n",
    "    print(\"working with file inside the context\")\n",
    "    print(next(f))"
   ],
   "metadata": {
    "collapsed": false,
    "pycharm": {
     "name": "#%%\n"
    }
   }
  },
  {
   "cell_type": "code",
   "execution_count": 6,
   "outputs": [],
   "source": [
    "def context_manager_dec(gen_fn):\n",
    "    def inner(*args, **kwargs):\n",
    "        gen_obj = gen_fn(*args, **kwargs)\n",
    "        return GenContextManager(gen_obj)\n",
    "\n",
    "    return inner"
   ],
   "metadata": {
    "collapsed": false,
    "pycharm": {
     "name": "#%%\n"
    }
   }
  },
  {
   "cell_type": "code",
   "execution_count": 7,
   "outputs": [],
   "source": [
    "@context_manager_dec\n",
    "def open_file(file_name, mode):\n",
    "    try:\n",
    "        print(\"entering the context and opening the file\")\n",
    "        file = open(file_name, mode)\n",
    "        yield file\n",
    "    finally:\n",
    "        print(\"exiting the context\")\n",
    "        file.close()"
   ],
   "metadata": {
    "collapsed": false,
    "pycharm": {
     "name": "#%%\n"
    }
   }
  },
  {
   "cell_type": "code",
   "execution_count": 8,
   "outputs": [
    {
     "name": "stdout",
     "output_type": "stream",
     "text": [
      "entering the context and opening the file\n",
      "# Context Manager\n",
      "\n",
      "exiting the context\n"
     ]
    }
   ],
   "source": [
    "with open_file(\"readme.md\", \"r\") as f:\n",
    "    print(next(f))"
   ],
   "metadata": {
    "collapsed": false,
    "pycharm": {
     "name": "#%%\n"
    }
   }
  },
  {
   "cell_type": "markdown",
   "source": [
    "# Using the builtin function"
   ],
   "metadata": {
    "collapsed": false,
    "pycharm": {
     "name": "#%% md\n"
    }
   }
  },
  {
   "cell_type": "code",
   "execution_count": 9,
   "outputs": [],
   "source": [
    "from contextlib import contextmanager"
   ],
   "metadata": {
    "collapsed": false,
    "pycharm": {
     "name": "#%%\n"
    }
   }
  },
  {
   "cell_type": "code",
   "execution_count": 10,
   "outputs": [],
   "source": [
    "@contextmanager\n",
    "def open_file(file_name, mode):\n",
    "    try:\n",
    "        print(\"entering the context and opening the file\")\n",
    "        file = open(file_name, mode)\n",
    "        yield file\n",
    "    finally:\n",
    "        print(\"exiting the context\")\n",
    "        file.close()"
   ],
   "metadata": {
    "collapsed": false,
    "pycharm": {
     "name": "#%%\n"
    }
   }
  },
  {
   "cell_type": "code",
   "execution_count": 11,
   "outputs": [
    {
     "name": "stdout",
     "output_type": "stream",
     "text": [
      "entering the context and opening the file\n",
      "# Context Manager\n",
      "\n",
      "exiting the context\n"
     ]
    }
   ],
   "source": [
    "with open_file(\"readme.md\", \"r\") as f:\n",
    "    print(next(f))"
   ],
   "metadata": {
    "collapsed": false,
    "pycharm": {
     "name": "#%%\n"
    }
   }
  },
  {
   "cell_type": "markdown",
   "source": [
    "## Redirect the sysout"
   ],
   "metadata": {
    "collapsed": false,
    "pycharm": {
     "name": "#%% md\n"
    }
   }
  },
  {
   "cell_type": "code",
   "execution_count": 13,
   "outputs": [],
   "source": [
    "import sys\n",
    "\n",
    "\n",
    "@contextmanager\n",
    "def out_to_file(file_name):\n",
    "    current_out = sys.stdout\n",
    "    file = open(file_name, \"w\")\n",
    "    sys.stdout = file\n",
    "    try:\n",
    "        yield None\n",
    "    finally:\n",
    "        sys.stdout = current_out\n",
    "        file.close()"
   ],
   "metadata": {
    "collapsed": false,
    "pycharm": {
     "name": "#%%\n"
    }
   }
  },
  {
   "cell_type": "code",
   "execution_count": 14,
   "outputs": [],
   "source": [
    "with out_to_file(\"test.txt\"):\n",
    "    print(\"printing the output to the file not to ipython notebook\")"
   ],
   "metadata": {
    "collapsed": false,
    "pycharm": {
     "name": "#%%\n"
    }
   }
  },
  {
   "cell_type": "code",
   "execution_count": 15,
   "outputs": [
    {
     "name": "stdout",
     "output_type": "stream",
     "text": [
      "entering the context and opening the file\n",
      "printing the output to the file not to ipython notebook\n",
      "\n",
      "exiting the context\n"
     ]
    }
   ],
   "source": [
    "with open_file(\"test.txt\",\"r\") as f:\n",
    "    print(f.readline())"
   ],
   "metadata": {
    "collapsed": false,
    "pycharm": {
     "name": "#%%\n"
    }
   }
  },
  {
   "cell_type": "markdown",
   "source": [
    "## python also done for us"
   ],
   "metadata": {
    "collapsed": false,
    "pycharm": {
     "name": "#%% md\n"
    }
   }
  },
  {
   "cell_type": "code",
   "execution_count": 16,
   "outputs": [],
   "source": [
    "from contextlib import redirect_stdout\n",
    "with open(\"test.txt\",\"w\") as f:\n",
    "    with redirect_stdout(f):\n",
    "        print(\"python make life easy \")"
   ],
   "metadata": {
    "collapsed": false,
    "pycharm": {
     "name": "#%%\n"
    }
   }
  },
  {
   "cell_type": "code",
   "execution_count": 17,
   "outputs": [
    {
     "name": "stdout",
     "output_type": "stream",
     "text": [
      "python make life easy \n",
      "\n"
     ]
    }
   ],
   "source": [
    "with open(\"test.txt\",\"r\") as f:\n",
    "    print(f.readline())"
   ],
   "metadata": {
    "collapsed": false,
    "pycharm": {
     "name": "#%%\n"
    }
   }
  },
  {
   "cell_type": "code",
   "execution_count": null,
   "outputs": [],
   "source": [],
   "metadata": {
    "collapsed": false,
    "pycharm": {
     "name": "#%%\n"
    }
   }
  }
 ],
 "metadata": {
  "kernelspec": {
   "display_name": "Python 3",
   "language": "python",
   "name": "python3"
  },
  "language_info": {
   "codemirror_mode": {
    "name": "ipython",
    "version": 2
   },
   "file_extension": ".py",
   "mimetype": "text/x-python",
   "name": "python",
   "nbconvert_exporter": "python",
   "pygments_lexer": "ipython2",
   "version": "2.7.6"
  }
 },
 "nbformat": 4,
 "nbformat_minor": 0
}