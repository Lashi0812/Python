{
 "cells": [
  {
   "cell_type": "code",
   "execution_count": 1,
   "metadata": {
    "collapsed": true,
    "pycharm": {
     "name": "#%%\n"
    }
   },
   "outputs": [
    {
     "name": "stdout",
     "output_type": "stream",
     "text": [
      "finally ran\n"
     ]
    }
   ],
   "source": [
    "try:\n",
    "    10 / 4\n",
    "except ZeroDivisionError:\n",
    "    print(\"error occur\")\n",
    "finally:\n",
    "    print(\"finally ran\")\n"
   ]
  },
  {
   "cell_type": "code",
   "execution_count": 2,
   "outputs": [
    {
     "name": "stdout",
     "output_type": "stream",
     "text": [
      "error occur\n",
      "finally ran\n"
     ]
    }
   ],
   "source": [
    "try:\n",
    "    10 / 0\n",
    "except ZeroDivisionError:\n",
    "    print(\"error occur\")\n",
    "finally:\n",
    "    print(\"finally ran\")\n"
   ],
   "metadata": {
    "collapsed": false,
    "pycharm": {
     "name": "#%%\n"
    }
   }
  },
  {
   "cell_type": "code",
   "execution_count": 3,
   "outputs": [],
   "source": [
    "def func():\n",
    "    try:\n",
    "        10 / 4\n",
    "    except ZeroDivisionError:\n",
    "        return f\"error\"\n",
    "    finally:\n",
    "        print(\"finally ran\")\n"
   ],
   "metadata": {
    "collapsed": false,
    "pycharm": {
     "name": "#%%\n"
    }
   }
  },
  {
   "cell_type": "code",
   "execution_count": 4,
   "outputs": [
    {
     "name": "stdout",
     "output_type": "stream",
     "text": [
      "finally ran\n"
     ]
    }
   ],
   "source": [
    "func()"
   ],
   "metadata": {
    "collapsed": false,
    "pycharm": {
     "name": "#%%\n"
    }
   }
  },
  {
   "cell_type": "code",
   "execution_count": 5,
   "outputs": [
    {
     "name": "stdout",
     "output_type": "stream",
     "text": [
      "opening file\n",
      "error occur\n",
      "closing file\n"
     ]
    }
   ],
   "source": [
    "try:\n",
    "    print(\"opening file\")\n",
    "    f = open(\"readme.md\", \"r\")\n",
    "    10 / 0\n",
    "except ZeroDivisionError:\n",
    "    print(\"error occur\")\n",
    "finally:\n",
    "    f.close()\n",
    "    print(\"closing file\")"
   ],
   "metadata": {
    "collapsed": false,
    "pycharm": {
     "name": "#%%\n"
    }
   }
  },
  {
   "cell_type": "code",
   "execution_count": 6,
   "outputs": [
    {
     "name": "stdout",
     "output_type": "stream",
     "text": [
      "opening file\n",
      "closing file\n"
     ]
    },
    {
     "ename": "ZeroDivisionError",
     "evalue": "division by zero",
     "output_type": "error",
     "traceback": [
      "\u001B[1;31m---------------------------------------------------------------------------\u001B[0m",
      "\u001B[1;31mZeroDivisionError\u001B[0m                         Traceback (most recent call last)",
      "Cell \u001B[1;32mIn [6], line 4\u001B[0m\n\u001B[0;32m      2\u001B[0m     \u001B[38;5;28mprint\u001B[39m(\u001B[38;5;124m\"\u001B[39m\u001B[38;5;124mopening file\u001B[39m\u001B[38;5;124m\"\u001B[39m)\n\u001B[0;32m      3\u001B[0m     f \u001B[38;5;241m=\u001B[39m \u001B[38;5;28mopen\u001B[39m(\u001B[38;5;124m\"\u001B[39m\u001B[38;5;124mreadme.md\u001B[39m\u001B[38;5;124m\"\u001B[39m, \u001B[38;5;124m\"\u001B[39m\u001B[38;5;124mr\u001B[39m\u001B[38;5;124m\"\u001B[39m)\n\u001B[1;32m----> 4\u001B[0m     \u001B[38;5;241;43m10\u001B[39;49m\u001B[43m \u001B[49m\u001B[38;5;241;43m/\u001B[39;49m\u001B[43m \u001B[49m\u001B[38;5;241;43m0\u001B[39;49m\n\u001B[0;32m      5\u001B[0m \u001B[38;5;28;01mfinally\u001B[39;00m:\n\u001B[0;32m      6\u001B[0m     f\u001B[38;5;241m.\u001B[39mclose()\n",
      "\u001B[1;31mZeroDivisionError\u001B[0m: division by zero"
     ]
    }
   ],
   "source": [
    "try:\n",
    "    print(\"opening file\")\n",
    "    f = open(\"readme.md\", \"r\")\n",
    "    10 / 0\n",
    "finally:\n",
    "    f.close()\n",
    "    print(\"closing file\")"
   ],
   "metadata": {
    "collapsed": false,
    "pycharm": {
     "name": "#%%\n"
    }
   }
  },
  {
   "cell_type": "code",
   "execution_count": 7,
   "outputs": [
    {
     "name": "stdout",
     "output_type": "stream",
     "text": [
      "is the file is closed? False\n",
      "is the file is closed? True\n"
     ]
    }
   ],
   "source": [
    "with open(\"readme.md\",\"r\") as file:\n",
    "    print(f\"is the file is closed?\" ,file.closed)\n",
    "    row = file.read()\n",
    "print(f\"is the file is closed?\" ,file.closed)\n",
    "#? automatically closed"
   ],
   "metadata": {
    "collapsed": false,
    "pycharm": {
     "name": "#%%\n"
    }
   }
  },
  {
   "cell_type": "code",
   "execution_count": 10,
   "outputs": [],
   "source": [
    "def func():\n",
    "    with open(\"readme.md\",\"r\") as file:\n",
    "        print(f\"is the file is closed?\" ,file.closed)\n",
    "        return file"
   ],
   "metadata": {
    "collapsed": false,
    "pycharm": {
     "name": "#%%\n"
    }
   }
  },
  {
   "cell_type": "code",
   "execution_count": 11,
   "outputs": [
    {
     "name": "stdout",
     "output_type": "stream",
     "text": [
      "is the file is closed? False\n"
     ]
    }
   ],
   "source": [
    "file = func()"
   ],
   "metadata": {
    "collapsed": false,
    "pycharm": {
     "name": "#%%\n"
    }
   }
  },
  {
   "cell_type": "code",
   "execution_count": 12,
   "outputs": [
    {
     "data": {
      "text/plain": "True"
     },
     "execution_count": 12,
     "metadata": {},
     "output_type": "execute_result"
    }
   ],
   "source": [
    "file.closed"
   ],
   "metadata": {
    "collapsed": false,
    "pycharm": {
     "name": "#%%\n"
    }
   }
  },
  {
   "cell_type": "markdown",
   "source": [
    "# Scope"
   ],
   "metadata": {
    "collapsed": false,
    "pycharm": {
     "name": "#%% md\n"
    }
   }
  },
  {
   "cell_type": "code",
   "execution_count": 13,
   "outputs": [],
   "source": [
    "with open(\"readme.md\",\"r\") as file:\n",
    "    row = next(file)\n"
   ],
   "metadata": {
    "collapsed": false,
    "pycharm": {
     "name": "#%%\n"
    }
   }
  },
  {
   "cell_type": "code",
   "execution_count": 15,
   "outputs": [
    {
     "data": {
      "text/plain": "(True, True)"
     },
     "execution_count": 15,
     "metadata": {},
     "output_type": "execute_result"
    }
   ],
   "source": [
    "\"file\" in globals() ,\"row\" in globals()"
   ],
   "metadata": {
    "collapsed": false,
    "pycharm": {
     "name": "#%%\n"
    }
   }
  },
  {
   "cell_type": "code",
   "execution_count": 16,
   "outputs": [
    {
     "data": {
      "text/plain": "'# Context Manager\\n'"
     },
     "execution_count": 16,
     "metadata": {},
     "output_type": "execute_result"
    }
   ],
   "source": [
    "row"
   ],
   "metadata": {
    "collapsed": false,
    "pycharm": {
     "name": "#%%\n"
    }
   }
  },
  {
   "cell_type": "markdown",
   "source": [
    "# Own context manager"
   ],
   "metadata": {
    "collapsed": false,
    "pycharm": {
     "name": "#%% md\n"
    }
   }
  },
  {
   "cell_type": "code",
   "execution_count": 30,
   "outputs": [],
   "source": [
    "class MyClass:\n",
    "    def __init__(self):\n",
    "        print(\"init the context...\")\n",
    "        self.obj = None\n",
    "    def __enter__(self):\n",
    "        print(\"entering the context...\")\n",
    "        self.obj = \"the return object\"\n",
    "        return self.obj\n",
    "    def __exit__(self, exc_type, exc_val, exc_tb):\n",
    "        print(\"exiting the context...\")\n",
    "        if exc_type:\n",
    "            print(f\"error occurred ... {exc_type}{exc_val}\")\n",
    "        return False\n",
    "#? let the error occur"
   ],
   "metadata": {
    "collapsed": false,
    "pycharm": {
     "name": "#%%\n"
    }
   }
  },
  {
   "cell_type": "code",
   "execution_count": 31,
   "outputs": [
    {
     "name": "stdout",
     "output_type": "stream",
     "text": [
      "init the context...\n",
      "entering the context...\n",
      "inside the context....\n",
      "exiting the context...\n",
      "error occurred ... <class 'ValueError'>custom message\n"
     ]
    },
    {
     "ename": "ValueError",
     "evalue": "custom message",
     "output_type": "error",
     "traceback": [
      "\u001B[1;31m---------------------------------------------------------------------------\u001B[0m",
      "\u001B[1;31mValueError\u001B[0m                                Traceback (most recent call last)",
      "Cell \u001B[1;32mIn [31], line 3\u001B[0m\n\u001B[0;32m      1\u001B[0m \u001B[38;5;28;01mwith\u001B[39;00m MyClass() \u001B[38;5;28;01mas\u001B[39;00m obj:\n\u001B[0;32m      2\u001B[0m     \u001B[38;5;28mprint\u001B[39m(\u001B[38;5;124m\"\u001B[39m\u001B[38;5;124minside the context....\u001B[39m\u001B[38;5;124m\"\u001B[39m)\n\u001B[1;32m----> 3\u001B[0m     \u001B[38;5;28;01mraise\u001B[39;00m  \u001B[38;5;167;01mValueError\u001B[39;00m(\u001B[38;5;124m\"\u001B[39m\u001B[38;5;124mcustom message\u001B[39m\u001B[38;5;124m\"\u001B[39m)\n",
      "\u001B[1;31mValueError\u001B[0m: custom message"
     ]
    }
   ],
   "source": [
    "with MyClass() as obj:\n",
    "    print(\"inside the context....\")\n",
    "    raise  ValueError(\"custom message\")"
   ],
   "metadata": {
    "collapsed": false,
    "pycharm": {
     "name": "#%%\n"
    }
   }
  },
  {
   "cell_type": "code",
   "execution_count": 32,
   "outputs": [
    {
     "data": {
      "text/plain": "True"
     },
     "execution_count": 32,
     "metadata": {},
     "output_type": "execute_result"
    }
   ],
   "source": [
    "\"obj\" in globals()"
   ],
   "metadata": {
    "collapsed": false,
    "pycharm": {
     "name": "#%%\n"
    }
   }
  },
  {
   "cell_type": "code",
   "execution_count": 35,
   "outputs": [],
   "source": [
    "class MyClass:\n",
    "    def __init__(self):\n",
    "        print(\"init the context...\")\n",
    "        self.obj = None\n",
    "    def __enter__(self):\n",
    "        print(\"entering the context...\")\n",
    "        self.obj = \"the return object\"\n",
    "        return self.obj\n",
    "    def __exit__(self, exc_type, exc_val, exc_tb):\n",
    "        print(\"exiting the context...\")\n",
    "        if exc_type:\n",
    "            print(f\"error occurred ... {exc_type}{exc_val}{exc_tb}\")\n",
    "        return True"
   ],
   "metadata": {
    "collapsed": false,
    "pycharm": {
     "name": "#%%\n"
    }
   }
  },
  {
   "cell_type": "code",
   "execution_count": 36,
   "outputs": [
    {
     "name": "stdout",
     "output_type": "stream",
     "text": [
      "init the context...\n",
      "entering the context...\n",
      "inside the context....\n",
      "exiting the context...\n",
      "error occurred ... <class 'ValueError'>custom message<traceback object at 0x00000250C7BC4A80>\n"
     ]
    }
   ],
   "source": [
    "with MyClass() as obj:\n",
    "    print(\"inside the context....\")\n",
    "    raise  ValueError(\"custom message\")\n",
    "#? silence the error"
   ],
   "metadata": {
    "collapsed": false,
    "pycharm": {
     "name": "#%%\n"
    }
   }
  },
  {
   "cell_type": "code",
   "execution_count": 37,
   "outputs": [],
   "source": [
    "class Resource:\n",
    "    def __init__(self,name):\n",
    "        self.name = name\n",
    "        self.state = None"
   ],
   "metadata": {
    "collapsed": false,
    "pycharm": {
     "name": "#%%\n"
    }
   }
  },
  {
   "cell_type": "code",
   "execution_count": 42,
   "outputs": [],
   "source": [
    "class ResourceManager:\n",
    "    def __init__(self,name):\n",
    "        self.name = name\n",
    "    def __enter__(self):\n",
    "        print(f\"entering the context....\")\n",
    "        self.resource = Resource(self.name)\n",
    "        self.resource.state  = \"created\"\n",
    "        return self.resource\n",
    "    def __exit__(self, exc_type, exc_val, exc_tb):\n",
    "        print(\"exiting the context\")\n",
    "        self.resource.state = \"destroyed\"\n",
    "        if exc_type:\n",
    "            print(\"error occurred\")\n",
    "        return False"
   ],
   "metadata": {
    "collapsed": false,
    "pycharm": {
     "name": "#%%\n"
    }
   }
  },
  {
   "cell_type": "code",
   "execution_count": 43,
   "outputs": [
    {
     "name": "stdout",
     "output_type": "stream",
     "text": [
      "entering the context....\n",
      "spam = created\n",
      "exiting the context\n",
      "spam = destroyed\n"
     ]
    }
   ],
   "source": [
    "with ResourceManager(\"spam\") as res:\n",
    "    print(f\"{res.name} = {res.state}\")\n",
    "print(f\"{res.name} = {res.state}\")\n"
   ],
   "metadata": {
    "collapsed": false,
    "pycharm": {
     "name": "#%%\n"
    }
   }
  },
  {
   "cell_type": "code",
   "execution_count": 44,
   "outputs": [
    {
     "name": "stdout",
     "output_type": "stream",
     "text": [
      "entering the context....\n",
      "spam = created\n",
      "exiting the context\n",
      "error occurred\n"
     ]
    },
    {
     "ename": "ZeroDivisionError",
     "evalue": "division by zero",
     "output_type": "error",
     "traceback": [
      "\u001B[1;31m---------------------------------------------------------------------------\u001B[0m",
      "\u001B[1;31mZeroDivisionError\u001B[0m                         Traceback (most recent call last)",
      "Cell \u001B[1;32mIn [44], line 3\u001B[0m\n\u001B[0;32m      1\u001B[0m \u001B[38;5;28;01mwith\u001B[39;00m ResourceManager(\u001B[38;5;124m\"\u001B[39m\u001B[38;5;124mspam\u001B[39m\u001B[38;5;124m\"\u001B[39m) \u001B[38;5;28;01mas\u001B[39;00m res:\n\u001B[0;32m      2\u001B[0m     \u001B[38;5;28mprint\u001B[39m(\u001B[38;5;124mf\u001B[39m\u001B[38;5;124m\"\u001B[39m\u001B[38;5;132;01m{\u001B[39;00mres\u001B[38;5;241m.\u001B[39mname\u001B[38;5;132;01m}\u001B[39;00m\u001B[38;5;124m = \u001B[39m\u001B[38;5;132;01m{\u001B[39;00mres\u001B[38;5;241m.\u001B[39mstate\u001B[38;5;132;01m}\u001B[39;00m\u001B[38;5;124m\"\u001B[39m)\n\u001B[1;32m----> 3\u001B[0m     \u001B[38;5;241;43m1\u001B[39;49m\u001B[38;5;241;43m/\u001B[39;49m\u001B[38;5;241;43m0\u001B[39;49m\n\u001B[0;32m      4\u001B[0m \u001B[38;5;28mprint\u001B[39m(\u001B[38;5;124mf\u001B[39m\u001B[38;5;124m\"\u001B[39m\u001B[38;5;132;01m{\u001B[39;00mres\u001B[38;5;241m.\u001B[39mname\u001B[38;5;132;01m}\u001B[39;00m\u001B[38;5;124m = \u001B[39m\u001B[38;5;132;01m{\u001B[39;00mres\u001B[38;5;241m.\u001B[39mstate\u001B[38;5;132;01m}\u001B[39;00m\u001B[38;5;124m\"\u001B[39m)\n",
      "\u001B[1;31mZeroDivisionError\u001B[0m: division by zero"
     ]
    }
   ],
   "source": [
    "with ResourceManager(\"spam\") as res:\n",
    "    print(f\"{res.name} = {res.state}\")\n",
    "    1/0\n",
    "print(f\"{res.name} = {res.state}\")\n"
   ],
   "metadata": {
    "collapsed": false,
    "pycharm": {
     "name": "#%%\n"
    }
   }
  },
  {
   "cell_type": "code",
   "execution_count": 45,
   "outputs": [
    {
     "name": "stdout",
     "output_type": "stream",
     "text": [
      "spam = destroyed\n"
     ]
    }
   ],
   "source": [
    "print(f\"{res.name} = {res.state}\")"
   ],
   "metadata": {
    "collapsed": false,
    "pycharm": {
     "name": "#%%\n"
    }
   }
  },
  {
   "cell_type": "code",
   "execution_count": 46,
   "outputs": [],
   "source": [
    "class FileManager:\n",
    "    def __init__(self,name,mode):\n",
    "        self.name = name\n",
    "        self.mode = mode\n",
    "    def __enter__(self):\n",
    "        print(\"entering the context...\")\n",
    "        self.file = open(self.name,self.mode)\n",
    "        return self.file\n",
    "    def __exit__(self, exc_type, exc_val, exc_tb):\n",
    "        print(\"exiting the context...\")\n",
    "        self.file.close()\n",
    "        if exc_type:\n",
    "            print(\"error occurred\")\n",
    "        return False"
   ],
   "metadata": {
    "collapsed": false,
    "pycharm": {
     "name": "#%%\n"
    }
   }
  },
  {
   "cell_type": "code",
   "execution_count": 50,
   "outputs": [
    {
     "name": "stdout",
     "output_type": "stream",
     "text": [
      "entering the context...\n",
      "inside the context manager\n",
      "exiting the context...\n"
     ]
    }
   ],
   "source": [
    "with FileManager(\"test.txt\",\"w\") as file:\n",
    "    print(\"inside the context manager\")\n",
    "    file.write(\"Something inside the file\")\n"
   ],
   "metadata": {
    "collapsed": false,
    "pycharm": {
     "name": "#%%\n"
    }
   }
  },
  {
   "cell_type": "code",
   "execution_count": 51,
   "outputs": [
    {
     "name": "stdout",
     "output_type": "stream",
     "text": [
      "entering the context...\n",
      "inside the context manager\n",
      "Something inside the file\n",
      "exiting the context...\n"
     ]
    }
   ],
   "source": [
    "with FileManager(\"test.txt\",\"r\") as file:\n",
    "    print(\"inside the context manager\")\n",
    "    print(file.readline())\n"
   ],
   "metadata": {
    "collapsed": false,
    "pycharm": {
     "name": "#%%\n"
    }
   }
  },
  {
   "cell_type": "code",
   "execution_count": 52,
   "outputs": [
    {
     "name": "stdout",
     "output_type": "stream",
     "text": [
      "entering the context...\n",
      "inside the context manager\n",
      "Something inside the file\n",
      "exiting the context...\n",
      "error occurred\n"
     ]
    },
    {
     "ename": "ZeroDivisionError",
     "evalue": "division by zero",
     "output_type": "error",
     "traceback": [
      "\u001B[1;31m---------------------------------------------------------------------------\u001B[0m",
      "\u001B[1;31mZeroDivisionError\u001B[0m                         Traceback (most recent call last)",
      "Cell \u001B[1;32mIn [52], line 4\u001B[0m\n\u001B[0;32m      2\u001B[0m \u001B[38;5;28mprint\u001B[39m(\u001B[38;5;124m\"\u001B[39m\u001B[38;5;124minside the context manager\u001B[39m\u001B[38;5;124m\"\u001B[39m)\n\u001B[0;32m      3\u001B[0m \u001B[38;5;28mprint\u001B[39m(file\u001B[38;5;241m.\u001B[39mreadline())\n\u001B[1;32m----> 4\u001B[0m \u001B[38;5;241;43m1\u001B[39;49m\u001B[38;5;241;43m/\u001B[39;49m\u001B[38;5;241;43m0\u001B[39;49m\n",
      "\u001B[1;31mZeroDivisionError\u001B[0m: division by zero"
     ]
    }
   ],
   "source": [
    "with FileManager(\"test.txt\",\"r\") as file:\n",
    "    print(\"inside the context manager\")\n",
    "    print(file.readline())\n",
    "    1/0\n"
   ],
   "metadata": {
    "collapsed": false,
    "pycharm": {
     "name": "#%%\n"
    }
   }
  },
  {
   "cell_type": "code",
   "execution_count": 53,
   "outputs": [],
   "source": [
    "class FileManager:\n",
    "    def __init__(self,name,mode):\n",
    "        self.name = name\n",
    "        self.mode = mode\n",
    "    def __enter__(self):\n",
    "        print(\"entering the context...\")\n",
    "        self.file = open(self.name,self.mode)\n",
    "        return self.file\n",
    "    def __exit__(self, exc_type, exc_val, exc_tb):\n",
    "        print(\"exiting the context...\")\n",
    "        self.file.close()\n",
    "        if exc_type:\n",
    "            print(\"error occurred\")\n",
    "        return True"
   ],
   "metadata": {
    "collapsed": false,
    "pycharm": {
     "name": "#%%\n"
    }
   }
  },
  {
   "cell_type": "code",
   "execution_count": 54,
   "outputs": [
    {
     "name": "stdout",
     "output_type": "stream",
     "text": [
      "entering the context...\n",
      "inside the context manager\n",
      "Something inside the file\n",
      "exiting the context...\n",
      "error occurred\n"
     ]
    }
   ],
   "source": [
    "with FileManager(\"test.txt\",\"r\") as file:\n",
    "    print(\"inside the context manager\")\n",
    "    print(file.readline())\n",
    "    1/0\n"
   ],
   "metadata": {
    "collapsed": false,
    "pycharm": {
     "name": "#%%\n"
    }
   }
  },
  {
   "cell_type": "code",
   "execution_count": null,
   "outputs": [],
   "source": [],
   "metadata": {
    "collapsed": false,
    "pycharm": {
     "name": "#%%\n"
    }
   }
  }
 ],
 "metadata": {
  "kernelspec": {
   "display_name": "Python 3",
   "language": "python",
   "name": "python3"
  },
  "language_info": {
   "codemirror_mode": {
    "name": "ipython",
    "version": 2
   },
   "file_extension": ".py",
   "mimetype": "text/x-python",
   "name": "python",
   "nbconvert_exporter": "python",
   "pygments_lexer": "ipython2",
   "version": "2.7.6"
  }
 },
 "nbformat": 4,
 "nbformat_minor": 0
}